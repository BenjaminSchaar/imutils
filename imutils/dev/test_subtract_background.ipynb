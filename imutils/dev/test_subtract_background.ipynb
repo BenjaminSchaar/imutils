{
 "cells": [
  {
   "cell_type": "code",
   "execution_count": 1,
   "id": "6c96734e-d5ec-4bca-bccd-9e79c9ec41fd",
   "metadata": {},
   "outputs": [],
   "source": [
    "from imutils.src.imfunctions import stack_subtract_background"
   ]
  },
  {
   "cell_type": "code",
   "execution_count": 4,
   "id": "a748d56e-ae2a-476a-a0be-637390c976d9",
   "metadata": {},
   "outputs": [],
   "source": [
    "input_filepath = \"/Volumes/scratch/neurobiology/zimmer/active_sensing/zim06/recordings_to_analyze/lisa/test_new_fluo_pipeline/data/worm2/Ch0/raw_stack.btf\"\n",
    "output_filepath = \"/Volumes/scratch/neurobiology/zimmer/active_sensing/zim06/recordings_to_analyze/lisa/test_new_fluo_pipeline/data/worm2/Ch0/raw_stack_test_background_subtracted.btf\"\n",
    "background_img_filepath  = \"/Volumes/scratch/neurobiology/zimmer/active_sensing/zim06/recordings_to_analyze/lisa/test_new_fluo_pipeline/data/worm2/Ch0/AVG_background_raw_stack.btf\" \n",
    "invert=False"
   ]
  },
  {
   "cell_type": "code",
   "execution_count": null,
   "id": "e623a22a-be2e-4fa2-8841-997817965c1a",
   "metadata": {},
   "outputs": [],
   "source": [
    "input_filepath = \"/scratch/neurobiology/zimmer/active_sensing/zim06/recordings_to_analyze/lisa/test_new_fluo_pipeline/data/worm2/Ch0/raw_stack.btf\"\n",
    "output_filepath = \"/scratch/neurobiology/zimmer/active_sensing/zim06/recordings_to_analyze/lisa/test_new_fluo_pipeline/data/worm2/Ch0/raw_stack_test_background_subtracted.btf\"\n",
    "background_img_filepath  = \"/scratch/neurobiology/zimmer/active_sensing/zim06/recordings_to_analyze/lisa/test_new_fluo_pipeline/data/worm2/Ch0/AVG_background_raw_stack.btf\" \n",
    "invert=False"
   ]
  },
  {
   "cell_type": "code",
   "execution_count": 5,
   "id": "514dc20a-cac3-46d9-92c4-40208a7421b5",
   "metadata": {},
   "outputs": [],
   "source": [
    "stack_subtract_background(input_filepath, output_filepath, background_img_filepath, invert)"
   ]
  },
  {
   "cell_type": "code",
   "execution_count": null,
   "id": "4bdd003e-8407-419c-b50a-8bde90c1fb32",
   "metadata": {},
   "outputs": [],
   "source": []
  }
 ],
 "metadata": {
  "kernelspec": {
   "display_name": "Python 3",
   "language": "python",
   "name": "python3"
  },
  "language_info": {
   "codemirror_mode": {
    "name": "ipython",
    "version": 3
   },
   "file_extension": ".py",
   "mimetype": "text/x-python",
   "name": "python",
   "nbconvert_exporter": "python",
   "pygments_lexer": "ipython3",
   "version": "3.8.8"
  }
 },
 "nbformat": 4,
 "nbformat_minor": 5
}
