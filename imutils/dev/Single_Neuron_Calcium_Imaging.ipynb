{
 "cells": [
  {
   "cell_type": "markdown",
   "id": "acknowledged-stevens",
   "metadata": {},
   "source": [
    "# Single neuron Calcium Imaging\n",
    "\n",
    "This notebook has the code to extract Calcium traces from the single neuron recordings on ZIM01."
   ]
  },
  {
   "cell_type": "code",
   "execution_count": null,
   "id": "olive-being",
   "metadata": {},
   "outputs": [],
   "source": [
    "#Unet\n",
    "#import pckgs\n",
    "import cv2\n",
    "import tifffile as tiff\n",
    "import numpy as np\n",
    "import matplotlib.pyplot as plt\n",
    "import pandas as pd\n",
    "import csv\n",
    "import re\n",
    "\n",
    "import os\n",
    "from natsort import natsorted\n",
    "from imutils.src import imfunctions"
   ]
  },
  {
   "cell_type": "markdown",
   "id": "exclusive-anderson",
   "metadata": {},
   "source": [
    "### Do max projection on your hyperstack (See Hyperstack_tests notebook)"
   ]
  },
  {
   "cell_type": "code",
   "execution_count": null,
   "id": "endangered-murder",
   "metadata": {},
   "outputs": [],
   "source": [
    "hyperstack_path='/scratch/zimmer/DanielM/hyperstack/2021-07-01_15-08-56_worm3_on-channel-1-pco_camera2.btf'\n",
    "\n",
    "hyperstack=tiff.memmap(hyperstack_path, dtype='uint16')\n",
    "\n",
    "\n",
    "print(hyperstack.shape)\n",
    "\n"
   ]
  },
  {
   "cell_type": "code",
   "execution_count": null,
   "id": "arctic-alexander",
   "metadata": {},
   "outputs": [],
   "source": [
    "output_filepath='/scratch/zimmer/DanielM/hyperstack/2021-07-01_15-08-56_worm3_on-channel-1-pco_camera2_MAX.btf'\n",
    "with tiff.TiffWriter(output_filepath, bigtiff=True) as tif_writer:\n",
    "    for volume in hyperstack:\n",
    "#         print(volume.shape)\n",
    "#         print(type(volume))\n",
    "        volume_projection = np.max(volume, axis=0)\n",
    "#         print(volume_projection.shape)\n",
    "#         print(type(volume_projection))\n",
    "        tif_writer.write(volume_projection, contiguous=True)\n",
    "        #break"
   ]
  },
  {
   "cell_type": "markdown",
   "id": "stable-wednesday",
   "metadata": {},
   "source": [
    "### Option 1: Binarize using make_contour based binary"
   ]
  },
  {
   "cell_type": "code",
   "execution_count": null,
   "id": "focused-christopher",
   "metadata": {},
   "outputs": [],
   "source": [
    "input_filepath='/scratch/zimmer/DanielM/hyperstack/2021-07-01_15-08-56_worm3_on-channel-0-pco_camera1_MAX.btf'\n",
    "output_filepath='/scratch/zimmer/DanielM/hyperstack/2021-07-01_15-08-56_worm3_on-channel-0-pco_camera1bigtiff_binary_cs_500_lt140_TEST.btf'\n",
    "median_blur=3\n",
    "lt=140\n",
    "ht=255\n",
    "contour_size=500\n",
    "tolerance=0.5\n",
    "area_to_fill=100\n",
    "imfunctions.make_contour_based_binary(input_filepath, output_filepath, median_blur, lt, ht, contour_size, tolerance, area_to_fill)\n"
   ]
  },
  {
   "cell_type": "code",
   "execution_count": null,
   "id": "authorized-weather",
   "metadata": {},
   "outputs": [],
   "source": [
    "#To check what areas the contour size and tolerance parameters give:\n",
    "contour_size=500\n",
    "tolerance=0.5\n",
    "print(contour_size*(1-tolerance))\n",
    "print(contour_size*(1+tolerance))"
   ]
  },
  {
   "cell_type": "markdown",
   "id": "yellow-center",
   "metadata": {},
   "source": [
    "### Option 2: Binarize only with blur and threshold"
   ]
  },
  {
   "cell_type": "code",
   "execution_count": null,
   "id": "hungry-killing",
   "metadata": {},
   "outputs": [],
   "source": [
    "input_filepath='/scratch/zimmer/DanielM/hyperstack/2021-07-01_15-08-56_worm3_on-channel-0-pco_camera1_MAX.btf'\n",
    "output_filepath='/scratch/zimmer/DanielM/hyperstack/2021-07-01_15-08-56_worm3_on-channel-0-pco_camera1bigtiff_binary_blur3_lt140.btf'\n",
    "median_blur=3\n",
    "lt=140\n",
    "ht=255\n",
    "\n",
    "\n",
    "with tiff.TiffWriter(output_filepath, bigtiff=True) as tif_writer:\n",
    "    with tiff.TiffFile(input_filepath, multifile=False) as tif:\n",
    "        for i, page in enumerate(tif.pages):\n",
    "            #loads the first frame and inverts it\n",
    "            img=page.asarray()\n",
    "            #median Blur\n",
    "            if median_blur!=0:\n",
    "                img=cv2.medianBlur(img,median_blur)\n",
    "\n",
    "            #apply threshold\n",
    "            ret, new_img = cv2.threshold(img,lt,ht,cv2.THRESH_BINARY)\n",
    "            tif_writer.write(new_img,contiguous=True)"
   ]
  },
  {
   "cell_type": "markdown",
   "id": "interim-grace",
   "metadata": {},
   "source": [
    "### Transform GCAMP Channel if needed\n",
    "This will transform the GCAMP Channel in case the camera alignment was not good."
   ]
  },
  {
   "cell_type": "code",
   "execution_count": null,
   "id": "suspended-bumper",
   "metadata": {},
   "outputs": [],
   "source": [
    "gcamp_filepath='/scratch/zimmer/DanielM/hyperstack/2021-07-01_15-08-56_worm3_on-channel-1-pco_camera2_MAX.btf'\n",
    "output_filepath='/scratch/zimmer/DanielM/hyperstack/2021-07-01_15-08-56_worm3_on-channel-1-pco_camera2_MAX_corrected.btf'\n",
    "with tiff.TiffWriter(output_filepath, bigtiff=True) as tif_writer,\\\n",
    "    tiff.TiffFile(gcamp_filepath, multifile=False) as tif_gcamp:\n",
    "    for i, page in enumerate(tif_gcamp.pages):\n",
    "        img=page.asarray()\n",
    "        #create the transformation matrix \n",
    "        M = np.float32([[1, 0, -22], [0, 1, 0]])\n",
    "        #transform it based on the transformation matrix\n",
    "        shifted = cv2.warpAffine(img, M, (img.shape[1], img.shape[0]))\n",
    "        #flip if needed\n",
    "        flipped = cv2.flip(shifted, 1)\n",
    "        #save the processed Gcamp channel\n",
    "        tif_writer.write(flipped, contiguous=True)"
   ]
  },
  {
   "cell_type": "markdown",
   "id": "favorite-indonesian",
   "metadata": {},
   "source": [
    "### background removal\n",
    "\n",
    "The background has to be removed!\n",
    "From the single planes the background is 100 in the red as well as the green channel.\n",
    "\n",
    "From the MAX projection it is 104.\n",
    "\n",
    "I am not sure whether it is good to substract it from already max projected or it should be removed for the single plane and then do MAX projection. I should test this"
   ]
  },
  {
   "cell_type": "code",
   "execution_count": null,
   "id": "european-desert",
   "metadata": {},
   "outputs": [],
   "source": [
    "rfp_mask_filepath='/scratch/zimmer/DanielM/hyperstack/2021-07-01_15-08-56_worm3_on-channel-0-pco_camera1bigtiff_binary_cs_500_lt140.btf'\n",
    "gcamp_filepath='/scratch/zimmer/DanielM/hyperstack/2021-07-01_15-08-56_worm3_on-channel-1-pco_camera2_MAX_corrected.btf'\n",
    "rfp_filepath='/scratch/zimmer/DanielM/hyperstack/2021-07-01_15-08-56_worm3_on-channel-0-pco_camera1_MAX.btf'\n",
    "\n",
    "gcamp_signal=[]\n",
    "rfp_signal=[]\n",
    "\n",
    "\n",
    "with tiff.TiffFile(rfp_mask_filepath, multifile=True) as tif_mask,\\\n",
    "    tiff.TiffFile(gcamp_filepath, multifile=False) as tif_gcamp,\\\n",
    "    tiff.TiffFile(rfp_filepath, multifile=False) as tif_rfp:\n",
    "    for i, page in enumerate(tif_mask.pages):\n",
    "        mask=page.asarray()\n",
    "        gcamp=tif_gcamp.pages[i].asarray()\n",
    "        rfp=tif_rfp.pages[i].asarray()\n",
    "        \n",
    "        #remove background\n",
    "        gcamp=gcamp-104\n",
    "        rfp=rfp-104\n",
    "        \n",
    "        #find where the mask is\n",
    "        roi=np.where(mask==255)\n",
    "        gcamp_roi_signal=np.mean(gcamp[roi])\n",
    "        rfp_roi_signal=np.mean(rfp[roi])\n",
    "                   \n",
    "        #append\n",
    "        gcamp_signal.append(gcamp_roi_signal)\n",
    "        rfp_signal.append(rfp_roi_signal)\n",
    "\n",
    "#optional plotting\n",
    "#         fig, axes=plt.subplots(ncols=3, nrows=2, dpi=200)\n",
    "#         axes[0,0].imshow(mask)\n",
    "#         axes[0,0].set_title('mask')\n",
    "#         axes[0,1].imshow(gcamp)\n",
    "#         axes[0,1].set_title('gcamp')\n",
    "#         axes[0,2].imshow(rfp)\n",
    "#         axes[0,2].set_title('rfp')\n",
    "#         axes[1,1].imshow(gcamp_masked)\n",
    "#         axes[1,2].imshow(rfp_masked)\n",
    "#         if i>10: break"
   ]
  },
  {
   "cell_type": "code",
   "execution_count": null,
   "id": "democratic-jewel",
   "metadata": {},
   "outputs": [],
   "source": [
    "#new mean with ROI\n",
    "gcamp_signal=np.array(gcamp_signal)\n",
    "rfp_signal=np.array(rfp_signal)\n",
    "gig, axes=plt.subplots(figsize=(20,5),nrows=3, dpi=150)\n",
    "axes[0].plot(gcamp_signal)\n",
    "axes[1].plot(rfp_signal)\n",
    "axes[2].plot(gcamp_signal/rfp_signal)\n",
    "\n",
    "for i,ax in enumerate(axes):\n",
    "    #ax.set_xlim([3500, 5000])\n",
    "    if i<2: ax.set_xticks([])\n",
    "    if i==2: ax.set_xticks(np.arange(0,5001,250))\n",
    "axes[2].set_ylim([0, 500])"
   ]
  },
  {
   "cell_type": "code",
   "execution_count": null,
   "id": "limited-water",
   "metadata": {},
   "outputs": [],
   "source": [
    "#find frames where there is no signal\n",
    "np.where(np.isnan(gcamp_signal))"
   ]
  },
  {
   "cell_type": "code",
   "execution_count": null,
   "id": "regulated-soccer",
   "metadata": {},
   "outputs": [],
   "source": [
    "#check % of frames without signal\n",
    "np.isnan(gcamp_signal).sum()/gcamp_signal.shape[0]"
   ]
  },
  {
   "cell_type": "markdown",
   "id": "lesbian-shuttle",
   "metadata": {},
   "source": [
    "### Subsample and image\n",
    "\n",
    "For instance the behavuiour to have same number of frames as max projections (default is number of frames == total number of planes)"
   ]
  },
  {
   "cell_type": "code",
   "execution_count": null,
   "id": "australian-circuit",
   "metadata": {},
   "outputs": [],
   "source": [
    "input_filepath='/scratch/zimmer/DanielM/BAG_Gcamp_07_01/btf_all/bh/2021-07-01_15-10-32_worm3_on-channel-0-behaviour-bigtiff.btf'\n",
    "output_filepath='/scratch/zimmer/DanielM/hyperstack/2021-07-01_15-10-32_worm3_on-channel-0-behaviour-bigtiff_subsampled.btf'\n",
    "with tiff.TiffFile(input_filepath, multifile=False) as tif,\\\n",
    " tiff.TiffWriter(output_filepath, bigtiff=True) as tif_writer:\n",
    "    for i, page in enumerate(tif.pages):\n",
    "        if i %20==0:\n",
    "            img=page.asarray()\n",
    "            tif_writer.write(img,contiguous=True)\n",
    "            "
   ]
  },
  {
   "cell_type": "code",
   "execution_count": null,
   "id": "czech-advertising",
   "metadata": {},
   "outputs": [],
   "source": []
  }
 ],
 "metadata": {
  "kernelspec": {
   "display_name": "Python [conda env:anaconda3-openCV]",
   "language": "python",
   "name": "conda-env-anaconda3-openCV-py"
  },
  "language_info": {
   "codemirror_mode": {
    "name": "ipython",
    "version": 3
   },
   "file_extension": ".py",
   "mimetype": "text/x-python",
   "name": "python",
   "nbconvert_exporter": "python",
   "pygments_lexer": "ipython3",
   "version": "3.7.9"
  }
 },
 "nbformat": 4,
 "nbformat_minor": 5
}
