{
 "cells": [
  {
   "cell_type": "markdown",
   "id": "boring-bikini",
   "metadata": {},
   "source": [
    "# making hyperstacks by iterating through a pandas with its dimensions\n",
    "since there are issuses with reding metadata form the tiff files I calculated and stored number of volumes, z number height and width of each recording in a dataframe.\n",
    "https://forum.image.sc/t/ome-tiff-z-stack-to-bigtiff/50964/7"
   ]
  },
  {
   "cell_type": "code",
   "execution_count": null,
   "id": "nonprofit-heather",
   "metadata": {},
   "outputs": [],
   "source": [
    "import tifffile as tiff\n",
    "import cv2\n",
    "import numpy as np\n",
    "import matplotlib.pyplot as plt\n",
    "import pandas as pd\n",
    "import csv\n",
    "import re\n",
    "from imutils.src import imfunctions\n",
    "import os\n",
    "from natsort import natsorted\n",
    "import math\n",
    "import glob"
   ]
  },
  {
   "cell_type": "markdown",
   "id": "fatty-calvin",
   "metadata": {},
   "source": [
    "## creating the dataframe"
   ]
  },
  {
   "cell_type": "code",
   "execution_count": null,
   "id": "moral-resort",
   "metadata": {},
   "outputs": [],
   "source": [
    "#getting file names\n",
    "path='/scratch/zimmer/DanielM/ZIm443/flurescence_btiffs/cam1/'\n",
    "for file in natsorted(os.listdir(path)):\n",
    "    if file.endswith('.btf'):\n",
    "        before,sep,after=file.partition('-channel')\n",
    "        print(before)"
   ]
  },
  {
   "cell_type": "code",
   "execution_count": null,
   "id": "reverse-temple",
   "metadata": {},
   "outputs": [],
   "source": [
    "#read in csv with filenames and z number which i got from onenote, as well as h and w which are constant\n",
    "filename='/groups/zimmer/Daniel_Mitic/code/imutils/imutils/zim443_dimensions.csv'\n",
    "df=pd.read_csv(filename,sep=';')"
   ]
  },
  {
   "cell_type": "code",
   "execution_count": null,
   "id": "smart-oklahoma",
   "metadata": {},
   "outputs": [],
   "source": [
    "#getting the number of volumes\n",
    "path='/scratch/zimmer/DanielM/ZIm443/flurescence_btiffs/cam1/'"
   ]
  },
  {
   "cell_type": "code",
   "execution_count": null,
   "id": "infinite-consultancy",
   "metadata": {},
   "outputs": [],
   "source": [
    "#volumes=len of pages/z_stacks\n",
    "#some of them are not integers: if z is an uneven number the last volume is not gonna have a full amount of stacks. this is why i round it up with math(ceil)\n",
    "for i,file in enumerate(natsorted(os.listdir(path))):\n",
    "    if 'camera' in file:\n",
    "        with tiff.TiffFile(os.path.join(path,file)) as tif:\n",
    "            print(math.ceil(len(tif.pages)/df.iloc[i,2]))"
   ]
  },
  {
   "cell_type": "code",
   "execution_count": null,
   "id": "mediterranean-craft",
   "metadata": {},
   "outputs": [],
   "source": [
    "#i inserted the number of volumes manually in the csv, so i read it in again here\n",
    "filename='/groups/zimmer/Daniel_Mitic/code/imutils/imutils/zim443_dimensions.csv'\n",
    "df=pd.read_csv(filename,sep=';')"
   ]
  },
  {
   "cell_type": "markdown",
   "id": "unique-fight",
   "metadata": {},
   "source": [
    "# create the hyperstacks"
   ]
  },
  {
   "cell_type": "code",
   "execution_count": null,
   "id": "downtown-testing",
   "metadata": {},
   "outputs": [],
   "source": [
    "#inputs  make_hyperstack_from_ometif function\n",
    "path='/scratch/zimmer/DanielM/ZIm443/cam1/' #path with the folders containing the ome.tif\n",
    "output_file='/scratch/zimmer/DanielM/hyperstack_daniel/'\n",
    "dtype='uint16'\n",
    "imagej=True,\n",
    "metadata={'axes': 'TZYX'}"
   ]
  },
  {
   "cell_type": "code",
   "execution_count": null,
   "id": "caring-slide",
   "metadata": {},
   "outputs": [],
   "source": [
    "for i,file in enumerate(natsorted(glob.glob(path+'*camera*'))): \n",
    "    before,sep,name=file.partition('cam1/') #here i grab the name of the file\n",
    "    output=os.path.join(output_file+name+'.btf') #making sure the output files have different names\n",
    "    input_path=os.path.join(path+name+'/') #here i specify the input path as the subfolders which contain the ome.tifs\n",
    "    shape=tuple(df.iloc[i,1:5]) #iterate through the dataframe to get the corresponding shape for each recording\n",
    "    imfunctions.make_hyperstack_from_ometif(input_path,output,shape,dtype,imagej,metadata)\n",
    "print('done')"
   ]
  }
 ],
 "metadata": {
  "kernelspec": {
   "display_name": "Python [conda env:.conda-openCV]",
   "language": "python",
   "name": "conda-env-.conda-openCV-py"
  },
  "language_info": {
   "codemirror_mode": {
    "name": "ipython",
    "version": 3
   },
   "file_extension": ".py",
   "mimetype": "text/x-python",
   "name": "python",
   "nbconvert_exporter": "python",
   "pygments_lexer": "ipython3",
   "version": "3.7.7"
  }
 },
 "nbformat": 4,
 "nbformat_minor": 5
}
