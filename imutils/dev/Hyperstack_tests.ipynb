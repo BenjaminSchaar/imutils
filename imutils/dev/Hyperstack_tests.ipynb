{
 "cells": [
  {
   "cell_type": "markdown",
   "id": "broad-referral",
   "metadata": {},
   "source": [
    "# Hyperstack with memmap\n",
    "This notebook shows how to create an hyperstack from the ome tiff files or from a btf file.\n",
    "\n",
    "\n",
    "See: \n",
    "https://forum.image.sc/t/ome-tiff-z-stack-to-bigtiff/50964/7"
   ]
  },
  {
   "cell_type": "code",
   "execution_count": null,
   "id": "crucial-gibraltar",
   "metadata": {},
   "outputs": [],
   "source": [
    "import tifffile as tiff\n",
    "import cv2\n",
    "import numpy as np\n",
    "import matplotlib.pyplot as plt\n",
    "import pandas as pd\n",
    "import csv\n",
    "import re\n",
    "\n",
    "import os\n",
    "from natsort import natsorted"
   ]
  },
  {
   "cell_type": "code",
   "execution_count": null,
   "id": "massive-plane",
   "metadata": {},
   "outputs": [],
   "source": [
    "#create an empty TZYX ImageJ hyperstack\n",
    "new_hyperstack_path='/scratch/zimmer/DanielM/hyperstack/2021-07-01_15-08-56_worm3_on-channel-1-pco_camera2bigtiff.btf'\n",
    "hyperstack = tiff.memmap(\n",
    "    new_hyperstack_path,\n",
    "    shape=(4997, 20, 650,840),\n",
    "    dtype='uint16',\n",
    "    imagej=True,\n",
    "    metadata={'axes': 'TZYX'},\n",
    ")\n",
    "\n",
    "print('A new hyperstack with the type ',type(hyperstack), 'has been created. It has shape: ', hyperstack.shape)\n"
   ]
  },
  {
   "cell_type": "code",
   "execution_count": null,
   "id": "legendary-prefix",
   "metadata": {},
   "outputs": [],
   "source": [
    "#write entire ome.tiff into hyperstack"
   ]
  },
  {
   "cell_type": "code",
   "execution_count": null,
   "id": "downtown-jordan",
   "metadata": {},
   "outputs": [],
   "source": [
    "path='/scratch/zimmer/DanielM/BAG_Gcamp_07_01/2021-07-01_15-08-56_worm3_on-channel-1-pco_camera2/'\n"
   ]
  },
  {
   "cell_type": "code",
   "execution_count": null,
   "id": "ecological-lexington",
   "metadata": {},
   "outputs": [],
   "source": [
    "c=0\n",
    "z_index=0\n",
    "t_index=0\n",
    "for file in natsorted(os.listdir(path)):\n",
    "    if file.endswith('ome.tif'):\n",
    "        print(os.path.join(path,file))\n",
    "        with tiff.TiffFile(os.path.join(path,file), multifile=False) as tif:\n",
    "            for idx,page in enumerate(tif.pages):\n",
    "                img = page.asarray()\n",
    "                hyperstack[t_index, z_index] = img\n",
    "                hyperstack.flush()\n",
    "                c=c+1\n",
    "                z_index=z_index+1\n",
    "                if z_index==20:\n",
    "                    z_index=0\n",
    "                    t_index=t_index+1"
   ]
  },
  {
   "cell_type": "markdown",
   "id": "cardiac-debate",
   "metadata": {},
   "source": [
    "### As a function:\n",
    "I wrote now a function in the imutils package and it works:"
   ]
  },
  {
   "cell_type": "code",
   "execution_count": null,
   "id": "toxic-marks",
   "metadata": {},
   "outputs": [],
   "source": [
    "from imutils.src import imfunctions"
   ]
  },
  {
   "cell_type": "code",
   "execution_count": null,
   "id": "wooden-novel",
   "metadata": {},
   "outputs": [],
   "source": [
    "input_path='/scratch/zimmer/DanielM/BAG_Gcamp_07_01/2021-07-01_15-08-56_worm3_on-channel-1-pco_camera2/'\n",
    "output_path='/scratch/zimmer/DanielM/hyperstack/function_test.btf'\n",
    "shape=(4997, 20, 650,840)\n",
    "dtype='uint16'\n",
    "imagej=True,\n",
    "metadata={'axes': 'TZYX'}"
   ]
  },
  {
   "cell_type": "code",
   "execution_count": null,
   "id": "empirical-excuse",
   "metadata": {},
   "outputs": [],
   "source": [
    "imfunctions.make_hyperstack_from_ometif(input_path,output_path,shape,dtype,imagej,metadata)"
   ]
  },
  {
   "cell_type": "markdown",
   "id": "reserved-introduction",
   "metadata": {},
   "source": [
    "### Write single plane"
   ]
  },
  {
   "cell_type": "code",
   "execution_count": null,
   "id": "distinguished-camera",
   "metadata": {},
   "outputs": [],
   "source": [
    "# write an image to the numpy.memmap array\n",
    "hyperstack[t_index, z_index] = image\n",
    "hyperstack.flush()"
   ]
  }
 ],
 "metadata": {
  "kernelspec": {
   "display_name": "Python [conda env:anaconda3-openCV]",
   "language": "python",
   "name": "conda-env-anaconda3-openCV-py"
  },
  "language_info": {
   "codemirror_mode": {
    "name": "ipython",
    "version": 3
   },
   "file_extension": ".py",
   "mimetype": "text/x-python",
   "name": "python",
   "nbconvert_exporter": "python",
   "pygments_lexer": "ipython3",
   "version": "3.7.9"
  }
 },
 "nbformat": 4,
 "nbformat_minor": 5
}
