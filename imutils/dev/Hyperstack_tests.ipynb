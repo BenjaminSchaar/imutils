{
 "cells": [
  {
   "cell_type": "markdown",
   "id": "afraid-harris",
   "metadata": {},
   "source": [
    "# making hyperstacks from zm01 recordings by iterating through a pandas with its dimensions\n",
    "since there are issuses with reding metadata form the tiff files I calculated and stored number of volumes, z number height and width of each recording in a dataframe.\n",
    "https://forum.image.sc/t/ome-tiff-z-stack-to-bigtiff/50964/7"
   ]
  },
  {
   "cell_type": "code",
   "execution_count": 2,
   "id": "unlimited-honey",
   "metadata": {},
   "outputs": [
    {
     "name": "stderr",
     "output_type": "stream",
     "text": [
      "Using TensorFlow backend.\n"
     ]
    }
   ],
   "source": [
    "import tifffile as tiff\n",
    "import cv2\n",
    "import numpy as np\n",
    "import matplotlib.pyplot as plt\n",
    "import pandas as pd\n",
    "import csv\n",
    "import re\n",
    "from imutils.src import imfunctions\n",
    "import os\n",
    "from natsort import natsorted\n",
    "import math\n",
    "import glob"
   ]
  },
  {
   "cell_type": "markdown",
   "id": "stone-abraham",
   "metadata": {},
   "source": [
    "## create dataframe with metadata"
   ]
  },
  {
   "cell_type": "markdown",
   "id": "personal-watson",
   "metadata": {},
   "source": [
    "### get the filenames of recordings"
   ]
  },
  {
   "cell_type": "code",
   "execution_count": 4,
   "id": "listed-characterization",
   "metadata": {},
   "outputs": [
    {
     "name": "stdout",
     "output_type": "stream",
     "text": [
      "2021-07-15_14-27-22_zim443_wor2_on\n",
      "2021-07-15_15-12-30_zim443_wor3_on\n",
      "2021-07-15_16-49-36_zim443_wor4_on\n",
      "2021-07-15_17-14-13_zim443_wor5_off\n",
      "2021-07-15_17-48-38_zim443_wor6_off\n"
     ]
    }
   ],
   "source": [
    "#getting file names\n",
    "path='/scratch/zimmer/DanielM/zim01/zim_443_urx/ZIm443/flurescence_btiffs/cam1/'\n",
    "for file in natsorted(os.listdir(path)):\n",
    "    if file.endswith('.btf'):\n",
    "        before,sep,after=file.partition('-channel')\n",
    "        print(before)"
   ]
  },
  {
   "cell_type": "markdown",
   "id": "daily-progress",
   "metadata": {},
   "source": [
    "### read in a csv with filenames, number of z steps, height and width (all written down manually)"
   ]
  },
  {
   "cell_type": "code",
   "execution_count": null,
   "id": "continuing-category",
   "metadata": {},
   "outputs": [],
   "source": [
    "filename='/groups/zimmer/Daniel_Mitic/code/imutils/imutils/zim443_dimensions.csv'\n",
    "df=pd.read_csv(filename,sep=';')"
   ]
  },
  {
   "cell_type": "markdown",
   "id": "vanilla-adelaide",
   "metadata": {},
   "source": [
    "## get the amount of volumes"
   ]
  },
  {
   "cell_type": "code",
   "execution_count": 7,
   "id": "proof-instruction",
   "metadata": {},
   "outputs": [],
   "source": [
    "path='/scratch/zimmer/DanielM/zim01/zim_443_urx/ZIm443/flurescence_btiffs/cam1/'"
   ]
  },
  {
   "cell_type": "code",
   "execution_count": 8,
   "id": "peaceful-saint",
   "metadata": {
    "collapsed": true,
    "jupyter": {
     "outputs_hidden": true
    }
   },
   "outputs": [
    {
     "ename": "NameError",
     "evalue": "name 'df' is not defined",
     "output_type": "error",
     "traceback": [
      "\u001b[0;31m---------------------------------------------------------------------------\u001b[0m",
      "\u001b[0;31mNameError\u001b[0m                                 Traceback (most recent call last)",
      "\u001b[0;32m<ipython-input-8-83b57c3e2458>\u001b[0m in \u001b[0;36m<module>\u001b[0;34m\u001b[0m\n\u001b[1;32m      4\u001b[0m     \u001b[0;32mif\u001b[0m \u001b[0;34m'camera'\u001b[0m \u001b[0;32min\u001b[0m \u001b[0mfile\u001b[0m\u001b[0;34m:\u001b[0m\u001b[0;34m\u001b[0m\u001b[0;34m\u001b[0m\u001b[0m\n\u001b[1;32m      5\u001b[0m         \u001b[0;32mwith\u001b[0m \u001b[0mtiff\u001b[0m\u001b[0;34m.\u001b[0m\u001b[0mTiffFile\u001b[0m\u001b[0;34m(\u001b[0m\u001b[0mos\u001b[0m\u001b[0;34m.\u001b[0m\u001b[0mpath\u001b[0m\u001b[0;34m.\u001b[0m\u001b[0mjoin\u001b[0m\u001b[0;34m(\u001b[0m\u001b[0mpath\u001b[0m\u001b[0;34m,\u001b[0m\u001b[0mfile\u001b[0m\u001b[0;34m)\u001b[0m\u001b[0;34m)\u001b[0m \u001b[0;32mas\u001b[0m \u001b[0mtif\u001b[0m\u001b[0;34m:\u001b[0m\u001b[0;34m\u001b[0m\u001b[0;34m\u001b[0m\u001b[0m\n\u001b[0;32m----> 6\u001b[0;31m             \u001b[0mprint\u001b[0m\u001b[0;34m(\u001b[0m\u001b[0mmath\u001b[0m\u001b[0;34m.\u001b[0m\u001b[0mceil\u001b[0m\u001b[0;34m(\u001b[0m\u001b[0mlen\u001b[0m\u001b[0;34m(\u001b[0m\u001b[0mtif\u001b[0m\u001b[0;34m.\u001b[0m\u001b[0mpages\u001b[0m\u001b[0;34m)\u001b[0m\u001b[0;34m/\u001b[0m\u001b[0mdf\u001b[0m\u001b[0;34m.\u001b[0m\u001b[0miloc\u001b[0m\u001b[0;34m[\u001b[0m\u001b[0mi\u001b[0m\u001b[0;34m,\u001b[0m\u001b[0;36m2\u001b[0m\u001b[0;34m]\u001b[0m\u001b[0;34m)\u001b[0m\u001b[0;34m)\u001b[0m\u001b[0;34m\u001b[0m\u001b[0;34m\u001b[0m\u001b[0m\n\u001b[0m",
      "\u001b[0;31mNameError\u001b[0m: name 'df' is not defined"
     ]
    }
   ],
   "source": [
    "#volumes=len of pages/z_stacks\n",
    "#some of them are not integers: if z is an uneven number the last volume is not gonna have a full amount of stacks. this is why i round it up with math(ceil)\n",
    "for i,file in enumerate(natsorted(os.listdir(path))):\n",
    "    if 'camera' in file:\n",
    "        with tiff.TiffFile(os.path.join(path,file)) as tif:\n",
    "            print(math.ceil(len(tif.pages)/df.iloc[i,2]))"
   ]
  },
  {
   "cell_type": "code",
   "execution_count": null,
   "id": "fuzzy-anime",
   "metadata": {},
   "outputs": [],
   "source": [
    "#i inserted the number of volumes manually in the csv, so i read it in again here\n",
    "filename='/groups/zimmer/Daniel_Mitic/code/imutils/imutils/zim443_dimensions.csv'\n",
    "df=pd.read_csv(filename,sep=';')"
   ]
  },
  {
   "cell_type": "markdown",
   "id": "sunrise-uzbekistan",
   "metadata": {},
   "source": [
    "# create the hyperstacks"
   ]
  },
  {
   "cell_type": "code",
   "execution_count": null,
   "id": "formal-zambia",
   "metadata": {},
   "outputs": [],
   "source": [
    "path='/scratch/zimmer/DanielM/ZIm443/cam1/' #path with the folders containing the ome.tif\n",
    "output_file='/scratch/zimmer/DanielM/hyperstack_daniel/'\n",
    "dtype='uint16'\n",
    "imagej=True,\n",
    "metadata={'axes': 'TZYX'}"
   ]
  },
  {
   "cell_type": "code",
   "execution_count": null,
   "id": "german-major",
   "metadata": {},
   "outputs": [],
   "source": [
    "for i,file in enumerate(natsorted(glob.glob(path+'*camera*'))):\n",
    "    #grab the name of the file\n",
    "    before,sep,name=file.partition('cam1/')\n",
    "    \n",
    "    #making sure the output files have different names\n",
    "    output=os.path.join(output_file+name+'.btf')\n",
    "    \n",
    "    #specify the input path as the subfolders which contain the ome.tifs\n",
    "    input_path=os.path.join(path+name+'/') \n",
    "    \n",
    "    #iterate through the dataframe to get the corresponding shape for each recording\n",
    "    shape=tuple(df.iloc[i,1:5])\n",
    "    \n",
    "    #make hyperstacks\n",
    "    imfunctions.make_hyperstack_from_ometif(input_path,output,shape,dtype,imagej,metadata)\n",
    "print('done')"
   ]
  }
 ],
 "metadata": {
  "kernelspec": {
   "display_name": "Python [conda env:.conda-openCV]",
   "language": "python",
   "name": "conda-env-.conda-openCV-py"
  },
  "language_info": {
   "codemirror_mode": {
    "name": "ipython",
    "version": 3
   },
   "file_extension": ".py",
   "mimetype": "text/x-python",
   "name": "python",
   "nbconvert_exporter": "python",
   "pygments_lexer": "ipython3",
   "version": "3.7.7"
  }
 },
 "nbformat": 4,
 "nbformat_minor": 5
}
