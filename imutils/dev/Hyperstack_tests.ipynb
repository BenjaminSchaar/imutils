{
 "cells": [
  {
   "cell_type": "markdown",
   "id": "large-mediterranean",
   "metadata": {},
   "source": [
    "# Hyperstack with memmap\n",
    "This notebook shows how to create an hyperstack from the ome tiff files or from a btf file.\n",
    "\n",
    "\n",
    "See: \n",
    "https://forum.image.sc/t/ome-tiff-z-stack-to-bigtiff/50964/7"
   ]
  },
  {
   "cell_type": "code",
   "execution_count": 6,
   "id": "extensive-bailey",
   "metadata": {},
   "outputs": [],
   "source": [
    "import tifffile as tiff\n",
    "import cv2\n",
    "import numpy as np\n",
    "import matplotlib.pyplot as plt\n",
    "import pandas as pd\n",
    "import csv\n",
    "import re\n",
    "from imutils.src import imfunctions\n",
    "import os\n",
    "from natsort import natsorted\n",
    "import math"
   ]
  },
  {
   "cell_type": "markdown",
   "id": "handled-vulnerability",
   "metadata": {},
   "source": [
    "### create an empty TZYX ImageJ hyperstack"
   ]
  },
  {
   "cell_type": "code",
   "execution_count": null,
   "id": "cellular-michigan",
   "metadata": {},
   "outputs": [],
   "source": [
    "#create an empty TZYX ImageJ hyperstack\n",
    "new_hyperstack_path='/scratch/zimmer/DanielM/hyperstack/2021-07-01_15-08-56_worm3_on-channel-1-pco_camera2bigtiff.btf'\n",
    "hyperstack = tiff.memmap(\n",
    "    new_hyperstack_path,\n",
    "    shape=(4997, 20, 650,840),\n",
    "    dtype='uint16',\n",
    "    imagej=True,\n",
    "    metadata={'axes': 'TZYX'},\n",
    ")\n",
    "\n",
    "print('A new hyperstack with the type ',type(hyperstack), 'has been created. It has shape: ', hyperstack.shape)\n"
   ]
  },
  {
   "cell_type": "markdown",
   "id": "miniature-condition",
   "metadata": {},
   "source": [
    "## write entire ome.tiff into hyperstack"
   ]
  },
  {
   "cell_type": "code",
   "execution_count": null,
   "id": "olive-fiction",
   "metadata": {},
   "outputs": [],
   "source": [
    "path='/scratch/zimmer/DanielM/BAG_Gcamp_07_01/2021-07-01_15-08-56_worm3_on-channel-1-pco_camera2/'\n"
   ]
  },
  {
   "cell_type": "code",
   "execution_count": null,
   "id": "suspended-coating",
   "metadata": {},
   "outputs": [],
   "source": [
    "c=0\n",
    "z_index=0\n",
    "t_index=0\n",
    "for file in natsorted(os.listdir(path)):\n",
    "    if file.endswith('ome.tif'):\n",
    "        print(os.path.join(path,file))\n",
    "        with tiff.TiffFile(os.path.join(path,file), multifile=False) as tif:\n",
    "            for idx,page in enumerate(tif.pages):\n",
    "                img = page.asarray()\n",
    "                hyperstack[t_index, z_index] = img\n",
    "                hyperstack.flush()\n",
    "                c=c+1\n",
    "                z_index=z_index+1\n",
    "                if z_index==20:\n",
    "                    z_index=0\n",
    "                    t_index=t_index+1"
   ]
  },
  {
   "cell_type": "markdown",
   "id": "organizational-argument",
   "metadata": {},
   "source": [
    "### As a function:\n",
    "I wrote now a function in the imutils package and it works:"
   ]
  },
  {
   "cell_type": "code",
   "execution_count": null,
   "id": "split-attack",
   "metadata": {},
   "outputs": [],
   "source": [
    "from imutils.src import imfunctions"
   ]
  },
  {
   "cell_type": "code",
   "execution_count": null,
   "id": "following-warning",
   "metadata": {},
   "outputs": [],
   "source": [
    "input_path='/scratch/zimmer/DanielM/BAG_Gcamp_07_01/2021-07-01_15-08-56_worm3_on-channel-1-pco_camera2/'\n",
    "output_path='/scratch/zimmer/DanielM/hyperstack/function_test.btf'\n",
    "shape=(4997, 20, 650,840)\n",
    "dtype='uint16'\n",
    "imagej=True,\n",
    "metadata={'axes': 'TZYX'}"
   ]
  },
  {
   "cell_type": "code",
   "execution_count": null,
   "id": "indian-surprise",
   "metadata": {},
   "outputs": [],
   "source": [
    "imfunctions.make_hyperstack_from_ometif(input_path,output_path,shape,dtype,imagej,metadata)"
   ]
  },
  {
   "cell_type": "markdown",
   "id": "bigger-hands",
   "metadata": {},
   "source": [
    "### Write single plane"
   ]
  },
  {
   "cell_type": "code",
   "execution_count": null,
   "id": "superior-fourth",
   "metadata": {},
   "outputs": [],
   "source": [
    "# write an image to the numpy.memmap array\n",
    "hyperstack[t_index, z_index] = image\n",
    "hyperstack.flush()"
   ]
  },
  {
   "cell_type": "markdown",
   "id": "macro-exercise",
   "metadata": {},
   "source": [
    "# making hyperstacks by iterating through a pandas with its dimensions\n",
    "since there are issuses with reding metadata form the tiff files I calculated and stored number of volumes, z number height and width of each recording in a dataframe."
   ]
  },
  {
   "cell_type": "markdown",
   "id": "latter-thursday",
   "metadata": {},
   "source": [
    "## creating the dataframe"
   ]
  },
  {
   "cell_type": "code",
   "execution_count": 2,
   "id": "essential-safety",
   "metadata": {},
   "outputs": [
    {
     "name": "stdout",
     "output_type": "stream",
     "text": [
      "2021-07-14_18-24-00_zim443_wor1_off\n",
      "2021-07-15_13-26-57_zim443_wor1_off\n",
      "2021-07-15_14-27-22_zim443_wor2_on\n",
      "2021-07-15_15-12-30_zim443_wor3_on\n",
      "2021-07-15_15-33-13_zim443_wor3_on\n",
      "2021-07-15_16-49-36_zim443_wor4_on\n",
      "2021-07-15_17-14-13_zim443_wor5_off\n",
      "2021-07-15_17-48-38_zim443_wor6_off\n"
     ]
    }
   ],
   "source": [
    "#getting file names\n",
    "path='/scratch/zimmer/DanielM/ZIm443/flurescence_btiffs/cam1/'\n",
    "for file in natsorted(os.listdir(path)):\n",
    "    if file.endswith('.btf'):\n",
    "        before,sep,after=file.partition('-channel')\n",
    "        print(before)"
   ]
  },
  {
   "cell_type": "code",
   "execution_count": 3,
   "id": "transsexual-address",
   "metadata": {
    "collapsed": true,
    "jupyter": {
     "outputs_hidden": true
    }
   },
   "outputs": [
    {
     "ename": "FileNotFoundError",
     "evalue": "File b'/groups/zimmer/Daniel_Mitic/code/imutils/imutils/zim443_dimensions.csv' does not exist",
     "output_type": "error",
     "traceback": [
      "\u001b[0;31m---------------------------------------------------------------------------\u001b[0m",
      "\u001b[0;31mFileNotFoundError\u001b[0m                         Traceback (most recent call last)",
      "\u001b[0;32m<ipython-input-3-50c63783363f>\u001b[0m in \u001b[0;36m<module>\u001b[0;34m\u001b[0m\n\u001b[1;32m      1\u001b[0m \u001b[0;31m#read in csv with filenames and z number which i got from onenote, as well as h and w which are constant\u001b[0m\u001b[0;34m\u001b[0m\u001b[0;34m\u001b[0m\u001b[0m\n\u001b[1;32m      2\u001b[0m \u001b[0mfilename\u001b[0m\u001b[0;34m=\u001b[0m\u001b[0;34m'/groups/zimmer/Daniel_Mitic/code/imutils/imutils/zim443_dimensions.csv'\u001b[0m\u001b[0;34m\u001b[0m\u001b[0m\n\u001b[0;32m----> 3\u001b[0;31m \u001b[0mdf\u001b[0m\u001b[0;34m=\u001b[0m\u001b[0mpd\u001b[0m\u001b[0;34m.\u001b[0m\u001b[0mread_csv\u001b[0m\u001b[0;34m(\u001b[0m\u001b[0mfilename\u001b[0m\u001b[0;34m,\u001b[0m\u001b[0msep\u001b[0m\u001b[0;34m=\u001b[0m\u001b[0;34m';'\u001b[0m\u001b[0;34m)\u001b[0m\u001b[0;34m\u001b[0m\u001b[0m\n\u001b[0m",
      "\u001b[0;32m~/.conda/envs/python-cvcourse/lib/python3.6/site-packages/pandas/io/parsers.py\u001b[0m in \u001b[0;36mparser_f\u001b[0;34m(filepath_or_buffer, sep, delimiter, header, names, index_col, usecols, squeeze, prefix, mangle_dupe_cols, dtype, engine, converters, true_values, false_values, skipinitialspace, skiprows, nrows, na_values, keep_default_na, na_filter, verbose, skip_blank_lines, parse_dates, infer_datetime_format, keep_date_col, date_parser, dayfirst, iterator, chunksize, compression, thousands, decimal, lineterminator, quotechar, quoting, escapechar, comment, encoding, dialect, tupleize_cols, error_bad_lines, warn_bad_lines, skipfooter, doublequote, delim_whitespace, low_memory, memory_map, float_precision)\u001b[0m\n\u001b[1;32m    676\u001b[0m                     skip_blank_lines=skip_blank_lines)\n\u001b[1;32m    677\u001b[0m \u001b[0;34m\u001b[0m\u001b[0m\n\u001b[0;32m--> 678\u001b[0;31m         \u001b[0;32mreturn\u001b[0m \u001b[0m_read\u001b[0m\u001b[0;34m(\u001b[0m\u001b[0mfilepath_or_buffer\u001b[0m\u001b[0;34m,\u001b[0m \u001b[0mkwds\u001b[0m\u001b[0;34m)\u001b[0m\u001b[0;34m\u001b[0m\u001b[0m\n\u001b[0m\u001b[1;32m    679\u001b[0m \u001b[0;34m\u001b[0m\u001b[0m\n\u001b[1;32m    680\u001b[0m     \u001b[0mparser_f\u001b[0m\u001b[0;34m.\u001b[0m\u001b[0m__name__\u001b[0m \u001b[0;34m=\u001b[0m \u001b[0mname\u001b[0m\u001b[0;34m\u001b[0m\u001b[0m\n",
      "\u001b[0;32m~/.conda/envs/python-cvcourse/lib/python3.6/site-packages/pandas/io/parsers.py\u001b[0m in \u001b[0;36m_read\u001b[0;34m(filepath_or_buffer, kwds)\u001b[0m\n\u001b[1;32m    438\u001b[0m \u001b[0;34m\u001b[0m\u001b[0m\n\u001b[1;32m    439\u001b[0m     \u001b[0;31m# Create the parser.\u001b[0m\u001b[0;34m\u001b[0m\u001b[0;34m\u001b[0m\u001b[0m\n\u001b[0;32m--> 440\u001b[0;31m     \u001b[0mparser\u001b[0m \u001b[0;34m=\u001b[0m \u001b[0mTextFileReader\u001b[0m\u001b[0;34m(\u001b[0m\u001b[0mfilepath_or_buffer\u001b[0m\u001b[0;34m,\u001b[0m \u001b[0;34m**\u001b[0m\u001b[0mkwds\u001b[0m\u001b[0;34m)\u001b[0m\u001b[0;34m\u001b[0m\u001b[0m\n\u001b[0m\u001b[1;32m    441\u001b[0m \u001b[0;34m\u001b[0m\u001b[0m\n\u001b[1;32m    442\u001b[0m     \u001b[0;32mif\u001b[0m \u001b[0mchunksize\u001b[0m \u001b[0;32mor\u001b[0m \u001b[0miterator\u001b[0m\u001b[0;34m:\u001b[0m\u001b[0;34m\u001b[0m\u001b[0m\n",
      "\u001b[0;32m~/.conda/envs/python-cvcourse/lib/python3.6/site-packages/pandas/io/parsers.py\u001b[0m in \u001b[0;36m__init__\u001b[0;34m(self, f, engine, **kwds)\u001b[0m\n\u001b[1;32m    785\u001b[0m             \u001b[0mself\u001b[0m\u001b[0;34m.\u001b[0m\u001b[0moptions\u001b[0m\u001b[0;34m[\u001b[0m\u001b[0;34m'has_index_names'\u001b[0m\u001b[0;34m]\u001b[0m \u001b[0;34m=\u001b[0m \u001b[0mkwds\u001b[0m\u001b[0;34m[\u001b[0m\u001b[0;34m'has_index_names'\u001b[0m\u001b[0;34m]\u001b[0m\u001b[0;34m\u001b[0m\u001b[0m\n\u001b[1;32m    786\u001b[0m \u001b[0;34m\u001b[0m\u001b[0m\n\u001b[0;32m--> 787\u001b[0;31m         \u001b[0mself\u001b[0m\u001b[0;34m.\u001b[0m\u001b[0m_make_engine\u001b[0m\u001b[0;34m(\u001b[0m\u001b[0mself\u001b[0m\u001b[0;34m.\u001b[0m\u001b[0mengine\u001b[0m\u001b[0;34m)\u001b[0m\u001b[0;34m\u001b[0m\u001b[0m\n\u001b[0m\u001b[1;32m    788\u001b[0m \u001b[0;34m\u001b[0m\u001b[0m\n\u001b[1;32m    789\u001b[0m     \u001b[0;32mdef\u001b[0m \u001b[0mclose\u001b[0m\u001b[0;34m(\u001b[0m\u001b[0mself\u001b[0m\u001b[0;34m)\u001b[0m\u001b[0;34m:\u001b[0m\u001b[0;34m\u001b[0m\u001b[0m\n",
      "\u001b[0;32m~/.conda/envs/python-cvcourse/lib/python3.6/site-packages/pandas/io/parsers.py\u001b[0m in \u001b[0;36m_make_engine\u001b[0;34m(self, engine)\u001b[0m\n\u001b[1;32m   1012\u001b[0m     \u001b[0;32mdef\u001b[0m \u001b[0m_make_engine\u001b[0m\u001b[0;34m(\u001b[0m\u001b[0mself\u001b[0m\u001b[0;34m,\u001b[0m \u001b[0mengine\u001b[0m\u001b[0;34m=\u001b[0m\u001b[0;34m'c'\u001b[0m\u001b[0;34m)\u001b[0m\u001b[0;34m:\u001b[0m\u001b[0;34m\u001b[0m\u001b[0m\n\u001b[1;32m   1013\u001b[0m         \u001b[0;32mif\u001b[0m \u001b[0mengine\u001b[0m \u001b[0;34m==\u001b[0m \u001b[0;34m'c'\u001b[0m\u001b[0;34m:\u001b[0m\u001b[0;34m\u001b[0m\u001b[0m\n\u001b[0;32m-> 1014\u001b[0;31m             \u001b[0mself\u001b[0m\u001b[0;34m.\u001b[0m\u001b[0m_engine\u001b[0m \u001b[0;34m=\u001b[0m \u001b[0mCParserWrapper\u001b[0m\u001b[0;34m(\u001b[0m\u001b[0mself\u001b[0m\u001b[0;34m.\u001b[0m\u001b[0mf\u001b[0m\u001b[0;34m,\u001b[0m \u001b[0;34m**\u001b[0m\u001b[0mself\u001b[0m\u001b[0;34m.\u001b[0m\u001b[0moptions\u001b[0m\u001b[0;34m)\u001b[0m\u001b[0;34m\u001b[0m\u001b[0m\n\u001b[0m\u001b[1;32m   1015\u001b[0m         \u001b[0;32melse\u001b[0m\u001b[0;34m:\u001b[0m\u001b[0;34m\u001b[0m\u001b[0m\n\u001b[1;32m   1016\u001b[0m             \u001b[0;32mif\u001b[0m \u001b[0mengine\u001b[0m \u001b[0;34m==\u001b[0m \u001b[0;34m'python'\u001b[0m\u001b[0;34m:\u001b[0m\u001b[0;34m\u001b[0m\u001b[0m\n",
      "\u001b[0;32m~/.conda/envs/python-cvcourse/lib/python3.6/site-packages/pandas/io/parsers.py\u001b[0m in \u001b[0;36m__init__\u001b[0;34m(self, src, **kwds)\u001b[0m\n\u001b[1;32m   1706\u001b[0m         \u001b[0mkwds\u001b[0m\u001b[0;34m[\u001b[0m\u001b[0;34m'usecols'\u001b[0m\u001b[0;34m]\u001b[0m \u001b[0;34m=\u001b[0m \u001b[0mself\u001b[0m\u001b[0;34m.\u001b[0m\u001b[0musecols\u001b[0m\u001b[0;34m\u001b[0m\u001b[0m\n\u001b[1;32m   1707\u001b[0m \u001b[0;34m\u001b[0m\u001b[0m\n\u001b[0;32m-> 1708\u001b[0;31m         \u001b[0mself\u001b[0m\u001b[0;34m.\u001b[0m\u001b[0m_reader\u001b[0m \u001b[0;34m=\u001b[0m \u001b[0mparsers\u001b[0m\u001b[0;34m.\u001b[0m\u001b[0mTextReader\u001b[0m\u001b[0;34m(\u001b[0m\u001b[0msrc\u001b[0m\u001b[0;34m,\u001b[0m \u001b[0;34m**\u001b[0m\u001b[0mkwds\u001b[0m\u001b[0;34m)\u001b[0m\u001b[0;34m\u001b[0m\u001b[0m\n\u001b[0m\u001b[1;32m   1709\u001b[0m \u001b[0;34m\u001b[0m\u001b[0m\n\u001b[1;32m   1710\u001b[0m         \u001b[0mpassed_names\u001b[0m \u001b[0;34m=\u001b[0m \u001b[0mself\u001b[0m\u001b[0;34m.\u001b[0m\u001b[0mnames\u001b[0m \u001b[0;32mis\u001b[0m \u001b[0;32mNone\u001b[0m\u001b[0;34m\u001b[0m\u001b[0m\n",
      "\u001b[0;32mpandas/_libs/parsers.pyx\u001b[0m in \u001b[0;36mpandas._libs.parsers.TextReader.__cinit__\u001b[0;34m()\u001b[0m\n",
      "\u001b[0;32mpandas/_libs/parsers.pyx\u001b[0m in \u001b[0;36mpandas._libs.parsers.TextReader._setup_parser_source\u001b[0;34m()\u001b[0m\n",
      "\u001b[0;31mFileNotFoundError\u001b[0m: File b'/groups/zimmer/Daniel_Mitic/code/imutils/imutils/zim443_dimensions.csv' does not exist"
     ]
    }
   ],
   "source": [
    "#read in csv with filenames and z number which i got from onenote, as well as h and w which are constant\n",
    "filename='/groups/zimmer/Daniel_Mitic/code/imutils/imutils/zim443_dimensions.csv'\n",
    "df=pd.read_csv(filename,sep=';')"
   ]
  },
  {
   "cell_type": "code",
   "execution_count": 4,
   "id": "encouraging-guidance",
   "metadata": {},
   "outputs": [],
   "source": [
    "#getting the number of volumes\n",
    "path='/scratch/zimmer/DanielM/ZIm443/flurescence_btiffs/cam1/'"
   ]
  },
  {
   "cell_type": "code",
   "execution_count": 7,
   "id": "orange-trademark",
   "metadata": {},
   "outputs": [
    {
     "ename": "NameError",
     "evalue": "name 'df' is not defined",
     "output_type": "error",
     "traceback": [
      "\u001b[0;31m---------------------------------------------------------------------------\u001b[0m",
      "\u001b[0;31mNameError\u001b[0m                                 Traceback (most recent call last)",
      "\u001b[0;32m<ipython-input-7-83b57c3e2458>\u001b[0m in \u001b[0;36m<module>\u001b[0;34m\u001b[0m\n\u001b[1;32m      4\u001b[0m     \u001b[0;32mif\u001b[0m \u001b[0;34m'camera'\u001b[0m \u001b[0;32min\u001b[0m \u001b[0mfile\u001b[0m\u001b[0;34m:\u001b[0m\u001b[0;34m\u001b[0m\u001b[0m\n\u001b[1;32m      5\u001b[0m         \u001b[0;32mwith\u001b[0m \u001b[0mtiff\u001b[0m\u001b[0;34m.\u001b[0m\u001b[0mTiffFile\u001b[0m\u001b[0;34m(\u001b[0m\u001b[0mos\u001b[0m\u001b[0;34m.\u001b[0m\u001b[0mpath\u001b[0m\u001b[0;34m.\u001b[0m\u001b[0mjoin\u001b[0m\u001b[0;34m(\u001b[0m\u001b[0mpath\u001b[0m\u001b[0;34m,\u001b[0m\u001b[0mfile\u001b[0m\u001b[0;34m)\u001b[0m\u001b[0;34m)\u001b[0m \u001b[0;32mas\u001b[0m \u001b[0mtif\u001b[0m\u001b[0;34m:\u001b[0m\u001b[0;34m\u001b[0m\u001b[0m\n\u001b[0;32m----> 6\u001b[0;31m             \u001b[0mprint\u001b[0m\u001b[0;34m(\u001b[0m\u001b[0mmath\u001b[0m\u001b[0;34m.\u001b[0m\u001b[0mceil\u001b[0m\u001b[0;34m(\u001b[0m\u001b[0mlen\u001b[0m\u001b[0;34m(\u001b[0m\u001b[0mtif\u001b[0m\u001b[0;34m.\u001b[0m\u001b[0mpages\u001b[0m\u001b[0;34m)\u001b[0m\u001b[0;34m/\u001b[0m\u001b[0mdf\u001b[0m\u001b[0;34m.\u001b[0m\u001b[0miloc\u001b[0m\u001b[0;34m[\u001b[0m\u001b[0mi\u001b[0m\u001b[0;34m,\u001b[0m\u001b[0;36m2\u001b[0m\u001b[0;34m]\u001b[0m\u001b[0;34m)\u001b[0m\u001b[0;34m)\u001b[0m\u001b[0;34m\u001b[0m\u001b[0m\n\u001b[0m",
      "\u001b[0;31mNameError\u001b[0m: name 'df' is not defined"
     ]
    }
   ],
   "source": [
    "#volumes=len of pages/z_stacks\n",
    "#some of them are not integers: if z is an uneven number the last volume is not gonna have a full amount of stacks. this is why i round it up with math(ceil)\n",
    "for i,file in enumerate(natsorted(os.listdir(path))):\n",
    "    if 'camera' in file:\n",
    "        with tiff.TiffFile(os.path.join(path,file)) as tif:\n",
    "            print(math.ceil(len(tif.pages)/df.iloc[i,2]))"
   ]
  },
  {
   "cell_type": "code",
   "execution_count": null,
   "id": "affected-inspiration",
   "metadata": {},
   "outputs": [],
   "source": [
    "#i inserted the number of volumes manually in the csv, so i read it in again here\n",
    "filename='/groups/zimmer/Daniel_Mitic/code/imutils/imutils/zim443_dimensions.csv'\n",
    "df=pd.read_csv(filename,sep=';')"
   ]
  },
  {
   "cell_type": "markdown",
   "id": "renewable-sugar",
   "metadata": {},
   "source": [
    "# create the hyperstacks"
   ]
  },
  {
   "cell_type": "code",
   "execution_count": null,
   "id": "collectible-basis",
   "metadata": {},
   "outputs": [],
   "source": [
    "#inputs  make_hyperstack_from_ometif function\n",
    "path='/scratch/zimmer/DanielM/ZIm443/cam1/' #path with the folders containing the ome.tif\n",
    "output_file='/scratch/zimmer/DanielM/hyperstack_daniel/'\n",
    "dtype='uint16'\n",
    "imagej=True,\n",
    "metadata={'axes': 'TZYX'}"
   ]
  },
  {
   "cell_type": "code",
   "execution_count": null,
   "id": "rental-creator",
   "metadata": {},
   "outputs": [],
   "source": [
    "for i,file in enumerate(natsorted(glob.glob(path+'*camera*'))): \n",
    "    before,sep,name=file.partition('cam1/') #here i grab the name of the file\n",
    "    output=os.path.join(output_file+name+'.btf') #making sure the output files have different names\n",
    "    input_path=os.path.join(path+name+'/') #here i specify the input path as the subfolders which contain the ome.tifs\n",
    "    shape=tuple(df.iloc[i,1:5]) #iterate through the dataframe to get the corresponding shape for each recording\n",
    "    imfunctions.make_hyperstack_from_ometif(input_path,output,shape,dtype,imagej,metadata)\n",
    "print('done')"
   ]
  }
 ],
 "metadata": {
  "kernelspec": {
   "display_name": "Python [conda env:.conda-python-cvcourse]",
   "language": "python",
   "name": "conda-env-.conda-python-cvcourse-py"
  },
  "language_info": {
   "codemirror_mode": {
    "name": "ipython",
    "version": 3
   },
   "file_extension": ".py",
   "mimetype": "text/x-python",
   "name": "python",
   "nbconvert_exporter": "python",
   "pygments_lexer": "ipython3",
   "version": "3.6.6"
  }
 },
 "nbformat": 4,
 "nbformat_minor": 5
}
