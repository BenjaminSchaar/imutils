{
 "cells": [
  {
   "cell_type": "markdown",
   "id": "textile-bloom",
   "metadata": {},
   "source": [
    "# Hyperstack with memmap\n",
    "This notebook shows how to create an hyperstack from the ome tiff files or from a btf file.\n",
    "\n",
    "\n",
    "See: \n",
    "https://forum.image.sc/t/ome-tiff-z-stack-to-bigtiff/50964/7"
   ]
  },
  {
   "cell_type": "code",
   "execution_count": null,
   "id": "stunning-breath",
   "metadata": {},
   "outputs": [],
   "source": [
    "import tifffile as tiff\n",
    "import cv2\n",
    "import numpy as np\n",
    "import matplotlib.pyplot as plt\n",
    "import pandas as pd\n",
    "import csv\n",
    "import re\n",
    "\n",
    "import os\n",
    "from natsort import natsorted"
   ]
  },
  {
   "cell_type": "code",
   "execution_count": null,
   "id": "demographic-globe",
   "metadata": {},
   "outputs": [],
   "source": [
    "#create an empty TZYX ImageJ hyperstack\n",
    "new_hyperstack_path='/scratch/zimmer/DanielM/hyperstack/2021-07-01_15-08-56_worm3_on-channel-1-pco_camera2bigtiff.btf'\n",
    "hyperstack = tiff.memmap(\n",
    "    new_hyperstack_path,\n",
    "    shape=(4997, 20, 650,840),\n",
    "    dtype='uint16',\n",
    "    imagej=True,\n",
    "    metadata={'axes': 'TZYX'},\n",
    ")\n",
    "\n",
    "print('A new hyperstack with the type ',type(hyperstack), 'has been created. It has shape: ', hyperstack.shape)\n"
   ]
  },
  {
   "cell_type": "code",
   "execution_count": null,
   "id": "widespread-header",
   "metadata": {},
   "outputs": [],
   "source": [
    "#write entire ome.tiff into hyperstack"
   ]
  },
  {
   "cell_type": "code",
   "execution_count": null,
   "id": "pregnant-cliff",
   "metadata": {},
   "outputs": [],
   "source": [
    "path='/scratch/zimmer/DanielM/BAG_Gcamp_07_01/2021-07-01_15-08-56_worm3_on-channel-1-pco_camera2/'\n"
   ]
  },
  {
   "cell_type": "code",
   "execution_count": null,
   "id": "unique-conference",
   "metadata": {},
   "outputs": [],
   "source": [
    "c=0\n",
    "z_index=0\n",
    "t_index=0\n",
    "for file in natsorted(os.listdir(path)):\n",
    "    if file.endswith('ome.tif'):\n",
    "        print(os.path.join(path,file))\n",
    "        with tiff.TiffFile(os.path.join(path,file), multifile=False) as tif:\n",
    "            for idx,page in enumerate(tif.pages):\n",
    "                img = page.asarray()\n",
    "                hyperstack[t_index, z_index] = img\n",
    "                hyperstack.flush()\n",
    "                c=c+1\n",
    "                z_index=z_index+1\n",
    "                if z_index==20:\n",
    "                    z_index=0\n",
    "                    t_index=t_index+1"
   ]
  },
  {
   "cell_type": "markdown",
   "id": "respected-honduras",
   "metadata": {},
   "source": [
    "### As a function:\n",
    "I wrote now a function in the imutils package and it works:"
   ]
  },
  {
   "cell_type": "code",
   "execution_count": null,
   "id": "appropriate-entertainment",
   "metadata": {},
   "outputs": [],
   "source": [
    "from imutils.src import imfunctions"
   ]
  },
  {
   "cell_type": "code",
   "execution_count": null,
   "id": "auburn-softball",
   "metadata": {},
   "outputs": [],
   "source": [
    "input_path='/scratch/zimmer/DanielM/BAG_Gcamp_07_01/2021-07-01_15-08-56_worm3_on-channel-1-pco_camera2/'\n",
    "output_path='/scratch/zimmer/DanielM/hyperstack/function_test.btf'\n",
    "shape=(4997, 20, 650,840)\n",
    "dtype='uint16'\n",
    "imagej=True,\n",
    "metadata={'axes': 'TZYX'}"
   ]
  },
  {
   "cell_type": "code",
   "execution_count": null,
   "id": "nuclear-observation",
   "metadata": {},
   "outputs": [],
   "source": [
    "imfunctions.make_hyperstack_from_ometif(input_path,output_path,shape,dtype,imagej,metadata)"
   ]
  },
  {
   "cell_type": "markdown",
   "id": "noticed-distributor",
   "metadata": {},
   "source": [
    "### Write single plane"
   ]
  },
  {
   "cell_type": "code",
   "execution_count": null,
   "id": "improved-rover",
   "metadata": {},
   "outputs": [],
   "source": [
    "# write an image to the numpy.memmap array\n",
    "hyperstack[t_index, z_index] = image\n",
    "hyperstack.flush()"
   ]
  },
  {
   "cell_type": "markdown",
   "id": "revised-float",
   "metadata": {},
   "source": [
    "# making hyperstacks by iterating through a pandas with its dimensions\n",
    "since there are issuses with reding metadata form the tiff files I calculated and stored number of volumes, z number height and width of each recording in a dataframe."
   ]
  },
  {
   "cell_type": "markdown",
   "id": "realistic-stewart",
   "metadata": {},
   "source": [
    "## creating the dataframe"
   ]
  },
  {
   "cell_type": "code",
   "execution_count": 1,
   "id": "injured-tobago",
   "metadata": {
    "collapsed": true,
    "jupyter": {
     "outputs_hidden": true
    }
   },
   "outputs": [
    {
     "ename": "NameError",
     "evalue": "name 'natsorted' is not defined",
     "output_type": "error",
     "traceback": [
      "\u001b[0;31m---------------------------------------------------------------------------\u001b[0m",
      "\u001b[0;31mNameError\u001b[0m                                 Traceback (most recent call last)",
      "\u001b[0;32m<ipython-input-1-8ca4d881b0e0>\u001b[0m in \u001b[0;36m<module>\u001b[0;34m\u001b[0m\n\u001b[1;32m      1\u001b[0m \u001b[0;31m#getting file names\u001b[0m\u001b[0;34m\u001b[0m\u001b[0;34m\u001b[0m\u001b[0;34m\u001b[0m\u001b[0m\n\u001b[1;32m      2\u001b[0m \u001b[0mpath\u001b[0m\u001b[0;34m=\u001b[0m\u001b[0;34m'/scratch/zimmer/DanielM/ZIm443/flurescence_btiffs/cam1/'\u001b[0m\u001b[0;34m\u001b[0m\u001b[0;34m\u001b[0m\u001b[0m\n\u001b[0;32m----> 3\u001b[0;31m \u001b[0;32mfor\u001b[0m \u001b[0mfile\u001b[0m \u001b[0;32min\u001b[0m \u001b[0mnatsorted\u001b[0m\u001b[0;34m(\u001b[0m\u001b[0mos\u001b[0m\u001b[0;34m.\u001b[0m\u001b[0mlistdir\u001b[0m\u001b[0;34m(\u001b[0m\u001b[0mpath\u001b[0m\u001b[0;34m)\u001b[0m\u001b[0;34m)\u001b[0m\u001b[0;34m:\u001b[0m\u001b[0;34m\u001b[0m\u001b[0;34m\u001b[0m\u001b[0m\n\u001b[0m\u001b[1;32m      4\u001b[0m     \u001b[0;32mif\u001b[0m \u001b[0mfile\u001b[0m\u001b[0;34m.\u001b[0m\u001b[0mendswith\u001b[0m\u001b[0;34m(\u001b[0m\u001b[0;34m'.btf'\u001b[0m\u001b[0;34m)\u001b[0m\u001b[0;34m:\u001b[0m\u001b[0;34m\u001b[0m\u001b[0;34m\u001b[0m\u001b[0m\n\u001b[1;32m      5\u001b[0m         \u001b[0mbefore\u001b[0m\u001b[0;34m,\u001b[0m\u001b[0msep\u001b[0m\u001b[0;34m,\u001b[0m\u001b[0mafter\u001b[0m\u001b[0;34m=\u001b[0m\u001b[0mfile\u001b[0m\u001b[0;34m.\u001b[0m\u001b[0mpartition\u001b[0m\u001b[0;34m(\u001b[0m\u001b[0;34m'-channel'\u001b[0m\u001b[0;34m)\u001b[0m\u001b[0;34m\u001b[0m\u001b[0;34m\u001b[0m\u001b[0m\n",
      "\u001b[0;31mNameError\u001b[0m: name 'natsorted' is not defined"
     ]
    }
   ],
   "source": [
    "#getting file names\n",
    "path='/scratch/zimmer/DanielM/ZIm443/flurescence_btiffs/cam1/'\n",
    "for file in natsorted(os.listdir(path)):\n",
    "    if file.endswith('.btf'):\n",
    "        before,sep,after=file.partition('-channel')\n",
    "        print(before)"
   ]
  },
  {
   "cell_type": "code",
   "execution_count": 2,
   "id": "subjective-bulgarian",
   "metadata": {
    "collapsed": true,
    "jupyter": {
     "outputs_hidden": true
    }
   },
   "outputs": [
    {
     "ename": "NameError",
     "evalue": "name 'pd' is not defined",
     "output_type": "error",
     "traceback": [
      "\u001b[0;31m---------------------------------------------------------------------------\u001b[0m",
      "\u001b[0;31mNameError\u001b[0m                                 Traceback (most recent call last)",
      "\u001b[0;32m<ipython-input-2-50c63783363f>\u001b[0m in \u001b[0;36m<module>\u001b[0;34m\u001b[0m\n\u001b[1;32m      1\u001b[0m \u001b[0;31m#read in csv with filenames and z number which i got from onenote, as well as h and w which are constant\u001b[0m\u001b[0;34m\u001b[0m\u001b[0;34m\u001b[0m\u001b[0;34m\u001b[0m\u001b[0m\n\u001b[1;32m      2\u001b[0m \u001b[0mfilename\u001b[0m\u001b[0;34m=\u001b[0m\u001b[0;34m'/groups/zimmer/Daniel_Mitic/code/imutils/imutils/zim443_dimensions.csv'\u001b[0m\u001b[0;34m\u001b[0m\u001b[0;34m\u001b[0m\u001b[0m\n\u001b[0;32m----> 3\u001b[0;31m \u001b[0mdf\u001b[0m\u001b[0;34m=\u001b[0m\u001b[0mpd\u001b[0m\u001b[0;34m.\u001b[0m\u001b[0mread_csv\u001b[0m\u001b[0;34m(\u001b[0m\u001b[0mfilename\u001b[0m\u001b[0;34m,\u001b[0m\u001b[0msep\u001b[0m\u001b[0;34m=\u001b[0m\u001b[0;34m';'\u001b[0m\u001b[0;34m)\u001b[0m\u001b[0;34m\u001b[0m\u001b[0;34m\u001b[0m\u001b[0m\n\u001b[0m",
      "\u001b[0;31mNameError\u001b[0m: name 'pd' is not defined"
     ]
    }
   ],
   "source": [
    "#read in csv with filenames and z number which i got from onenote, as well as h and w which are constant\n",
    "filename='/groups/zimmer/Daniel_Mitic/code/imutils/imutils/zim443_dimensions.csv'\n",
    "df=pd.read_csv(filename,sep=';')"
   ]
  },
  {
   "cell_type": "code",
   "execution_count": null,
   "id": "interstate-roman",
   "metadata": {},
   "outputs": [],
   "source": [
    "#getting the number of volumes\n",
    "path='/scratch/zimmer/DanielM/ZIm443/flurescence_btiffs/cam1/'"
   ]
  },
  {
   "cell_type": "code",
   "execution_count": null,
   "id": "global-january",
   "metadata": {},
   "outputs": [],
   "source": [
    "#volumes=len of pages/z_stacks\n",
    "#some of them are not integers: if z is an uneven number the last volume is not gonna have a full amount of stacks. this is why i round it up with math(ceil)\n",
    "for i,file in enumerate(natsorted(os.listdir(path))):\n",
    "    if 'camera' in file:\n",
    "        with tiff.TiffFile(os.path.join(path,file)) as tif:\n",
    "            print(math.ceil(len(tif.pages)/df.iloc[i,2]))"
   ]
  },
  {
   "cell_type": "code",
   "execution_count": null,
   "id": "false-restriction",
   "metadata": {},
   "outputs": [],
   "source": [
    "#i inserted the number of volumes manually in the csv, so i read it in again here\n",
    "filename='/groups/zimmer/Daniel_Mitic/code/imutils/imutils/zim443_dimensions.csv'\n",
    "df=pd.read_csv(filename,sep=';')"
   ]
  },
  {
   "cell_type": "markdown",
   "id": "professional-fusion",
   "metadata": {},
   "source": [
    "# create the hyperstacks"
   ]
  },
  {
   "cell_type": "code",
   "execution_count": null,
   "id": "opened-galaxy",
   "metadata": {},
   "outputs": [],
   "source": [
    "#inputs for ulises make_hyperstack_from_ometif function\n",
    "path='/scratch/zimmer/DanielM/ZIm443/cam1/' #path with the folders containing the ome.tif\n",
    "output_file='/scratch/zimmer/DanielM/hyperstack_daniel/'\n",
    "dtype='uint16'\n",
    "imagej=True,\n",
    "metadata={'axes': 'TZYX'}"
   ]
  },
  {
   "cell_type": "code",
   "execution_count": null,
   "id": "entertaining-fraud",
   "metadata": {},
   "outputs": [],
   "source": [
    "for i,file in enumerate(natsorted(glob.glob(path+'*camera*'))): \n",
    "    before,sep,name=file.partition('cam1/') #here i grab the name of the file\n",
    "    output=os.path.join(output_file+name+'.btf') #making sure the output files have different names\n",
    "    input_path=os.path.join(path+name+'/') #here i specify the input path as the subfolders which contain the ome.tifs\n",
    "    shape=tuple(df.iloc[i,1:5]) #iterate through the dataframe to get the corresponding shape for each recording\n",
    "    imfunctions.make_hyperstack_from_ometif(input_path,output,shape,dtype,imagej,metadata)\n",
    "print('done')"
   ]
  }
 ],
 "metadata": {
  "kernelspec": {
   "display_name": "Python [conda env:.conda-openCV]",
   "language": "python",
   "name": "conda-env-.conda-openCV-py"
  },
  "language_info": {
   "codemirror_mode": {
    "name": "ipython",
    "version": 3
   },
   "file_extension": ".py",
   "mimetype": "text/x-python",
   "name": "python",
   "nbconvert_exporter": "python",
   "pygments_lexer": "ipython3",
   "version": "3.7.7"
  }
 },
 "nbformat": 4,
 "nbformat_minor": 5
}
