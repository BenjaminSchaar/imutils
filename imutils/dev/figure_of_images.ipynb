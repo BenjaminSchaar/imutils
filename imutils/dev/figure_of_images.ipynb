{
 "cells": [
  {
   "cell_type": "code",
   "execution_count": null,
   "id": "instant-charity",
   "metadata": {},
   "outputs": [],
   "source": [
    "#Figure of images"
   ]
  },
  {
   "cell_type": "code",
   "execution_count": null,
   "id": "unable-finance",
   "metadata": {},
   "outputs": [],
   "source": [
    "#import pckgs\n",
    "import cv2\n",
    "import tifffile as tiff\n",
    "import numpy as np\n",
    "import matplotlib.pyplot as plt\n",
    "import pandas as pd\n",
    "import os\n",
    "from natsort import natsorted\n",
    "import re\n",
    "import csv\n",
    "import seaborn as sns"
   ]
  },
  {
   "cell_type": "code",
   "execution_count": null,
   "id": "soviet-classroom",
   "metadata": {},
   "outputs": [],
   "source": [
    "#visualize many images\n",
    "path='/scratch/zimmer/Ulises_temp/OD20_vs_OD10/PROJ/20210531/'\n",
    "path='/groups/zimmer/Ulises/code/unet-master/data/worm/training_results/23960840_w_validation500steps_10epochs/'\n",
    "\n",
    "def make_composite(path, nrows=5, ncols=4, figsize=(5,5), dpi=50):\n",
    "    \"\"\"\n",
    "    Parameters:\n",
    "    -----------\n",
    "    path, str\n",
    "    nrows, int\n",
    "    ncols, int\n",
    "    figsize, tuple of int\n",
    "    dpi, int\n",
    "    Returns:\n",
    "    -----------\n",
    "    Fig object\n",
    "    \"\"\"\n",
    "    fig, axes=plt.subplots(nrows=nrows, ncols=ncols,figsize=figsize, dpi=dpi)#65#80\n",
    "    \n",
    "    fig.subplots_adjust(wspace=0, hspace=0)\n",
    "\n",
    "    filenames=natsorted(os.listdir(path))\n",
    "\n",
    "    i=0\n",
    "    for r in np.arange(nrows):\n",
    "        for c in np.arange(ncols):\n",
    "            img=cv2.imread(os.path.join(path,filenames[i]),0)\n",
    "            #img=np.bitwise_not(img)\n",
    "            #print(filenames[i])\n",
    "            i=i+1\n",
    "            axes[r,c].imshow(img, cmap='PuBuGn', vmin=25)   \n",
    "            #print(type(ax))\n",
    "            #print((ax.shape))\n",
    "            axes[r,c].imshow(img),# vmin=100, vmax=255)\n",
    "            #axes[r,c].set_aspect('equal')\n",
    "    #         if i<=ncols:\n",
    "    #             axes[r,c].set_title('OD10',{'fontsize': 6})\n",
    "    #         elif i>ncols:\n",
    "    #             axes[r,c].set_title('OD20',{'fontsize': 6})\n",
    "            #axes[r,c].set_xlim(45, 205)\n",
    "            #axes[r,c].set_ylim(45, 205)\n",
    "            axes[r,c].axis('off')\n",
    "    return fig"
   ]
  },
  {
   "cell_type": "code",
   "execution_count": null,
   "id": "sophisticated-robertson",
   "metadata": {},
   "outputs": [],
   "source": [
    "import numpy as np\n",
    "np.sqrt(80)"
   ]
  },
  {
   "cell_type": "code",
   "execution_count": null,
   "id": "alive-killer",
   "metadata": {},
   "outputs": [],
   "source": [
    "path='/groups/zimmer/Ulises/code/unet-master/data/a_new_crop_worm_eroded/'\n",
    "for directory, subdirectories, files in os.walk(path):\n",
    "    for subdirectory in subdirectories:\n",
    "        if 'test' not in subdirectory: continue\n",
    "        print(subdirectory)\n",
    "        make_composite(os.path.join(directory,subdirectory), nrows=8, ncols=8, figsize=(8,8), dpi=100)\n",
    "        #break"
   ]
  },
  {
   "cell_type": "code",
   "execution_count": null,
   "id": "awful-nitrogen",
   "metadata": {},
   "outputs": [],
   "source": [
    "path='/scratch/zimmer/Ulises_temp/OD20_vs_OD10//'\n",
    "\n",
    "plt.figure(figsize=(4,2), dpi=300)#65#80\n",
    "\n",
    "\n",
    "filenames=natsorted(os.listdir(path))\n",
    "\n",
    "for file in filenames:\n",
    "    print(file)\n",
    "    if file.endswith('.tiff'):\n",
    "        print(file)\n",
    "        img=cv2.imread(os.path.join(path,file),0)\n",
    "\n",
    "        plt.imshow(img, vmin=25)\n",
    "        plt.axis('off')\n",
    "        plt.show()\n",
    "#    imshow(img, )   "
   ]
  },
  {
   "cell_type": "code",
   "execution_count": null,
   "id": "laden-yahoo",
   "metadata": {},
   "outputs": [],
   "source": []
  }
 ],
 "metadata": {
  "kernelspec": {
   "display_name": "Python [conda env:anaconda3-openCV]",
   "language": "python",
   "name": "conda-env-anaconda3-openCV-py"
  },
  "language_info": {
   "codemirror_mode": {
    "name": "ipython",
    "version": 3
   },
   "file_extension": ".py",
   "mimetype": "text/x-python",
   "name": "python",
   "nbconvert_exporter": "python",
   "pygments_lexer": "ipython3",
   "version": "3.7.9"
  }
 },
 "nbformat": 4,
 "nbformat_minor": 5
}
