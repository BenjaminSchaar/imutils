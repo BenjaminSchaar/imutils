{
 "cells": [
  {
   "cell_type": "code",
   "execution_count": null,
   "id": "static-award",
   "metadata": {},
   "outputs": [],
   "source": [
    "#This notebook contains imutils to prepare data to Train Unet.\n",
    "#Or other things too "
   ]
  },
  {
   "cell_type": "code",
   "execution_count": 3,
   "id": "original-intention",
   "metadata": {},
   "outputs": [],
   "source": [
    "import tifffile as tiff\n",
    "from natsort import natsorted\n",
    "import os\n",
    "import numpy as np\n",
    "import matplotlib.pyplot as plt\n",
    "from mpl_toolkits.axes_grid1 import make_axes_locatable\n",
    "import cv2\n",
    "from imutils.src import imfunctions #contours_length as imutils.contours_length\n",
    "from natsort import natsorted\n",
    "import shutil"
   ]
  },
  {
   "cell_type": "code",
   "execution_count": null,
   "id": "offensive-packet",
   "metadata": {},
   "outputs": [],
   "source": [
    "#First part: extract frames\n",
    "frames2extract=np.arange(0,200000,17777)#(0,200000,10000)\n",
    "input_folder='/groups/zimmer/Ulises/wbfm/chemotaxis_assay/2020_Only_behaviour/btf_all/'\n",
    "output_folder='/groups/zimmer/Ulises/code/unet-master/data/data_preparation/new_test/'\n",
    "try: os.mkdir(output_folder) # creates the subdirectory where it should be stored\n",
    "except: print('Output Directory already exists, might overwrite')\n",
    "\n",
    "for btf_file in natsorted(os.listdir(input_folder)):\n",
    "    print(btf_file)\n",
    "    if '2020-07' in btf_file:\n",
    "        print(btf_file)\n",
    "        btf_file_basename=os.path.splitext(os.path.basename(btf_file))[0]\n",
    "        print(btf_file_basename)\n",
    "        imfunctions.extract_frames(os.path.join(input_folder,btf_file), os.path.join(output_folder,btf_file_basename),frames2extract)\n",
    "        print('end')"
   ]
  },
  {
   "cell_type": "code",
   "execution_count": null,
   "id": "handed-graham",
   "metadata": {},
   "outputs": [],
   "source": [
    "#add zeros (just in case)\n",
    "path='/groups/zimmer/Ulises/code/unet-master/data/data_preparation/new_test/'\n",
    "for dirpath, _, files in os.walk(path):\n",
    "    print(dirpath)\n",
    "    imfunctions.add_zeros_to_filename(dirpath, 6)"
   ]
  },
  {
   "cell_type": "code",
   "execution_count": null,
   "id": "expired-canadian",
   "metadata": {},
   "outputs": [],
   "source": [
    "#rename to have unique names (prepend folder name into file name)\n",
    "path='/groups/zimmer/Ulises/code/unet-master/data/data_preparation/new_test/'\n",
    "for dirpath, _, files in os.walk(path):\n",
    "    for f in files:\n",
    "        os.rename(os.path.join(dirpath, f), os.path.join(dirpath, os.path.split(dirpath)[-1] + '_' + f))"
   ]
  },
  {
   "cell_type": "code",
   "execution_count": null,
   "id": "boring-plymouth",
   "metadata": {},
   "outputs": [],
   "source": [
    "#copy all files from subfolders into a new single folder\n",
    "path='/groups/zimmer/Ulises/code/unet-master/data/data_preparation/new_test/'\n",
    "dst_path='/groups/zimmer/Ulises/code/unet-master/data/data_preparation/new_test_all/'\n",
    "\n",
    "try: os.mkdir(dst_path) # creates the subdirectory where it should be stored\n",
    "except: print('Output Directory already exists, might overwrite')\n",
    "\n",
    "for directory, subdirectories, files in os.walk(path):\n",
    "    for file in files:\n",
    "        #print(file)\n",
    "        shutil.copyfile(os.path.join(directory,file),os.path.join(dst_path,file))\n"
   ]
  },
  {
   "cell_type": "code",
   "execution_count": 8,
   "id": "falling-saver",
   "metadata": {},
   "outputs": [],
   "source": [
    "#substract background if wanted\n",
    "\n",
    "bg_img_filename='/groups/zimmer/Ulises/wbfm/chemotaxis_assay/2020_Only_behaviour/background/2020-07-01_13-42-05_chemotaxisl_worm1_bg-channel-0-_MMStack_Median_BG.tiff'\n",
    "bg_img=tiff.imread(bg_img_filename)\n",
    "\n",
    "path='/groups/zimmer/Ulises/code/unet-master/data/worm2/test2/'\n",
    "\n",
    "#this code is flexible to files being in separate folders\n",
    "for directory, subdirectories, files in os.walk(path):\n",
    "    for file in files:\n",
    "        filepath=os.path.join(directory,file)\n",
    "        img=tiff.imread(filepath)\n",
    "        inv_img=cv2.bitwise_not(img)\n",
    "        new_img=cv2.subtract(inv_img,bg_img)\n",
    "        tiff.imwrite(filepath,new_img)"
   ]
  },
  {
   "cell_type": "code",
   "execution_count": null,
   "id": "graduate-naples",
   "metadata": {},
   "outputs": [],
   "source": [
    "#Use draw_some_contours function to extract interesting contours\n",
    "path='/groups/zimmer/Ulises/code/unet-master/data/data_preparation/new_training_all_image/'\n",
    "\n",
    "for directory, subdirectories, files in os.walk(path):\n",
    "    for file in files:\n",
    "        filepath=os.path.join(directory,file)\n",
    "        img=tiff.imread(filepath)\n",
    "        #median Blur\n",
    "        img=cv2.medianBlur(img,5)\n",
    "       \n",
    "        #apply threshold\n",
    "        ret, new_img = cv2.threshold(img,20,255,cv2.THRESH_BINARY)\n",
    "        worm_contour_img=imfunctions.draw_some_contours(new_img,contour_size=8000,tolerance=0.25, inner_contour_area_to_fill=300)\n",
    "        \n",
    "        #if you want to plot the different stages\n",
    "        #plotting\n",
    "#         fig, (ax1,ax2)=plt.subplots(figsize=(10,5), nrows=1, ncols=2, dpi=100)\n",
    "#         im=ax1.imshow(img)\n",
    "#         divider = make_axes_locatable(ax1)\n",
    "#         cax = divider.append_axes('right', size='5%', pad=0.05)\n",
    "#         fig.colorbar(im, cax=cax, orientation='vertical')\n",
    "#         ax2.imshow(worm_contour_img)\n",
    "#         [axi.set_axis_off() for axi in (ax1,ax2)]\n",
    "        \n",
    "        tiff.imwrite(filepath,worm_contour_img)"
   ]
  },
  {
   "cell_type": "code",
   "execution_count": null,
   "id": "absolute-creator",
   "metadata": {},
   "outputs": [],
   "source": [
    "#convert to stack if wanted to screen for masks that need improvement (eg remove bubble)\n",
    "path='/groups/zimmer/Ulises/code/unet-master/data/new_training_all_image/'\n",
    "o_path='/groups/zimmer/Ulises/code/unet-master/data/new_training_all_stack.tif'\n",
    "imfunctions.images2stack(path, o_path)"
   ]
  },
  {
   "cell_type": "code",
   "execution_count": 7,
   "id": "administrative-patient",
   "metadata": {},
   "outputs": [
    {
     "name": "stdout",
     "output_type": "stream",
     "text": [
      "53 2020-07-01_14-41-11_chemotaxisl_worm2-channel-0-bigtiff_img071108.tif\n",
      "76 2020-07-01_16-20-36_chemotaxisl_worm5-channel-0-bigtiff_img053331.tif\n",
      "98 2020-07-01_17-32-12_control_worm4-channel-0-bigtiff_img017777.tif\n"
     ]
    }
   ],
   "source": [
    "#manually annotate frames to correct\n",
    "path='/groups/zimmer/Ulises/code/unet-master/data/worm2_background_removed/test/'\n",
    "idxs=[53,76,98]#[15,67,80,89,92,113,157,158,169]\n",
    "#get their filename\n",
    "for idx,file in enumerate(natsorted(os.listdir(path))):\n",
    "    #add +1 if idxs are starting from 1\n",
    "    if idx+1 in idxs:\n",
    "        print(idx+1, file)"
   ]
  },
  {
   "cell_type": "code",
   "execution_count": null,
   "id": "sublime-feedback",
   "metadata": {},
   "outputs": [],
   "source": []
  }
 ],
 "metadata": {
  "kernelspec": {
   "display_name": "Python [conda env:anaconda3-openCV]",
   "language": "python",
   "name": "conda-env-anaconda3-openCV-py"
  },
  "language_info": {
   "codemirror_mode": {
    "name": "ipython",
    "version": 3
   },
   "file_extension": ".py",
   "mimetype": "text/x-python",
   "name": "python",
   "nbconvert_exporter": "python",
   "pygments_lexer": "ipython3",
   "version": "3.7.9"
  }
 },
 "nbformat": 4,
 "nbformat_minor": 5
}
