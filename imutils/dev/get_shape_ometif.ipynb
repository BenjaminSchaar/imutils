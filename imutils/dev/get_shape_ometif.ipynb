{
 "cells": [
  {
   "cell_type": "markdown",
   "id": "dressed-supplier",
   "metadata": {},
   "source": [
    "# Get Ome tiff Medatada\n",
    "Attempt to obtain the metadata from ometiff files.\n",
    "\n",
    "We tried later with Lukas and Charlie and we did not manage.\n",
    "\n",
    "It seems that the apeer package should do it, but somehow it fails with our data.\n",
    "\n",
    "https://github.com/apeer-micro/apeer-ometiff-library\n",
    "\n",
    "\n",
    "This is done in the omexmlClass, which gets the metadata from ometiff as xml\n",
    "\n",
    "https://github.com/apeer-micro/apeer-ometiff-library/blob/master/apeer_ometiff_library/omexmlClass.py"
   ]
  },
  {
   "cell_type": "code",
   "execution_count": null,
   "id": "continent-camel",
   "metadata": {},
   "outputs": [],
   "source": [
    "#import pckgs\n",
    "import cv2\n",
    "import tifffile as tiff\n",
    "import numpy as np\n",
    "import matplotlib.pyplot as plt\n",
    "import pandas as pd\n",
    "import csv\n",
    "import re\n",
    "\n",
    "import os\n",
    "from natsort import natsorted"
   ]
  },
  {
   "cell_type": "markdown",
   "id": "basic-verse",
   "metadata": {},
   "source": [
    "The following attemps fail because it gives the error can't read:\n",
    "``` python\n",
    "OME series: invalid TiffData index\n",
    "```"
   ]
  },
  {
   "cell_type": "code",
   "execution_count": null,
   "id": "relevant-virginia",
   "metadata": {},
   "outputs": [],
   "source": [
    "file_path='/scratch/zimmer/DanielM/test/2021-07-01_15-08-56_worm3_on-channel-0-pco_camera1/2021-07-01_15-08-56_worm3_on-channel-0-pco_camera1_MMStack_1.ome.tif'\n",
    "\n",
    "with tiff.TiffFile(file_path, multifile=True) as tif:\n",
    "    print('len of series', len(tif.series))\n",
    "    \n",
    "    print(len(tif.pages))\n",
    "    for i, page in enumerate(tif.pages):\n",
    "        \n",
    "        img=page.asarray()\n",
    "        #plt.imshow(img)\n",
    "    print(i)\n",
    "        #break"
   ]
  },
  {
   "cell_type": "code",
   "execution_count": null,
   "id": "pretty-shopping",
   "metadata": {},
   "outputs": [],
   "source": [
    "file_path='/scratch/zimmer/DanielM/bag20210807/2021-07-08_15-48-52_worm1_onfood-channel-0-pco_camera1/2021-07-08_15-48-52_worm1_onfood-channel-0-pco_camera1_MMStack.ome.tif'\n",
    "\n",
    "with tiff.TiffFile(file_path, multifile=False) as tif:\n",
    "    tif.series[0].pages.shape"
   ]
  },
  {
   "cell_type": "code",
   "execution_count": null,
   "id": "adverse-longitude",
   "metadata": {},
   "outputs": [],
   "source": []
  }
 ],
 "metadata": {
  "kernelspec": {
   "display_name": "Python [conda env:anaconda3-openCV]",
   "language": "python",
   "name": "conda-env-anaconda3-openCV-py"
  },
  "language_info": {
   "codemirror_mode": {
    "name": "ipython",
    "version": 3
   },
   "file_extension": ".py",
   "mimetype": "text/x-python",
   "name": "python",
   "nbconvert_exporter": "python",
   "pygments_lexer": "ipython3",
   "version": "3.7.9"
  }
 },
 "nbformat": 4,
 "nbformat_minor": 5
}
