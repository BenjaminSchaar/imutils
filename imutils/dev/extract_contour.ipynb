{
 "cells": [
  {
   "cell_type": "code",
   "execution_count": null,
   "id": "smooth-occupation",
   "metadata": {},
   "outputs": [],
   "source": [
    "#crop and paste and image"
   ]
  },
  {
   "cell_type": "code",
   "execution_count": 37,
   "id": "serious-spray",
   "metadata": {},
   "outputs": [],
   "source": [
    "import tifffile as tiff\n",
    "from natsort import natsorted\n",
    "import os\n",
    "import numpy as np\n",
    "import matplotlib.pyplot as plt\n",
    "from mpl_toolkits.axes_grid1 import make_axes_locatable\n",
    "import cv2\n",
    "from imutils.src import imfunctions #contours_length as imutils.contours_length\n",
    "from natsort import natsorted\n",
    "import shutil\n",
    "import pandas as pd"
   ]
  },
  {
   "cell_type": "code",
   "execution_count": 11,
   "id": "medical-start",
   "metadata": {},
   "outputs": [],
   "source": [
    "img_path='2020-07-01_17-32-12_control_worm4-channel-0-bigtiff_img017777.tif'\n",
    "img=tiff.imread(img_path)"
   ]
  },
  {
   "cell_type": "code",
   "execution_count": 29,
   "id": "awful-tradition",
   "metadata": {},
   "outputs": [],
   "source": [
    "#median Blur\n",
    "img=cv2.medianBlur(img,5)\n",
    "\n",
    "#apply threshold\n",
    "ret, new_img = cv2.threshold(img,20,255,cv2.THRESH_BINARY)\n",
    "#get some contours\n",
    "worm_contour_img=imfunctions.draw_some_contours(new_img,contour_size=8000,tolerance=0.25, inner_contour_area_to_fill=300)"
   ]
  },
  {
   "cell_type": "code",
   "execution_count": 66,
   "id": "insured-philosophy",
   "metadata": {},
   "outputs": [
    {
     "name": "stdout",
     "output_type": "stream",
     "text": [
      "2\n"
     ]
    }
   ],
   "source": [
    "#find external contours on the binary image\n",
    "_,cnts,hierarchy=cv2.findContours(worm_contour_img,cv2.RETR_EXTERNAL,cv2.CHAIN_APPROX_SIMPLE)\n",
    "#draw them\n",
    "print(len(cnts))\n",
    "#loop through contours\n",
    "coordinates_dict={'x',\n",
    "                 'y',\n",
    "                 'width',\n",
    "                 'height'}\n",
    "\n",
    "for cnt_idx,cnt in enumerate(cnts):\n",
    "    #create an empty image equal to the source\n",
    "    #cnt_img=np.zeros(shape=img.shape)\n",
    "    #draw the contours on it\n",
    "    cv2.drawContours(cnt_img, cnts, np.array(cnt_idx),0,-1)\n",
    "    #get the boundingrectangle of the contour\n",
    "    x,y,w,h = cv2.boundingRect(cnt)\n",
    "    \n",
    "    cnt_img=cnt_img[y:y+h,x:x+w]\n",
    "    tiff.imwrite(img_path+str(cnt_idx),cnt_img)\n",
    "# cnt_img2=np.zeros(shape=img.shape)\n",
    "# cnt_img2[y:y+h,x:x+w]=cnt_img\n",
    "# plt.imshow(cnt_img2)\n",
    "# plt.show()\n",
    "    coordinates_dict={'x': [x],\n",
    "                     'y': [y],\n",
    "                     'width': [w],\n",
    "                     'height': [h]}\n",
    "df=pd.DataFrame(coordinates_dict)\n",
    "df.head(1)\n",
    "df.to_csv('coordinates_img.csv')\n",
    "tiff.imwrite('img.tif',cnt_img2)\n"
   ]
  },
  {
   "cell_type": "code",
   "execution_count": 67,
   "id": "naughty-tutorial",
   "metadata": {},
   "outputs": [
    {
     "data": {
      "text/html": [
       "<div>\n",
       "<style scoped>\n",
       "    .dataframe tbody tr th:only-of-type {\n",
       "        vertical-align: middle;\n",
       "    }\n",
       "\n",
       "    .dataframe tbody tr th {\n",
       "        vertical-align: top;\n",
       "    }\n",
       "\n",
       "    .dataframe thead th {\n",
       "        text-align: right;\n",
       "    }\n",
       "</style>\n",
       "<table border=\"1\" class=\"dataframe\">\n",
       "  <thead>\n",
       "    <tr style=\"text-align: right;\">\n",
       "      <th></th>\n",
       "      <th>x</th>\n",
       "      <th>y</th>\n",
       "      <th>width</th>\n",
       "      <th>height</th>\n",
       "    </tr>\n",
       "  </thead>\n",
       "  <tbody>\n",
       "    <tr>\n",
       "      <th>0</th>\n",
       "      <td>195</td>\n",
       "      <td>68</td>\n",
       "      <td>289</td>\n",
       "      <td>138</td>\n",
       "    </tr>\n",
       "  </tbody>\n",
       "</table>\n",
       "</div>"
      ],
      "text/plain": [
       "     x   y  width  height\n",
       "0  195  68    289     138"
      ]
     },
     "execution_count": 67,
     "metadata": {},
     "output_type": "execute_result"
    }
   ],
   "source": [
    "df"
   ]
  },
  {
   "cell_type": "code",
   "execution_count": 17,
   "id": "smart-delhi",
   "metadata": {},
   "outputs": [
    {
     "data": {
      "text/plain": [
       "(-0.5, 607.5, 609.5, -0.5)"
      ]
     },
     "execution_count": 17,
     "metadata": {},
     "output_type": "execute_result"
    },
    {
     "data": {
      "image/png": "[encoded data removed]",
      "text/plain": [
       "<Figure size 600x400 with 1 Axes>"
      ]
     },
     "metadata": {
      "needs_background": "light"
     },
     "output_type": "display_data"
    }
   ],
   "source": [
    "plt.figure(dpi=100)\n",
    "plt.imshow(worm_contour_img)\n",
    "plt.axis('off')"
   ]
  },
  {
   "cell_type": "code",
   "execution_count": null,
   "id": "separate-international",
   "metadata": {},
   "outputs": [],
   "source": []
  }
 ],
 "metadata": {
  "kernelspec": {
   "display_name": "Python [conda env:anaconda3-openCV]",
   "language": "python",
   "name": "conda-env-anaconda3-openCV-py"
  },
  "language_info": {
   "codemirror_mode": {
    "name": "ipython",
    "version": 3
   },
   "file_extension": ".py",
   "mimetype": "text/x-python",
   "name": "python",
   "nbconvert_exporter": "python",
   "pygments_lexer": "ipython3",
   "version": "3.7.9"
  }
 },
 "nbformat": 4,
 "nbformat_minor": 5
}
