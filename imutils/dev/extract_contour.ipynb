{
 "cells": [
  {
   "cell_type": "markdown",
   "id": "lesser-investigator",
   "metadata": {},
   "source": [
    "# Extract Contours\n",
    "This notebook was a rehearsal to extract contours from an image and paste them again.\n",
    "With the idea of doing some processing in between to the crop, like Unet-segmentation.\n"
   ]
  },
  {
   "cell_type": "markdown",
   "id": "statistical-librarian",
   "metadata": {},
   "source": [
    "#### Part 1 - Extract the contours"
   ]
  },
  {
   "cell_type": "code",
   "execution_count": null,
   "id": "proprietary-terminology",
   "metadata": {},
   "outputs": [],
   "source": [
    "import tifffile as tiff\n",
    "from natsort import natsorted\n",
    "import os\n",
    "import numpy as np\n",
    "import matplotlib.pyplot as plt\n",
    "from mpl_toolkits.axes_grid1 import make_axes_locatable\n",
    "import cv2\n",
    "from imutils.src import imfunctions #contours_length as imutils.contours_length\n",
    "from natsort import natsorted\n",
    "import shutil\n",
    "import pandas as pd\n",
    "import glob"
   ]
  },
  {
   "cell_type": "code",
   "execution_count": null,
   "id": "confused-background",
   "metadata": {},
   "outputs": [],
   "source": [
    "img_path='2020-07-01_17-32-12_control_worm4-channel-0-bigtiff_img017777.tif'\n",
    "#img_path='image_0_151189.png'\n",
    "img=cv2.imread(img_path,0)\n",
    "print(img.shape)"
   ]
  },
  {
   "cell_type": "code",
   "execution_count": null,
   "id": "received-postcard",
   "metadata": {},
   "outputs": [],
   "source": [
    "#image basename\n",
    "img_basename=os.path.splitext(os.path.basename(img_path))[0]\n",
    "print(img_basename)"
   ]
  },
  {
   "cell_type": "code",
   "execution_count": null,
   "id": "sensitive-irish",
   "metadata": {},
   "outputs": [],
   "source": [
    "plt.imshow(img)"
   ]
  },
  {
   "cell_type": "code",
   "execution_count": null,
   "id": "romantic-medline",
   "metadata": {},
   "outputs": [],
   "source": [
    "#median Blur\n",
    "img=cv2.medianBlur(img,5)\n",
    "\n",
    "#apply threshold\n",
    "ret, new_img = cv2.threshold(img,20,255,cv2.THRESH_BINARY)\n",
    "#get some contours\n",
    "worm_contour_img=imfunctions.draw_some_contours(new_img,contour_size=8000,tolerance=0.25, inner_contour_area_to_fill=300)"
   ]
  },
  {
   "cell_type": "code",
   "execution_count": null,
   "id": "danish-deposit",
   "metadata": {},
   "outputs": [],
   "source": [
    "plt.imshow(worm_contour_img)"
   ]
  },
  {
   "cell_type": "code",
   "execution_count": null,
   "id": "above-concept",
   "metadata": {},
   "outputs": [],
   "source": [
    "#find external contours on the binary image\n",
    "_,cnts,hierarchy=cv2.findContours(worm_contour_img,cv2.RETR_EXTERNAL,cv2.CHAIN_APPROX_SIMPLE)\n",
    "#draw them\n",
    "print(len(cnts))"
   ]
  },
  {
   "cell_type": "code",
   "execution_count": null,
   "id": "meaning-winner",
   "metadata": {},
   "outputs": [],
   "source": [
    "x_list,y_list,w_list,h_list=[],[],[],[]\n",
    "for cnt_idx,cnt in enumerate(cnts):\n",
    "    #create an empty image equal to the source\n",
    "    cnt_img=np.zeros(shape=img.shape)\n",
    "    #draw the contours on it\n",
    "    cv2.drawContours(cnt_img, cnts, np.array(cnt_idx),0,-1)\n",
    "    #get the boundingrectangle of the contour\n",
    "    x,y,w,h = cv2.boundingRect(cnt)\n",
    "    cnt_img=worm_contour_img[y:y+h,x:x+w]\n",
    "\n",
    "    # Create dictionary my_dict with three key:value pairs: my_dict\n",
    "    my_dict={'x':[x],\n",
    "            'y':[y],\n",
    "            'width':[w],\n",
    "             'height': [h]\n",
    "    }\n",
    "\n",
    "    # Build a DataFrame cars from my_dict: cars\n",
    "    df=pd.DataFrame(my_dict)\n",
    "    df.to_csv(img_basename+'_cnt_'+str(cnt_idx)+'.csv')\n",
    "    \n",
    "    tiff.imwrite(img_basename+'_cnt_'+str(cnt_idx)+'.tiff',cnt_img)\n"
   ]
  },
  {
   "cell_type": "code",
   "execution_count": null,
   "id": "equivalent-skill",
   "metadata": {},
   "outputs": [],
   "source": [
    "plt.figure(dpi=100)\n",
    "plt.imshow(worm_contour_img)\n",
    "plt.axis('off')\n",
    "img.shape"
   ]
  },
  {
   "cell_type": "markdown",
   "id": "celtic-finish",
   "metadata": {},
   "source": [
    "#### Part 2 - Paste the contours onto an image\n"
   ]
  },
  {
   "cell_type": "code",
   "execution_count": null,
   "id": "subsequent-shareware",
   "metadata": {},
   "outputs": [],
   "source": [
    "#\n",
    "#PASTING THE PROCESSED CROP BACK TO THE IMAGE\n",
    "\n",
    "img_shape=(610,608) #not needed probably. Maybe only to double check\n",
    "crops_path='/groups/zimmer/Ulises/code/imutils/imutils/dev/crops/'\n",
    "\n",
    "#get all png files in there\n",
    "list_of_img_crops=natsorted(glob.glob((os.path.join(crops_path, '*.tiff'))))\n",
    "list_of_csv_crops=natsorted(glob.glob((os.path.join(crops_path, '*.csv'))))\n",
    "for idx,file in enumerate(list_of_img_crops):\n",
    "    print(file)\n",
    "    crop=tiff.imread(os.path.join(crops_path,file))\n",
    "    df=pd.read_csv(os.path.join(crops_path,list_of_csv_crops[idx]),index_col=0)\n",
    "    coords_list=df.values.tolist()[0]\n",
    "    mother_img=np.zeros(shape=img_shape)\n",
    "    pasted_img=paste_img(mother_img, crop, coords_list)\n",
    "    tiff.imwrite(file, pasted_img)"
   ]
  },
  {
   "cell_type": "code",
   "execution_count": null,
   "id": "printable-prefix",
   "metadata": {},
   "outputs": [],
   "source": [
    "plt.imshow(pasted_img)"
   ]
  },
  {
   "cell_type": "code",
   "execution_count": null,
   "id": "cooked-qatar",
   "metadata": {},
   "outputs": [],
   "source": [
    "def paste_img(img, crop, coords_list):\n",
    "    \"\"\"\n",
    "    Paste a crop into an image\n",
    "    Parameters:\n",
    "    -----------\n",
    "    img, np.array\n",
    "    crop, np.array\n",
    "    coords_tuple, tuple with (x,y,w,h)\n",
    "    As provided by cv2.BoundingRect for example. Maybe x and y are good enough\n",
    "    Returns:\n",
    "    -----------\n",
    "    img, np.array\n",
    "    Pasted image\n",
    "    \"\"\"\n",
    "    x,y,w,h=coords_list\n",
    "    #try:\n",
    "    img[y:y+h,x:x+w]=crop\n",
    "    #except: print('Problem with the dimensions of the crop')\n",
    "    return img"
   ]
  }
 ],
 "metadata": {
  "kernelspec": {
   "display_name": "Python [conda env:anaconda3-openCV]",
   "language": "python",
   "name": "conda-env-anaconda3-openCV-py"
  },
  "language_info": {
   "codemirror_mode": {
    "name": "ipython",
    "version": 3
   },
   "file_extension": ".py",
   "mimetype": "text/x-python",
   "name": "python",
   "nbconvert_exporter": "python",
   "pygments_lexer": "ipython3",
   "version": "3.7.9"
  }
 },
 "nbformat": 4,
 "nbformat_minor": 5
}
