{
 "cells": [
  {
   "cell_type": "code",
   "execution_count": 8,
   "id": "exempt-policy",
   "metadata": {},
   "outputs": [],
   "source": [
    "#Tif Writer object\n",
    "import tifffile as tiff\n",
    "import matplotlib.pyplot as plt\n",
    "import numpy as np\n",
    "import scipy.io\n",
    "import h5py\n",
    "import pandas as pd\n",
    "import os\n",
    "import cv2\n",
    "\n",
    "import time"
   ]
  },
  {
   "cell_type": "code",
   "execution_count": 5,
   "id": "global-bulletin",
   "metadata": {},
   "outputs": [
    {
     "name": "stdout",
     "output_type": "stream",
     "text": [
      "50001\n"
     ]
    }
   ],
   "source": [
    "tiff_path='/groups/zimmer/shared_projects/wbfm/dat/ZIM2051/2021_04_15/fluo/2021-04-15_16-41-22_worm6-channel-0-pco_camera1bigtiff/2021-04-15_16-41-22_worm6-channel-0-pco_camera1bigtiff.btf'\n",
    "\n",
    "with tiff.TiffFile(tiff_path) as tif:\n",
    "    print(len(tif.pages))\n",
    "    "
   ]
  },
  {
   "cell_type": "code",
   "execution_count": 6,
   "id": "unknown-apparel",
   "metadata": {},
   "outputs": [
    {
     "name": "stdout",
     "output_type": "stream",
     "text": [
      "50001\n"
     ]
    }
   ],
   "source": [
    "tiff_path='/groups/zimmer/shared_projects/wbfm/dat/ZIM2051/2021_04_15/fluo/2021-04-15_16-41-22_worm6-channel-0-pco_camera1bigtiff/2021-04-15_16-41-22_worm6-channel-0-pco_camera1bigtiff.btf'\n",
    "\n",
    "with tiff.TiffFile(tiff_path) as tif:\n",
    "    print(len(tif.series))"
   ]
  },
  {
   "cell_type": "code",
   "execution_count": 3,
   "id": "provincial-tradition",
   "metadata": {},
   "outputs": [
    {
     "name": "stdout",
     "output_type": "stream",
     "text": [
      "len of pages: \n",
      "3125\n",
      "len of series: \n",
      "3125\n"
     ]
    }
   ],
   "source": [
    "tiff_path='/scratch/zimmer/Ulises_temp/2um_contiguous/2021-04-27_16-40-32_worm2_2percentagar-channel-0-pco_camera1bigtiff.btf'\n",
    "\n",
    "with tiff.TiffFile(tiff_path) as tif:\n",
    "    print('len of pages: ')\n",
    "    print(len(tif.pages))\n",
    "with tiff.TiffFile(tiff_path) as tif:\n",
    "    print('len of series: ')\n",
    "    print(len(tif.series))"
   ]
  },
  {
   "cell_type": "code",
   "execution_count": 4,
   "id": "approved-innocent",
   "metadata": {},
   "outputs": [
    {
     "name": "stdout",
     "output_type": "stream",
     "text": [
      "len of pages: \n",
      "3125\n",
      "len of series: \n",
      "3125\n"
     ]
    }
   ],
   "source": [
    "tiff_path='/scratch/zimmer/Ulises_temp/2um/2021-04-27_16-40-32_worm2_2percentagar-channel-0-pco_camera1bigtiff.btf'\n",
    "\n",
    "with tiff.TiffFile(tiff_path) as tif:\n",
    "    print('len of pages: ')\n",
    "    print(len(tif.pages))\n",
    "with tiff.TiffFile(tiff_path) as tif:\n",
    "    print('len of series: ')\n",
    "    print(len(tif.series))"
   ]
  },
  {
   "cell_type": "code",
   "execution_count": 10,
   "id": "minor-catalyst",
   "metadata": {},
   "outputs": [
    {
     "name": "stdout",
     "output_type": "stream",
     "text": [
      "len of pages: \n",
      "50001\n",
      "len of series: \n",
      "1\n",
      "0.18596696853637695\n"
     ]
    }
   ],
   "source": [
    "tiff_path='/groups/zimmer/Ulises/wbfm/20210427_ZIM2051/worms/cont_btf/2021-04-27_11-06-58_worm1_2percentagar-channel-0-pco_camera1bigtiff.btf'\n",
    "t = time.time()\n",
    "# do stuff\n",
    "\n",
    "with tiff.TiffFile(tiff_path) as tif:\n",
    "    print('len of pages: ')\n",
    "    print(len(tif.pages))\n",
    "with tiff.TiffFile(tiff_path) as tif:\n",
    "    print('len of series: ')\n",
    "    print(len(tif.series))\n",
    "elapsed = time.time() - t\n",
    "print(elapsed)"
   ]
  },
  {
   "cell_type": "code",
   "execution_count": 12,
   "id": "atomic-complexity",
   "metadata": {},
   "outputs": [
    {
     "name": "stdout",
     "output_type": "stream",
     "text": [
      "len of pages: \n",
      "200001\n",
      "len of series: \n",
      "2\n",
      "0.9257421493530273\n"
     ]
    }
   ],
   "source": [
    "tiff_path='/groups/zimmer/Ulises/wbfm/chemotaxis_assay/2020_Only_behaviour/btf_all/2020-07-01_10-10-48_control_worm1-channel-0-bigtiff.btf'\n",
    "t = time.time()\n",
    "# do stuff\n",
    "\n",
    "with tiff.TiffFile(tiff_path) as tif:\n",
    "    print('len of pages: ')\n",
    "    print(len(tif.pages))\n",
    "with tiff.TiffFile(tiff_path) as tif:\n",
    "    print('len of series: ')\n",
    "    print(len(tif.series))\n",
    "elapsed = time.time() - t\n",
    "print(elapsed)"
   ]
  },
  {
   "cell_type": "code",
   "execution_count": 13,
   "id": "acquired-announcement",
   "metadata": {},
   "outputs": [
    {
     "name": "stdout",
     "output_type": "stream",
     "text": [
      "len of pages: \n",
      "80381\n",
      "len of series: \n",
      "80381\n",
      "2067.0671141147614\n"
     ]
    }
   ],
   "source": [
    "tiff_path='/groups/zimmer/Ulises/code/centerline_outputs/2020-07-01_10-10-48_control_worm1-channel-0-binary_full.tiff'\n",
    "t = time.time()\n",
    "# do stuff\n",
    "\n",
    "with tiff.TiffFile(tiff_path) as tif:\n",
    "    print('len of pages: ')\n",
    "    print(len(tif.pages))\n",
    "with tiff.TiffFile(tiff_path) as tif:\n",
    "    print('len of series: ')\n",
    "    print(len(tif.series))\n",
    "elapsed = time.time() - t\n",
    "print(elapsed)"
   ]
  },
  {
   "cell_type": "code",
   "execution_count": 14,
   "id": "generic-component",
   "metadata": {},
   "outputs": [
    {
     "data": {
      "text/plain": [
       "34.45"
      ]
     },
     "execution_count": 14,
     "metadata": {},
     "output_type": "execute_result"
    }
   ],
   "source": [
    "2067/60"
   ]
  },
  {
   "cell_type": "code",
   "execution_count": 16,
   "id": "placed-absorption",
   "metadata": {},
   "outputs": [
    {
     "name": "stdout",
     "output_type": "stream",
     "text": [
      "len of pages: \n",
      "50001\n",
      "len of series: \n",
      "50001\n",
      "1186.4849872589111\n"
     ]
    }
   ],
   "source": [
    "tiff_path='/groups/zimmer/Ulises/wbfm/20210427_ZIM2051/btf_not_cont/2021-04-27_16-40-32_worm2_2percentagar-channel-0-pco_camera1bigtiff.btf'\n",
    "\n",
    "t = time.time()\n",
    "# do stuff\n",
    "\n",
    "with tiff.TiffFile(tiff_path) as tif:\n",
    "    print('len of pages: ')\n",
    "    print(len(tif.pages))\n",
    "with tiff.TiffFile(tiff_path) as tif:\n",
    "    print('len of series: ')\n",
    "    print(len(tif.series))\n",
    "elapsed = time.time() - t\n",
    "print(elapsed)"
   ]
  },
  {
   "cell_type": "code",
   "execution_count": 17,
   "id": "athletic-sense",
   "metadata": {},
   "outputs": [
    {
     "data": {
      "text/plain": [
       "19.766666666666666"
      ]
     },
     "execution_count": 17,
     "metadata": {},
     "output_type": "execute_result"
    }
   ],
   "source": [
    "1186/60"
   ]
  },
  {
   "cell_type": "code",
   "execution_count": 18,
   "id": "infrared-porter",
   "metadata": {},
   "outputs": [
    {
     "name": "stdout",
     "output_type": "stream",
     "text": [
      "len of pages: \n",
      "50001\n",
      "len of series: \n",
      "1\n",
      "0.36212825775146484\n"
     ]
    }
   ],
   "source": [
    "tiff_path='/groups/zimmer/Ulises/wbfm/20210427_ZIM2051/cont_btf/2021-04-27_16-40-32_worm2_2percentagar-channel-0-pco_camera1bigtiff.btf'\n",
    "\n",
    "t = time.time()\n",
    "# do stuff\n",
    "\n",
    "with tiff.TiffFile(tiff_path) as tif:\n",
    "    print('len of pages: ')\n",
    "    print(len(tif.pages))\n",
    "with tiff.TiffFile(tiff_path) as tif:\n",
    "    print('len of series: ')\n",
    "    print(len(tif.series))\n",
    "elapsed = time.time() - t\n",
    "print(elapsed)"
   ]
  },
  {
   "cell_type": "code",
   "execution_count": null,
   "id": "whole-fishing",
   "metadata": {},
   "outputs": [],
   "source": []
  }
 ],
 "metadata": {
  "kernelspec": {
   "display_name": "Python [conda env:anaconda3-openCV]",
   "language": "python",
   "name": "conda-env-anaconda3-openCV-py"
  },
  "language_info": {
   "codemirror_mode": {
    "name": "ipython",
    "version": 3
   },
   "file_extension": ".py",
   "mimetype": "text/x-python",
   "name": "python",
   "nbconvert_exporter": "python",
   "pygments_lexer": "ipython3",
   "version": "3.7.9"
  }
 },
 "nbformat": 4,
 "nbformat_minor": 5
}
