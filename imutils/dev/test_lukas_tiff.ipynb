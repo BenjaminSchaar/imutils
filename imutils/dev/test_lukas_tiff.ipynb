{
 "cells": [
  {
   "cell_type": "code",
   "execution_count": null,
   "id": "experienced-member",
   "metadata": {},
   "outputs": [],
   "source": [
    "#Tif Writer object\n",
    "import tifffile as tiff\n",
    "import matplotlib.pyplot as plt\n",
    "import numpy as np\n",
    "import scipy.io\n",
    "import h5py\n",
    "import pandas as pd\n",
    "import os\n",
    "import cv2\n",
    "\n",
    "import time"
   ]
  },
  {
   "cell_type": "code",
   "execution_count": null,
   "id": "personal-maria",
   "metadata": {},
   "outputs": [],
   "source": [
    "tiff_path='/groups/zimmer/shared_projects/wbfm/dat/ZIM2051/2021_04_15/fluo/2021-04-15_16-41-22_worm6-channel-0-pco_camera1bigtiff/2021-04-15_16-41-22_worm6-channel-0-pco_camera1bigtiff.btf'\n",
    "\n",
    "with tiff.TiffFile(tiff_path) as tif:\n",
    "    print(len(tif.pages))\n",
    "    "
   ]
  },
  {
   "cell_type": "code",
   "execution_count": null,
   "id": "previous-cliff",
   "metadata": {},
   "outputs": [],
   "source": [
    "tiff_path='/groups/zimmer/shared_projects/wbfm/dat/ZIM2051/2021_04_15/fluo/2021-04-15_16-41-22_worm6-channel-0-pco_camera1bigtiff/2021-04-15_16-41-22_worm6-channel-0-pco_camera1bigtiff.btf'\n",
    "\n",
    "with tiff.TiffFile(tiff_path) as tif:\n",
    "    print(len(tif.series))"
   ]
  },
  {
   "cell_type": "code",
   "execution_count": null,
   "id": "expected-location",
   "metadata": {},
   "outputs": [],
   "source": [
    "tiff_path='/scratch/zimmer/Ulises_temp/2um_contiguous/2021-04-27_16-40-32_worm2_2percentagar-channel-0-pco_camera1bigtiff.btf'\n",
    "\n",
    "with tiff.TiffFile(tiff_path) as tif:\n",
    "    print('len of pages: ')\n",
    "    print(len(tif.pages))\n",
    "with tiff.TiffFile(tiff_path) as tif:\n",
    "    print('len of series: ')\n",
    "    print(len(tif.series))"
   ]
  },
  {
   "cell_type": "code",
   "execution_count": null,
   "id": "preliminary-annex",
   "metadata": {},
   "outputs": [],
   "source": [
    "tiff_path='/scratch/zimmer/Ulises_temp/2um/2021-04-27_16-40-32_worm2_2percentagar-channel-0-pco_camera1bigtiff.btf'\n",
    "\n",
    "with tiff.TiffFile(tiff_path) as tif:\n",
    "    print('len of pages: ')\n",
    "    print(len(tif.pages))\n",
    "with tiff.TiffFile(tiff_path) as tif:\n",
    "    print('len of series: ')\n",
    "    print(len(tif.series))"
   ]
  },
  {
   "cell_type": "code",
   "execution_count": null,
   "id": "frank-virgin",
   "metadata": {},
   "outputs": [],
   "source": [
    "tiff_path='/groups/zimmer/Ulises/wbfm/20210427_ZIM2051/worms/cont_btf/2021-04-27_11-06-58_worm1_2percentagar-channel-0-pco_camera1bigtiff.btf'\n",
    "t = time.time()\n",
    "# do stuff\n",
    "\n",
    "with tiff.TiffFile(tiff_path) as tif:\n",
    "    print('len of pages: ')\n",
    "    print(len(tif.pages))\n",
    "with tiff.TiffFile(tiff_path) as tif:\n",
    "    print('len of series: ')\n",
    "    print(len(tif.series))\n",
    "elapsed = time.time() - t\n",
    "print(elapsed)"
   ]
  },
  {
   "cell_type": "code",
   "execution_count": null,
   "id": "classical-repository",
   "metadata": {},
   "outputs": [],
   "source": [
    "tiff_path='/groups/zimmer/Ulises/wbfm/chemotaxis_assay/2020_Only_behaviour/btf_all/2020-07-01_10-10-48_control_worm1-channel-0-bigtiff.btf'\n",
    "t = time.time()\n",
    "# do stuff\n",
    "\n",
    "with tiff.TiffFile(tiff_path) as tif:\n",
    "    print('len of pages: ')\n",
    "    print(len(tif.pages))\n",
    "with tiff.TiffFile(tiff_path) as tif:\n",
    "    print('len of series: ')\n",
    "    print(len(tif.series))\n",
    "elapsed = time.time() - t\n",
    "print(elapsed)"
   ]
  },
  {
   "cell_type": "code",
   "execution_count": null,
   "id": "hearing-chuck",
   "metadata": {},
   "outputs": [],
   "source": [
    "tiff_path='/groups/zimmer/Ulises/code/centerline_outputs/2020-07-01_10-10-48_control_worm1-channel-0-binary_full.tiff'\n",
    "t = time.time()\n",
    "# do stuff\n",
    "\n",
    "with tiff.TiffFile(tiff_path) as tif:\n",
    "    print('len of pages: ')\n",
    "    print(len(tif.pages))\n",
    "with tiff.TiffFile(tiff_path) as tif:\n",
    "    print('len of series: ')\n",
    "    print(len(tif.series))\n",
    "elapsed = time.time() - t\n",
    "print(elapsed)"
   ]
  },
  {
   "cell_type": "code",
   "execution_count": null,
   "id": "deluxe-treasurer",
   "metadata": {},
   "outputs": [],
   "source": [
    "2067/60"
   ]
  },
  {
   "cell_type": "code",
   "execution_count": null,
   "id": "polish-movement",
   "metadata": {},
   "outputs": [],
   "source": [
    "tiff_path='/groups/zimmer/Ulises/wbfm/20210427_ZIM2051/btf_not_cont/2021-04-27_16-40-32_worm2_2percentagar-channel-0-pco_camera1bigtiff.btf'\n",
    "\n",
    "t = time.time()\n",
    "# do stuff\n",
    "\n",
    "with tiff.TiffFile(tiff_path) as tif:\n",
    "    print('len of pages: ')\n",
    "    print(len(tif.pages))\n",
    "with tiff.TiffFile(tiff_path) as tif:\n",
    "    print('len of series: ')\n",
    "    print(len(tif.series))\n",
    "elapsed = time.time() - t\n",
    "print(elapsed)"
   ]
  },
  {
   "cell_type": "code",
   "execution_count": null,
   "id": "structural-composition",
   "metadata": {},
   "outputs": [],
   "source": [
    "1186/60"
   ]
  },
  {
   "cell_type": "code",
   "execution_count": null,
   "id": "abroad-collection",
   "metadata": {},
   "outputs": [],
   "source": [
    "tiff_path='/groups/zimmer/Ulises/wbfm/chemotaxis_assay/2020_Only_behaviour/binary_all/2020-07-01_17-58-13_control_worm5-channel-0-binary.tiff'\n",
    "\n",
    "\n",
    "t = time.time()\n",
    "# do stuff\n",
    "\n",
    "with tiff.TiffFile(tiff_path) as tif:\n",
    "    print('len of pages: ')\n",
    "    print(len(tif.pages))\n",
    "with tiff.TiffFile(tiff_path) as tif:\n",
    "    print('len of series: ')\n",
    "    print(len(tif.series))\n",
    "elapsed = time.time() - t\n",
    "print(elapsed)"
   ]
  },
  {
   "cell_type": "code",
   "execution_count": null,
   "id": "worldwide-latex",
   "metadata": {},
   "outputs": [],
   "source": [
    "#test on contours\n",
    "tiff_path='/groups/zimmer/Ulises/wbfm/chemotaxis_assay/2020_Only_behaviour/btf_all/2020-07-01_10-10-48_control_worm1-channel-0-bigtiff.btf'\n",
    "tiff_output_path='/groups/zimmer/Ulises/wbfm/chemotaxis_assay/2020_Only_behaviour/test.tiff'\n",
    "with tiff.TiffFile(tiff_path) as tif, tiff.TiffWriter(tiff_output_path) as tif_writer:\n",
    "    for i, page in enumerate(tif.pages):\n",
    "        img=page.asarray()\n",
    "        plt.imshow(img)\n",
    "        plt.show()\n",
    "        inv_img=cv2.bitwise_not(img)\n",
    "        plt.imshow(inv_img)\n",
    "        plt.show()\n",
    "        inv_img_blur=cv2.medianBlur(inv_img,3)\n",
    "        ret,new_img=cv2.threshold(inv_img_blur,10,0,cv2.THRESH_BINARY)\n",
    "        plt.imshow(new_img)\n",
    "        plt.show()\n",
    "        tif_writer.write(new_img, contiguous=True)\n",
    "        img=np.zeros((10,10))\n",
    "        img.astype(np.uint8)\n",
    "        _,cnts,hierarchy = cv2.findContours(img, cv2.RETR_TREE, cv2.CHAIN_APPROX_SIMPLE)\n",
    "        if cnts is None or len(cnts)<2:\n",
    "            print('cnts is ', cnts, 'cnts len is ', len(cnts))\n",
    "            print(i, 'is test')\n",
    "        if i>10: break\n",
    "        \n"
   ]
  },
  {
   "cell_type": "code",
   "execution_count": null,
   "id": "olympic-married",
   "metadata": {},
   "outputs": [],
   "source": []
  }
 ],
 "metadata": {
  "kernelspec": {
   "display_name": "Python [conda env:anaconda3-openCV]",
   "language": "python",
   "name": "conda-env-anaconda3-openCV-py"
  },
  "language_info": {
   "codemirror_mode": {
    "name": "ipython",
    "version": 3
   },
   "file_extension": ".py",
   "mimetype": "text/x-python",
   "name": "python",
   "nbconvert_exporter": "python",
   "pygments_lexer": "ipython3",
   "version": "3.7.9"
  }
 },
 "nbformat": 4,
 "nbformat_minor": 5
}
