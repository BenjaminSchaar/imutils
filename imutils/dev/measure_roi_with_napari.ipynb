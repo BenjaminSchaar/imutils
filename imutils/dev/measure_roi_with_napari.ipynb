{
 "cells": [
  {
   "cell_type": "code",
   "execution_count": null,
   "id": "cd8b7af5-7306-4283-90c4-9448224ee8d1",
   "metadata": {},
   "outputs": [],
   "source": [
    "##\n",
    "based on annotate food with napari \n",
    "With the help of the response from Robert in this thread:\n",
    "    https://forum.image.sc/t/measure-roi-intensity-of-timeseries/69195/6"
   ]
  },
  {
   "cell_type": "code",
   "execution_count": 1,
   "id": "b5db7ad8-1121-4155-b222-bb9b00663125",
   "metadata": {},
   "outputs": [],
   "source": [
    "from typing import List\n",
    "\n",
    "from dask_image.imread import imread\n",
    "import napari\n",
    "from magicgui.widgets import ComboBox, Container\n",
    "import numpy as np\n",
    "import glob\n",
    "import tifffile as tiff\n",
    "import pandas as pd\n",
    "import os\n",
    "import matplotlib.pyplot as plt"
   ]
  },
  {
   "cell_type": "code",
   "execution_count": 4,
   "id": "1e24fc2b-56b9-4ad7-9429-3787371e247c",
   "metadata": {},
   "outputs": [
    {
     "name": "stdout",
     "output_type": "stream",
     "text": [
      "/Volumes/scratch/neurobiology/zimmer/ulises/active_sensing/epifluorescence_recordings/20220712_chip/data/ZIM1661_worm2_2/2022-07-12_16-22_ZIM1661_worm2_2_Ch1/2022-07-12_16-22_ZIM1661_worm2_2_Ch1bigtiff.tif\n"
     ]
    }
   ],
   "source": [
    "project_path='/Volumes/scratch/neurobiology/zimmer/ulises/active_sensing/epifluorescence_recordings/20220709_chip/data/ZIM1661_worm1/'\n",
    "\n",
    "img_path='/Volumes/scratch/neurobiology/zimmer/ulises/active_sensing/epifluorescence_recordings/20220712_chip/data/ZIM1661_worm2_2/2022-07-12_16-22_ZIM1661_worm2_2_Ch1/2022-07-12_16-22_ZIM1661_worm2_2_Ch1bigtiff.tif'\n",
    "#glob.glob(os.path.join(project_path, '*Ch1/*Ch1bigtiff.tif'))[0]\n",
    "print(img_path)\n",
    "stack = imread(img_path)"
   ]
  },
  {
   "cell_type": "code",
   "execution_count": 5,
   "id": "0ca9e5ab-b615-45d9-8c66-9032dc09c568",
   "metadata": {},
   "outputs": [],
   "source": [
    "stack=stack[0:100]"
   ]
  },
  {
   "cell_type": "code",
   "execution_count": 6,
   "id": "e1bce453-d85d-4f85-9596-79fb954a33b2",
   "metadata": {},
   "outputs": [
    {
     "name": "stderr",
     "output_type": "stream",
     "text": [
      "/Users/ulises.rey/opt/anaconda3/envs/napari-env/lib/python3.9/site-packages/napari_tools_menu/__init__.py:179: FutureWarning: Public access to Window.qt_viewer is deprecated and will be removed in\n",
      "v0.5.0. It is considered an \"implementation detail\" of the napari\n",
      "application, not part of the napari viewer model. If your use case\n",
      "requires access to qt_viewer, please open an issue to discuss.\n",
      "  self.tools_menu = ToolsMenu(self, self.qt_viewer.viewer)\n"
     ]
    }
   ],
   "source": [
    "viewer = napari.view_image(stack)\n",
    "napari.run()"
   ]
  },
  {
   "cell_type": "code",
   "execution_count": null,
   "id": "bbbac904-aa52-4d88-8169-f60e02d6b4c6",
   "metadata": {},
   "outputs": [],
   "source": []
  }
 ],
 "metadata": {
  "kernelspec": {
   "display_name": "Python 3 (ipykernel)",
   "language": "python",
   "name": "python3"
  },
  "language_info": {
   "codemirror_mode": {
    "name": "ipython",
    "version": 3
   },
   "file_extension": ".py",
   "mimetype": "text/x-python",
   "name": "python",
   "nbconvert_exporter": "python",
   "pygments_lexer": "ipython3",
   "version": "3.8.11"
  }
 },
 "nbformat": 4,
 "nbformat_minor": 5
}
