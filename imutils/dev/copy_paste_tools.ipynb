{
 "cells": [
  {
   "cell_type": "markdown",
   "id": "greatest-withdrawal",
   "metadata": {},
   "source": [
    "# Copy paste Tools\n",
    "create directories. useful for image processing pipeline."
   ]
  },
  {
   "cell_type": "code",
   "execution_count": 1,
   "id": "heard-matter",
   "metadata": {},
   "outputs": [],
   "source": [
    "import tifffile as tiff\n",
    "from natsort import natsorted\n",
    "import os\n",
    "import numpy as np\n",
    "import matplotlib.pyplot as plt"
   ]
  },
  {
   "cell_type": "code",
   "execution_count": 2,
   "id": "guided-barbados",
   "metadata": {},
   "outputs": [],
   "source": [
    "import shutil\n",
    "import glob"
   ]
  },
  {
   "cell_type": "code",
   "execution_count": 3,
   "id": "municipal-account",
   "metadata": {},
   "outputs": [],
   "source": [
    "import pathlib"
   ]
  },
  {
   "cell_type": "code",
   "execution_count": 8,
   "id": "elementary-minister",
   "metadata": {},
   "outputs": [],
   "source": [
    "path='/scratch/zimmer/Ulises_temp/OD20_vs_OD10/avi_files/20210527/'"
   ]
  },
  {
   "cell_type": "code",
   "execution_count": 9,
   "id": "involved-print",
   "metadata": {},
   "outputs": [],
   "source": [
    "files=glob.glob(os.path.join(path,'*.avi'))"
   ]
  },
  {
   "cell_type": "code",
   "execution_count": 10,
   "id": "contrary-peninsula",
   "metadata": {
    "collapsed": true,
    "jupyter": {
     "outputs_hidden": true
    }
   },
   "outputs": [
    {
     "name": "stdout",
     "output_type": "stream",
     "text": [
      "/scratch/zimmer/Ulises_temp/OD20_vs_OD10/avi_files/20210527/2021-05-27_15-43-42_bh1_zim2051_OD10bigtiff.avi\n",
      "path /scratch/zimmer/Ulises_temp/OD20_vs_OD10/avi_files/20210527/2021-05-27_15-43-42_bh1_zim2051_OD10bigtiff\n",
      "basename 2021-05-27_15-43-42_bh1_zim2051_OD10bigtiff.avi\n",
      "/scratch/zimmer/Ulises_temp/OD20_vs_OD10/avi_files/20210527/2021-05-27_15-43-42_bh1_zim2051_OD10bigtiff\n",
      "\n",
      "new path folder: /scratch/zimmer/Ulises_temp/OD20_vs_OD10/avi_files/20210527/2021-05-27_15-43-42_bh1_zim2051_OD10bigtiff\n",
      "\n",
      "new path file name: /scratch/zimmer/Ulises_temp/OD20_vs_OD10/avi_files/20210527/2021-05-27_15-43-42_bh1_zim2051_OD10bigtiff/2021-05-27_15-43-42_bh1_zim2051_OD10bigtiff.avi\n",
      "/scratch/zimmer/Ulises_temp/OD20_vs_OD10/avi_files/20210527/2021-05-27_15-46-52_bh2_ZIM2051_OD20bigtiff.avi\n",
      "path /scratch/zimmer/Ulises_temp/OD20_vs_OD10/avi_files/20210527/2021-05-27_15-46-52_bh2_ZIM2051_OD20bigtiff\n",
      "basename 2021-05-27_15-46-52_bh2_ZIM2051_OD20bigtiff.avi\n",
      "/scratch/zimmer/Ulises_temp/OD20_vs_OD10/avi_files/20210527/2021-05-27_15-46-52_bh2_ZIM2051_OD20bigtiff\n",
      "\n",
      "new path folder: /scratch/zimmer/Ulises_temp/OD20_vs_OD10/avi_files/20210527/2021-05-27_15-46-52_bh2_ZIM2051_OD20bigtiff\n",
      "\n",
      "new path file name: /scratch/zimmer/Ulises_temp/OD20_vs_OD10/avi_files/20210527/2021-05-27_15-46-52_bh2_ZIM2051_OD20bigtiff/2021-05-27_15-46-52_bh2_ZIM2051_OD20bigtiff.avi\n",
      "/scratch/zimmer/Ulises_temp/OD20_vs_OD10/avi_files/20210527/2021-05-27_15-50-27_BH5_ZIM2051_OD20bigtiff.avi\n",
      "path /scratch/zimmer/Ulises_temp/OD20_vs_OD10/avi_files/20210527/2021-05-27_15-50-27_BH5_ZIM2051_OD20bigtiff\n",
      "basename 2021-05-27_15-50-27_BH5_ZIM2051_OD20bigtiff.avi\n",
      "/scratch/zimmer/Ulises_temp/OD20_vs_OD10/avi_files/20210527/2021-05-27_15-50-27_BH5_ZIM2051_OD20bigtiff\n",
      "\n",
      "new path folder: /scratch/zimmer/Ulises_temp/OD20_vs_OD10/avi_files/20210527/2021-05-27_15-50-27_BH5_ZIM2051_OD20bigtiff\n",
      "\n",
      "new path file name: /scratch/zimmer/Ulises_temp/OD20_vs_OD10/avi_files/20210527/2021-05-27_15-50-27_BH5_ZIM2051_OD20bigtiff/2021-05-27_15-50-27_BH5_ZIM2051_OD20bigtiff.avi\n",
      "/scratch/zimmer/Ulises_temp/OD20_vs_OD10/avi_files/20210527/2021-05-27_15-54-24_BH3_ZIM2051_OD10bigtiff.avi\n",
      "path /scratch/zimmer/Ulises_temp/OD20_vs_OD10/avi_files/20210527/2021-05-27_15-54-24_BH3_ZIM2051_OD10bigtiff\n",
      "basename 2021-05-27_15-54-24_BH3_ZIM2051_OD10bigtiff.avi\n",
      "/scratch/zimmer/Ulises_temp/OD20_vs_OD10/avi_files/20210527/2021-05-27_15-54-24_BH3_ZIM2051_OD10bigtiff\n",
      "\n",
      "new path folder: /scratch/zimmer/Ulises_temp/OD20_vs_OD10/avi_files/20210527/2021-05-27_15-54-24_BH3_ZIM2051_OD10bigtiff\n",
      "\n",
      "new path file name: /scratch/zimmer/Ulises_temp/OD20_vs_OD10/avi_files/20210527/2021-05-27_15-54-24_BH3_ZIM2051_OD10bigtiff/2021-05-27_15-54-24_BH3_ZIM2051_OD10bigtiff.avi\n",
      "/scratch/zimmer/Ulises_temp/OD20_vs_OD10/avi_files/20210527/2021-05-27_17-03-45_bh1_zim2051_OD10bigtiff.avi\n",
      "path /scratch/zimmer/Ulises_temp/OD20_vs_OD10/avi_files/20210527/2021-05-27_17-03-45_bh1_zim2051_OD10bigtiff\n",
      "basename 2021-05-27_17-03-45_bh1_zim2051_OD10bigtiff.avi\n",
      "/scratch/zimmer/Ulises_temp/OD20_vs_OD10/avi_files/20210527/2021-05-27_17-03-45_bh1_zim2051_OD10bigtiff\n",
      "\n",
      "new path folder: /scratch/zimmer/Ulises_temp/OD20_vs_OD10/avi_files/20210527/2021-05-27_17-03-45_bh1_zim2051_OD10bigtiff\n",
      "\n",
      "new path file name: /scratch/zimmer/Ulises_temp/OD20_vs_OD10/avi_files/20210527/2021-05-27_17-03-45_bh1_zim2051_OD10bigtiff/2021-05-27_17-03-45_bh1_zim2051_OD10bigtiff.avi\n",
      "/scratch/zimmer/Ulises_temp/OD20_vs_OD10/avi_files/20210527/2021-05-27_17-06-24_bh2_ZIM2051_OD10bigtiff.avi\n",
      "path /scratch/zimmer/Ulises_temp/OD20_vs_OD10/avi_files/20210527/2021-05-27_17-06-24_bh2_ZIM2051_OD10bigtiff\n",
      "basename 2021-05-27_17-06-24_bh2_ZIM2051_OD10bigtiff.avi\n",
      "/scratch/zimmer/Ulises_temp/OD20_vs_OD10/avi_files/20210527/2021-05-27_17-06-24_bh2_ZIM2051_OD10bigtiff\n",
      "\n",
      "new path folder: /scratch/zimmer/Ulises_temp/OD20_vs_OD10/avi_files/20210527/2021-05-27_17-06-24_bh2_ZIM2051_OD10bigtiff\n",
      "\n",
      "new path file name: /scratch/zimmer/Ulises_temp/OD20_vs_OD10/avi_files/20210527/2021-05-27_17-06-24_bh2_ZIM2051_OD10bigtiff/2021-05-27_17-06-24_bh2_ZIM2051_OD10bigtiff.avi\n",
      "/scratch/zimmer/Ulises_temp/OD20_vs_OD10/avi_files/20210527/2021-05-27_17-09-40_BH3_ZIM2051_OD20bigtiff.avi\n",
      "path /scratch/zimmer/Ulises_temp/OD20_vs_OD10/avi_files/20210527/2021-05-27_17-09-40_BH3_ZIM2051_OD20bigtiff\n",
      "basename 2021-05-27_17-09-40_BH3_ZIM2051_OD20bigtiff.avi\n",
      "/scratch/zimmer/Ulises_temp/OD20_vs_OD10/avi_files/20210527/2021-05-27_17-09-40_BH3_ZIM2051_OD20bigtiff\n",
      "\n",
      "new path folder: /scratch/zimmer/Ulises_temp/OD20_vs_OD10/avi_files/20210527/2021-05-27_17-09-40_BH3_ZIM2051_OD20bigtiff\n",
      "\n",
      "new path file name: /scratch/zimmer/Ulises_temp/OD20_vs_OD10/avi_files/20210527/2021-05-27_17-09-40_BH3_ZIM2051_OD20bigtiff/2021-05-27_17-09-40_BH3_ZIM2051_OD20bigtiff.avi\n",
      "/scratch/zimmer/Ulises_temp/OD20_vs_OD10/avi_files/20210527/2021-05-27_17-11-50_BH5_ZIM2051_OD20bigtiff.avi\n",
      "path /scratch/zimmer/Ulises_temp/OD20_vs_OD10/avi_files/20210527/2021-05-27_17-11-50_BH5_ZIM2051_OD20bigtiff\n",
      "basename 2021-05-27_17-11-50_BH5_ZIM2051_OD20bigtiff.avi\n",
      "/scratch/zimmer/Ulises_temp/OD20_vs_OD10/avi_files/20210527/2021-05-27_17-11-50_BH5_ZIM2051_OD20bigtiff\n",
      "\n",
      "new path folder: /scratch/zimmer/Ulises_temp/OD20_vs_OD10/avi_files/20210527/2021-05-27_17-11-50_BH5_ZIM2051_OD20bigtiff\n",
      "\n",
      "new path file name: /scratch/zimmer/Ulises_temp/OD20_vs_OD10/avi_files/20210527/2021-05-27_17-11-50_BH5_ZIM2051_OD20bigtiff/2021-05-27_17-11-50_BH5_ZIM2051_OD20bigtiff.avi\n"
     ]
    }
   ],
   "source": [
    "#I run this in two rounds because I was testing\n",
    "#it should be corrected so that it creates the folders and moves the file there in the same loop\n",
    "for file in files:\n",
    "    if file.endswith('.avi'):\n",
    "        print(file)\n",
    "        print('path', os.path.splitext(file)[0])\n",
    "        print('basename',os.path.basename(file))\n",
    "        new_dir_name=os.path.splitext(file)[0]#pathlib.Path(file).stem\n",
    "        print(new_dir_name)\n",
    "        print('\\nnew path folder:',os.path.join(new_dir_name))\n",
    "        print('\\nnew path file name:',os.path.join(new_dir_name,os.path.basename(file)))\n",
    "        \n",
    "        #do things\n",
    "        os.mkdir(new_dir_name)\n",
    "\n",
    "        shutil.move(file, os.path.join(new_dir_name,os.path.basename(file)))\n",
    "    "
   ]
  },
  {
   "cell_type": "code",
   "execution_count": 16,
   "id": "incomplete-narrow",
   "metadata": {
    "collapsed": true,
    "jupyter": {
     "outputs_hidden": true
    }
   },
   "outputs": [
    {
     "name": "stdout",
     "output_type": "stream",
     "text": [
      "/groups/zimmer/Ulises/code/cluster_outputs/new/output_21255099_0.txt.txt\n",
      "/groups/zimmer/Ulises/code/cluster_outputs/new/output_21255100_0.txt.txt\n",
      "/groups/zimmer/Ulises/code/cluster_outputs/new/output_21255101_0.txt.txt\n",
      "/groups/zimmer/Ulises/code/cluster_outputs/new/output_21255101_1.txt.txt\n",
      "/groups/zimmer/Ulises/code/cluster_outputs/new/output_21255101_2.txt.txt\n",
      "/groups/zimmer/Ulises/code/cluster_outputs/new/output_21255101_3.txt.txt\n",
      "/groups/zimmer/Ulises/code/cluster_outputs/new/output_21255101_4.txt.txt\n",
      "/groups/zimmer/Ulises/code/cluster_outputs/new/output_21255101_5.txt.txt\n",
      "/groups/zimmer/Ulises/code/cluster_outputs/new/output_21255101_6.txt.txt\n",
      "/groups/zimmer/Ulises/code/cluster_outputs/new/output_21255101_7.txt.txt\n",
      "/groups/zimmer/Ulises/code/cluster_outputs/new/output_21255101_8.txt.txt\n",
      "/groups/zimmer/Ulises/code/cluster_outputs/new/output_21255101_9.txt.txt\n",
      "/groups/zimmer/Ulises/code/cluster_outputs/new/output_21255101_10.txt.txt\n",
      "/groups/zimmer/Ulises/code/cluster_outputs/new/output_21255101_11.txt.txt\n",
      "/groups/zimmer/Ulises/code/cluster_outputs/new/output_21255101_12.txt.txt\n",
      "/groups/zimmer/Ulises/code/cluster_outputs/new/output_21255101_13.txt.txt\n",
      "/groups/zimmer/Ulises/code/cluster_outputs/new/output_21255101_14.txt.txt\n",
      "/groups/zimmer/Ulises/code/cluster_outputs/new/output_21255101_15.txt.txt\n",
      "/groups/zimmer/Ulises/code/cluster_outputs/new/output_21255101_16.txt.txt\n",
      "/groups/zimmer/Ulises/code/cluster_outputs/new/output_21255102_0.txt.txt\n",
      "/groups/zimmer/Ulises/code/cluster_outputs/new/output_21255103_0.txt.txt\n",
      "/groups/zimmer/Ulises/code/cluster_outputs/new/output_21255104_0.txt.txt\n",
      "/groups/zimmer/Ulises/code/cluster_outputs/new/output_21255105_0.txt.txt\n",
      "/groups/zimmer/Ulises/code/cluster_outputs/new/output_21255106_0.txt.txt\n",
      "/groups/zimmer/Ulises/code/cluster_outputs/new/output_21255107_0.txt.txt\n",
      "/groups/zimmer/Ulises/code/cluster_outputs/new/output_21255108_0.txt.txt\n",
      "/groups/zimmer/Ulises/code/cluster_outputs/new/output_21255109_0.txt.txt\n",
      "/groups/zimmer/Ulises/code/cluster_outputs/new/output_21255110_0.txt.txt\n",
      "/groups/zimmer/Ulises/code/cluster_outputs/new/output_21255111_0.txt.txt\n",
      "/groups/zimmer/Ulises/code/cluster_outputs/new/output_21255112_0.txt.txt\n",
      "/groups/zimmer/Ulises/code/cluster_outputs/new/output_21255113_0.txt.txt\n",
      "/groups/zimmer/Ulises/code/cluster_outputs/new/output_21255114_0.txt.txt\n",
      "/groups/zimmer/Ulises/code/cluster_outputs/new/output_21255115_0.txt.txt\n",
      "/groups/zimmer/Ulises/code/cluster_outputs/new/output_21255081_5.txt.txt\n",
      "/groups/zimmer/Ulises/code/cluster_outputs/new/output_21255081_8.txt.txt\n",
      "/groups/zimmer/Ulises/code/cluster_outputs/new/output_21255081_9.txt.txt\n",
      "/groups/zimmer/Ulises/code/cluster_outputs/new/output_21255081_11.txt.txt\n",
      "/groups/zimmer/Ulises/code/cluster_outputs/new/output_21255081_0.txt.txt\n",
      "/groups/zimmer/Ulises/code/cluster_outputs/new/output_21255081_1.txt.txt\n"
     ]
    }
   ],
   "source": [
    "#mvoe all text files:\n",
    "path='/groups/zimmer/Ulises/code/cluster_outputs/new/'\n",
    "dest_path='/groups/zimmer/Ulises/code/cluster_outputs/old/'\n",
    "files=glob.glob(os.path.join(path,'*.txt'))\n",
    "for file in files:\n",
    "    print(file)\n",
    "    new_filepath=os.path.join(dest_path, os.path.basename(file))\n",
    "    shutil.move(file, new_filepath)"
   ]
  },
  {
   "cell_type": "code",
   "execution_count": 42,
   "id": "planned-stand",
   "metadata": {},
   "outputs": [
    {
     "name": "stdout",
     "output_type": "stream",
     "text": [
      "/scratch/zimmer/Ulises_temp/OD20_vs_OD10/avi_files/20210527/2021-05-27_15-46-52_bh2_ZIM2051_OD20bigtiff/proofed_track_parameters_10hz_2000_ImpGrad.m\n",
      "/scratch/zimmer/Ulises_temp/OD20_vs_OD10/avi_files/20210527/2021-05-27_15-50-27_BH5_ZIM2051_OD20bigtiff/proofed_track_parameters_10hz_2000_ImpGrad.m\n",
      "/scratch/zimmer/Ulises_temp/OD20_vs_OD10/avi_files/20210527/2021-05-27_15-54-24_BH3_ZIM2051_OD10bigtiff/proofed_track_parameters_10hz_2000_ImpGrad.m\n",
      "/scratch/zimmer/Ulises_temp/OD20_vs_OD10/avi_files/20210527/2021-05-27_17-03-45_bh1_zim2051_OD10bigtiff/proofed_track_parameters_10hz_2000_ImpGrad.m\n",
      "/scratch/zimmer/Ulises_temp/OD20_vs_OD10/avi_files/20210527/2021-05-27_17-06-24_bh2_ZIM2051_OD10bigtiff/proofed_track_parameters_10hz_2000_ImpGrad.m\n",
      "/scratch/zimmer/Ulises_temp/OD20_vs_OD10/avi_files/20210527/2021-05-27_17-09-40_BH3_ZIM2051_OD20bigtiff/proofed_track_parameters_10hz_2000_ImpGrad.m\n",
      "/scratch/zimmer/Ulises_temp/OD20_vs_OD10/avi_files/20210527/2021-05-27_17-11-50_BH5_ZIM2051_OD20bigtiff/proofed_track_parameters_10hz_2000_ImpGrad.m\n",
      "/scratch/zimmer/Ulises_temp/OD20_vs_OD10/avi_files/20210527/bash_to_run_directories.sh/proofed_track_parameters_10hz_2000_ImpGrad.m\n"
     ]
    },
    {
     "ename": "NotADirectoryError",
     "evalue": "[Errno 20] Not a directory: '/scratch/zimmer/Ulises_temp/OD20_vs_OD10/avi_files/20210527/bash_to_run_directories.sh/proofed_track_parameters_10hz_2000_ImpGrad.m'",
     "output_type": "error",
     "traceback": [
      "\u001b[0;31m---------------------------------------------------------------------------\u001b[0m",
      "\u001b[0;31mNotADirectoryError\u001b[0m                        Traceback (most recent call last)",
      "\u001b[0;32m<ipython-input-42-066f6366e2cb>\u001b[0m in \u001b[0;36m<module>\u001b[0;34m\u001b[0m\n\u001b[1;32m      7\u001b[0m     \u001b[0mnew_filepath\u001b[0m\u001b[0;34m=\u001b[0m\u001b[0mos\u001b[0m\u001b[0;34m.\u001b[0m\u001b[0mpath\u001b[0m\u001b[0;34m.\u001b[0m\u001b[0mjoin\u001b[0m\u001b[0;34m(\u001b[0m\u001b[0mdest_path\u001b[0m\u001b[0;34m,\u001b[0m \u001b[0mfolder\u001b[0m\u001b[0;34m,\u001b[0m\u001b[0mfile_basename\u001b[0m\u001b[0;34m)\u001b[0m\u001b[0;34m\u001b[0m\u001b[0m\n\u001b[1;32m      8\u001b[0m     \u001b[0mprint\u001b[0m\u001b[0;34m(\u001b[0m\u001b[0mnew_filepath\u001b[0m\u001b[0;34m)\u001b[0m\u001b[0;34m\u001b[0m\u001b[0m\n\u001b[0;32m----> 9\u001b[0;31m     \u001b[0mshutil\u001b[0m\u001b[0;34m.\u001b[0m\u001b[0mcopyfile\u001b[0m\u001b[0;34m(\u001b[0m\u001b[0mfile\u001b[0m\u001b[0;34m,\u001b[0m \u001b[0mnew_filepath\u001b[0m\u001b[0;34m)\u001b[0m\u001b[0;34m\u001b[0m\u001b[0m\n\u001b[0m",
      "\u001b[0;32m~/anaconda3/envs/DLC-GPU/lib/python3.6/shutil.py\u001b[0m in \u001b[0;36mcopyfile\u001b[0;34m(src, dst, follow_symlinks)\u001b[0m\n\u001b[1;32m    119\u001b[0m     \u001b[0;32melse\u001b[0m\u001b[0;34m:\u001b[0m\u001b[0;34m\u001b[0m\u001b[0m\n\u001b[1;32m    120\u001b[0m         \u001b[0;32mwith\u001b[0m \u001b[0mopen\u001b[0m\u001b[0;34m(\u001b[0m\u001b[0msrc\u001b[0m\u001b[0;34m,\u001b[0m \u001b[0;34m'rb'\u001b[0m\u001b[0;34m)\u001b[0m \u001b[0;32mas\u001b[0m \u001b[0mfsrc\u001b[0m\u001b[0;34m:\u001b[0m\u001b[0;34m\u001b[0m\u001b[0m\n\u001b[0;32m--> 121\u001b[0;31m             \u001b[0;32mwith\u001b[0m \u001b[0mopen\u001b[0m\u001b[0;34m(\u001b[0m\u001b[0mdst\u001b[0m\u001b[0;34m,\u001b[0m \u001b[0;34m'wb'\u001b[0m\u001b[0;34m)\u001b[0m \u001b[0;32mas\u001b[0m \u001b[0mfdst\u001b[0m\u001b[0;34m:\u001b[0m\u001b[0;34m\u001b[0m\u001b[0m\n\u001b[0m\u001b[1;32m    122\u001b[0m                 \u001b[0mcopyfileobj\u001b[0m\u001b[0;34m(\u001b[0m\u001b[0mfsrc\u001b[0m\u001b[0;34m,\u001b[0m \u001b[0mfdst\u001b[0m\u001b[0;34m)\u001b[0m\u001b[0;34m\u001b[0m\u001b[0m\n\u001b[1;32m    123\u001b[0m     \u001b[0;32mreturn\u001b[0m \u001b[0mdst\u001b[0m\u001b[0;34m\u001b[0m\u001b[0m\n",
      "\u001b[0;31mNotADirectoryError\u001b[0m: [Errno 20] Not a directory: '/scratch/zimmer/Ulises_temp/OD20_vs_OD10/avi_files/20210527/bash_to_run_directories.sh/proofed_track_parameters_10hz_2000_ImpGrad.m'"
     ]
    }
   ],
   "source": [
    "#copy one file nany times to several folders:\n",
    "dest_path='/scratch/zimmer/Ulises_temp/OD20_vs_OD10/avi_files/20210527/'\n",
    "file='/scratch/zimmer/Ulises_temp/OD20_vs_OD10/avi_files/proofed_track_parameters_10hz_2000_ImpGrad.m'\n",
    "file_basename=os.path.basename(file)\n",
    "for folder in os.listdir(dest_path):\n",
    "    #print(folder)\n",
    "    new_filepath=os.path.join(dest_path, folder,file_basename)\n",
    "    print(new_filepath)\n",
    "    shutil.copyfile(file, new_filepath)"
   ]
  },
  {
   "cell_type": "code",
   "execution_count": 9,
   "id": "institutional-annotation",
   "metadata": {},
   "outputs": [],
   "source": [
    "main_path=glob.glob(os.path.join(path,'*/'))\n",
    "for folder in main_path:\n",
    "    shutil.copyfile(os.path.join(path,'array_job_flip.sh'),os.path.join(folder,'array_job_flip.sh'))\n",
    "    shutil.copyfile(os.path.join(path,'bash_to_run_flip.sh'),os.path.join(folder,'bash_to_run_flip.sh')) "
   ]
  },
  {
   "cell_type": "code",
   "execution_count": 41,
   "id": "valued-season",
   "metadata": {},
   "outputs": [
    {
     "name": "stdout",
     "output_type": "stream",
     "text": [
      "2021-05-27_15-46-52_bh2_ZIM2051_OD20bigtiff\n",
      "2021-05-27_15-50-27_BH5_ZIM2051_OD20bigtiff\n",
      "2021-05-27_15-54-24_BH3_ZIM2051_OD10bigtiff\n",
      "2021-05-27_17-03-45_bh1_zim2051_OD10bigtiff\n",
      "2021-05-27_17-06-24_bh2_ZIM2051_OD10bigtiff\n",
      "2021-05-27_17-09-40_BH3_ZIM2051_OD20bigtiff\n",
      "2021-05-27_17-11-50_BH5_ZIM2051_OD20bigtiff\n",
      "bash_to_run_directories.sh\n",
      "2021-05-27_15-43-42_bh1_zim2051_OD10bigtiff\n",
      "array_job_directories.sh\n"
     ]
    }
   ],
   "source": [
    "#delete all files\n",
    "#works if there is only one file in the directory\n",
    "path='/scratch/zimmer/Ulises_temp/OD20_vs_OD10/avi_files/20210527/'\n",
    "for folder in os.listdir(path):\n",
    "    print(folder)\n",
    "    files=glob.glob(os.path.join(path,folder,'*.m'))\n",
    "    for file in files:\n",
    "        os.remove(file)"
   ]
  },
  {
   "cell_type": "code",
   "execution_count": 23,
   "id": "strategic-parker",
   "metadata": {},
   "outputs": [
    {
     "data": {
      "text/plain": [
       "[]"
      ]
     },
     "execution_count": 23,
     "metadata": {},
     "output_type": "execute_result"
    }
   ],
   "source": [
    "files"
   ]
  },
  {
   "cell_type": "code",
   "execution_count": null,
   "id": "portuguese-huntington",
   "metadata": {},
   "outputs": [],
   "source": []
  }
 ],
 "metadata": {
  "kernelspec": {
   "display_name": "Python [conda env:anaconda3-DLC-GPU]",
   "language": "python",
   "name": "conda-env-anaconda3-DLC-GPU-py"
  },
  "language_info": {
   "codemirror_mode": {
    "name": "ipython",
    "version": 3
   },
   "file_extension": ".py",
   "mimetype": "text/x-python",
   "name": "python",
   "nbconvert_exporter": "python",
   "pygments_lexer": "ipython3",
   "version": "3.6.6"
  }
 },
 "nbformat": 4,
 "nbformat_minor": 5
}
