{
 "cells": [
  {
   "cell_type": "markdown",
   "id": "bizarre-scanning",
   "metadata": {},
   "source": [
    "# Copy paste Tools\n",
    "create directories. useful for image processing pipeline."
   ]
  },
  {
   "cell_type": "code",
   "execution_count": null,
   "id": "collectible-reality",
   "metadata": {},
   "outputs": [],
   "source": [
    "import tifffile as tiff\n",
    "from natsort import natsorted\n",
    "import os\n",
    "import numpy as np\n",
    "import matplotlib.pyplot as plt\n",
    "import cv2"
   ]
  },
  {
   "cell_type": "code",
   "execution_count": null,
   "id": "progressive-mount",
   "metadata": {},
   "outputs": [],
   "source": [
    "import shutil\n",
    "import glob"
   ]
  },
  {
   "cell_type": "code",
   "execution_count": null,
   "id": "superb-norwegian",
   "metadata": {},
   "outputs": [],
   "source": [
    "import pathlib"
   ]
  },
  {
   "cell_type": "code",
   "execution_count": null,
   "id": "superior-exhaust",
   "metadata": {},
   "outputs": [],
   "source": [
    "path='/scratch/zimmer/Ulises_temp/OD20_vs_OD10/avi_files/20210527/'"
   ]
  },
  {
   "cell_type": "code",
   "execution_count": null,
   "id": "large-variable",
   "metadata": {},
   "outputs": [],
   "source": [
    "files=glob.glob(os.path.join(path,'*.avi'))"
   ]
  },
  {
   "cell_type": "code",
   "execution_count": null,
   "id": "reduced-atlas",
   "metadata": {},
   "outputs": [],
   "source": [
    "#I run this in two rounds because I was testing\n",
    "#it should be corrected so that it creates the folders and moves the file there in the same loop\n",
    "for file in files:\n",
    "    if file.endswith('.avi'):\n",
    "        print(file)\n",
    "        print('path', os.path.splitext(file)[0])\n",
    "        print('basename',os.path.basename(file))\n",
    "        new_dir_name=os.path.splitext(file)[0]#pathlib.Path(file).stem\n",
    "        print(new_dir_name)\n",
    "        print('\\nnew path folder:',os.path.join(new_dir_name))\n",
    "        print('\\nnew path file name:',os.path.join(new_dir_name,os.path.basename(file)))\n",
    "        \n",
    "        #do things\n",
    "        os.mkdir(new_dir_name)\n",
    "\n",
    "        shutil.move(file, os.path.join(new_dir_name,os.path.basename(file)))\n",
    "    "
   ]
  },
  {
   "cell_type": "code",
   "execution_count": null,
   "id": "desperate-jones",
   "metadata": {},
   "outputs": [],
   "source": [
    "#move all files with specified extension (*.txt, *.tiff, *.mat or whatever):\n",
    "extension='*als.mat'\n",
    "\n",
    "path='/groups/zimmer/Ulises/code/cluster_outputs/new/'\n",
    "dest_path='/groups/zimmer/Ulises/code/cluster_outputs/old/'\n",
    "files=glob.glob(os.path.join(path,extension))\n",
    "for file in files:\n",
    "    print(file)\n",
    "    new_filepath=os.path.join(dest_path, os.path.basename(file))\n",
    "    shutil.move(file, new_filepath)"
   ]
  },
  {
   "cell_type": "code",
   "execution_count": null,
   "id": "unlikely-screw",
   "metadata": {},
   "outputs": [],
   "source": [
    "#move all files with specified extension (*.txt, *.tiff, *.mat or whatever) RECURSIVELY in the subdirectories\n",
    "extension='*als.mat'\n",
    "\n",
    "path='/scratch/zimmer/Ulises_temp/OD20_vs_OD10/avi_files/'\n",
    "dest_path='/scratch/zimmer/Ulises_temp/OD20_vs_OD10/avi_files/mp4_movies/'\n",
    "files=glob.glob(os.path.join(path,extension))\n",
    "\n",
    "for dirpath, _, files in os.walk(path):\n",
    "    for file in files:\n",
    "        if file.endswith('.avi'):\n",
    "            src=os.path.join(dirpath,file)\n",
    "            print('current path: ',src)\n",
    "            #new_filepath=os.path.join(dest_path, os.path.basename(file))\n",
    "            dst=os.path.join(dest_path,file)\n",
    "            print('new path: ',os.path.join(dest_path,file))\n",
    "            print('\\n')\n",
    "            shutil.copyfile(src, dst)"
   ]
  },
  {
   "cell_type": "code",
   "execution_count": null,
   "id": "representative-volunteer",
   "metadata": {},
   "outputs": [],
   "source": [
    "files"
   ]
  },
  {
   "cell_type": "code",
   "execution_count": null,
   "id": "personal-admission",
   "metadata": {},
   "outputs": [],
   "source": [
    "#copy one file nany times to several folders:\n",
    "dest_path='/scratch/zimmer/Ulises_temp/OD20_vs_OD10/avi_files/20210527/'\n",
    "file='/scratch/zimmer/Ulises_temp/OD20_vs_OD10/avi_files/proofed_track_parameters_10hz_2000_ImpGrad.m'\n",
    "file_basename=os.path.basename(file)\n",
    "for folder in os.listdir(dest_path):\n",
    "    #print(folder)\n",
    "    new_filepath=os.path.join(dest_path, folder,file_basename)\n",
    "    print(new_filepath)\n",
    "    shutil.copyfile(file, new_filepath)"
   ]
  },
  {
   "cell_type": "code",
   "execution_count": null,
   "id": "divided-barcelona",
   "metadata": {},
   "outputs": [],
   "source": [
    "main_path=glob.glob(os.path.join(path,'*/'))\n",
    "for folder in main_path:\n",
    "    shutil.copyfile(os.path.join(path,'array_job_flip.sh'),os.path.join(folder,'array_job_flip.sh'))\n",
    "    shutil.copyfile(os.path.join(path,'bash_to_run_flip.sh'),os.path.join(folder,'bash_to_run_flip.sh')) "
   ]
  },
  {
   "cell_type": "code",
   "execution_count": null,
   "id": "oriented-price",
   "metadata": {},
   "outputs": [],
   "source": [
    "#delete all files\n",
    "#works if there is only one file in the directory\n",
    "path='/scratch/zimmer/nisatmp/avis/'\n",
    "for folder in os.listdir(path):\n",
    "    print(folder)\n",
    "    files=glob.glob(os.path.join(path,folder,'*.jpg'))\n",
    "    for file in files:\n",
    "        os.remove(file)"
   ]
  },
  {
   "cell_type": "code",
   "execution_count": null,
   "id": "possible-timeline",
   "metadata": {},
   "outputs": [],
   "source": [
    "#delete all files RECURSIVELY\n",
    "#move all files with specified extension (*.txt, *.tiff, *.mat or whatever) RECURSIVELY in the subdirectories\n",
    "extension='*.avi'\n",
    "\n",
    "path='/scratch/zimmer/Ulises_temp/OD20_vs_OD10/avi_files/20210531_0601'\n",
    "dest_path='/scratch/zimmer/Ulises_temp/OD20_vs_OD10/avi_files/mp4_movies/'\n",
    "#files=glob.glob(os.path.join(path,extension))\n",
    "\n",
    "for dirpath, _, files in os.walk(path):\n",
    "    for file in files:\n",
    "        if file.endswith('.avi'):\n",
    "            src=os.path.join(dirpath,file)\n",
    "            print('current path: ',src)\n",
    "            #os.remove(file)"
   ]
  },
  {
   "cell_type": "code",
   "execution_count": null,
   "id": "medical-australian",
   "metadata": {},
   "outputs": [],
   "source": [
    "#delete all files excetp ones ina subfolder\n",
    "#works if there is only one file in the directory\n",
    "path='/groups/zimmer/Ulises/code/unet-master/data/worm2/training_results/'\n",
    "for directory, subdirectories, files in os.walk(path):\n",
    "    #if folder is 'aug': continue\n",
    "    for subdirectory in subdirectories:\n",
    "        #print(subdirectory)\n",
    "        if 'test' in subdirectory:\n",
    "            print(os.path.join(directory,subdirectory))\n",
    "            shutil.rmtree(os.path.join(directory,subdirectory))\n",
    "#     files=glob.glob(os.path.join(path,folder,'*.png'))\n",
    "#     for file in files:\n",
    "#         if file.endswith('predict.png'):\n",
    "#             #print(file)\n",
    "#             os.remove(file)"
   ]
  },
  {
   "cell_type": "code",
   "execution_count": null,
   "id": "adjustable-alloy",
   "metadata": {},
   "outputs": [],
   "source": [
    "#delete are files that are not in a list\n",
    "import os\n",
    "original_path='/groups/zimmer/Ulises/code/unet-master/data/a_new_crop_worm_eroded/train/image'\n",
    "files=os.listdir(original_path)\n",
    "second_path=path='/groups/zimmer/Ulises/code/unet-master/data/a_new_crop_worm_eroded/train/label/'\n",
    "\n",
    "for file in os.listdir(second_path):\n",
    "    if file not in files:\n",
    "        print(os.path.join(second_path,file))\n",
    "        os.remove(os.path.join(second_path,file))\n",
    "    "
   ]
  },
  {
   "cell_type": "code",
   "execution_count": null,
   "id": "electric-indication",
   "metadata": {},
   "outputs": [],
   "source": []
  }
 ],
 "metadata": {
  "kernelspec": {
   "display_name": "Python [conda env:anaconda3-openCV]",
   "language": "python",
   "name": "conda-env-anaconda3-openCV-py"
  },
  "language_info": {
   "codemirror_mode": {
    "name": "ipython",
    "version": 3
   },
   "file_extension": ".py",
   "mimetype": "text/x-python",
   "name": "python",
   "nbconvert_exporter": "python",
   "pygments_lexer": "ipython3",
   "version": "3.7.9"
  }
 },
 "nbformat": 4,
 "nbformat_minor": 5
}
