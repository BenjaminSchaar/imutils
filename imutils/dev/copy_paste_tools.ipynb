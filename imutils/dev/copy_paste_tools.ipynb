{
 "cells": [
  {
   "cell_type": "markdown",
   "id": "hungarian-survey",
   "metadata": {},
   "source": [
    "# Copy paste Tools\n",
    "create directories. useful for image processing pipeline."
   ]
  },
  {
   "cell_type": "code",
   "execution_count": 3,
   "id": "therapeutic-standard",
   "metadata": {},
   "outputs": [],
   "source": [
    "import tifffile as tiff\n",
    "from natsort import natsorted\n",
    "import os\n",
    "import numpy as np\n",
    "import matplotlib.pyplot as plt"
   ]
  },
  {
   "cell_type": "code",
   "execution_count": 4,
   "id": "optional-maintenance",
   "metadata": {},
   "outputs": [],
   "source": [
    "import shutil\n",
    "import glob"
   ]
  },
  {
   "cell_type": "code",
   "execution_count": 11,
   "id": "metallic-forest",
   "metadata": {},
   "outputs": [],
   "source": [
    "import pathlib"
   ]
  },
  {
   "cell_type": "code",
   "execution_count": 6,
   "id": "royal-bargain",
   "metadata": {},
   "outputs": [],
   "source": [
    "path='/scratch/zimmer/Ulises_temp/wbfm_20210415/2021_04_15/fluo/'"
   ]
  },
  {
   "cell_type": "code",
   "execution_count": 12,
   "id": "passing-problem",
   "metadata": {},
   "outputs": [],
   "source": [
    "files=glob.glob(os.path.join(path,'*.btf'))"
   ]
  },
  {
   "cell_type": "code",
   "execution_count": 32,
   "id": "frequent-pioneer",
   "metadata": {
    "collapsed": true,
    "jupyter": {
     "outputs_hidden": true
    }
   },
   "outputs": [
    {
     "name": "stdout",
     "output_type": "stream",
     "text": [
      "/scratch/zimmer/Ulises_temp/wbfm_20210415/2021_04_15/fluo/2021-04-15_14-47-51_worm2-channel-0-pco_camera1bigtiff.btf\n",
      "path /scratch/zimmer/Ulises_temp/wbfm_20210415/2021_04_15/fluo/2021-04-15_14-47-51_worm2-channel-0-pco_camera1bigtiff\n",
      "basename 2021-04-15_14-47-51_worm2-channel-0-pco_camera1bigtiff.btf\n",
      "\n",
      "new path: /scratch/zimmer/Ulises_temp/wbfm_20210415/2021_04_15/fluo/2021-04-15_14-47-51_worm2-channel-0-pco_camera1bigtiff\n",
      "\n",
      "new path2: /scratch/zimmer/Ulises_temp/wbfm_20210415/2021_04_15/fluo/2021-04-15_14-47-51_worm2-channel-0-pco_camera1bigtiff/2021-04-15_14-47-51_worm2-channel-0-pco_camera1bigtiff.btf\n",
      "/scratch/zimmer/Ulises_temp/wbfm_20210415/2021_04_15/fluo/2021-04-15_14-47-51_worm2-channel-1-pco_camera2bigtiff.btf\n",
      "path /scratch/zimmer/Ulises_temp/wbfm_20210415/2021_04_15/fluo/2021-04-15_14-47-51_worm2-channel-1-pco_camera2bigtiff\n",
      "basename 2021-04-15_14-47-51_worm2-channel-1-pco_camera2bigtiff.btf\n",
      "\n",
      "new path: /scratch/zimmer/Ulises_temp/wbfm_20210415/2021_04_15/fluo/2021-04-15_14-47-51_worm2-channel-1-pco_camera2bigtiff\n",
      "\n",
      "new path2: /scratch/zimmer/Ulises_temp/wbfm_20210415/2021_04_15/fluo/2021-04-15_14-47-51_worm2-channel-1-pco_camera2bigtiff/2021-04-15_14-47-51_worm2-channel-1-pco_camera2bigtiff.btf\n",
      "/scratch/zimmer/Ulises_temp/wbfm_20210415/2021_04_15/fluo/2021-04-15_15-04-08_worm3-channel-0-pco_camera1bigtiff.btf\n",
      "path /scratch/zimmer/Ulises_temp/wbfm_20210415/2021_04_15/fluo/2021-04-15_15-04-08_worm3-channel-0-pco_camera1bigtiff\n",
      "basename 2021-04-15_15-04-08_worm3-channel-0-pco_camera1bigtiff.btf\n",
      "\n",
      "new path: /scratch/zimmer/Ulises_temp/wbfm_20210415/2021_04_15/fluo/2021-04-15_15-04-08_worm3-channel-0-pco_camera1bigtiff\n",
      "\n",
      "new path2: /scratch/zimmer/Ulises_temp/wbfm_20210415/2021_04_15/fluo/2021-04-15_15-04-08_worm3-channel-0-pco_camera1bigtiff/2021-04-15_15-04-08_worm3-channel-0-pco_camera1bigtiff.btf\n",
      "/scratch/zimmer/Ulises_temp/wbfm_20210415/2021_04_15/fluo/2021-04-15_15-04-08_worm3-channel-1-pco_camera2bigtiff.btf\n",
      "path /scratch/zimmer/Ulises_temp/wbfm_20210415/2021_04_15/fluo/2021-04-15_15-04-08_worm3-channel-1-pco_camera2bigtiff\n",
      "basename 2021-04-15_15-04-08_worm3-channel-1-pco_camera2bigtiff.btf\n",
      "\n",
      "new path: /scratch/zimmer/Ulises_temp/wbfm_20210415/2021_04_15/fluo/2021-04-15_15-04-08_worm3-channel-1-pco_camera2bigtiff\n",
      "\n",
      "new path2: /scratch/zimmer/Ulises_temp/wbfm_20210415/2021_04_15/fluo/2021-04-15_15-04-08_worm3-channel-1-pco_camera2bigtiff/2021-04-15_15-04-08_worm3-channel-1-pco_camera2bigtiff.btf\n",
      "/scratch/zimmer/Ulises_temp/wbfm_20210415/2021_04_15/fluo/2021-04-15_15-11-15_worm3_2-channel-0-pco_camera1bigtiff.btf\n",
      "path /scratch/zimmer/Ulises_temp/wbfm_20210415/2021_04_15/fluo/2021-04-15_15-11-15_worm3_2-channel-0-pco_camera1bigtiff\n",
      "basename 2021-04-15_15-11-15_worm3_2-channel-0-pco_camera1bigtiff.btf\n",
      "\n",
      "new path: /scratch/zimmer/Ulises_temp/wbfm_20210415/2021_04_15/fluo/2021-04-15_15-11-15_worm3_2-channel-0-pco_camera1bigtiff\n",
      "\n",
      "new path2: /scratch/zimmer/Ulises_temp/wbfm_20210415/2021_04_15/fluo/2021-04-15_15-11-15_worm3_2-channel-0-pco_camera1bigtiff/2021-04-15_15-11-15_worm3_2-channel-0-pco_camera1bigtiff.btf\n",
      "/scratch/zimmer/Ulises_temp/wbfm_20210415/2021_04_15/fluo/2021-04-15_15-11-15_worm3_2-channel-1-pco_camera2bigtiff.btf\n",
      "path /scratch/zimmer/Ulises_temp/wbfm_20210415/2021_04_15/fluo/2021-04-15_15-11-15_worm3_2-channel-1-pco_camera2bigtiff\n",
      "basename 2021-04-15_15-11-15_worm3_2-channel-1-pco_camera2bigtiff.btf\n",
      "\n",
      "new path: /scratch/zimmer/Ulises_temp/wbfm_20210415/2021_04_15/fluo/2021-04-15_15-11-15_worm3_2-channel-1-pco_camera2bigtiff\n",
      "\n",
      "new path2: /scratch/zimmer/Ulises_temp/wbfm_20210415/2021_04_15/fluo/2021-04-15_15-11-15_worm3_2-channel-1-pco_camera2bigtiff/2021-04-15_15-11-15_worm3_2-channel-1-pco_camera2bigtiff.btf\n",
      "/scratch/zimmer/Ulises_temp/wbfm_20210415/2021_04_15/fluo/2021-04-15_15-31-14_worm4-channel-0-pco_camera1bigtiff.btf\n",
      "path /scratch/zimmer/Ulises_temp/wbfm_20210415/2021_04_15/fluo/2021-04-15_15-31-14_worm4-channel-0-pco_camera1bigtiff\n",
      "basename 2021-04-15_15-31-14_worm4-channel-0-pco_camera1bigtiff.btf\n",
      "\n",
      "new path: /scratch/zimmer/Ulises_temp/wbfm_20210415/2021_04_15/fluo/2021-04-15_15-31-14_worm4-channel-0-pco_camera1bigtiff\n",
      "\n",
      "new path2: /scratch/zimmer/Ulises_temp/wbfm_20210415/2021_04_15/fluo/2021-04-15_15-31-14_worm4-channel-0-pco_camera1bigtiff/2021-04-15_15-31-14_worm4-channel-0-pco_camera1bigtiff.btf\n",
      "/scratch/zimmer/Ulises_temp/wbfm_20210415/2021_04_15/fluo/2021-04-15_15-31-14_worm4-channel-1-pco_camera2bigtiff.btf\n",
      "path /scratch/zimmer/Ulises_temp/wbfm_20210415/2021_04_15/fluo/2021-04-15_15-31-14_worm4-channel-1-pco_camera2bigtiff\n",
      "basename 2021-04-15_15-31-14_worm4-channel-1-pco_camera2bigtiff.btf\n",
      "\n",
      "new path: /scratch/zimmer/Ulises_temp/wbfm_20210415/2021_04_15/fluo/2021-04-15_15-31-14_worm4-channel-1-pco_camera2bigtiff\n",
      "\n",
      "new path2: /scratch/zimmer/Ulises_temp/wbfm_20210415/2021_04_15/fluo/2021-04-15_15-31-14_worm4-channel-1-pco_camera2bigtiff/2021-04-15_15-31-14_worm4-channel-1-pco_camera2bigtiff.btf\n",
      "/scratch/zimmer/Ulises_temp/wbfm_20210415/2021_04_15/fluo/2021-04-15_15-37-56_worm4_2-channel-0-pco_camera1bigtiff.btf\n",
      "path /scratch/zimmer/Ulises_temp/wbfm_20210415/2021_04_15/fluo/2021-04-15_15-37-56_worm4_2-channel-0-pco_camera1bigtiff\n",
      "basename 2021-04-15_15-37-56_worm4_2-channel-0-pco_camera1bigtiff.btf\n",
      "\n",
      "new path: /scratch/zimmer/Ulises_temp/wbfm_20210415/2021_04_15/fluo/2021-04-15_15-37-56_worm4_2-channel-0-pco_camera1bigtiff\n",
      "\n",
      "new path2: /scratch/zimmer/Ulises_temp/wbfm_20210415/2021_04_15/fluo/2021-04-15_15-37-56_worm4_2-channel-0-pco_camera1bigtiff/2021-04-15_15-37-56_worm4_2-channel-0-pco_camera1bigtiff.btf\n",
      "/scratch/zimmer/Ulises_temp/wbfm_20210415/2021_04_15/fluo/2021-04-15_15-37-56_worm4_2-channel-1-pco_camera2bigtiff.btf\n",
      "path /scratch/zimmer/Ulises_temp/wbfm_20210415/2021_04_15/fluo/2021-04-15_15-37-56_worm4_2-channel-1-pco_camera2bigtiff\n",
      "basename 2021-04-15_15-37-56_worm4_2-channel-1-pco_camera2bigtiff.btf\n",
      "\n",
      "new path: /scratch/zimmer/Ulises_temp/wbfm_20210415/2021_04_15/fluo/2021-04-15_15-37-56_worm4_2-channel-1-pco_camera2bigtiff\n",
      "\n",
      "new path2: /scratch/zimmer/Ulises_temp/wbfm_20210415/2021_04_15/fluo/2021-04-15_15-37-56_worm4_2-channel-1-pco_camera2bigtiff/2021-04-15_15-37-56_worm4_2-channel-1-pco_camera2bigtiff.btf\n",
      "/scratch/zimmer/Ulises_temp/wbfm_20210415/2021_04_15/fluo/2021-04-15_16-41-22_worm6-channel-0-pco_camera1bigtiff.btf\n",
      "path /scratch/zimmer/Ulises_temp/wbfm_20210415/2021_04_15/fluo/2021-04-15_16-41-22_worm6-channel-0-pco_camera1bigtiff\n",
      "basename 2021-04-15_16-41-22_worm6-channel-0-pco_camera1bigtiff.btf\n",
      "\n",
      "new path: /scratch/zimmer/Ulises_temp/wbfm_20210415/2021_04_15/fluo/2021-04-15_16-41-22_worm6-channel-0-pco_camera1bigtiff\n",
      "\n",
      "new path2: /scratch/zimmer/Ulises_temp/wbfm_20210415/2021_04_15/fluo/2021-04-15_16-41-22_worm6-channel-0-pco_camera1bigtiff/2021-04-15_16-41-22_worm6-channel-0-pco_camera1bigtiff.btf\n",
      "/scratch/zimmer/Ulises_temp/wbfm_20210415/2021_04_15/fluo/2021-04-15_16-41-22_worm6-channel-1-pco_camera2bigtiff.btf\n",
      "path /scratch/zimmer/Ulises_temp/wbfm_20210415/2021_04_15/fluo/2021-04-15_16-41-22_worm6-channel-1-pco_camera2bigtiff\n",
      "basename 2021-04-15_16-41-22_worm6-channel-1-pco_camera2bigtiff.btf\n",
      "\n",
      "new path: /scratch/zimmer/Ulises_temp/wbfm_20210415/2021_04_15/fluo/2021-04-15_16-41-22_worm6-channel-1-pco_camera2bigtiff\n",
      "\n",
      "new path2: /scratch/zimmer/Ulises_temp/wbfm_20210415/2021_04_15/fluo/2021-04-15_16-41-22_worm6-channel-1-pco_camera2bigtiff/2021-04-15_16-41-22_worm6-channel-1-pco_camera2bigtiff.btf\n",
      "/scratch/zimmer/Ulises_temp/wbfm_20210415/2021_04_15/fluo/2021-04-15_16-49-40_worm6_2-channel-0-pco_camera1bigtiff.btf\n",
      "path /scratch/zimmer/Ulises_temp/wbfm_20210415/2021_04_15/fluo/2021-04-15_16-49-40_worm6_2-channel-0-pco_camera1bigtiff\n",
      "basename 2021-04-15_16-49-40_worm6_2-channel-0-pco_camera1bigtiff.btf\n",
      "\n",
      "new path: /scratch/zimmer/Ulises_temp/wbfm_20210415/2021_04_15/fluo/2021-04-15_16-49-40_worm6_2-channel-0-pco_camera1bigtiff\n",
      "\n",
      "new path2: /scratch/zimmer/Ulises_temp/wbfm_20210415/2021_04_15/fluo/2021-04-15_16-49-40_worm6_2-channel-0-pco_camera1bigtiff/2021-04-15_16-49-40_worm6_2-channel-0-pco_camera1bigtiff.btf\n",
      "/scratch/zimmer/Ulises_temp/wbfm_20210415/2021_04_15/fluo/2021-04-15_16-49-40_worm6_2-channel-1-pco_camera2bigtiff.btf\n",
      "path /scratch/zimmer/Ulises_temp/wbfm_20210415/2021_04_15/fluo/2021-04-15_16-49-40_worm6_2-channel-1-pco_camera2bigtiff\n",
      "basename 2021-04-15_16-49-40_worm6_2-channel-1-pco_camera2bigtiff.btf\n",
      "\n",
      "new path: /scratch/zimmer/Ulises_temp/wbfm_20210415/2021_04_15/fluo/2021-04-15_16-49-40_worm6_2-channel-1-pco_camera2bigtiff\n",
      "\n",
      "new path2: /scratch/zimmer/Ulises_temp/wbfm_20210415/2021_04_15/fluo/2021-04-15_16-49-40_worm6_2-channel-1-pco_camera2bigtiff/2021-04-15_16-49-40_worm6_2-channel-1-pco_camera2bigtiff.btf\n",
      "/scratch/zimmer/Ulises_temp/wbfm_20210415/2021_04_15/fluo/2021-04-15_16-58-31_darkfield-channel-0-pco_camera1bigtiff.btf\n",
      "path /scratch/zimmer/Ulises_temp/wbfm_20210415/2021_04_15/fluo/2021-04-15_16-58-31_darkfield-channel-0-pco_camera1bigtiff\n",
      "basename 2021-04-15_16-58-31_darkfield-channel-0-pco_camera1bigtiff.btf\n",
      "\n",
      "new path: /scratch/zimmer/Ulises_temp/wbfm_20210415/2021_04_15/fluo/2021-04-15_16-58-31_darkfield-channel-0-pco_camera1bigtiff\n",
      "\n",
      "new path2: /scratch/zimmer/Ulises_temp/wbfm_20210415/2021_04_15/fluo/2021-04-15_16-58-31_darkfield-channel-0-pco_camera1bigtiff/2021-04-15_16-58-31_darkfield-channel-0-pco_camera1bigtiff.btf\n",
      "/scratch/zimmer/Ulises_temp/wbfm_20210415/2021_04_15/fluo/2021-04-15_16-58-31_darkfield-channel-1-pco_camera2bigtiff.btf\n",
      "path /scratch/zimmer/Ulises_temp/wbfm_20210415/2021_04_15/fluo/2021-04-15_16-58-31_darkfield-channel-1-pco_camera2bigtiff\n",
      "basename 2021-04-15_16-58-31_darkfield-channel-1-pco_camera2bigtiff.btf\n",
      "\n",
      "new path: /scratch/zimmer/Ulises_temp/wbfm_20210415/2021_04_15/fluo/2021-04-15_16-58-31_darkfield-channel-1-pco_camera2bigtiff\n",
      "\n",
      "new path2: /scratch/zimmer/Ulises_temp/wbfm_20210415/2021_04_15/fluo/2021-04-15_16-58-31_darkfield-channel-1-pco_camera2bigtiff/2021-04-15_16-58-31_darkfield-channel-1-pco_camera2bigtiff.btf\n"
     ]
    }
   ],
   "source": [
    "#I run this in two rounds because I was testing\n",
    "#it should be corrected so that it creates the folders and moves the file there in the same loop\n",
    "for file in files:\n",
    "    if file.endswith('.btf'):\n",
    "        print(file)\n",
    "        print('path', os.path.splitext(file)[0])\n",
    "        print('basename',os.path.basename(file))\n",
    "        new_dir_name=os.path.splitext(file)[0]#pathlib.Path(file).stem\n",
    "        #os.mkdir(new_dir_name)\n",
    "        print('\\nnew path:',os.path.join(new_dir_name))\n",
    "        print('\\nnew path2:',os.path.join(new_dir_name,os.path.basename(file)))\n",
    "\n",
    "        shutil.move(file, os.path.join(new_dir_name,os.path.basename(file)))\n",
    "    "
   ]
  },
  {
   "cell_type": "code",
   "execution_count": 16,
   "id": "controlled-plymouth",
   "metadata": {
    "collapsed": true,
    "jupyter": {
     "outputs_hidden": true
    }
   },
   "outputs": [
    {
     "name": "stdout",
     "output_type": "stream",
     "text": [
      "/groups/zimmer/Ulises/code/cluster_outputs/new/output_21255099_0.txt.txt\n",
      "/groups/zimmer/Ulises/code/cluster_outputs/new/output_21255100_0.txt.txt\n",
      "/groups/zimmer/Ulises/code/cluster_outputs/new/output_21255101_0.txt.txt\n",
      "/groups/zimmer/Ulises/code/cluster_outputs/new/output_21255101_1.txt.txt\n",
      "/groups/zimmer/Ulises/code/cluster_outputs/new/output_21255101_2.txt.txt\n",
      "/groups/zimmer/Ulises/code/cluster_outputs/new/output_21255101_3.txt.txt\n",
      "/groups/zimmer/Ulises/code/cluster_outputs/new/output_21255101_4.txt.txt\n",
      "/groups/zimmer/Ulises/code/cluster_outputs/new/output_21255101_5.txt.txt\n",
      "/groups/zimmer/Ulises/code/cluster_outputs/new/output_21255101_6.txt.txt\n",
      "/groups/zimmer/Ulises/code/cluster_outputs/new/output_21255101_7.txt.txt\n",
      "/groups/zimmer/Ulises/code/cluster_outputs/new/output_21255101_8.txt.txt\n",
      "/groups/zimmer/Ulises/code/cluster_outputs/new/output_21255101_9.txt.txt\n",
      "/groups/zimmer/Ulises/code/cluster_outputs/new/output_21255101_10.txt.txt\n",
      "/groups/zimmer/Ulises/code/cluster_outputs/new/output_21255101_11.txt.txt\n",
      "/groups/zimmer/Ulises/code/cluster_outputs/new/output_21255101_12.txt.txt\n",
      "/groups/zimmer/Ulises/code/cluster_outputs/new/output_21255101_13.txt.txt\n",
      "/groups/zimmer/Ulises/code/cluster_outputs/new/output_21255101_14.txt.txt\n",
      "/groups/zimmer/Ulises/code/cluster_outputs/new/output_21255101_15.txt.txt\n",
      "/groups/zimmer/Ulises/code/cluster_outputs/new/output_21255101_16.txt.txt\n",
      "/groups/zimmer/Ulises/code/cluster_outputs/new/output_21255102_0.txt.txt\n",
      "/groups/zimmer/Ulises/code/cluster_outputs/new/output_21255103_0.txt.txt\n",
      "/groups/zimmer/Ulises/code/cluster_outputs/new/output_21255104_0.txt.txt\n",
      "/groups/zimmer/Ulises/code/cluster_outputs/new/output_21255105_0.txt.txt\n",
      "/groups/zimmer/Ulises/code/cluster_outputs/new/output_21255106_0.txt.txt\n",
      "/groups/zimmer/Ulises/code/cluster_outputs/new/output_21255107_0.txt.txt\n",
      "/groups/zimmer/Ulises/code/cluster_outputs/new/output_21255108_0.txt.txt\n",
      "/groups/zimmer/Ulises/code/cluster_outputs/new/output_21255109_0.txt.txt\n",
      "/groups/zimmer/Ulises/code/cluster_outputs/new/output_21255110_0.txt.txt\n",
      "/groups/zimmer/Ulises/code/cluster_outputs/new/output_21255111_0.txt.txt\n",
      "/groups/zimmer/Ulises/code/cluster_outputs/new/output_21255112_0.txt.txt\n",
      "/groups/zimmer/Ulises/code/cluster_outputs/new/output_21255113_0.txt.txt\n",
      "/groups/zimmer/Ulises/code/cluster_outputs/new/output_21255114_0.txt.txt\n",
      "/groups/zimmer/Ulises/code/cluster_outputs/new/output_21255115_0.txt.txt\n",
      "/groups/zimmer/Ulises/code/cluster_outputs/new/output_21255081_5.txt.txt\n",
      "/groups/zimmer/Ulises/code/cluster_outputs/new/output_21255081_8.txt.txt\n",
      "/groups/zimmer/Ulises/code/cluster_outputs/new/output_21255081_9.txt.txt\n",
      "/groups/zimmer/Ulises/code/cluster_outputs/new/output_21255081_11.txt.txt\n",
      "/groups/zimmer/Ulises/code/cluster_outputs/new/output_21255081_0.txt.txt\n",
      "/groups/zimmer/Ulises/code/cluster_outputs/new/output_21255081_1.txt.txt\n"
     ]
    }
   ],
   "source": [
    "#mvoe all text files:\n",
    "path='/groups/zimmer/Ulises/code/cluster_outputs/new/'\n",
    "dest_path='/groups/zimmer/Ulises/code/cluster_outputs/old/'\n",
    "files=glob.glob(os.path.join(path,'*.txt'))\n",
    "for file in files:\n",
    "    print(file)\n",
    "    new_filepath=os.path.join(dest_path, os.path.basename(file))\n",
    "    shutil.move(file, new_filepath)"
   ]
  },
  {
   "cell_type": "code",
   "execution_count": 9,
   "id": "specified-transaction",
   "metadata": {},
   "outputs": [],
   "source": [
    "main_path=glob.glob(os.path.join(path,'*/'))\n",
    "for folder in main_path:\n",
    "    shutil.copyfile(os.path.join(path,'array_job_flip.sh'),os.path.join(folder,'array_job_flip.sh'))\n",
    "    shutil.copyfile(os.path.join(path,'bash_to_run_flip.sh'),os.path.join(folder,'bash_to_run_flip.sh')) "
   ]
  }
 ],
 "metadata": {
  "kernelspec": {
   "display_name": "Python [conda env:anaconda3-DLC-GPU]",
   "language": "python",
   "name": "conda-env-anaconda3-DLC-GPU-py"
  },
  "language_info": {
   "codemirror_mode": {
    "name": "ipython",
    "version": 3
   },
   "file_extension": ".py",
   "mimetype": "text/x-python",
   "name": "python",
   "nbconvert_exporter": "python",
   "pygments_lexer": "ipython3",
   "version": "3.6.6"
  }
 },
 "nbformat": 4,
 "nbformat_minor": 5
}
