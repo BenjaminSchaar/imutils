{
 "cells": [
  {
   "cell_type": "markdown",
   "id": "wrong-behavior",
   "metadata": {},
   "source": [
    "# Copy paste Tools\n",
    "This notebook contains differnts scripts to organize files for different purposes.\n",
    "\n",
    "If I knew more bash scripting maybe I would not need these."
   ]
  },
  {
   "cell_type": "code",
   "execution_count": 6,
   "id": "perceived-bread",
   "metadata": {},
   "outputs": [],
   "source": [
    "#import packages\n",
    "import tifffile as tiff\n",
    "from natsort import natsorted\n",
    "import os\n",
    "import numpy as np\n",
    "import matplotlib.pyplot as plt\n",
    "import cv2\n",
    "\n",
    "import shutil\n",
    "import glob\n",
    "\n",
    "import pathlib"
   ]
  },
  {
   "cell_type": "code",
   "execution_count": 7,
   "id": "antique-million",
   "metadata": {},
   "outputs": [],
   "source": [
    "#For all avi files in a directory, creates a folder for them in that directory with their names, and moves the files in there"
   ]
  },
  {
   "cell_type": "code",
   "execution_count": null,
   "id": "typical-height",
   "metadata": {},
   "outputs": [],
   "source": [
    "extension='.avi'\n",
    "files=glob.glob('/groups/zimmer/Ulises/wbfm/chemotaxis_assay/2020_Only_behaviour/avi_all_raw/*'+extension)\n",
    "\n",
    "for file in files:\n",
    "    if file.endswith(extension):\n",
    "        print('file', file)\n",
    "        print('new_dir_name', os.path.splitext(file)[0])\n",
    "        new_dir_name=os.path.splitext(file)[0]#pathlib.Path(file).stem\n",
    "        print('basename',os.path.basename(file))\n",
    "        \n",
    "        #do things\n",
    "        os.mkdir(new_dir_name)\n",
    "        shutil.move(file, os.path.join(new_dir_name,os.path.basename(file)))\n",
    "    "
   ]
  },
  {
   "cell_type": "code",
   "execution_count": null,
   "id": "compliant-olive",
   "metadata": {},
   "outputs": [],
   "source": [
    "#move all files with specified extension (*.txt, *.tiff, *.mat or whatever), from the source path to the destination path"
   ]
  },
  {
   "cell_type": "code",
   "execution_count": null,
   "id": "racial-america",
   "metadata": {},
   "outputs": [],
   "source": [
    "extension='*als.mat'\n",
    "\n",
    "path='/groups/zimmer/Ulises/code/cluster_outputs/new/'\n",
    "dest_path='/groups/zimmer/Ulises/code/cluster_outputs/old/'\n",
    "files=glob.glob(os.path.join(path,extension))\n",
    "for file in files:\n",
    "    print(file)\n",
    "    new_filepath=os.path.join(dest_path, os.path.basename(file))\n",
    "    shutil.move(file, new_filepath)"
   ]
  },
  {
   "cell_type": "code",
   "execution_count": null,
   "id": "looking-milan",
   "metadata": {},
   "outputs": [],
   "source": [
    "#move all files with specified extension (*.txt, *.tiff, *.mat or whatever) RECURSIVELY in the subdirectories"
   ]
  },
  {
   "cell_type": "code",
   "execution_count": null,
   "id": "floral-society",
   "metadata": {},
   "outputs": [],
   "source": [
    "extension='*als.mat'\n",
    "\n",
    "path='/scratch/zimmer/Ulises_temp/OD20_vs_OD10/avi_files/'\n",
    "dest_path='/scratch/zimmer/Ulises_temp/OD20_vs_OD10/avi_files/mp4_movies/'\n",
    "files=glob.glob(os.path.join(path,extension))\n",
    "\n",
    "for dirpath, _, files in os.walk(path):\n",
    "    for file in files:\n",
    "        if file.endswith('.avi'):\n",
    "            src=os.path.join(dirpath,file)\n",
    "            print('current path: ',src)\n",
    "            #new_filepath=os.path.join(dest_path, os.path.basename(file))\n",
    "            dst=os.path.join(dest_path,file)\n",
    "            print('new path: ',os.path.join(dest_path,file))\n",
    "            print('\\n')\n",
    "            shutil.copyfile(src, dst)"
   ]
  },
  {
   "cell_type": "code",
   "execution_count": null,
   "id": "stuffed-pound",
   "metadata": {},
   "outputs": [],
   "source": [
    "#copy one file nany times to all existing subfolders of dest_path:"
   ]
  },
  {
   "cell_type": "code",
   "execution_count": null,
   "id": "alternate-hurricane",
   "metadata": {},
   "outputs": [],
   "source": [
    "file='/scratch/zimmer/Ulises_temp/OD20_vs_OD10/avi_files/proofed_track_parameters_10hz_2000_ImpGrad.m'\n",
    "dest_path='/groups/zimmer/Ulises/*'\n",
    "\n",
    "file_basename=os.path.basename(file)\n",
    "\n",
    "for element_path in glob.glob(dest_path): #maybe os.walk would be better to use\n",
    "    if os.path.isdir(element_path):\n",
    "        #print(element_path)\n",
    "        new_filepath=os.path.join(element_path,file_basename)\n",
    "        #print(new_filepath)\n",
    "        shutil.copyfile(file, new_filepath)"
   ]
  },
  {
   "cell_type": "code",
   "execution_count": 42,
   "id": "clear-strike",
   "metadata": {},
   "outputs": [],
   "source": [
    "#copy array_job_flip"
   ]
  },
  {
   "cell_type": "code",
   "execution_count": null,
   "id": "interpreted-brook",
   "metadata": {},
   "outputs": [],
   "source": [
    "main_path=glob.glob(os.path.join(path,'*/'))\n",
    "for folder in main_path:\n",
    "    shutil.copyfile(os.path.join(path,'array_job_flip.sh'),os.path.join(folder,'array_job_flip.sh'))\n",
    "    shutil.copyfile(os.path.join(path,'bash_to_run_flip.sh'),os.path.join(folder,'bash_to_run_flip.sh')) "
   ]
  },
  {
   "cell_type": "code",
   "execution_count": null,
   "id": "funny-florist",
   "metadata": {},
   "outputs": [],
   "source": [
    "#delete all files\n",
    "#works if there is only one file in the directory\n",
    "#Now I know how to do it in bash rm /scratch/zimmer/nisatmp/avis/*/*.jpg\n",
    "#I guess with glob can be also more oneline if i did not use os.listdir\n",
    "path='/scratch/zimmer/nisatmp/avis/'\n",
    "for folder in os.listdir(path):\n",
    "    print(folder)\n",
    "    files=glob.glob(os.path.join(path,folder,'*.jpg'))\n",
    "    for file in files:\n",
    "        os.remove(file)"
   ]
  },
  {
   "cell_type": "code",
   "execution_count": null,
   "id": "plastic-technique",
   "metadata": {},
   "outputs": [],
   "source": [
    "#delete all files RECURSIVELY\n",
    "#move all files with specified extension (*.txt, *.tiff, *.mat or whatever) RECURSIVELY in the subdirectories\n",
    "extension='*.avi'\n",
    "\n",
    "path='/scratch/zimmer/Ulises_temp/OD20_vs_OD10/avi_files/20210531_0601'\n",
    "dest_path='/scratch/zimmer/Ulises_temp/OD20_vs_OD10/avi_files/mp4_movies/'\n",
    "#files=glob.glob(os.path.join(path,extension))\n",
    "\n",
    "for dirpath, _, files in os.walk(path):\n",
    "    for file in files:\n",
    "        if file.endswith('.avi'):\n",
    "            src=os.path.join(dirpath,file)\n",
    "            print('current path: ',src)\n",
    "            #os.remove(file)"
   ]
  },
  {
   "cell_type": "code",
   "execution_count": null,
   "id": "invalid-woman",
   "metadata": {},
   "outputs": [],
   "source": [
    "#delete all files excetp ones ina subfolder\n",
    "#works if there is only one file in the directory\n",
    "path='/groups/zimmer/Ulises/code/unet-master/data/worm2/training_results/'\n",
    "for directory, subdirectories, files in os.walk(path):\n",
    "    #if folder is 'aug': continue\n",
    "    for subdirectory in subdirectories:\n",
    "        #print(subdirectory)\n",
    "        if 'test' in subdirectory:\n",
    "            print(os.path.join(directory,subdirectory))\n",
    "            shutil.rmtree(os.path.join(directory,subdirectory))\n",
    "#     files=glob.glob(os.path.join(path,folder,'*.png'))\n",
    "#     for file in files:\n",
    "#         if file.endswith('predict.png'):\n",
    "#             #print(file)\n",
    "#             os.remove(file)"
   ]
  },
  {
   "cell_type": "code",
   "execution_count": null,
   "id": "biblical-poker",
   "metadata": {},
   "outputs": [],
   "source": [
    "#delete all files that are not in an another folder or list\n",
    "#you might want to check that you have added zeros\n",
    "import os\n",
    "original_path='/groups/zimmer/Ulises/code/unet-master/data/a_new_crop_worm_eroded/train/image'\n",
    "files=os.listdir(original_path)\n",
    "second_path='/groups/zimmer/Ulises/code/unet-master/data/a_new_crop_worm_eroded_twice_linewidth/train/image/'\n",
    "\n",
    "for file in os.listdir(second_path):\n",
    "    if file not in files:\n",
    "        print(os.path.join(second_path,file))\n",
    "        os.remove(os.path.join(second_path,file))\n",
    "    "
   ]
  }
 ],
 "metadata": {
  "kernelspec": {
   "display_name": "Python [conda env:anaconda3-openCV]",
   "language": "python",
   "name": "conda-env-anaconda3-openCV-py"
  },
  "language_info": {
   "codemirror_mode": {
    "name": "ipython",
    "version": 3
   },
   "file_extension": ".py",
   "mimetype": "text/x-python",
   "name": "python",
   "nbconvert_exporter": "python",
   "pygments_lexer": "ipython3",
   "version": "3.7.9"
  }
 },
 "nbformat": 4,
 "nbformat_minor": 5
}
