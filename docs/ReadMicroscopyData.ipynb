{
 "cells": [
  {
   "cell_type": "code",
   "execution_count": 1,
   "id": "927538e7-0d19-4c87-9f61-36248dbc428d",
   "metadata": {},
   "outputs": [],
   "source": [
    "# reading MicroManager Data"
   ]
  },
  {
   "cell_type": "code",
   "execution_count": 2,
   "id": "24d905dc-d972-47da-9acf-aaa51a254665",
   "metadata": {},
   "outputs": [],
   "source": [
    "import tifffile as tff\n",
    "from packaging import version\n",
    "if version.parse(tff.__version__) < version.parse('2023.7.10'):\n",
    "    raise ImportError(f\"tifffile version {tff.__version__} is not supported.\")\n",
    "\n",
    "import zarr\n",
    "import dask.array\n",
    "import matplotlib.pyplot as plt\n",
    "from pathlib import Path\n",
    "from typing import Union\n",
    "\n",
    "import logging\n",
    "logger=logging.getLogger()\n",
    "# standard logging config, if you don't have Rich installed\n",
    "# logging.basicConfig(level=logging.INFO, format='%(asctime)s - %(levelname)s - %(message)s')\n",
    "logger.info(f\"tifffile version: {tff.__version__}\")"
   ]
  },
  {
   "cell_type": "code",
   "execution_count": 3,
   "id": "54bc29ad-6f05-472a-93d2-6f434887b06b",
   "metadata": {},
   "outputs": [
    {
     "name": "stdout",
     "output_type": "stream",
     "text": [
      "Make sure logging works!\n",
      "Look for the next cell when you have Rich installed.\n"
     ]
    }
   ],
   "source": [
    "if not logger.hasHandlers():\n",
    "    print(\"Make sure logging works!\")\n",
    "    print(\"Look for the next cell when you have Rich installed.\")\n",
    "else:\n",
    "    logger.info(\"Welcome!\")"
   ]
  },
  {
   "cell_type": "code",
   "execution_count": 4,
   "id": "81369c0f-3bb5-40ec-a7cd-1b250bfa1d51",
   "metadata": {},
   "outputs": [
    {
     "data": {
      "text/html": [
       "<pre style=\"white-space:pre;overflow-x:auto;line-height:normal;font-family:Menlo,'DejaVu Sans Mono',consolas,'Courier New',monospace\"><span style=\"color: #7fbfbf; text-decoration-color: #7fbfbf\">[04/09/24 10:53:31] </span><span style=\"color: #000080; text-decoration-color: #000080\">INFO    </span> INFO:root:Welcome!                                                     <a href=\"file://C:\\Users\\Lukas\\AppData\\Local\\Temp\\ipykernel_369324\\4032528959.py\" target=\"_blank\"><span style=\"color: #7f7f7f; text-decoration-color: #7f7f7f\">4032528959.py</span></a><span style=\"color: #7f7f7f; text-decoration-color: #7f7f7f\">:</span><a href=\"file://C:\\Users\\Lukas\\AppData\\Local\\Temp\\ipykernel_369324\\4032528959.py#7\" target=\"_blank\"><span style=\"color: #7f7f7f; text-decoration-color: #7f7f7f\">7</span></a>\n",
       "</pre>\n"
      ],
      "text/plain": [
       "\u001b[2;36m[04/09/24 10:53:31]\u001b[0m\u001b[2;36m \u001b[0m\u001b[34mINFO    \u001b[0m INFO:root:Welcome!                                                     \u001b]8;id=535530;file://C:\\Users\\Lukas\\AppData\\Local\\Temp\\ipykernel_369324\\4032528959.py\u001b\\\u001b[2m4032528959.py\u001b[0m\u001b]8;;\u001b\\\u001b[2m:\u001b[0m\u001b]8;id=858796;file://C:\\Users\\Lukas\\AppData\\Local\\Temp\\ipykernel_369324\\4032528959.py#7\u001b\\\u001b[2m7\u001b[0m\u001b]8;;\u001b\\\n"
      ]
     },
     "metadata": {},
     "output_type": "display_data"
    },
    {
     "data": {
      "text/html": [
       "<pre style=\"white-space:pre;overflow-x:auto;line-height:normal;font-family:Menlo,'DejaVu Sans Mono',consolas,'Courier New',monospace\"><span style=\"color: #7fbfbf; text-decoration-color: #7fbfbf\">                    </span><span style=\"color: #800000; text-decoration-color: #800000\">WARNING </span> WARNING:root:Oh look up!                                               <a href=\"file://C:\\Users\\Lukas\\AppData\\Local\\Temp\\ipykernel_369324\\4032528959.py\" target=\"_blank\"><span style=\"color: #7f7f7f; text-decoration-color: #7f7f7f\">4032528959.py</span></a><span style=\"color: #7f7f7f; text-decoration-color: #7f7f7f\">:</span><a href=\"file://C:\\Users\\Lukas\\AppData\\Local\\Temp\\ipykernel_369324\\4032528959.py#8\" target=\"_blank\"><span style=\"color: #7f7f7f; text-decoration-color: #7f7f7f\">8</span></a>\n",
       "</pre>\n"
      ],
      "text/plain": [
       "\u001b[2;36m                   \u001b[0m\u001b[2;36m \u001b[0m\u001b[31mWARNING \u001b[0m WARNING:root:Oh look up!                                               \u001b]8;id=387193;file://C:\\Users\\Lukas\\AppData\\Local\\Temp\\ipykernel_369324\\4032528959.py\u001b\\\u001b[2m4032528959.py\u001b[0m\u001b]8;;\u001b\\\u001b[2m:\u001b[0m\u001b]8;id=975159;file://C:\\Users\\Lukas\\AppData\\Local\\Temp\\ipykernel_369324\\4032528959.py#8\u001b\\\u001b[2m8\u001b[0m\u001b]8;;\u001b\\\n"
      ]
     },
     "metadata": {},
     "output_type": "display_data"
    },
    {
     "data": {
      "text/html": [
       "<pre style=\"white-space:pre;overflow-x:auto;line-height:normal;font-family:Menlo,'DejaVu Sans Mono',consolas,'Courier New',monospace\"><span style=\"color: #7fbfbf; text-decoration-color: #7fbfbf\">                    </span><span style=\"color: #800000; text-decoration-color: #800000; font-weight: bold\">ERROR   </span> ERROR:root:Is there something wrong?                                   <a href=\"file://C:\\Users\\Lukas\\AppData\\Local\\Temp\\ipykernel_369324\\4032528959.py\" target=\"_blank\"><span style=\"color: #7f7f7f; text-decoration-color: #7f7f7f\">4032528959.py</span></a><span style=\"color: #7f7f7f; text-decoration-color: #7f7f7f\">:</span><a href=\"file://C:\\Users\\Lukas\\AppData\\Local\\Temp\\ipykernel_369324\\4032528959.py#9\" target=\"_blank\"><span style=\"color: #7f7f7f; text-decoration-color: #7f7f7f\">9</span></a>\n",
       "</pre>\n"
      ],
      "text/plain": [
       "\u001b[2;36m                   \u001b[0m\u001b[2;36m \u001b[0m\u001b[1;31mERROR   \u001b[0m ERROR:root:Is there something wrong?                                   \u001b]8;id=53392;file://C:\\Users\\Lukas\\AppData\\Local\\Temp\\ipykernel_369324\\4032528959.py\u001b\\\u001b[2m4032528959.py\u001b[0m\u001b]8;;\u001b\\\u001b[2m:\u001b[0m\u001b]8;id=440129;file://C:\\Users\\Lukas\\AppData\\Local\\Temp\\ipykernel_369324\\4032528959.py#9\u001b\\\u001b[2m9\u001b[0m\u001b]8;;\u001b\\\n"
      ]
     },
     "metadata": {},
     "output_type": "display_data"
    }
   ],
   "source": [
    "# Rich can print beautiful and help debug:\n",
    "# Install with pip install rich + pip install \"rich[jupyter]\"\n",
    "from rich.logging import RichHandler\n",
    "if logger.hasHandlers():\n",
    "    logger.handlers.clear()\n",
    "logging.basicConfig(level=logging.INFO, handlers=[RichHandler()])\n",
    "logger.info(\"Welcome!\")\n",
    "logger.warning(\"Oh look up!\")\n",
    "logger.error(\"Is there something wrong?\")\n",
    "from rich import inspect"
   ]
  },
  {
   "cell_type": "code",
   "execution_count": null,
   "id": "afe15854-a5ba-4243-9a10-60c84a173bbd",
   "metadata": {},
   "outputs": [],
   "source": [
    "from rich import print as rprint\n",
    "rprint(\"[italic red]Hello[/italic red] World!\", locals())"
   ]
  },
  {
   "cell_type": "code",
   "execution_count": null,
   "id": "c6f98a45-c620-428f-9398-4a0aaf2dd813",
   "metadata": {},
   "outputs": [],
   "source": [
    "from rich import inspect\n",
    "inspect(tff, methods=True)"
   ]
  },
  {
   "cell_type": "code",
   "execution_count": 2,
   "id": "8d3b9617-7969-413a-9692-923a2ad695c4",
   "metadata": {},
   "outputs": [],
   "source": [
    "# In all examples the first image of the multifile tiff store hase to be passed.\n",
    "# This examples should be wrapped in a file reade class,\n",
    "# so that changes in package, file format or other changes don't influence your code\n",
    "# This will be in a seperated follow up, which is not part of this notebook"
   ]
  },
  {
   "cell_type": "code",
   "execution_count": 3,
   "id": "75451d72-0c72-4531-84bd-91aadc4fd270",
   "metadata": {},
   "outputs": [],
   "source": [
    "# --------- Open MM ome.tiff or NDtiff multifile dataset lazy loaded as zarr.array using Tiffile and zarr ---------"
   ]
  },
  {
   "cell_type": "code",
   "execution_count": 5,
   "id": "d7c25bb7-1889-404f-926d-30ddc41f1716",
   "metadata": {},
   "outputs": [
    {
     "data": {
      "text/html": [
       "<pre style=\"white-space:pre;overflow-x:auto;line-height:normal;font-family:Menlo,'DejaVu Sans Mono',consolas,'Courier New',monospace\"><span style=\"color: #7fbfbf; text-decoration-color: #7fbfbf\">[04/09/24 10:53:49] </span><span style=\"color: #000080; text-decoration-color: #000080\">INFO    </span> INFO:root:ís micromanager: <span style=\"color: #00ff00; text-decoration-color: #00ff00; font-style: italic\">True</span>                                         <a href=\"file://C:\\Users\\Lukas\\AppData\\Local\\Temp\\ipykernel_369324\\593397945.py\" target=\"_blank\"><span style=\"color: #7f7f7f; text-decoration-color: #7f7f7f\">593397945.py</span></a><span style=\"color: #7f7f7f; text-decoration-color: #7f7f7f\">:</span><a href=\"file://C:\\Users\\Lukas\\AppData\\Local\\Temp\\ipykernel_369324\\593397945.py#8\" target=\"_blank\"><span style=\"color: #7f7f7f; text-decoration-color: #7f7f7f\">8</span></a>\n",
       "</pre>\n"
      ],
      "text/plain": [
       "\u001b[2;36m[04/09/24 10:53:49]\u001b[0m\u001b[2;36m \u001b[0m\u001b[34mINFO    \u001b[0m INFO:root:ís micromanager: \u001b[3;92mTrue\u001b[0m                                         \u001b]8;id=93296;file://C:\\Users\\Lukas\\AppData\\Local\\Temp\\ipykernel_369324\\593397945.py\u001b\\\u001b[2m593397945.py\u001b[0m\u001b]8;;\u001b\\\u001b[2m:\u001b[0m\u001b]8;id=308757;file://C:\\Users\\Lukas\\AppData\\Local\\Temp\\ipykernel_369324\\593397945.py#8\u001b\\\u001b[2m8\u001b[0m\u001b]8;;\u001b\\\n"
      ]
     },
     "metadata": {},
     "output_type": "display_data"
    },
    {
     "data": {
      "text/html": [
       "<pre style=\"white-space:pre;overflow-x:auto;line-height:normal;font-family:Menlo,'DejaVu Sans Mono',consolas,'Courier New',monospace\"><span style=\"color: #7fbfbf; text-decoration-color: #7fbfbf\">                    </span><span style=\"color: #000080; text-decoration-color: #000080\">INFO    </span> INFO:root:is MMStack: <span style=\"color: #00ff00; text-decoration-color: #00ff00; font-style: italic\">True</span>                                              <a href=\"file://C:\\Users\\Lukas\\AppData\\Local\\Temp\\ipykernel_369324\\593397945.py\" target=\"_blank\"><span style=\"color: #7f7f7f; text-decoration-color: #7f7f7f\">593397945.py</span></a><span style=\"color: #7f7f7f; text-decoration-color: #7f7f7f\">:</span><a href=\"file://C:\\Users\\Lukas\\AppData\\Local\\Temp\\ipykernel_369324\\593397945.py#9\" target=\"_blank\"><span style=\"color: #7f7f7f; text-decoration-color: #7f7f7f\">9</span></a>\n",
       "</pre>\n"
      ],
      "text/plain": [
       "\u001b[2;36m                   \u001b[0m\u001b[2;36m \u001b[0m\u001b[34mINFO    \u001b[0m INFO:root:is MMStack: \u001b[3;92mTrue\u001b[0m                                              \u001b]8;id=933840;file://C:\\Users\\Lukas\\AppData\\Local\\Temp\\ipykernel_369324\\593397945.py\u001b\\\u001b[2m593397945.py\u001b[0m\u001b]8;;\u001b\\\u001b[2m:\u001b[0m\u001b]8;id=915786;file://C:\\Users\\Lukas\\AppData\\Local\\Temp\\ipykernel_369324\\593397945.py#9\u001b\\\u001b[2m9\u001b[0m\u001b]8;;\u001b\\\n"
      ]
     },
     "metadata": {},
     "output_type": "display_data"
    },
    {
     "data": {
      "text/html": [
       "<pre style=\"white-space:pre;overflow-x:auto;line-height:normal;font-family:Menlo,'DejaVu Sans Mono',consolas,'Courier New',monospace\"><span style=\"color: #7fbfbf; text-decoration-color: #7fbfbf\">                    </span><span style=\"color: #000080; text-decoration-color: #000080\">INFO    </span> INFO:root:is NDTiff: <span style=\"color: #ff0000; text-decoration-color: #ff0000; font-style: italic\">False</span>                                             <a href=\"file://C:\\Users\\Lukas\\AppData\\Local\\Temp\\ipykernel_369324\\593397945.py\" target=\"_blank\"><span style=\"color: #7f7f7f; text-decoration-color: #7f7f7f\">593397945.py</span></a><span style=\"color: #7f7f7f; text-decoration-color: #7f7f7f\">:</span><a href=\"file://C:\\Users\\Lukas\\AppData\\Local\\Temp\\ipykernel_369324\\593397945.py#10\" target=\"_blank\"><span style=\"color: #7f7f7f; text-decoration-color: #7f7f7f\">10</span></a>\n",
       "</pre>\n"
      ],
      "text/plain": [
       "\u001b[2;36m                   \u001b[0m\u001b[2;36m \u001b[0m\u001b[34mINFO    \u001b[0m INFO:root:is NDTiff: \u001b[3;91mFalse\u001b[0m                                             \u001b]8;id=84425;file://C:\\Users\\Lukas\\AppData\\Local\\Temp\\ipykernel_369324\\593397945.py\u001b\\\u001b[2m593397945.py\u001b[0m\u001b]8;;\u001b\\\u001b[2m:\u001b[0m\u001b]8;id=200211;file://C:\\Users\\Lukas\\AppData\\Local\\Temp\\ipykernel_369324\\593397945.py#10\u001b\\\u001b[2m10\u001b[0m\u001b]8;;\u001b\\\n"
      ]
     },
     "metadata": {},
     "output_type": "display_data"
    },
    {
     "data": {
      "text/html": [
       "<pre style=\"white-space:pre;overflow-x:auto;line-height:normal;font-family:Menlo,'DejaVu Sans Mono',consolas,'Courier New',monospace\"><span style=\"color: #7fbfbf; text-decoration-color: #7fbfbf\">                    </span><span style=\"color: #000080; text-decoration-color: #000080\">INFO    </span> INFO:root:Info of dataset <span style=\"font-weight: bold\">(</span>all files<span style=\"font-weight: bold\">)</span>: TiffPageSeries <span style=\"color: #008080; text-decoration-color: #008080; font-weight: bold\">0</span>                <a href=\"file://C:\\Users\\Lukas\\AppData\\Local\\Temp\\ipykernel_369324\\593397945.py\" target=\"_blank\"><span style=\"color: #7f7f7f; text-decoration-color: #7f7f7f\">593397945.py</span></a><span style=\"color: #7f7f7f; text-decoration-color: #7f7f7f\">:</span><a href=\"file://C:\\Users\\Lukas\\AppData\\Local\\Temp\\ipykernel_369324\\593397945.py#11\" target=\"_blank\"><span style=\"color: #7f7f7f; text-decoration-color: #7f7f7f\">11</span></a>\n",
       "<span style=\"color: #7fbfbf; text-decoration-color: #7fbfbf\">                    </span>         20<span style=\"color: #008080; text-decoration-color: #008080; font-weight: bold\">0x10</span>x2x512x512  uint16  TZCYX  mmstack  <span style=\"color: #008080; text-decoration-color: #008080; font-weight: bold\">4000</span> Pages                   <span style=\"color: #7f7f7f; text-decoration-color: #7f7f7f\">               </span>\n",
       "</pre>\n"
      ],
      "text/plain": [
       "\u001b[2;36m                   \u001b[0m\u001b[2;36m \u001b[0m\u001b[34mINFO    \u001b[0m INFO:root:Info of dataset \u001b[1m(\u001b[0mall files\u001b[1m)\u001b[0m: TiffPageSeries \u001b[1;36m0\u001b[0m                \u001b]8;id=858841;file://C:\\Users\\Lukas\\AppData\\Local\\Temp\\ipykernel_369324\\593397945.py\u001b\\\u001b[2m593397945.py\u001b[0m\u001b]8;;\u001b\\\u001b[2m:\u001b[0m\u001b]8;id=449399;file://C:\\Users\\Lukas\\AppData\\Local\\Temp\\ipykernel_369324\\593397945.py#11\u001b\\\u001b[2m11\u001b[0m\u001b]8;;\u001b\\\n",
       "\u001b[2;36m                    \u001b[0m         20\u001b[1;36m0x10\u001b[0mx2x512x512  uint16  TZCYX  mmstack  \u001b[1;36m4000\u001b[0m Pages                   \u001b[2m               \u001b[0m\n"
      ]
     },
     "metadata": {},
     "output_type": "display_data"
    },
    {
     "data": {
      "text/html": [
       "<pre style=\"white-space:pre;overflow-x:auto;line-height:normal;font-family:Menlo,'DejaVu Sans Mono',consolas,'Courier New',monospace\"><span style=\"color: #7fbfbf; text-decoration-color: #7fbfbf\">                    </span><span style=\"color: #000080; text-decoration-color: #000080\">INFO    </span> INFO:root:Axes of dataset: TZCYX                                       <a href=\"file://C:\\Users\\Lukas\\AppData\\Local\\Temp\\ipykernel_369324\\593397945.py\" target=\"_blank\"><span style=\"color: #7f7f7f; text-decoration-color: #7f7f7f\">593397945.py</span></a><span style=\"color: #7f7f7f; text-decoration-color: #7f7f7f\">:</span><a href=\"file://C:\\Users\\Lukas\\AppData\\Local\\Temp\\ipykernel_369324\\593397945.py#13\" target=\"_blank\"><span style=\"color: #7f7f7f; text-decoration-color: #7f7f7f\">13</span></a>\n",
       "</pre>\n"
      ],
      "text/plain": [
       "\u001b[2;36m                   \u001b[0m\u001b[2;36m \u001b[0m\u001b[34mINFO    \u001b[0m INFO:root:Axes of dataset: TZCYX                                       \u001b]8;id=4712;file://C:\\Users\\Lukas\\AppData\\Local\\Temp\\ipykernel_369324\\593397945.py\u001b\\\u001b[2m593397945.py\u001b[0m\u001b]8;;\u001b\\\u001b[2m:\u001b[0m\u001b]8;id=507886;file://C:\\Users\\Lukas\\AppData\\Local\\Temp\\ipykernel_369324\\593397945.py#13\u001b\\\u001b[2m13\u001b[0m\u001b]8;;\u001b\\\n"
      ]
     },
     "metadata": {},
     "output_type": "display_data"
    },
    {
     "data": {
      "text/html": [
       "<pre style=\"white-space:pre;overflow-x:auto;line-height:normal;font-family:Menlo,'DejaVu Sans Mono',consolas,'Courier New',monospace\"><span style=\"color: #7fbfbf; text-decoration-color: #7fbfbf\">                    </span><span style=\"color: #000080; text-decoration-color: #000080\">INFO    </span> INFO:root:Shape of dataset: <span style=\"font-weight: bold\">(</span><span style=\"color: #008080; text-decoration-color: #008080; font-weight: bold\">200</span>, <span style=\"color: #008080; text-decoration-color: #008080; font-weight: bold\">10</span>, <span style=\"color: #008080; text-decoration-color: #008080; font-weight: bold\">2</span>, <span style=\"color: #008080; text-decoration-color: #008080; font-weight: bold\">512</span>, <span style=\"color: #008080; text-decoration-color: #008080; font-weight: bold\">512</span><span style=\"font-weight: bold\">)</span>                     <a href=\"file://C:\\Users\\Lukas\\AppData\\Local\\Temp\\ipykernel_369324\\593397945.py\" target=\"_blank\"><span style=\"color: #7f7f7f; text-decoration-color: #7f7f7f\">593397945.py</span></a><span style=\"color: #7f7f7f; text-decoration-color: #7f7f7f\">:</span><a href=\"file://C:\\Users\\Lukas\\AppData\\Local\\Temp\\ipykernel_369324\\593397945.py#14\" target=\"_blank\"><span style=\"color: #7f7f7f; text-decoration-color: #7f7f7f\">14</span></a>\n",
       "</pre>\n"
      ],
      "text/plain": [
       "\u001b[2;36m                   \u001b[0m\u001b[2;36m \u001b[0m\u001b[34mINFO    \u001b[0m INFO:root:Shape of dataset: \u001b[1m(\u001b[0m\u001b[1;36m200\u001b[0m, \u001b[1;36m10\u001b[0m, \u001b[1;36m2\u001b[0m, \u001b[1;36m512\u001b[0m, \u001b[1;36m512\u001b[0m\u001b[1m)\u001b[0m                     \u001b]8;id=504465;file://C:\\Users\\Lukas\\AppData\\Local\\Temp\\ipykernel_369324\\593397945.py\u001b\\\u001b[2m593397945.py\u001b[0m\u001b]8;;\u001b\\\u001b[2m:\u001b[0m\u001b]8;id=199701;file://C:\\Users\\Lukas\\AppData\\Local\\Temp\\ipykernel_369324\\593397945.py#14\u001b\\\u001b[2m14\u001b[0m\u001b]8;;\u001b\\\n"
      ]
     },
     "metadata": {},
     "output_type": "display_data"
    }
   ],
   "source": [
    "# Open MicorManager ome.tiff dataset (multifile) with tiffile:\n",
    "#image_path = \"P://TestData/NDTiffExample_1/NDTiffExample_1_NDTiffStack.tif\" #'/path/to/first/file_in_multi_fileND.tif'\n",
    "image_path = Path(\"P://TestData/TiffWithPositionsDualCam_1/TiffWithPositionsDualCam_1_MMStack.ome.tif\") #'/path/to/first/file_in_multi_file.ome.tif'\n",
    "#image_path = Path(\"D://Temp/2024-02-06_12-11-45_cam4_1per_AVE_ctrl_R2_MMStack.ome.tif\")\n",
    "store = tff.TiffFile(image_path) # open tiffile store\n",
    "if logger.level == logging.DEBUG:\n",
    "    inspect(store)\n",
    "logger.info(f\"ís micromanager: {store.is_micromanager}\")\n",
    "logger.info(f\"is MMStack: {store.is_mmstack}\")\n",
    "logger.info(f\"is NDTiff: {store.is_ndtiff}\")\n",
    "logger.info(f\"Info of dataset (all files): {store.series[0]}\")\n",
    "axes = store.series[0].axes\n",
    "logger.info(f\"Axes of dataset: {store.series[0].axes}\")\n",
    "logger.info(f\"Shape of dataset: {store.series[0].shape}\")\n",
    "meteadata = store.micromanager_metadata"
   ]
  },
  {
   "cell_type": "code",
   "execution_count": 6,
   "id": "a6440c62-63d2-48e9-8008-8bad12f673fd",
   "metadata": {},
   "outputs": [
    {
     "data": {
      "text/html": [
       "<pre style=\"white-space:pre;overflow-x:auto;line-height:normal;font-family:Menlo,'DejaVu Sans Mono',consolas,'Courier New',monospace\"><span style=\"color: #7fbfbf; text-decoration-color: #7fbfbf\">[04/09/24 10:53:53] </span><span style=\"color: #000080; text-decoration-color: #000080\">INFO    </span> INFO:root:Type: <span style=\"font-weight: bold\">&lt;</span><span style=\"color: #ff00ff; text-decoration-color: #ff00ff; font-weight: bold\">zarr.core.Array</span><span style=\"color: #000000; text-decoration-color: #000000\"> </span><span style=\"color: #000000; text-decoration-color: #000000; font-weight: bold\">(</span><span style=\"color: #008080; text-decoration-color: #008080; font-weight: bold\">200</span><span style=\"color: #000000; text-decoration-color: #000000\">, </span><span style=\"color: #008080; text-decoration-color: #008080; font-weight: bold\">10</span><span style=\"color: #000000; text-decoration-color: #000000\">, </span><span style=\"color: #008080; text-decoration-color: #008080; font-weight: bold\">2</span><span style=\"color: #000000; text-decoration-color: #000000\">, </span><span style=\"color: #008080; text-decoration-color: #008080; font-weight: bold\">512</span><span style=\"color: #000000; text-decoration-color: #000000\">, </span><span style=\"color: #008080; text-decoration-color: #008080; font-weight: bold\">512</span><span style=\"color: #000000; text-decoration-color: #000000; font-weight: bold\">)</span><span style=\"color: #000000; text-decoration-color: #000000\"> uint16 </span>        <a href=\"file://C:\\Users\\Lukas\\AppData\\Local\\Temp\\ipykernel_369324\\1954770375.py\" target=\"_blank\"><span style=\"color: #7f7f7f; text-decoration-color: #7f7f7f\">1954770375.py</span></a><span style=\"color: #7f7f7f; text-decoration-color: #7f7f7f\">:</span><a href=\"file://C:\\Users\\Lukas\\AppData\\Local\\Temp\\ipykernel_369324\\1954770375.py#3\" target=\"_blank\"><span style=\"color: #7f7f7f; text-decoration-color: #7f7f7f\">3</span></a>\n",
       "<span style=\"color: #7fbfbf; text-decoration-color: #7fbfbf\">                    </span>         <span style=\"color: #000000; text-decoration-color: #000000\">read-only</span><span style=\"font-weight: bold\">&gt;</span>                                                             <span style=\"color: #7f7f7f; text-decoration-color: #7f7f7f\">               </span>\n",
       "</pre>\n"
      ],
      "text/plain": [
       "\u001b[2;36m[04/09/24 10:53:53]\u001b[0m\u001b[2;36m \u001b[0m\u001b[34mINFO    \u001b[0m INFO:root:Type: \u001b[1m<\u001b[0m\u001b[1;95mzarr.core.Array\u001b[0m\u001b[39m \u001b[0m\u001b[1;39m(\u001b[0m\u001b[1;36m200\u001b[0m\u001b[39m, \u001b[0m\u001b[1;36m10\u001b[0m\u001b[39m, \u001b[0m\u001b[1;36m2\u001b[0m\u001b[39m, \u001b[0m\u001b[1;36m512\u001b[0m\u001b[39m, \u001b[0m\u001b[1;36m512\u001b[0m\u001b[1;39m)\u001b[0m\u001b[39m uint16 \u001b[0m        \u001b]8;id=99512;file://C:\\Users\\Lukas\\AppData\\Local\\Temp\\ipykernel_369324\\1954770375.py\u001b\\\u001b[2m1954770375.py\u001b[0m\u001b]8;;\u001b\\\u001b[2m:\u001b[0m\u001b]8;id=918042;file://C:\\Users\\Lukas\\AppData\\Local\\Temp\\ipykernel_369324\\1954770375.py#3\u001b\\\u001b[2m3\u001b[0m\u001b]8;;\u001b\\\n",
       "\u001b[2;36m                    \u001b[0m         \u001b[39mread-only\u001b[0m\u001b[1m>\u001b[0m                                                             \u001b[2m               \u001b[0m\n"
      ]
     },
     "metadata": {},
     "output_type": "display_data"
    },
    {
     "data": {
      "text/html": [
       "<pre style=\"white-space:pre;overflow-x:auto;line-height:normal;font-family:Menlo,'DejaVu Sans Mono',consolas,'Courier New',monospace\"><span style=\"color: #7fbfbf; text-decoration-color: #7fbfbf\">                    </span><span style=\"color: #000080; text-decoration-color: #000080\">INFO    </span> INFO:root:Dimensions: <span style=\"font-weight: bold\">&lt;</span><span style=\"color: #ff00ff; text-decoration-color: #ff00ff; font-weight: bold\">zarr.core.Array</span><span style=\"color: #000000; text-decoration-color: #000000\"> </span><span style=\"color: #000000; text-decoration-color: #000000; font-weight: bold\">(</span><span style=\"color: #008080; text-decoration-color: #008080; font-weight: bold\">200</span><span style=\"color: #000000; text-decoration-color: #000000\">, </span><span style=\"color: #008080; text-decoration-color: #008080; font-weight: bold\">10</span><span style=\"color: #000000; text-decoration-color: #000000\">, </span><span style=\"color: #008080; text-decoration-color: #008080; font-weight: bold\">2</span><span style=\"color: #000000; text-decoration-color: #000000\">, </span><span style=\"color: #008080; text-decoration-color: #008080; font-weight: bold\">512</span><span style=\"color: #000000; text-decoration-color: #000000\">, </span><span style=\"color: #008080; text-decoration-color: #008080; font-weight: bold\">512</span><span style=\"color: #000000; text-decoration-color: #000000; font-weight: bold\">)</span><span style=\"color: #000000; text-decoration-color: #000000\"> uint16 </span>  <a href=\"file://C:\\Users\\Lukas\\AppData\\Local\\Temp\\ipykernel_369324\\1954770375.py\" target=\"_blank\"><span style=\"color: #7f7f7f; text-decoration-color: #7f7f7f\">1954770375.py</span></a><span style=\"color: #7f7f7f; text-decoration-color: #7f7f7f\">:</span><a href=\"file://C:\\Users\\Lukas\\AppData\\Local\\Temp\\ipykernel_369324\\1954770375.py#4\" target=\"_blank\"><span style=\"color: #7f7f7f; text-decoration-color: #7f7f7f\">4</span></a>\n",
       "<span style=\"color: #7fbfbf; text-decoration-color: #7fbfbf\">                    </span>         <span style=\"color: #000000; text-decoration-color: #000000\">read-only</span><span style=\"font-weight: bold\">&gt;</span>                                                             <span style=\"color: #7f7f7f; text-decoration-color: #7f7f7f\">               </span>\n",
       "</pre>\n"
      ],
      "text/plain": [
       "\u001b[2;36m                   \u001b[0m\u001b[2;36m \u001b[0m\u001b[34mINFO    \u001b[0m INFO:root:Dimensions: \u001b[1m<\u001b[0m\u001b[1;95mzarr.core.Array\u001b[0m\u001b[39m \u001b[0m\u001b[1;39m(\u001b[0m\u001b[1;36m200\u001b[0m\u001b[39m, \u001b[0m\u001b[1;36m10\u001b[0m\u001b[39m, \u001b[0m\u001b[1;36m2\u001b[0m\u001b[39m, \u001b[0m\u001b[1;36m512\u001b[0m\u001b[39m, \u001b[0m\u001b[1;36m512\u001b[0m\u001b[1;39m)\u001b[0m\u001b[39m uint16 \u001b[0m  \u001b]8;id=235802;file://C:\\Users\\Lukas\\AppData\\Local\\Temp\\ipykernel_369324\\1954770375.py\u001b\\\u001b[2m1954770375.py\u001b[0m\u001b]8;;\u001b\\\u001b[2m:\u001b[0m\u001b]8;id=171764;file://C:\\Users\\Lukas\\AppData\\Local\\Temp\\ipykernel_369324\\1954770375.py#4\u001b\\\u001b[2m4\u001b[0m\u001b]8;;\u001b\\\n",
       "\u001b[2;36m                    \u001b[0m         \u001b[39mread-only\u001b[0m\u001b[1m>\u001b[0m                                                             \u001b[2m               \u001b[0m\n"
      ]
     },
     "metadata": {},
     "output_type": "display_data"
    },
    {
     "data": {
      "text/html": [
       "<pre style=\"white-space:pre;overflow-x:auto;line-height:normal;font-family:Menlo,'DejaVu Sans Mono',consolas,'Courier New',monospace\"><span style=\"color: #7fbfbf; text-decoration-color: #7fbfbf\">                    </span><span style=\"color: #000080; text-decoration-color: #000080\">INFO    </span> INFO:root:Dimensions of last image: <span style=\"font-weight: bold\">(</span><span style=\"color: #008080; text-decoration-color: #008080; font-weight: bold\">2</span>, <span style=\"color: #008080; text-decoration-color: #008080; font-weight: bold\">512</span>, <span style=\"color: #008080; text-decoration-color: #008080; font-weight: bold\">512</span><span style=\"font-weight: bold\">)</span>                      <a href=\"file://C:\\Users\\Lukas\\AppData\\Local\\Temp\\ipykernel_369324\\1954770375.py\" target=\"_blank\"><span style=\"color: #7f7f7f; text-decoration-color: #7f7f7f\">1954770375.py</span></a><span style=\"color: #7f7f7f; text-decoration-color: #7f7f7f\">:</span><a href=\"file://C:\\Users\\Lukas\\AppData\\Local\\Temp\\ipykernel_369324\\1954770375.py#6\" target=\"_blank\"><span style=\"color: #7f7f7f; text-decoration-color: #7f7f7f\">6</span></a>\n",
       "</pre>\n"
      ],
      "text/plain": [
       "\u001b[2;36m                   \u001b[0m\u001b[2;36m \u001b[0m\u001b[34mINFO    \u001b[0m INFO:root:Dimensions of last image: \u001b[1m(\u001b[0m\u001b[1;36m2\u001b[0m, \u001b[1;36m512\u001b[0m, \u001b[1;36m512\u001b[0m\u001b[1m)\u001b[0m                      \u001b]8;id=527090;file://C:\\Users\\Lukas\\AppData\\Local\\Temp\\ipykernel_369324\\1954770375.py\u001b\\\u001b[2m1954770375.py\u001b[0m\u001b]8;;\u001b\\\u001b[2m:\u001b[0m\u001b]8;id=906260;file://C:\\Users\\Lukas\\AppData\\Local\\Temp\\ipykernel_369324\\1954770375.py#6\u001b\\\u001b[2m6\u001b[0m\u001b]8;;\u001b\\\n"
      ]
     },
     "metadata": {},
     "output_type": "display_data"
    }
   ],
   "source": [
    "# lazy load ome.tiff dataset by mapping to zarr array usning the TiffFile store:\n",
    "zarr_array = zarr.open(store.aszarr(), mode='r')\n",
    "logger.info(f\"Type: {zarr_array}\")\n",
    "logger.info(f\"Dimensions: {zarr_array}\")\n",
    "last_image_in_last_file = zarr_array[-1,-1]\n",
    "logger.info(f\"Dimensions of last image: {last_image_in_last_file.shape}\")"
   ]
  },
  {
   "cell_type": "code",
   "execution_count": 98,
   "id": "43686e51-8ce4-44dc-96df-4bfc4dfd1d8d",
   "metadata": {},
   "outputs": [],
   "source": [
    "# ---------- Open MM ome.tiff or NDtiff multifile dataset lazy loaded as dask.array ----------"
   ]
  },
  {
   "cell_type": "code",
   "execution_count": 7,
   "id": "5583839b-8a13-4cfe-a1a8-b4c0ee5932c4",
   "metadata": {},
   "outputs": [
    {
     "data": {
      "text/html": [
       "<pre style=\"white-space:pre;overflow-x:auto;line-height:normal;font-family:Menlo,'DejaVu Sans Mono',consolas,'Courier New',monospace\"><span style=\"color: #7fbfbf; text-decoration-color: #7fbfbf\">[04/09/24 10:53:58] </span><span style=\"color: #000080; text-decoration-color: #000080\">INFO    </span> INFO:root:Type: dask.array<span style=\"font-weight: bold\">&lt;</span><span style=\"color: #ff00ff; text-decoration-color: #ff00ff; font-weight: bold\">from-zarr</span><span style=\"color: #000000; text-decoration-color: #000000\">, </span><span style=\"color: #808000; text-decoration-color: #808000\">shape</span><span style=\"color: #000000; text-decoration-color: #000000\">=</span><span style=\"color: #000000; text-decoration-color: #000000; font-weight: bold\">(</span><span style=\"color: #008080; text-decoration-color: #008080; font-weight: bold\">200</span><span style=\"color: #000000; text-decoration-color: #000000\">, </span><span style=\"color: #008080; text-decoration-color: #008080; font-weight: bold\">10</span><span style=\"color: #000000; text-decoration-color: #000000\">, </span><span style=\"color: #008080; text-decoration-color: #008080; font-weight: bold\">2</span><span style=\"color: #000000; text-decoration-color: #000000\">, </span><span style=\"color: #008080; text-decoration-color: #008080; font-weight: bold\">512</span><span style=\"color: #000000; text-decoration-color: #000000\">, </span><span style=\"color: #008080; text-decoration-color: #008080; font-weight: bold\">512</span><span style=\"color: #000000; text-decoration-color: #000000; font-weight: bold\">)</span><span style=\"color: #000000; text-decoration-color: #000000\">, </span>    <a href=\"file://C:\\Users\\Lukas\\AppData\\Local\\Temp\\ipykernel_369324\\695971279.py\" target=\"_blank\"><span style=\"color: #7f7f7f; text-decoration-color: #7f7f7f\">695971279.py</span></a><span style=\"color: #7f7f7f; text-decoration-color: #7f7f7f\">:</span><a href=\"file://C:\\Users\\Lukas\\AppData\\Local\\Temp\\ipykernel_369324\\695971279.py#6\" target=\"_blank\"><span style=\"color: #7f7f7f; text-decoration-color: #7f7f7f\">6</span></a>\n",
       "<span style=\"color: #7fbfbf; text-decoration-color: #7fbfbf\">                    </span>         <span style=\"color: #808000; text-decoration-color: #808000\">dtype</span><span style=\"color: #000000; text-decoration-color: #000000\">=</span><span style=\"color: #800080; text-decoration-color: #800080\">uint16</span><span style=\"color: #000000; text-decoration-color: #000000\">, </span><span style=\"color: #808000; text-decoration-color: #808000\">chunksize</span><span style=\"color: #000000; text-decoration-color: #000000\">=</span><span style=\"color: #000000; text-decoration-color: #000000; font-weight: bold\">(</span><span style=\"color: #008080; text-decoration-color: #008080; font-weight: bold\">1</span><span style=\"color: #000000; text-decoration-color: #000000\">, </span><span style=\"color: #008080; text-decoration-color: #008080; font-weight: bold\">1</span><span style=\"color: #000000; text-decoration-color: #000000\">, </span><span style=\"color: #008080; text-decoration-color: #008080; font-weight: bold\">1</span><span style=\"color: #000000; text-decoration-color: #000000\">, </span><span style=\"color: #008080; text-decoration-color: #008080; font-weight: bold\">512</span><span style=\"color: #000000; text-decoration-color: #000000\">, </span><span style=\"color: #008080; text-decoration-color: #008080; font-weight: bold\">512</span><span style=\"color: #000000; text-decoration-color: #000000; font-weight: bold\">)</span><span style=\"color: #000000; text-decoration-color: #000000\">, </span><span style=\"color: #808000; text-decoration-color: #808000\">chunktype</span><span style=\"color: #000000; text-decoration-color: #000000\">=</span><span style=\"color: #800080; text-decoration-color: #800080\">numpy</span><span style=\"color: #000000; text-decoration-color: #000000\">.ndarray</span><span style=\"font-weight: bold\">&gt;</span>   <span style=\"color: #7f7f7f; text-decoration-color: #7f7f7f\">              </span>\n",
       "</pre>\n"
      ],
      "text/plain": [
       "\u001b[2;36m[04/09/24 10:53:58]\u001b[0m\u001b[2;36m \u001b[0m\u001b[34mINFO    \u001b[0m INFO:root:Type: dask.array\u001b[1m<\u001b[0m\u001b[1;95mfrom-zarr\u001b[0m\u001b[39m, \u001b[0m\u001b[33mshape\u001b[0m\u001b[39m=\u001b[0m\u001b[1;39m(\u001b[0m\u001b[1;36m200\u001b[0m\u001b[39m, \u001b[0m\u001b[1;36m10\u001b[0m\u001b[39m, \u001b[0m\u001b[1;36m2\u001b[0m\u001b[39m, \u001b[0m\u001b[1;36m512\u001b[0m\u001b[39m, \u001b[0m\u001b[1;36m512\u001b[0m\u001b[1;39m)\u001b[0m\u001b[39m, \u001b[0m    \u001b]8;id=395989;file://C:\\Users\\Lukas\\AppData\\Local\\Temp\\ipykernel_369324\\695971279.py\u001b\\\u001b[2m695971279.py\u001b[0m\u001b]8;;\u001b\\\u001b[2m:\u001b[0m\u001b]8;id=131895;file://C:\\Users\\Lukas\\AppData\\Local\\Temp\\ipykernel_369324\\695971279.py#6\u001b\\\u001b[2m6\u001b[0m\u001b]8;;\u001b\\\n",
       "\u001b[2;36m                    \u001b[0m         \u001b[33mdtype\u001b[0m\u001b[39m=\u001b[0m\u001b[35muint16\u001b[0m\u001b[39m, \u001b[0m\u001b[33mchunksize\u001b[0m\u001b[39m=\u001b[0m\u001b[1;39m(\u001b[0m\u001b[1;36m1\u001b[0m\u001b[39m, \u001b[0m\u001b[1;36m1\u001b[0m\u001b[39m, \u001b[0m\u001b[1;36m1\u001b[0m\u001b[39m, \u001b[0m\u001b[1;36m512\u001b[0m\u001b[39m, \u001b[0m\u001b[1;36m512\u001b[0m\u001b[1;39m)\u001b[0m\u001b[39m, \u001b[0m\u001b[33mchunktype\u001b[0m\u001b[39m=\u001b[0m\u001b[35mnumpy\u001b[0m\u001b[39m.ndarray\u001b[0m\u001b[1m>\u001b[0m   \u001b[2m              \u001b[0m\n"
      ]
     },
     "metadata": {},
     "output_type": "display_data"
    },
    {
     "data": {
      "text/html": [
       "<pre style=\"white-space:pre;overflow-x:auto;line-height:normal;font-family:Menlo,'DejaVu Sans Mono',consolas,'Courier New',monospace\"><span style=\"color: #7fbfbf; text-decoration-color: #7fbfbf\">                    </span><span style=\"color: #000080; text-decoration-color: #000080\">INFO    </span> INFO:root:Dimensions: <span style=\"font-weight: bold\">(</span><span style=\"color: #008080; text-decoration-color: #008080; font-weight: bold\">200</span>, <span style=\"color: #008080; text-decoration-color: #008080; font-weight: bold\">10</span>, <span style=\"color: #008080; text-decoration-color: #008080; font-weight: bold\">2</span>, <span style=\"color: #008080; text-decoration-color: #008080; font-weight: bold\">512</span>, <span style=\"color: #008080; text-decoration-color: #008080; font-weight: bold\">512</span><span style=\"font-weight: bold\">)</span>                            <a href=\"file://C:\\Users\\Lukas\\AppData\\Local\\Temp\\ipykernel_369324\\695971279.py\" target=\"_blank\"><span style=\"color: #7f7f7f; text-decoration-color: #7f7f7f\">695971279.py</span></a><span style=\"color: #7f7f7f; text-decoration-color: #7f7f7f\">:</span><a href=\"file://C:\\Users\\Lukas\\AppData\\Local\\Temp\\ipykernel_369324\\695971279.py#7\" target=\"_blank\"><span style=\"color: #7f7f7f; text-decoration-color: #7f7f7f\">7</span></a>\n",
       "</pre>\n"
      ],
      "text/plain": [
       "\u001b[2;36m                   \u001b[0m\u001b[2;36m \u001b[0m\u001b[34mINFO    \u001b[0m INFO:root:Dimensions: \u001b[1m(\u001b[0m\u001b[1;36m200\u001b[0m, \u001b[1;36m10\u001b[0m, \u001b[1;36m2\u001b[0m, \u001b[1;36m512\u001b[0m, \u001b[1;36m512\u001b[0m\u001b[1m)\u001b[0m                            \u001b]8;id=914617;file://C:\\Users\\Lukas\\AppData\\Local\\Temp\\ipykernel_369324\\695971279.py\u001b\\\u001b[2m695971279.py\u001b[0m\u001b]8;;\u001b\\\u001b[2m:\u001b[0m\u001b]8;id=829417;file://C:\\Users\\Lukas\\AppData\\Local\\Temp\\ipykernel_369324\\695971279.py#7\u001b\\\u001b[2m7\u001b[0m\u001b]8;;\u001b\\\n"
      ]
     },
     "metadata": {},
     "output_type": "display_data"
    },
    {
     "data": {
      "text/html": [
       "<pre style=\"white-space:pre;overflow-x:auto;line-height:normal;font-family:Menlo,'DejaVu Sans Mono',consolas,'Courier New',monospace\"><span style=\"color: #7fbfbf; text-decoration-color: #7fbfbf\">                    </span><span style=\"color: #000080; text-decoration-color: #000080\">INFO    </span> INFO:root:Dimensions of last image: <span style=\"font-weight: bold\">(</span><span style=\"color: #008080; text-decoration-color: #008080; font-weight: bold\">10</span>, <span style=\"color: #008080; text-decoration-color: #008080; font-weight: bold\">2</span>, <span style=\"color: #008080; text-decoration-color: #008080; font-weight: bold\">512</span>, <span style=\"color: #008080; text-decoration-color: #008080; font-weight: bold\">512</span><span style=\"font-weight: bold\">)</span>                   <a href=\"file://C:\\Users\\Lukas\\AppData\\Local\\Temp\\ipykernel_369324\\695971279.py\" target=\"_blank\"><span style=\"color: #7f7f7f; text-decoration-color: #7f7f7f\">695971279.py</span></a><span style=\"color: #7f7f7f; text-decoration-color: #7f7f7f\">:</span><a href=\"file://C:\\Users\\Lukas\\AppData\\Local\\Temp\\ipykernel_369324\\695971279.py#8\" target=\"_blank\"><span style=\"color: #7f7f7f; text-decoration-color: #7f7f7f\">8</span></a>\n",
       "</pre>\n"
      ],
      "text/plain": [
       "\u001b[2;36m                   \u001b[0m\u001b[2;36m \u001b[0m\u001b[34mINFO    \u001b[0m INFO:root:Dimensions of last image: \u001b[1m(\u001b[0m\u001b[1;36m10\u001b[0m, \u001b[1;36m2\u001b[0m, \u001b[1;36m512\u001b[0m, \u001b[1;36m512\u001b[0m\u001b[1m)\u001b[0m                   \u001b]8;id=796140;file://C:\\Users\\Lukas\\AppData\\Local\\Temp\\ipykernel_369324\\695971279.py\u001b\\\u001b[2m695971279.py\u001b[0m\u001b]8;;\u001b\\\u001b[2m:\u001b[0m\u001b]8;id=672820;file://C:\\Users\\Lukas\\AppData\\Local\\Temp\\ipykernel_369324\\695971279.py#8\u001b\\\u001b[2m8\u001b[0m\u001b]8;;\u001b\\\n"
      ]
     },
     "metadata": {},
     "output_type": "display_data"
    }
   ],
   "source": [
    "# lazy load ome.tiff dataset by mapping zarr_store to dask array:\n",
    "# dask array doesen't proviede axis information\n",
    "#image_path = \"P://TestData/NDTiffExample_1/NDTiffExample_1_NDTiffStack.tif\" #'/path/to/first/file_in_multi_file.ome.tif'\n",
    "#store = tff.imread(image_path, aszarr=True) #also gives a zarr store like store.aszarr()\n",
    "dask_array = dask.array.from_zarr(store.aszarr())\n",
    "logger.info(f\"Type: {dask_array}\")\n",
    "logger.info(f\"Dimensions: {dask_array.shape}\")\n",
    "logger.info(f\"Dimensions of last image: {dask_array[-1].shape}\")"
   ]
  },
  {
   "cell_type": "code",
   "execution_count": 6,
   "id": "e1ce3680-378c-448c-aa64-b0c6ee86819d",
   "metadata": {},
   "outputs": [],
   "source": [
    "# --------- Open MM ndtiff multifile dataset lazy loaded as dask.array using ndtiff package ---------\n",
    "# This is recomendet for maximum performance"
   ]
  },
  {
   "cell_type": "code",
   "execution_count": 8,
   "id": "13b72d57-38d4-47e3-a468-53ed09136bb0",
   "metadata": {},
   "outputs": [],
   "source": [
    "from ndtiff import Dataset"
   ]
  },
  {
   "cell_type": "code",
   "execution_count": 9,
   "id": "40fbbd6d-7626-439c-b5d2-1e05f00a5910",
   "metadata": {},
   "outputs": [
    {
     "name": "stdout",
     "output_type": "stream",
     "text": [
      "Dataset opened                 \n"
     ]
    },
    {
     "data": {
      "text/html": [
       "<pre style=\"white-space:pre;overflow-x:auto;line-height:normal;font-family:Menlo,'DejaVu Sans Mono',consolas,'Courier New',monospace\"><span style=\"color: #7fbfbf; text-decoration-color: #7fbfbf\">[04/09/24 10:54:03] </span><span style=\"color: #000080; text-decoration-color: #000080\">INFO    </span> INFO:root:Datastore: <span style=\"font-weight: bold\">&lt;</span><span style=\"color: #ff00ff; text-decoration-color: #ff00ff; font-weight: bold\">ndtiff.nd_tiff_current.NDTiffDataset</span><span style=\"color: #000000; text-decoration-color: #000000\"> object at </span>  <a href=\"file://C:\\Users\\Lukas\\AppData\\Local\\Temp\\ipykernel_369324\\3937123280.py\" target=\"_blank\"><span style=\"color: #7f7f7f; text-decoration-color: #7f7f7f\">3937123280.py</span></a><span style=\"color: #7f7f7f; text-decoration-color: #7f7f7f\">:</span><a href=\"file://C:\\Users\\Lukas\\AppData\\Local\\Temp\\ipykernel_369324\\3937123280.py#5\" target=\"_blank\"><span style=\"color: #7f7f7f; text-decoration-color: #7f7f7f\">5</span></a>\n",
       "<span style=\"color: #7fbfbf; text-decoration-color: #7fbfbf\">                    </span>         <span style=\"color: #008080; text-decoration-color: #008080; font-weight: bold\">0x0000023F96801B20</span><span style=\"font-weight: bold\">&gt;</span>                                                    <span style=\"color: #7f7f7f; text-decoration-color: #7f7f7f\">               </span>\n",
       "</pre>\n"
      ],
      "text/plain": [
       "\u001b[2;36m[04/09/24 10:54:03]\u001b[0m\u001b[2;36m \u001b[0m\u001b[34mINFO    \u001b[0m INFO:root:Datastore: \u001b[1m<\u001b[0m\u001b[1;95mndtiff.nd_tiff_current.NDTiffDataset\u001b[0m\u001b[39m object at \u001b[0m  \u001b]8;id=475049;file://C:\\Users\\Lukas\\AppData\\Local\\Temp\\ipykernel_369324\\3937123280.py\u001b\\\u001b[2m3937123280.py\u001b[0m\u001b]8;;\u001b\\\u001b[2m:\u001b[0m\u001b]8;id=489993;file://C:\\Users\\Lukas\\AppData\\Local\\Temp\\ipykernel_369324\\3937123280.py#5\u001b\\\u001b[2m5\u001b[0m\u001b]8;;\u001b\\\n",
       "\u001b[2;36m                    \u001b[0m         \u001b[1;36m0x0000023F96801B20\u001b[0m\u001b[1m>\u001b[0m                                                    \u001b[2m               \u001b[0m\n"
      ]
     },
     "metadata": {},
     "output_type": "display_data"
    },
    {
     "data": {
      "text/html": [
       "<pre style=\"white-space:pre;overflow-x:auto;line-height:normal;font-family:Menlo,'DejaVu Sans Mono',consolas,'Courier New',monospace\"><span style=\"color: #7fbfbf; text-decoration-color: #7fbfbf\">                    </span><span style=\"color: #000080; text-decoration-color: #000080\">INFO    </span> INFO:root:dask array: dask.array<span style=\"font-weight: bold\">&lt;</span><span style=\"color: #ff00ff; text-decoration-color: #ff00ff; font-weight: bold\">_read_one_image</span><span style=\"color: #000000; text-decoration-color: #000000\">, </span><span style=\"color: #808000; text-decoration-color: #808000\">shape</span><span style=\"color: #000000; text-decoration-color: #000000\">=</span><span style=\"color: #000000; text-decoration-color: #000000; font-weight: bold\">(</span><span style=\"color: #008080; text-decoration-color: #008080; font-weight: bold\">5</span><span style=\"color: #000000; text-decoration-color: #000000\">, </span><span style=\"color: #008080; text-decoration-color: #008080; font-weight: bold\">938</span><span style=\"color: #000000; text-decoration-color: #000000\">, </span><span style=\"color: #008080; text-decoration-color: #008080; font-weight: bold\">2</span><span style=\"color: #000000; text-decoration-color: #000000\">, </span>   <a href=\"file://C:\\Users\\Lukas\\AppData\\Local\\Temp\\ipykernel_369324\\3937123280.py\" target=\"_blank\"><span style=\"color: #7f7f7f; text-decoration-color: #7f7f7f\">3937123280.py</span></a><span style=\"color: #7f7f7f; text-decoration-color: #7f7f7f\">:</span><a href=\"file://C:\\Users\\Lukas\\AppData\\Local\\Temp\\ipykernel_369324\\3937123280.py#6\" target=\"_blank\"><span style=\"color: #7f7f7f; text-decoration-color: #7f7f7f\">6</span></a>\n",
       "<span style=\"color: #7fbfbf; text-decoration-color: #7fbfbf\">                    </span>         <span style=\"color: #008080; text-decoration-color: #008080; font-weight: bold\">10</span><span style=\"color: #000000; text-decoration-color: #000000\">, </span><span style=\"color: #008080; text-decoration-color: #008080; font-weight: bold\">512</span><span style=\"color: #000000; text-decoration-color: #000000\">, </span><span style=\"color: #008080; text-decoration-color: #008080; font-weight: bold\">512</span><span style=\"color: #000000; text-decoration-color: #000000; font-weight: bold\">)</span><span style=\"color: #000000; text-decoration-color: #000000\">, </span><span style=\"color: #808000; text-decoration-color: #808000\">dtype</span><span style=\"color: #000000; text-decoration-color: #000000\">=</span><span style=\"color: #800080; text-decoration-color: #800080\">uint16</span><span style=\"color: #000000; text-decoration-color: #000000\">, </span><span style=\"color: #808000; text-decoration-color: #808000\">chunksize</span><span style=\"color: #000000; text-decoration-color: #000000\">=</span><span style=\"color: #000000; text-decoration-color: #000000; font-weight: bold\">(</span><span style=\"color: #008080; text-decoration-color: #008080; font-weight: bold\">1</span><span style=\"color: #000000; text-decoration-color: #000000\">, </span><span style=\"color: #008080; text-decoration-color: #008080; font-weight: bold\">1</span><span style=\"color: #000000; text-decoration-color: #000000\">, </span><span style=\"color: #008080; text-decoration-color: #008080; font-weight: bold\">1</span><span style=\"color: #000000; text-decoration-color: #000000\">, </span><span style=\"color: #008080; text-decoration-color: #008080; font-weight: bold\">1</span><span style=\"color: #000000; text-decoration-color: #000000\">, </span><span style=\"color: #008080; text-decoration-color: #008080; font-weight: bold\">512</span><span style=\"color: #000000; text-decoration-color: #000000\">, </span><span style=\"color: #008080; text-decoration-color: #008080; font-weight: bold\">512</span><span style=\"color: #000000; text-decoration-color: #000000; font-weight: bold\">)</span><span style=\"color: #000000; text-decoration-color: #000000\">, </span>        <span style=\"color: #7f7f7f; text-decoration-color: #7f7f7f\">               </span>\n",
       "<span style=\"color: #7fbfbf; text-decoration-color: #7fbfbf\">                    </span>         <span style=\"color: #808000; text-decoration-color: #808000\">chunktype</span><span style=\"color: #000000; text-decoration-color: #000000\">=</span><span style=\"color: #800080; text-decoration-color: #800080\">numpy</span><span style=\"color: #000000; text-decoration-color: #000000\">.ndarray</span><span style=\"font-weight: bold\">&gt;</span>                                               <span style=\"color: #7f7f7f; text-decoration-color: #7f7f7f\">               </span>\n",
       "</pre>\n"
      ],
      "text/plain": [
       "\u001b[2;36m                   \u001b[0m\u001b[2;36m \u001b[0m\u001b[34mINFO    \u001b[0m INFO:root:dask array: dask.array\u001b[1m<\u001b[0m\u001b[1;95m_read_one_image\u001b[0m\u001b[39m, \u001b[0m\u001b[33mshape\u001b[0m\u001b[39m=\u001b[0m\u001b[1;39m(\u001b[0m\u001b[1;36m5\u001b[0m\u001b[39m, \u001b[0m\u001b[1;36m938\u001b[0m\u001b[39m, \u001b[0m\u001b[1;36m2\u001b[0m\u001b[39m, \u001b[0m   \u001b]8;id=594543;file://C:\\Users\\Lukas\\AppData\\Local\\Temp\\ipykernel_369324\\3937123280.py\u001b\\\u001b[2m3937123280.py\u001b[0m\u001b]8;;\u001b\\\u001b[2m:\u001b[0m\u001b]8;id=724660;file://C:\\Users\\Lukas\\AppData\\Local\\Temp\\ipykernel_369324\\3937123280.py#6\u001b\\\u001b[2m6\u001b[0m\u001b]8;;\u001b\\\n",
       "\u001b[2;36m                    \u001b[0m         \u001b[1;36m10\u001b[0m\u001b[39m, \u001b[0m\u001b[1;36m512\u001b[0m\u001b[39m, \u001b[0m\u001b[1;36m512\u001b[0m\u001b[1;39m)\u001b[0m\u001b[39m, \u001b[0m\u001b[33mdtype\u001b[0m\u001b[39m=\u001b[0m\u001b[35muint16\u001b[0m\u001b[39m, \u001b[0m\u001b[33mchunksize\u001b[0m\u001b[39m=\u001b[0m\u001b[1;39m(\u001b[0m\u001b[1;36m1\u001b[0m\u001b[39m, \u001b[0m\u001b[1;36m1\u001b[0m\u001b[39m, \u001b[0m\u001b[1;36m1\u001b[0m\u001b[39m, \u001b[0m\u001b[1;36m1\u001b[0m\u001b[39m, \u001b[0m\u001b[1;36m512\u001b[0m\u001b[39m, \u001b[0m\u001b[1;36m512\u001b[0m\u001b[1;39m)\u001b[0m\u001b[39m, \u001b[0m        \u001b[2m               \u001b[0m\n",
       "\u001b[2;36m                    \u001b[0m         \u001b[33mchunktype\u001b[0m\u001b[39m=\u001b[0m\u001b[35mnumpy\u001b[0m\u001b[39m.ndarray\u001b[0m\u001b[1m>\u001b[0m                                               \u001b[2m               \u001b[0m\n"
      ]
     },
     "metadata": {},
     "output_type": "display_data"
    },
    {
     "data": {
      "text/html": [
       "<pre style=\"white-space:pre;overflow-x:auto;line-height:normal;font-family:Menlo,'DejaVu Sans Mono',consolas,'Courier New',monospace\"><span style=\"color: #7fbfbf; text-decoration-color: #7fbfbf\">                    </span><span style=\"color: #000080; text-decoration-color: #000080\">INFO    </span> INFO:root:dask array dimensions <span style=\"font-weight: bold\">[</span>position,time,channel,z,y,x<span style=\"font-weight: bold\">]</span>: <span style=\"font-weight: bold\">(</span><span style=\"color: #008080; text-decoration-color: #008080; font-weight: bold\">5</span>,     <a href=\"file://C:\\Users\\Lukas\\AppData\\Local\\Temp\\ipykernel_369324\\3937123280.py\" target=\"_blank\"><span style=\"color: #7f7f7f; text-decoration-color: #7f7f7f\">3937123280.py</span></a><span style=\"color: #7f7f7f; text-decoration-color: #7f7f7f\">:</span><a href=\"file://C:\\Users\\Lukas\\AppData\\Local\\Temp\\ipykernel_369324\\3937123280.py#7\" target=\"_blank\"><span style=\"color: #7f7f7f; text-decoration-color: #7f7f7f\">7</span></a>\n",
       "<span style=\"color: #7fbfbf; text-decoration-color: #7fbfbf\">                    </span>         <span style=\"color: #008080; text-decoration-color: #008080; font-weight: bold\">938</span>, <span style=\"color: #008080; text-decoration-color: #008080; font-weight: bold\">2</span>, <span style=\"color: #008080; text-decoration-color: #008080; font-weight: bold\">10</span>, <span style=\"color: #008080; text-decoration-color: #008080; font-weight: bold\">512</span>, <span style=\"color: #008080; text-decoration-color: #008080; font-weight: bold\">512</span><span style=\"font-weight: bold\">)</span>                                                  <span style=\"color: #7f7f7f; text-decoration-color: #7f7f7f\">               </span>\n",
       "</pre>\n"
      ],
      "text/plain": [
       "\u001b[2;36m                   \u001b[0m\u001b[2;36m \u001b[0m\u001b[34mINFO    \u001b[0m INFO:root:dask array dimensions \u001b[1m[\u001b[0mposition,time,channel,z,y,x\u001b[1m]\u001b[0m: \u001b[1m(\u001b[0m\u001b[1;36m5\u001b[0m,     \u001b]8;id=465134;file://C:\\Users\\Lukas\\AppData\\Local\\Temp\\ipykernel_369324\\3937123280.py\u001b\\\u001b[2m3937123280.py\u001b[0m\u001b]8;;\u001b\\\u001b[2m:\u001b[0m\u001b]8;id=683975;file://C:\\Users\\Lukas\\AppData\\Local\\Temp\\ipykernel_369324\\3937123280.py#7\u001b\\\u001b[2m7\u001b[0m\u001b]8;;\u001b\\\n",
       "\u001b[2;36m                    \u001b[0m         \u001b[1;36m938\u001b[0m, \u001b[1;36m2\u001b[0m, \u001b[1;36m10\u001b[0m, \u001b[1;36m512\u001b[0m, \u001b[1;36m512\u001b[0m\u001b[1m)\u001b[0m                                                  \u001b[2m               \u001b[0m\n"
      ]
     },
     "metadata": {},
     "output_type": "display_data"
    }
   ],
   "source": [
    "#logger.level=logging.DEBUG\n",
    "image_path = \"P://TestData/NDTiffWithPositionsDualCam_1/\" #'/path/to/dataset_folder/'\n",
    "data = Dataset(image_path)\n",
    "dask_array = data.as_array()\n",
    "logger.info(f\"Datastore: {data}\")\n",
    "logger.info(f\"dask array: {dask_array}\")\n",
    "logger.info(f\"dask array dimensions [position,time,channel,z,y,x]: {dask_array.shape}\")"
   ]
  },
  {
   "cell_type": "code",
   "execution_count": 10,
   "id": "a946b147-79f4-44cb-b68d-533edf01143c",
   "metadata": {},
   "outputs": [
    {
     "name": "stdout",
     "output_type": "stream",
     "text": [
      "True\n",
      "<class 'numpy.ndarray'>\n",
      "(512, 512)\n"
     ]
    }
   ],
   "source": [
    "# Read single image:\n",
    "# data.read_image(channel= , z=, time=, position=, row=, column=)\n",
    "# pass all four main indices: time, z, position, channel\n",
    "# index starts at 0!\n",
    "print(data.has_image(time=930,z=9,position=0,channel=0))\n",
    "last_image_in_last_file = data.read_image(time=930,z=9,position=0,channel=0)\n",
    "first_image = data.read_image(time=0,z=0,position=0,channel=0)\n",
    "print(type(last_image_in_last_file))\n",
    "print(last_image_in_last_file.shape)"
   ]
  },
  {
   "cell_type": "code",
   "execution_count": 9,
   "id": "2eec617c-21b0-4f05-877e-cb3bed0d1849",
   "metadata": {},
   "outputs": [
    {
     "name": "stderr",
     "output_type": "stream",
     "text": [
      "WARNING: DirectWrite: CreateFontFaceFromHDC() failed (Gibt einen Fehler in einer Eingabedatei an, zum Beispiel eine Schriftartdatei.) for QFontDef(Family=\"\", pointsize=12, pixelsize=16, styleHint=5, weight=50, stretch=100, hintingPreference=0) LOGFONT(\"MS Sans Serif\", lfWidth=0, lfHeight=-16) dpi=144\n"
     ]
    },
    {
     "data": {
      "text/plain": [
       "Viewer(camera=Camera(center=(0.0, 255.5, 255.5), zoom=0.6471927266725352, angles=(0.0, 0.0, 90.0), perspective=0.0, mouse_pan=True, mouse_zoom=True), cursor=Cursor(position=(499.0, 4.0, 0.0, 0.0), scaled=True, size=1, style=<CursorStyle.STANDARD: 'standard'>), dims=Dims(ndim=4, ndisplay=2, last_used=3, range=((0.0, 1000.0, 1.0), (0.0, 10.0, 1.0), (0.0, 512.0, 1.0), (0.0, 512.0, 1.0)), current_step=(499, 4, 255, 255), order=(0, 1, 2, 3), axis_labels=('time', 'z', 'y', 'x')), grid=GridCanvas(stride=1, shape=(-1, -1), enabled=False), layers=[<Image layer 'dask_array' at 0x1ed6df3b8b0>], help='use <2> for transform', status='Ready', tooltip=Tooltip(visible=False, text=''), theme='dark', title='napari', mouse_over_canvas=False, mouse_move_callbacks=[], mouse_drag_callbacks=[], mouse_double_click_callbacks=[], mouse_wheel_callbacks=[<function dims_scroll at 0x000001ED628C1A60>], _persisted_mouse_event={}, _mouse_drag_gen={}, _mouse_wheel_gen={}, keymap={})"
      ]
     },
     "execution_count": 9,
     "metadata": {},
     "output_type": "execute_result"
    }
   ],
   "source": [
    "# view dask.array with napari\n",
    "axis = [position,time,channel,z,y,x]\n",
    "import napari\n",
    "napari.view_image(dask_array, multiscale=False, rgb=False, axis_labels=axis)"
   ]
  },
  {
   "cell_type": "code",
   "execution_count": null,
   "id": "6621dd64-c2b9-40b0-a4e1-e8b0071d875d",
   "metadata": {},
   "outputs": [],
   "source": [
    "# view microscopy data multichannel\n",
    "# not tested yet\n",
    "dask_array = [dask_array_ch1, dask_array_ch2]\n",
    "# for ndtiff package arrays:\n",
    "dask.array.concatenate(dask_array, axis=2) # axis=2 for ndtiff package arrays\n",
    "# for tiffile arrays\n",
    "dask.array.stack(dask_array, axis=1) # axis=1 is created, generating [t,c,z,x,y]\n",
    "\n",
    "napari.view_image(dask_array, multiscale=False, rgb=False)"
   ]
  },
  {
   "cell_type": "code",
   "execution_count": null,
   "id": "852a8a16-1cb6-44c5-b318-d88c1787f808",
   "metadata": {},
   "outputs": [],
   "source": [
    "# -------------- Explore Funciton for the Microscopy Data Reader Class -------------------"
   ]
  },
  {
   "cell_type": "code",
   "execution_count": 11,
   "id": "4bfc5ef0-72d4-4be8-a74e-a00bb4b4ba87",
   "metadata": {},
   "outputs": [
    {
     "name": "stdout",
     "output_type": "stream",
     "text": [
      "11\n",
      "0, R, -1\n",
      "1, T, 0\n",
      "2, C, 2\n",
      "3, Z, 1\n",
      "4, Y, 3\n",
      "5, X, 4\n",
      "[-1, 0, 2, 1, 3, 4]\n",
      "0, -1: create new axis R\n",
      "1, 1: nothing todo\n",
      "2, 3: swapp axis 3 with 2\n",
      "3, 3: nothing todo\n",
      "4, 4: nothing todo\n",
      "5, 5: nothing todo\n",
      "[0, 1, 2, 3, 4, 5]\n"
     ]
    }
   ],
   "source": [
    "# get axis order\n",
    "axis_order = \"RTCZYX\"\n",
    "org_axis_position = [11,12,13,14,15,16]\n",
    "print(org_axis_position[0])\n",
    "for i, org in enumerate(axis_order):\n",
    "    print(i, end=', ')\n",
    "    print(org, end=', ')\n",
    "    print(axes.find(org))\n",
    "    org_axis_position[i] = axes.find(org)\n",
    "print(org_axis_position)\n",
    "added = 0\n",
    "for i in range(len(org_axis_position)):\n",
    "    print(i, end=', ')\n",
    "    print(org_axis_position[i], end=': ') if org_axis_position[i] == -1 else print(org_axis_position[i]+added, end=': ')\n",
    "    if org_axis_position[i] == -1:\n",
    "        print(f'create new axis {axis_order[i]}')\n",
    "        org_axis_position[i] = i\n",
    "        org_axis_position[i+1:] = [x+1 if x >= 0 else x for x in org_axis_position[i+1:]]\n",
    "    elif not org_axis_position[i]+added == i:\n",
    "        print(f'swapp axis {org_axis_position[i]+added} with {i}')\n",
    "        old_axis = org_axis_position[i]\n",
    "        org_axis_position[i] = i\n",
    "        org_axis_position[old_axis+added] = old_axis\n",
    "    else:\n",
    "        print(\"nothing todo\")\n",
    "print(org_axis_position)"
   ]
  },
  {
   "cell_type": "code",
   "execution_count": 12,
   "id": "fdeee7ae-904b-44f6-8d15-8da06d94f80d",
   "metadata": {},
   "outputs": [],
   "source": [
    "first_image = dask_array[0,0,0].compute()\n",
    "#print(first_image)"
   ]
  },
  {
   "cell_type": "code",
   "execution_count": 13,
   "id": "540b3cbf-8a70-42ae-8351-e738cd9ddb19",
   "metadata": {},
   "outputs": [
    {
     "name": "stdout",
     "output_type": "stream",
     "text": [
      "(5, 938, 2, 10, 512, 512)\n",
      "11\n",
      "0, R, -1\n",
      "1, T, 0\n",
      "2, C, 2\n",
      "3, Z, 1\n",
      "4, Y, 3\n",
      "5, X, 4\n",
      "[-1, 0, 2, 1, 3, 4]\n",
      "0, -1: create new axis R\n",
      "1, 1: nothing todo\n",
      "2, 3: swapp axis 3 with 2\n",
      "3, 3: nothing todo\n",
      "4, 4: nothing todo\n",
      "5, 5: nothing todo\n",
      "[0, 1, 2, 3, 4, 5]\n",
      "(1, 5, 2, 938, 10, 512, 512)\n"
     ]
    }
   ],
   "source": [
    "# fix axis order\n",
    "print(dask_array.shape)\n",
    "axis_order = \"RTCZYX\"\n",
    "org_axis_position = [11,12,13,14,15,16]\n",
    "print(org_axis_position[0])\n",
    "for i, org in enumerate(axis_order):\n",
    "    print(i, end=', ')\n",
    "    print(org, end=', ')\n",
    "    print(axes.find(org))\n",
    "    org_axis_position[i] = axes.find(org)\n",
    "print(org_axis_position)\n",
    "added = 0\n",
    "for i in range(len(org_axis_position)):\n",
    "    print(i, end=', ')\n",
    "    print(org_axis_position[i], end=': ') if org_axis_position[i] == -1 else print(org_axis_position[i]+added, end=': ')\n",
    "    if org_axis_position[i] == -1:\n",
    "        print(f'create new axis {axis_order[i]}')\n",
    "        dask_array = dask.array.expand_dims(dask_array, i)\n",
    "        org_axis_position[i] = i\n",
    "        org_axis_position[i+1:] = [x+1 if x >= 0 else x for x in org_axis_position[i+1:]]\n",
    "    elif not org_axis_position[i] == i:\n",
    "        print(f'swapp axis {org_axis_position[i]} with {i}')\n",
    "        dask_array = dask.array.moveaxis(dask_array, org_axis_position[i], i)\n",
    "        #print(dask.array.moveaxis(dask_array, org_axis_position[i], i).shape)\n",
    "        old_axis = org_axis_position[i]\n",
    "        org_axis_position[i] = i\n",
    "        org_axis_position[old_axis] = old_axis\n",
    "    else:\n",
    "        org_axis_position[i] = i\n",
    "        print(\"nothing todo\")\n",
    "print(org_axis_position)\n",
    "print(dask_array.shape)"
   ]
  },
  {
   "cell_type": "code",
   "execution_count": 14,
   "id": "0b046f87-af1c-4389-9d40-11946d537131",
   "metadata": {},
   "outputs": [
    {
     "name": "stdout",
     "output_type": "stream",
     "text": [
      "works!\n"
     ]
    }
   ],
   "source": [
    "new_first_image = dask_array[0,0,0].compute()\n",
    "if (new_first_image == first_image).all:\n",
    "    print(\"works!\")"
   ]
  },
  {
   "cell_type": "code",
   "execution_count": 15,
   "id": "f83a3653-b9f7-4bc9-a661-7cb8877a7792",
   "metadata": {},
   "outputs": [],
   "source": [
    "from MicroscopeDataReader.MicroscopeDataReader import MicroscopeDataReader\n",
    "from pathlib import Path"
   ]
  },
  {
   "cell_type": "code",
   "execution_count": 16,
   "id": "76d57632-f649-4e8f-bb94-602d71661825",
   "metadata": {},
   "outputs": [
    {
     "data": {
      "text/html": [
       "<pre style=\"white-space:pre;overflow-x:auto;line-height:normal;font-family:Menlo,'DejaVu Sans Mono',consolas,'Courier New',monospace\"><span style=\"color: #7fbfbf; text-decoration-color: #7fbfbf\">[04/09/24 10:56:01] </span><span style=\"color: #000080; text-decoration-color: #000080\">INFO    </span> INFO:MicroscopeDataReader.MicroscopeDataReader:Reading      <a href=\"file://C:\\Users\\Lukas\\anaconda3\\envs\\snouty\\lib\\site-packages\\MicroscopeDataReader\\MicroscopeDataReader.py\" target=\"_blank\"><span style=\"color: #7f7f7f; text-decoration-color: #7f7f7f\">MicroscopeDataReader.py</span></a><span style=\"color: #7f7f7f; text-decoration-color: #7f7f7f\">:</span><a href=\"file://C:\\Users\\Lukas\\anaconda3\\envs\\snouty\\lib\\site-packages\\MicroscopeDataReader\\MicroscopeDataReader.py#64\" target=\"_blank\"><span style=\"color: #7f7f7f; text-decoration-color: #7f7f7f\">64</span></a>\n",
       "<span style=\"color: #7fbfbf; text-decoration-color: #7fbfbf\">                    </span>         Dataset from: P:\\TestData\\TiffWithPositionsDualCam_1        <span style=\"color: #7f7f7f; text-decoration-color: #7f7f7f\">                          </span>\n",
       "</pre>\n"
      ],
      "text/plain": [
       "\u001b[2;36m[04/09/24 10:56:01]\u001b[0m\u001b[2;36m \u001b[0m\u001b[34mINFO    \u001b[0m INFO:MicroscopeDataReader.MicroscopeDataReader:Reading      \u001b]8;id=343829;file://C:\\Users\\Lukas\\anaconda3\\envs\\snouty\\lib\\site-packages\\MicroscopeDataReader\\MicroscopeDataReader.py\u001b\\\u001b[2mMicroscopeDataReader.py\u001b[0m\u001b]8;;\u001b\\\u001b[2m:\u001b[0m\u001b]8;id=652732;file://C:\\Users\\Lukas\\anaconda3\\envs\\snouty\\lib\\site-packages\\MicroscopeDataReader\\MicroscopeDataReader.py#64\u001b\\\u001b[2m64\u001b[0m\u001b]8;;\u001b\\\n",
       "\u001b[2;36m                    \u001b[0m         Dataset from: P:\\TestData\\TiffWithPositionsDualCam_1        \u001b[2m                          \u001b[0m\n"
      ]
     },
     "metadata": {},
     "output_type": "display_data"
    },
    {
     "data": {
      "text/html": [
       "<pre style=\"white-space:pre;overflow-x:auto;line-height:normal;font-family:Menlo,'DejaVu Sans Mono',consolas,'Courier New',monospace\"><span style=\"color: #7fbfbf; text-decoration-color: #7fbfbf\">                    </span><span style=\"color: #000080; text-decoration-color: #000080\">INFO    </span> INFO:MicroscopeDataReader.MicroscopeDataReader:Found        <a href=\"file://C:\\Users\\Lukas\\anaconda3\\envs\\snouty\\lib\\site-packages\\MicroscopeDataReader\\MicroscopeDataReader.py\" target=\"_blank\"><span style=\"color: #7f7f7f; text-decoration-color: #7f7f7f\">MicroscopeDataReader.py</span></a><span style=\"color: #7f7f7f; text-decoration-color: #7f7f7f\">:</span><a href=\"file://C:\\Users\\Lukas\\anaconda3\\envs\\snouty\\lib\\site-packages\\MicroscopeDataReader\\MicroscopeDataReader.py#80\" target=\"_blank\"><span style=\"color: #7f7f7f; text-decoration-color: #7f7f7f\">80</span></a>\n",
       "<span style=\"color: #7fbfbf; text-decoration-color: #7fbfbf\">                    </span>         P:\\TestData\\TiffWithPositionsDualCam_1/TiffWithPositionsDua <span style=\"color: #7f7f7f; text-decoration-color: #7f7f7f\">                          </span>\n",
       "<span style=\"color: #7fbfbf; text-decoration-color: #7fbfbf\">                    </span>         lCam_1_MMStack.ome.tif file in                              <span style=\"color: #7f7f7f; text-decoration-color: #7f7f7f\">                          </span>\n",
       "<span style=\"color: #7fbfbf; text-decoration-color: #7fbfbf\">                    </span>         P:\\TestData\\TiffWithPositionsDualCam_1                      <span style=\"color: #7f7f7f; text-decoration-color: #7f7f7f\">                          </span>\n",
       "</pre>\n"
      ],
      "text/plain": [
       "\u001b[2;36m                   \u001b[0m\u001b[2;36m \u001b[0m\u001b[34mINFO    \u001b[0m INFO:MicroscopeDataReader.MicroscopeDataReader:Found        \u001b]8;id=263529;file://C:\\Users\\Lukas\\anaconda3\\envs\\snouty\\lib\\site-packages\\MicroscopeDataReader\\MicroscopeDataReader.py\u001b\\\u001b[2mMicroscopeDataReader.py\u001b[0m\u001b]8;;\u001b\\\u001b[2m:\u001b[0m\u001b]8;id=598130;file://C:\\Users\\Lukas\\anaconda3\\envs\\snouty\\lib\\site-packages\\MicroscopeDataReader\\MicroscopeDataReader.py#80\u001b\\\u001b[2m80\u001b[0m\u001b]8;;\u001b\\\n",
       "\u001b[2;36m                    \u001b[0m         P:\\TestData\\TiffWithPositionsDualCam_1/TiffWithPositionsDua \u001b[2m                          \u001b[0m\n",
       "\u001b[2;36m                    \u001b[0m         lCam_1_MMStack.ome.tif file in                              \u001b[2m                          \u001b[0m\n",
       "\u001b[2;36m                    \u001b[0m         P:\\TestData\\TiffWithPositionsDualCam_1                      \u001b[2m                          \u001b[0m\n"
      ]
     },
     "metadata": {},
     "output_type": "display_data"
    },
    {
     "data": {
      "text/html": [
       "<pre style=\"white-space:pre;overflow-x:auto;line-height:normal;font-family:Menlo,'DejaVu Sans Mono',consolas,'Courier New',monospace\"><span style=\"color: #7fbfbf; text-decoration-color: #7fbfbf\">                    </span><span style=\"color: #000080; text-decoration-color: #000080\">INFO    </span> INFO:MicroscopeDataReader.MicroscopeDataReader:Reading     <a href=\"file://C:\\Users\\Lukas\\anaconda3\\envs\\snouty\\lib\\site-packages\\MicroscopeDataReader\\MicroscopeDataReader.py\" target=\"_blank\"><span style=\"color: #7f7f7f; text-decoration-color: #7f7f7f\">MicroscopeDataReader.py</span></a><span style=\"color: #7f7f7f; text-decoration-color: #7f7f7f\">:</span><a href=\"file://C:\\Users\\Lukas\\anaconda3\\envs\\snouty\\lib\\site-packages\\MicroscopeDataReader\\MicroscopeDataReader.py#102\" target=\"_blank\"><span style=\"color: #7f7f7f; text-decoration-color: #7f7f7f\">102</span></a>\n",
       "<span style=\"color: #7fbfbf; text-decoration-color: #7fbfbf\">                    </span>         data from P:\\TestData\\TiffWithPositionsDualCam_1 as        <span style=\"color: #7f7f7f; text-decoration-color: #7f7f7f\">                           </span>\n",
       "<span style=\"color: #7fbfbf; text-decoration-color: #7fbfbf\">                    </span>         MMStack file                                               <span style=\"color: #7f7f7f; text-decoration-color: #7f7f7f\">                           </span>\n",
       "</pre>\n"
      ],
      "text/plain": [
       "\u001b[2;36m                   \u001b[0m\u001b[2;36m \u001b[0m\u001b[34mINFO    \u001b[0m INFO:MicroscopeDataReader.MicroscopeDataReader:Reading     \u001b]8;id=941127;file://C:\\Users\\Lukas\\anaconda3\\envs\\snouty\\lib\\site-packages\\MicroscopeDataReader\\MicroscopeDataReader.py\u001b\\\u001b[2mMicroscopeDataReader.py\u001b[0m\u001b]8;;\u001b\\\u001b[2m:\u001b[0m\u001b]8;id=456390;file://C:\\Users\\Lukas\\anaconda3\\envs\\snouty\\lib\\site-packages\\MicroscopeDataReader\\MicroscopeDataReader.py#102\u001b\\\u001b[2m102\u001b[0m\u001b]8;;\u001b\\\n",
       "\u001b[2;36m                    \u001b[0m         data from P:\\TestData\\TiffWithPositionsDualCam_1 as        \u001b[2m                           \u001b[0m\n",
       "\u001b[2;36m                    \u001b[0m         MMStack file                                               \u001b[2m                           \u001b[0m\n"
      ]
     },
     "metadata": {},
     "output_type": "display_data"
    },
    {
     "data": {
      "text/html": [
       "<pre style=\"white-space:pre;overflow-x:auto;line-height:normal;font-family:Menlo,'DejaVu Sans Mono',consolas,'Courier New',monospace\"><span style=\"color: #7fbfbf; text-decoration-color: #7fbfbf\">                    </span><span style=\"color: #000080; text-decoration-color: #000080\">INFO    </span> INFO:MicroscopeDataReader.MicroscopeDataReader:Fixing axis <a href=\"file://C:\\Users\\Lukas\\anaconda3\\envs\\snouty\\lib\\site-packages\\MicroscopeDataReader\\MicroscopeDataReader.py\" target=\"_blank\"><span style=\"color: #7f7f7f; text-decoration-color: #7f7f7f\">MicroscopeDataReader.py</span></a><span style=\"color: #7f7f7f; text-decoration-color: #7f7f7f\">:</span><a href=\"file://C:\\Users\\Lukas\\anaconda3\\envs\\snouty\\lib\\site-packages\\MicroscopeDataReader\\MicroscopeDataReader.py#125\" target=\"_blank\"><span style=\"color: #7f7f7f; text-decoration-color: #7f7f7f\">125</span></a>\n",
       "<span style=\"color: #7fbfbf; text-decoration-color: #7fbfbf\">                    </span>         order                                                      <span style=\"color: #7f7f7f; text-decoration-color: #7f7f7f\">                           </span>\n",
       "</pre>\n"
      ],
      "text/plain": [
       "\u001b[2;36m                   \u001b[0m\u001b[2;36m \u001b[0m\u001b[34mINFO    \u001b[0m INFO:MicroscopeDataReader.MicroscopeDataReader:Fixing axis \u001b]8;id=498861;file://C:\\Users\\Lukas\\anaconda3\\envs\\snouty\\lib\\site-packages\\MicroscopeDataReader\\MicroscopeDataReader.py\u001b\\\u001b[2mMicroscopeDataReader.py\u001b[0m\u001b]8;;\u001b\\\u001b[2m:\u001b[0m\u001b]8;id=338933;file://C:\\Users\\Lukas\\anaconda3\\envs\\snouty\\lib\\site-packages\\MicroscopeDataReader\\MicroscopeDataReader.py#125\u001b\\\u001b[2m125\u001b[0m\u001b]8;;\u001b\\\n",
       "\u001b[2;36m                    \u001b[0m         order                                                      \u001b[2m                           \u001b[0m\n"
      ]
     },
     "metadata": {},
     "output_type": "display_data"
    },
    {
     "data": {
      "text/html": [
       "<pre style=\"white-space:pre;overflow-x:auto;line-height:normal;font-family:Menlo,'DejaVu Sans Mono',consolas,'Courier New',monospace\"><span style=\"color: #7fbfbf; text-decoration-color: #7fbfbf\">                    </span><span style=\"color: #000080; text-decoration-color: #000080\">INFO    </span> INFO:MicroscopeDataReader.MicroscopeDataReader:Org axis    <a href=\"file://C:\\Users\\Lukas\\anaconda3\\envs\\snouty\\lib\\site-packages\\MicroscopeDataReader\\MicroscopeDataReader.py\" target=\"_blank\"><span style=\"color: #7f7f7f; text-decoration-color: #7f7f7f\">MicroscopeDataReader.py</span></a><span style=\"color: #7f7f7f; text-decoration-color: #7f7f7f\">:</span><a href=\"file://C:\\Users\\Lukas\\anaconda3\\envs\\snouty\\lib\\site-packages\\MicroscopeDataReader\\MicroscopeDataReader.py#131\" target=\"_blank\"><span style=\"color: #7f7f7f; text-decoration-color: #7f7f7f\">131</span></a>\n",
       "<span style=\"color: #7fbfbf; text-decoration-color: #7fbfbf\">                    </span>         order, position of PTCZYX: <span style=\"font-weight: bold\">[</span><span style=\"color: #008080; text-decoration-color: #008080; font-weight: bold\">-1</span>, <span style=\"color: #008080; text-decoration-color: #008080; font-weight: bold\">0</span>, <span style=\"color: #008080; text-decoration-color: #008080; font-weight: bold\">2</span>, <span style=\"color: #008080; text-decoration-color: #008080; font-weight: bold\">1</span>, <span style=\"color: #008080; text-decoration-color: #008080; font-weight: bold\">3</span>, <span style=\"color: #008080; text-decoration-color: #008080; font-weight: bold\">4</span><span style=\"font-weight: bold\">]</span>             <span style=\"color: #7f7f7f; text-decoration-color: #7f7f7f\">                           </span>\n",
       "</pre>\n"
      ],
      "text/plain": [
       "\u001b[2;36m                   \u001b[0m\u001b[2;36m \u001b[0m\u001b[34mINFO    \u001b[0m INFO:MicroscopeDataReader.MicroscopeDataReader:Org axis    \u001b]8;id=496730;file://C:\\Users\\Lukas\\anaconda3\\envs\\snouty\\lib\\site-packages\\MicroscopeDataReader\\MicroscopeDataReader.py\u001b\\\u001b[2mMicroscopeDataReader.py\u001b[0m\u001b]8;;\u001b\\\u001b[2m:\u001b[0m\u001b]8;id=57682;file://C:\\Users\\Lukas\\anaconda3\\envs\\snouty\\lib\\site-packages\\MicroscopeDataReader\\MicroscopeDataReader.py#131\u001b\\\u001b[2m131\u001b[0m\u001b]8;;\u001b\\\n",
       "\u001b[2;36m                    \u001b[0m         order, position of PTCZYX: \u001b[1m[\u001b[0m\u001b[1;36m-1\u001b[0m, \u001b[1;36m0\u001b[0m, \u001b[1;36m2\u001b[0m, \u001b[1;36m1\u001b[0m, \u001b[1;36m3\u001b[0m, \u001b[1;36m4\u001b[0m\u001b[1m]\u001b[0m             \u001b[2m                           \u001b[0m\n"
      ]
     },
     "metadata": {},
     "output_type": "display_data"
    },
    {
     "data": {
      "text/html": [
       "<pre style=\"white-space:pre;overflow-x:auto;line-height:normal;font-family:Menlo,'DejaVu Sans Mono',consolas,'Courier New',monospace\"><span style=\"color: #7fbfbf; text-decoration-color: #7fbfbf\">                    </span><span style=\"color: #000080; text-decoration-color: #000080\">INFO    </span> INFO:MicroscopeDataReader.MicroscopeDataReader:New axis    <a href=\"file://C:\\Users\\Lukas\\anaconda3\\envs\\snouty\\lib\\site-packages\\MicroscopeDataReader\\MicroscopeDataReader.py\" target=\"_blank\"><span style=\"color: #7f7f7f; text-decoration-color: #7f7f7f\">MicroscopeDataReader.py</span></a><span style=\"color: #7f7f7f; text-decoration-color: #7f7f7f\">:</span><a href=\"file://C:\\Users\\Lukas\\anaconda3\\envs\\snouty\\lib\\site-packages\\MicroscopeDataReader\\MicroscopeDataReader.py#151\" target=\"_blank\"><span style=\"color: #7f7f7f; text-decoration-color: #7f7f7f\">151</span></a>\n",
       "<span style=\"color: #7fbfbf; text-decoration-color: #7fbfbf\">                    </span>         order <span style=\"font-weight: bold\">[</span>p,t,c,z,y,x<span style=\"font-weight: bold\">]</span>: <span style=\"font-weight: bold\">[</span><span style=\"color: #008080; text-decoration-color: #008080; font-weight: bold\">0</span>, <span style=\"color: #008080; text-decoration-color: #008080; font-weight: bold\">1</span>, <span style=\"color: #008080; text-decoration-color: #008080; font-weight: bold\">2</span>, <span style=\"color: #008080; text-decoration-color: #008080; font-weight: bold\">3</span>, <span style=\"color: #008080; text-decoration-color: #008080; font-weight: bold\">4</span>, <span style=\"color: #008080; text-decoration-color: #008080; font-weight: bold\">5</span><span style=\"font-weight: bold\">]</span>                    <span style=\"color: #7f7f7f; text-decoration-color: #7f7f7f\">                           </span>\n",
       "</pre>\n"
      ],
      "text/plain": [
       "\u001b[2;36m                   \u001b[0m\u001b[2;36m \u001b[0m\u001b[34mINFO    \u001b[0m INFO:MicroscopeDataReader.MicroscopeDataReader:New axis    \u001b]8;id=692654;file://C:\\Users\\Lukas\\anaconda3\\envs\\snouty\\lib\\site-packages\\MicroscopeDataReader\\MicroscopeDataReader.py\u001b\\\u001b[2mMicroscopeDataReader.py\u001b[0m\u001b]8;;\u001b\\\u001b[2m:\u001b[0m\u001b]8;id=66225;file://C:\\Users\\Lukas\\anaconda3\\envs\\snouty\\lib\\site-packages\\MicroscopeDataReader\\MicroscopeDataReader.py#151\u001b\\\u001b[2m151\u001b[0m\u001b]8;;\u001b\\\n",
       "\u001b[2;36m                    \u001b[0m         order \u001b[1m[\u001b[0mp,t,c,z,y,x\u001b[1m]\u001b[0m: \u001b[1m[\u001b[0m\u001b[1;36m0\u001b[0m, \u001b[1;36m1\u001b[0m, \u001b[1;36m2\u001b[0m, \u001b[1;36m3\u001b[0m, \u001b[1;36m4\u001b[0m, \u001b[1;36m5\u001b[0m\u001b[1m]\u001b[0m                    \u001b[2m                           \u001b[0m\n"
      ]
     },
     "metadata": {},
     "output_type": "display_data"
    },
    {
     "data": {
      "text/html": [
       "<pre style=\"white-space:pre;overflow-x:auto;line-height:normal;font-family:Menlo,'DejaVu Sans Mono',consolas,'Courier New',monospace\"><span style=\"color: #7fbfbf; text-decoration-color: #7fbfbf\">[04/09/24 10:56:02] </span><span style=\"color: #000080; text-decoration-color: #000080\">INFO    </span> INFO:MicroscopeDataReader.MicroscopeDataReader:Data store: <a href=\"file://C:\\Users\\Lukas\\anaconda3\\envs\\snouty\\lib\\site-packages\\MicroscopeDataReader\\MicroscopeDataReader.py\" target=\"_blank\"><span style=\"color: #7f7f7f; text-decoration-color: #7f7f7f\">MicroscopeDataReader.py</span></a><span style=\"color: #7f7f7f; text-decoration-color: #7f7f7f\">:</span><a href=\"file://C:\\Users\\Lukas\\anaconda3\\envs\\snouty\\lib\\site-packages\\MicroscopeDataReader\\MicroscopeDataReader.py#120\" target=\"_blank\"><span style=\"color: #7f7f7f; text-decoration-color: #7f7f7f\">120</span></a>\n",
       "<span style=\"color: #7fbfbf; text-decoration-color: #7fbfbf\">                    </span>         TiffFile <span style=\"color: #008000; text-decoration-color: #008000\">'TiffWi…e.tif'</span>  <span style=\"color: #008080; text-decoration-color: #008080; font-weight: bold\">1.99</span> GiB  <span style=\"color: #008080; text-decoration-color: #008080; font-weight: bold\">4000</span> Pages              <span style=\"color: #7f7f7f; text-decoration-color: #7f7f7f\">                           </span>\n",
       "<span style=\"color: #7fbfbf; text-decoration-color: #7fbfbf\">                    </span>         imagej|micromanager|mmstack|ome|uniform                    <span style=\"color: #7f7f7f; text-decoration-color: #7f7f7f\">                           </span>\n",
       "</pre>\n"
      ],
      "text/plain": [
       "\u001b[2;36m[04/09/24 10:56:02]\u001b[0m\u001b[2;36m \u001b[0m\u001b[34mINFO    \u001b[0m INFO:MicroscopeDataReader.MicroscopeDataReader:Data store: \u001b]8;id=52838;file://C:\\Users\\Lukas\\anaconda3\\envs\\snouty\\lib\\site-packages\\MicroscopeDataReader\\MicroscopeDataReader.py\u001b\\\u001b[2mMicroscopeDataReader.py\u001b[0m\u001b]8;;\u001b\\\u001b[2m:\u001b[0m\u001b]8;id=817944;file://C:\\Users\\Lukas\\anaconda3\\envs\\snouty\\lib\\site-packages\\MicroscopeDataReader\\MicroscopeDataReader.py#120\u001b\\\u001b[2m120\u001b[0m\u001b]8;;\u001b\\\n",
       "\u001b[2;36m                    \u001b[0m         TiffFile \u001b[32m'TiffWi…e.tif'\u001b[0m  \u001b[1;36m1.99\u001b[0m GiB  \u001b[1;36m4000\u001b[0m Pages              \u001b[2m                           \u001b[0m\n",
       "\u001b[2;36m                    \u001b[0m         imagej|micromanager|mmstack|ome|uniform                    \u001b[2m                           \u001b[0m\n"
      ]
     },
     "metadata": {},
     "output_type": "display_data"
    },
    {
     "data": {
      "text/html": [
       "<pre style=\"white-space:pre;overflow-x:auto;line-height:normal;font-family:Menlo,'DejaVu Sans Mono',consolas,'Courier New',monospace\"><span style=\"color: #7fbfbf; text-decoration-color: #7fbfbf\">                    </span><span style=\"color: #000080; text-decoration-color: #000080\">INFO    </span> INFO:MicroscopeDataReader.MicroscopeDataReader:dask array  <a href=\"file://C:\\Users\\Lukas\\anaconda3\\envs\\snouty\\lib\\site-packages\\MicroscopeDataReader\\MicroscopeDataReader.py\" target=\"_blank\"><span style=\"color: #7f7f7f; text-decoration-color: #7f7f7f\">MicroscopeDataReader.py</span></a><span style=\"color: #7f7f7f; text-decoration-color: #7f7f7f\">:</span><a href=\"file://C:\\Users\\Lukas\\anaconda3\\envs\\snouty\\lib\\site-packages\\MicroscopeDataReader\\MicroscopeDataReader.py#121\" target=\"_blank\"><span style=\"color: #7f7f7f; text-decoration-color: #7f7f7f\">121</span></a>\n",
       "<span style=\"color: #7fbfbf; text-decoration-color: #7fbfbf\">                    </span>         dimensions: <span style=\"font-weight: bold\">(</span><span style=\"color: #008080; text-decoration-color: #008080; font-weight: bold\">1</span>, <span style=\"color: #008080; text-decoration-color: #008080; font-weight: bold\">200</span>, <span style=\"color: #008080; text-decoration-color: #008080; font-weight: bold\">2</span>, <span style=\"color: #008080; text-decoration-color: #008080; font-weight: bold\">10</span>, <span style=\"color: #008080; text-decoration-color: #008080; font-weight: bold\">512</span>, <span style=\"color: #008080; text-decoration-color: #008080; font-weight: bold\">512</span><span style=\"font-weight: bold\">)</span>                      <span style=\"color: #7f7f7f; text-decoration-color: #7f7f7f\">                           </span>\n",
       "</pre>\n"
      ],
      "text/plain": [
       "\u001b[2;36m                   \u001b[0m\u001b[2;36m \u001b[0m\u001b[34mINFO    \u001b[0m INFO:MicroscopeDataReader.MicroscopeDataReader:dask array  \u001b]8;id=136336;file://C:\\Users\\Lukas\\anaconda3\\envs\\snouty\\lib\\site-packages\\MicroscopeDataReader\\MicroscopeDataReader.py\u001b\\\u001b[2mMicroscopeDataReader.py\u001b[0m\u001b]8;;\u001b\\\u001b[2m:\u001b[0m\u001b]8;id=747428;file://C:\\Users\\Lukas\\anaconda3\\envs\\snouty\\lib\\site-packages\\MicroscopeDataReader\\MicroscopeDataReader.py#121\u001b\\\u001b[2m121\u001b[0m\u001b]8;;\u001b\\\n",
       "\u001b[2;36m                    \u001b[0m         dimensions: \u001b[1m(\u001b[0m\u001b[1;36m1\u001b[0m, \u001b[1;36m200\u001b[0m, \u001b[1;36m2\u001b[0m, \u001b[1;36m10\u001b[0m, \u001b[1;36m512\u001b[0m, \u001b[1;36m512\u001b[0m\u001b[1m)\u001b[0m                      \u001b[2m                           \u001b[0m\n"
      ]
     },
     "metadata": {},
     "output_type": "display_data"
    }
   ],
   "source": [
    "image_path = Path(\"P://TestData/TiffWithPositionsDualCam_1/TiffWithPositionsDualCam_1_MMStack.ome.tif\")\n",
    "my_data = MicroscopeDataReader(image_path)"
   ]
  },
  {
   "cell_type": "code",
   "execution_count": 17,
   "id": "93c0ba24-95b5-4907-b605-1425c2591242",
   "metadata": {},
   "outputs": [],
   "source": [
    "#logging.info(my_data.get_axes_order())\n",
    "#logging.info(my_data.get_axes_string())\n",
    "dask_array = my_data.dask_array"
   ]
  },
  {
   "cell_type": "code",
   "execution_count": 18,
   "id": "4bff9803-39ab-4627-be71-93c9529a2968",
   "metadata": {},
   "outputs": [
    {
     "data": {
      "text/html": [
       "<pre style=\"white-space:pre;overflow-x:auto;line-height:normal;font-family:Menlo,'DejaVu Sans Mono',consolas,'Courier New',monospace\"><span style=\"color: #7fbfbf; text-decoration-color: #7fbfbf\">[04/09/24 10:56:15] </span><span style=\"color: #000080; text-decoration-color: #000080\">INFO    </span> INFO:root:<span style=\"font-weight: bold\">[[</span><span style=\"color: #008080; text-decoration-color: #008080; font-weight: bold\">5846</span> <span style=\"color: #008080; text-decoration-color: #008080; font-weight: bold\">5845</span> <span style=\"color: #008080; text-decoration-color: #008080; font-weight: bold\">5843</span> <span style=\"color: #808000; text-decoration-color: #808000\">...</span> <span style=\"color: #008080; text-decoration-color: #008080; font-weight: bold\">5839</span> <span style=\"color: #008080; text-decoration-color: #008080; font-weight: bold\">5843</span> <span style=\"color: #008080; text-decoration-color: #008080; font-weight: bold\">5845</span><span style=\"font-weight: bold\">]</span>                         <a href=\"file://C:\\Users\\Lukas\\AppData\\Local\\Temp\\ipykernel_369324\\3071265974.py\" target=\"_blank\"><span style=\"color: #7f7f7f; text-decoration-color: #7f7f7f\">3071265974.py</span></a><span style=\"color: #7f7f7f; text-decoration-color: #7f7f7f\">:</span><a href=\"file://C:\\Users\\Lukas\\AppData\\Local\\Temp\\ipykernel_369324\\3071265974.py#2\" target=\"_blank\"><span style=\"color: #7f7f7f; text-decoration-color: #7f7f7f\">2</span></a>\n",
       "<span style=\"color: #7fbfbf; text-decoration-color: #7fbfbf\">                    </span>          <span style=\"font-weight: bold\">[</span><span style=\"color: #008080; text-decoration-color: #008080; font-weight: bold\">5846</span> <span style=\"color: #008080; text-decoration-color: #008080; font-weight: bold\">5845</span> <span style=\"color: #008080; text-decoration-color: #008080; font-weight: bold\">5843</span> <span style=\"color: #808000; text-decoration-color: #808000\">...</span> <span style=\"color: #008080; text-decoration-color: #008080; font-weight: bold\">5840</span> <span style=\"color: #008080; text-decoration-color: #008080; font-weight: bold\">5843</span> <span style=\"color: #008080; text-decoration-color: #008080; font-weight: bold\">5846</span><span style=\"font-weight: bold\">]</span>                                   <span style=\"color: #7f7f7f; text-decoration-color: #7f7f7f\">               </span>\n",
       "<span style=\"color: #7fbfbf; text-decoration-color: #7fbfbf\">                    </span>          <span style=\"font-weight: bold\">[</span><span style=\"color: #008080; text-decoration-color: #008080; font-weight: bold\">5846</span> <span style=\"color: #008080; text-decoration-color: #008080; font-weight: bold\">5845</span> <span style=\"color: #008080; text-decoration-color: #008080; font-weight: bold\">5842</span> <span style=\"color: #808000; text-decoration-color: #808000\">...</span> <span style=\"color: #008080; text-decoration-color: #008080; font-weight: bold\">5840</span> <span style=\"color: #008080; text-decoration-color: #008080; font-weight: bold\">5844</span> <span style=\"color: #008080; text-decoration-color: #008080; font-weight: bold\">5846</span><span style=\"font-weight: bold\">]</span>                                   <span style=\"color: #7f7f7f; text-decoration-color: #7f7f7f\">               </span>\n",
       "<span style=\"color: #7fbfbf; text-decoration-color: #7fbfbf\">                    </span>          <span style=\"color: #808000; text-decoration-color: #808000\">...</span>                                                                   <span style=\"color: #7f7f7f; text-decoration-color: #7f7f7f\">               </span>\n",
       "<span style=\"color: #7fbfbf; text-decoration-color: #7fbfbf\">                    </span>          <span style=\"font-weight: bold\">[</span><span style=\"color: #008080; text-decoration-color: #008080; font-weight: bold\">3300</span> <span style=\"color: #008080; text-decoration-color: #008080; font-weight: bold\">3237</span> <span style=\"color: #008080; text-decoration-color: #008080; font-weight: bold\">3174</span> <span style=\"color: #808000; text-decoration-color: #808000\">...</span> <span style=\"color: #008080; text-decoration-color: #008080; font-weight: bold\">3489</span> <span style=\"color: #008080; text-decoration-color: #008080; font-weight: bold\">3426</span> <span style=\"color: #008080; text-decoration-color: #008080; font-weight: bold\">3363</span><span style=\"font-weight: bold\">]</span>                                   <span style=\"color: #7f7f7f; text-decoration-color: #7f7f7f\">               </span>\n",
       "<span style=\"color: #7fbfbf; text-decoration-color: #7fbfbf\">                    </span>          <span style=\"font-weight: bold\">[</span><span style=\"color: #008080; text-decoration-color: #008080; font-weight: bold\">3292</span> <span style=\"color: #008080; text-decoration-color: #008080; font-weight: bold\">3229</span> <span style=\"color: #008080; text-decoration-color: #008080; font-weight: bold\">3166</span> <span style=\"color: #808000; text-decoration-color: #808000\">...</span> <span style=\"color: #008080; text-decoration-color: #008080; font-weight: bold\">3481</span> <span style=\"color: #008080; text-decoration-color: #008080; font-weight: bold\">3418</span> <span style=\"color: #008080; text-decoration-color: #008080; font-weight: bold\">3355</span><span style=\"font-weight: bold\">]</span>                                   <span style=\"color: #7f7f7f; text-decoration-color: #7f7f7f\">               </span>\n",
       "<span style=\"color: #7fbfbf; text-decoration-color: #7fbfbf\">                    </span>          <span style=\"font-weight: bold\">[</span><span style=\"color: #008080; text-decoration-color: #008080; font-weight: bold\">3284</span> <span style=\"color: #008080; text-decoration-color: #008080; font-weight: bold\">3221</span> <span style=\"color: #008080; text-decoration-color: #008080; font-weight: bold\">3158</span> <span style=\"color: #808000; text-decoration-color: #808000\">...</span> <span style=\"color: #008080; text-decoration-color: #008080; font-weight: bold\">3473</span> <span style=\"color: #008080; text-decoration-color: #008080; font-weight: bold\">3410</span> <span style=\"color: #008080; text-decoration-color: #008080; font-weight: bold\">3347</span><span style=\"font-weight: bold\">]]</span>                                  <span style=\"color: #7f7f7f; text-decoration-color: #7f7f7f\">               </span>\n",
       "</pre>\n"
      ],
      "text/plain": [
       "\u001b[2;36m[04/09/24 10:56:15]\u001b[0m\u001b[2;36m \u001b[0m\u001b[34mINFO    \u001b[0m INFO:root:\u001b[1m[\u001b[0m\u001b[1m[\u001b[0m\u001b[1;36m5846\u001b[0m \u001b[1;36m5845\u001b[0m \u001b[1;36m5843\u001b[0m \u001b[33m...\u001b[0m \u001b[1;36m5839\u001b[0m \u001b[1;36m5843\u001b[0m \u001b[1;36m5845\u001b[0m\u001b[1m]\u001b[0m                         \u001b]8;id=929756;file://C:\\Users\\Lukas\\AppData\\Local\\Temp\\ipykernel_369324\\3071265974.py\u001b\\\u001b[2m3071265974.py\u001b[0m\u001b]8;;\u001b\\\u001b[2m:\u001b[0m\u001b]8;id=916990;file://C:\\Users\\Lukas\\AppData\\Local\\Temp\\ipykernel_369324\\3071265974.py#2\u001b\\\u001b[2m2\u001b[0m\u001b]8;;\u001b\\\n",
       "\u001b[2;36m                    \u001b[0m          \u001b[1m[\u001b[0m\u001b[1;36m5846\u001b[0m \u001b[1;36m5845\u001b[0m \u001b[1;36m5843\u001b[0m \u001b[33m...\u001b[0m \u001b[1;36m5840\u001b[0m \u001b[1;36m5843\u001b[0m \u001b[1;36m5846\u001b[0m\u001b[1m]\u001b[0m                                   \u001b[2m               \u001b[0m\n",
       "\u001b[2;36m                    \u001b[0m          \u001b[1m[\u001b[0m\u001b[1;36m5846\u001b[0m \u001b[1;36m5845\u001b[0m \u001b[1;36m5842\u001b[0m \u001b[33m...\u001b[0m \u001b[1;36m5840\u001b[0m \u001b[1;36m5844\u001b[0m \u001b[1;36m5846\u001b[0m\u001b[1m]\u001b[0m                                   \u001b[2m               \u001b[0m\n",
       "\u001b[2;36m                    \u001b[0m          \u001b[33m...\u001b[0m                                                                   \u001b[2m               \u001b[0m\n",
       "\u001b[2;36m                    \u001b[0m          \u001b[1m[\u001b[0m\u001b[1;36m3300\u001b[0m \u001b[1;36m3237\u001b[0m \u001b[1;36m3174\u001b[0m \u001b[33m...\u001b[0m \u001b[1;36m3489\u001b[0m \u001b[1;36m3426\u001b[0m \u001b[1;36m3363\u001b[0m\u001b[1m]\u001b[0m                                   \u001b[2m               \u001b[0m\n",
       "\u001b[2;36m                    \u001b[0m          \u001b[1m[\u001b[0m\u001b[1;36m3292\u001b[0m \u001b[1;36m3229\u001b[0m \u001b[1;36m3166\u001b[0m \u001b[33m...\u001b[0m \u001b[1;36m3481\u001b[0m \u001b[1;36m3418\u001b[0m \u001b[1;36m3355\u001b[0m\u001b[1m]\u001b[0m                                   \u001b[2m               \u001b[0m\n",
       "\u001b[2;36m                    \u001b[0m          \u001b[1m[\u001b[0m\u001b[1;36m3284\u001b[0m \u001b[1;36m3221\u001b[0m \u001b[1;36m3158\u001b[0m \u001b[33m...\u001b[0m \u001b[1;36m3473\u001b[0m \u001b[1;36m3410\u001b[0m \u001b[1;36m3347\u001b[0m\u001b[1m]\u001b[0m\u001b[1m]\u001b[0m                                  \u001b[2m               \u001b[0m\n"
      ]
     },
     "metadata": {},
     "output_type": "display_data"
    }
   ],
   "source": [
    "image = my_data.read_image(time=0,z=0,channel=0)\n",
    "logging.info(image)"
   ]
  },
  {
   "cell_type": "code",
   "execution_count": 16,
   "id": "026b9e45-4a59-4914-a15b-42a5a60e0b34",
   "metadata": {},
   "outputs": [
    {
     "name": "stderr",
     "output_type": "stream",
     "text": [
      "WARNING: DirectWrite: CreateFontFaceFromHDC() failed (Gibt einen Fehler in einer Eingabedatei an, zum Beispiel eine Schriftartdatei.) for QFontDef(Family=\"\", pointsize=12, pixelsize=16, styleHint=5, weight=50, stretch=100, hintingPreference=0) LOGFONT(\"MS Sans Serif\", lfWidth=0, lfHeight=-16) dpi=144\n"
     ]
    },
    {
     "data": {
      "text/html": [
       "<pre style=\"white-space:pre;overflow-x:auto;line-height:normal;font-family:Menlo,'DejaVu Sans Mono',consolas,'Courier New',monospace\"><span style=\"color: #7fbfbf; text-decoration-color: #7fbfbf\">[04/08/24 12:48:06] </span><span style=\"color: #800000; text-decoration-color: #800000\">WARNING </span> WARNING:vispy:DirectWrite: <span style=\"color: #800080; text-decoration-color: #800080; font-weight: bold\">CreateFontFaceFromHDC</span><span style=\"font-weight: bold\">()</span> failed <span style=\"font-weight: bold\">(</span>Gibt einen       <a href=\"file://C:\\Users\\Lukas\\anaconda3\\envs\\snouty\\lib\\site-packages\\vispy\\app\\backends\\_qt.py\" target=\"_blank\"><span style=\"color: #7f7f7f; text-decoration-color: #7f7f7f\">_qt.py</span></a><span style=\"color: #7f7f7f; text-decoration-color: #7f7f7f\">:</span><a href=\"file://C:\\Users\\Lukas\\anaconda3\\envs\\snouty\\lib\\site-packages\\vispy\\app\\backends\\_qt.py#235\" target=\"_blank\"><span style=\"color: #7f7f7f; text-decoration-color: #7f7f7f\">235</span></a>\n",
       "<span style=\"color: #7fbfbf; text-decoration-color: #7fbfbf\">                    </span>         Fehler in einer Eingabedatei an, zum Beispiel eine Schriftartdatei.<span style=\"font-weight: bold\">)</span> for    <span style=\"color: #7f7f7f; text-decoration-color: #7f7f7f\">          </span>\n",
       "<span style=\"color: #7fbfbf; text-decoration-color: #7fbfbf\">                    </span>         <span style=\"color: #800080; text-decoration-color: #800080; font-weight: bold\">QFontDef</span><span style=\"font-weight: bold\">(</span><span style=\"color: #808000; text-decoration-color: #808000\">Family</span>=<span style=\"color: #008000; text-decoration-color: #008000\">\"\"</span>, <span style=\"color: #808000; text-decoration-color: #808000\">pointsize</span>=<span style=\"color: #008080; text-decoration-color: #008080; font-weight: bold\">12</span>, <span style=\"color: #808000; text-decoration-color: #808000\">pixelsize</span>=<span style=\"color: #008080; text-decoration-color: #008080; font-weight: bold\">16</span>, <span style=\"color: #808000; text-decoration-color: #808000\">styleHint</span>=<span style=\"color: #008080; text-decoration-color: #008080; font-weight: bold\">5</span>, <span style=\"color: #808000; text-decoration-color: #808000\">weight</span>=<span style=\"color: #008080; text-decoration-color: #008080; font-weight: bold\">50</span>,     <span style=\"color: #7f7f7f; text-decoration-color: #7f7f7f\">          </span>\n",
       "<span style=\"color: #7fbfbf; text-decoration-color: #7fbfbf\">                    </span>         <span style=\"color: #808000; text-decoration-color: #808000\">stretch</span>=<span style=\"color: #008080; text-decoration-color: #008080; font-weight: bold\">100</span>, <span style=\"color: #808000; text-decoration-color: #808000\">hintingPreference</span>=<span style=\"color: #008080; text-decoration-color: #008080; font-weight: bold\">0</span><span style=\"font-weight: bold\">)</span> <span style=\"color: #800080; text-decoration-color: #800080; font-weight: bold\">LOGFONT</span><span style=\"font-weight: bold\">(</span><span style=\"color: #008000; text-decoration-color: #008000\">\"MS Sans Serif\"</span>, <span style=\"color: #808000; text-decoration-color: #808000\">lfWidth</span>=<span style=\"color: #008080; text-decoration-color: #008080; font-weight: bold\">0</span>,       <span style=\"color: #7f7f7f; text-decoration-color: #7f7f7f\">          </span>\n",
       "<span style=\"color: #7fbfbf; text-decoration-color: #7fbfbf\">                    </span>         <span style=\"color: #808000; text-decoration-color: #808000\">lfHeight</span>=<span style=\"color: #008080; text-decoration-color: #008080; font-weight: bold\">-16</span><span style=\"font-weight: bold\">)</span> <span style=\"color: #808000; text-decoration-color: #808000\">dpi</span>=<span style=\"color: #008080; text-decoration-color: #008080; font-weight: bold\">144</span>                                                       <span style=\"color: #7f7f7f; text-decoration-color: #7f7f7f\">          </span>\n",
       "</pre>\n"
      ],
      "text/plain": [
       "\u001b[2;36m[04/08/24 12:48:06]\u001b[0m\u001b[2;36m \u001b[0m\u001b[31mWARNING \u001b[0m WARNING:vispy:DirectWrite: \u001b[1;35mCreateFontFaceFromHDC\u001b[0m\u001b[1m(\u001b[0m\u001b[1m)\u001b[0m failed \u001b[1m(\u001b[0mGibt einen       \u001b]8;id=770043;file://C:\\Users\\Lukas\\anaconda3\\envs\\snouty\\lib\\site-packages\\vispy\\app\\backends\\_qt.py\u001b\\\u001b[2m_qt.py\u001b[0m\u001b]8;;\u001b\\\u001b[2m:\u001b[0m\u001b]8;id=683819;file://C:\\Users\\Lukas\\anaconda3\\envs\\snouty\\lib\\site-packages\\vispy\\app\\backends\\_qt.py#235\u001b\\\u001b[2m235\u001b[0m\u001b]8;;\u001b\\\n",
       "\u001b[2;36m                    \u001b[0m         Fehler in einer Eingabedatei an, zum Beispiel eine Schriftartdatei.\u001b[1m)\u001b[0m for    \u001b[2m          \u001b[0m\n",
       "\u001b[2;36m                    \u001b[0m         \u001b[1;35mQFontDef\u001b[0m\u001b[1m(\u001b[0m\u001b[33mFamily\u001b[0m=\u001b[32m\"\"\u001b[0m, \u001b[33mpointsize\u001b[0m=\u001b[1;36m12\u001b[0m, \u001b[33mpixelsize\u001b[0m=\u001b[1;36m16\u001b[0m, \u001b[33mstyleHint\u001b[0m=\u001b[1;36m5\u001b[0m, \u001b[33mweight\u001b[0m=\u001b[1;36m50\u001b[0m,     \u001b[2m          \u001b[0m\n",
       "\u001b[2;36m                    \u001b[0m         \u001b[33mstretch\u001b[0m=\u001b[1;36m100\u001b[0m, \u001b[33mhintingPreference\u001b[0m=\u001b[1;36m0\u001b[0m\u001b[1m)\u001b[0m \u001b[1;35mLOGFONT\u001b[0m\u001b[1m(\u001b[0m\u001b[32m\"MS Sans Serif\"\u001b[0m, \u001b[33mlfWidth\u001b[0m=\u001b[1;36m0\u001b[0m,       \u001b[2m          \u001b[0m\n",
       "\u001b[2;36m                    \u001b[0m         \u001b[33mlfHeight\u001b[0m=\u001b[1;36m-16\u001b[0m\u001b[1m)\u001b[0m \u001b[33mdpi\u001b[0m=\u001b[1;36m144\u001b[0m                                                       \u001b[2m          \u001b[0m\n"
      ]
     },
     "metadata": {},
     "output_type": "display_data"
    },
    {
     "data": {
      "text/plain": [
       "Viewer(camera=Camera(center=(0.0, 255.5, 255.5), zoom=0.9746618836369346, angles=(0.0, 0.0, 90.0), perspective=0.0, mouse_pan=True, mouse_zoom=True), cursor=Cursor(position=(0.0, 99.0, 0.0, 4.0, 0.0, 0.0), scaled=True, size=1, style=<CursorStyle.STANDARD: 'standard'>), dims=Dims(ndim=6, ndisplay=2, last_used=5, range=((0.0, 1.0, 1.0), (0.0, 200.0, 1.0), (0.0, 2.0, 1.0), (0.0, 10.0, 1.0), (0.0, 512.0, 1.0), (0.0, 512.0, 1.0)), current_step=(0, 99, 0, 4, 255, 255), order=(0, 1, 2, 3, 4, 5), axis_labels=('position', 'time', 'channel', 'z', 'y', 'x')), grid=GridCanvas(stride=1, shape=(-1, -1), enabled=False), layers=[<Image layer 'Image' at 0x16013bfdc10>], help='use <2> for transform', status='Ready', tooltip=Tooltip(visible=False, text=''), theme='dark', title='napari', mouse_over_canvas=False, mouse_move_callbacks=[], mouse_drag_callbacks=[], mouse_double_click_callbacks=[], mouse_wheel_callbacks=[<function dims_scroll at 0x0000016008DF5040>], _persisted_mouse_event={}, _mouse_drag_gen={}, _mouse_wheel_gen={}, keymap={})"
      ]
     },
     "execution_count": 16,
     "metadata": {},
     "output_type": "execute_result"
    },
    {
     "data": {
      "text/html": [
       "<pre style=\"white-space:pre;overflow-x:auto;line-height:normal;font-family:Menlo,'DejaVu Sans Mono',consolas,'Courier New',monospace\"><span style=\"color: #7fbfbf; text-decoration-color: #7fbfbf\">[04/08/24 12:48:20] </span><span style=\"color: #000080; text-decoration-color: #000080\">INFO    </span> INFO:OpenGL.acceleratesupport:No OpenGL_accelerate module      <a href=\"file://C:\\Users\\Lukas\\anaconda3\\envs\\snouty\\lib\\site-packages\\OpenGL\\acceleratesupport.py\" target=\"_blank\"><span style=\"color: #7f7f7f; text-decoration-color: #7f7f7f\">acceleratesupport.py</span></a><span style=\"color: #7f7f7f; text-decoration-color: #7f7f7f\">:</span><a href=\"file://C:\\Users\\Lukas\\anaconda3\\envs\\snouty\\lib\\site-packages\\OpenGL\\acceleratesupport.py#17\" target=\"_blank\"><span style=\"color: #7f7f7f; text-decoration-color: #7f7f7f\">17</span></a>\n",
       "<span style=\"color: #7fbfbf; text-decoration-color: #7fbfbf\">                    </span>         loaded: No module named <span style=\"color: #008000; text-decoration-color: #008000\">'OpenGL_accelerate'</span>                    <span style=\"color: #7f7f7f; text-decoration-color: #7f7f7f\">                       </span>\n",
       "</pre>\n"
      ],
      "text/plain": [
       "\u001b[2;36m[04/08/24 12:48:20]\u001b[0m\u001b[2;36m \u001b[0m\u001b[34mINFO    \u001b[0m INFO:OpenGL.acceleratesupport:No OpenGL_accelerate module      \u001b]8;id=201926;file://C:\\Users\\Lukas\\anaconda3\\envs\\snouty\\lib\\site-packages\\OpenGL\\acceleratesupport.py\u001b\\\u001b[2macceleratesupport.py\u001b[0m\u001b]8;;\u001b\\\u001b[2m:\u001b[0m\u001b]8;id=102870;file://C:\\Users\\Lukas\\anaconda3\\envs\\snouty\\lib\\site-packages\\OpenGL\\acceleratesupport.py#17\u001b\\\u001b[2m17\u001b[0m\u001b]8;;\u001b\\\n",
       "\u001b[2;36m                    \u001b[0m         loaded: No module named \u001b[32m'OpenGL_accelerate'\u001b[0m                    \u001b[2m                       \u001b[0m\n"
      ]
     },
     "metadata": {},
     "output_type": "display_data"
    },
    {
     "name": "stderr",
     "output_type": "stream",
     "text": [
      "WARNING: DirectWrite: CreateFontFaceFromHDC() failed (Gibt einen Fehler in einer Eingabedatei an, zum Beispiel eine Schriftartdatei.) for QFontDef(Family=\"\", pointsize=12, pixelsize=16, styleHint=5, weight=50, stretch=100, hintingPreference=0) LOGFONT(\"MS Sans Serif\", lfWidth=0, lfHeight=-16) dpi=144\n"
     ]
    },
    {
     "data": {
      "text/html": [
       "<pre style=\"white-space:pre;overflow-x:auto;line-height:normal;font-family:Menlo,'DejaVu Sans Mono',consolas,'Courier New',monospace\"><span style=\"color: #7fbfbf; text-decoration-color: #7fbfbf\">[04/08/24 12:48:49] </span><span style=\"color: #800000; text-decoration-color: #800000\">WARNING </span> WARNING:vispy:DirectWrite: <span style=\"color: #800080; text-decoration-color: #800080; font-weight: bold\">CreateFontFaceFromHDC</span><span style=\"font-weight: bold\">()</span> failed <span style=\"font-weight: bold\">(</span>Gibt einen       <a href=\"file://C:\\Users\\Lukas\\anaconda3\\envs\\snouty\\lib\\site-packages\\vispy\\app\\backends\\_qt.py\" target=\"_blank\"><span style=\"color: #7f7f7f; text-decoration-color: #7f7f7f\">_qt.py</span></a><span style=\"color: #7f7f7f; text-decoration-color: #7f7f7f\">:</span><a href=\"file://C:\\Users\\Lukas\\anaconda3\\envs\\snouty\\lib\\site-packages\\vispy\\app\\backends\\_qt.py#235\" target=\"_blank\"><span style=\"color: #7f7f7f; text-decoration-color: #7f7f7f\">235</span></a>\n",
       "<span style=\"color: #7fbfbf; text-decoration-color: #7fbfbf\">                    </span>         Fehler in einer Eingabedatei an, zum Beispiel eine Schriftartdatei.<span style=\"font-weight: bold\">)</span> for    <span style=\"color: #7f7f7f; text-decoration-color: #7f7f7f\">          </span>\n",
       "<span style=\"color: #7fbfbf; text-decoration-color: #7fbfbf\">                    </span>         <span style=\"color: #800080; text-decoration-color: #800080; font-weight: bold\">QFontDef</span><span style=\"font-weight: bold\">(</span><span style=\"color: #808000; text-decoration-color: #808000\">Family</span>=<span style=\"color: #008000; text-decoration-color: #008000\">\"\"</span>, <span style=\"color: #808000; text-decoration-color: #808000\">pointsize</span>=<span style=\"color: #008080; text-decoration-color: #008080; font-weight: bold\">12</span>, <span style=\"color: #808000; text-decoration-color: #808000\">pixelsize</span>=<span style=\"color: #008080; text-decoration-color: #008080; font-weight: bold\">16</span>, <span style=\"color: #808000; text-decoration-color: #808000\">styleHint</span>=<span style=\"color: #008080; text-decoration-color: #008080; font-weight: bold\">5</span>, <span style=\"color: #808000; text-decoration-color: #808000\">weight</span>=<span style=\"color: #008080; text-decoration-color: #008080; font-weight: bold\">50</span>,     <span style=\"color: #7f7f7f; text-decoration-color: #7f7f7f\">          </span>\n",
       "<span style=\"color: #7fbfbf; text-decoration-color: #7fbfbf\">                    </span>         <span style=\"color: #808000; text-decoration-color: #808000\">stretch</span>=<span style=\"color: #008080; text-decoration-color: #008080; font-weight: bold\">100</span>, <span style=\"color: #808000; text-decoration-color: #808000\">hintingPreference</span>=<span style=\"color: #008080; text-decoration-color: #008080; font-weight: bold\">0</span><span style=\"font-weight: bold\">)</span> <span style=\"color: #800080; text-decoration-color: #800080; font-weight: bold\">LOGFONT</span><span style=\"font-weight: bold\">(</span><span style=\"color: #008000; text-decoration-color: #008000\">\"MS Sans Serif\"</span>, <span style=\"color: #808000; text-decoration-color: #808000\">lfWidth</span>=<span style=\"color: #008080; text-decoration-color: #008080; font-weight: bold\">0</span>,       <span style=\"color: #7f7f7f; text-decoration-color: #7f7f7f\">          </span>\n",
       "<span style=\"color: #7fbfbf; text-decoration-color: #7fbfbf\">                    </span>         <span style=\"color: #808000; text-decoration-color: #808000\">lfHeight</span>=<span style=\"color: #008080; text-decoration-color: #008080; font-weight: bold\">-16</span><span style=\"font-weight: bold\">)</span> <span style=\"color: #808000; text-decoration-color: #808000\">dpi</span>=<span style=\"color: #008080; text-decoration-color: #008080; font-weight: bold\">144</span>                                                       <span style=\"color: #7f7f7f; text-decoration-color: #7f7f7f\">          </span>\n",
       "</pre>\n"
      ],
      "text/plain": [
       "\u001b[2;36m[04/08/24 12:48:49]\u001b[0m\u001b[2;36m \u001b[0m\u001b[31mWARNING \u001b[0m WARNING:vispy:DirectWrite: \u001b[1;35mCreateFontFaceFromHDC\u001b[0m\u001b[1m(\u001b[0m\u001b[1m)\u001b[0m failed \u001b[1m(\u001b[0mGibt einen       \u001b]8;id=430417;file://C:\\Users\\Lukas\\anaconda3\\envs\\snouty\\lib\\site-packages\\vispy\\app\\backends\\_qt.py\u001b\\\u001b[2m_qt.py\u001b[0m\u001b]8;;\u001b\\\u001b[2m:\u001b[0m\u001b]8;id=174992;file://C:\\Users\\Lukas\\anaconda3\\envs\\snouty\\lib\\site-packages\\vispy\\app\\backends\\_qt.py#235\u001b\\\u001b[2m235\u001b[0m\u001b]8;;\u001b\\\n",
       "\u001b[2;36m                    \u001b[0m         Fehler in einer Eingabedatei an, zum Beispiel eine Schriftartdatei.\u001b[1m)\u001b[0m for    \u001b[2m          \u001b[0m\n",
       "\u001b[2;36m                    \u001b[0m         \u001b[1;35mQFontDef\u001b[0m\u001b[1m(\u001b[0m\u001b[33mFamily\u001b[0m=\u001b[32m\"\"\u001b[0m, \u001b[33mpointsize\u001b[0m=\u001b[1;36m12\u001b[0m, \u001b[33mpixelsize\u001b[0m=\u001b[1;36m16\u001b[0m, \u001b[33mstyleHint\u001b[0m=\u001b[1;36m5\u001b[0m, \u001b[33mweight\u001b[0m=\u001b[1;36m50\u001b[0m,     \u001b[2m          \u001b[0m\n",
       "\u001b[2;36m                    \u001b[0m         \u001b[33mstretch\u001b[0m=\u001b[1;36m100\u001b[0m, \u001b[33mhintingPreference\u001b[0m=\u001b[1;36m0\u001b[0m\u001b[1m)\u001b[0m \u001b[1;35mLOGFONT\u001b[0m\u001b[1m(\u001b[0m\u001b[32m\"MS Sans Serif\"\u001b[0m, \u001b[33mlfWidth\u001b[0m=\u001b[1;36m0\u001b[0m,       \u001b[2m          \u001b[0m\n",
       "\u001b[2;36m                    \u001b[0m         \u001b[33mlfHeight\u001b[0m=\u001b[1;36m-16\u001b[0m\u001b[1m)\u001b[0m \u001b[33mdpi\u001b[0m=\u001b[1;36m144\u001b[0m                                                       \u001b[2m          \u001b[0m\n"
      ]
     },
     "metadata": {},
     "output_type": "display_data"
    }
   ],
   "source": [
    "my_data.open_in_napari()"
   ]
  },
  {
   "cell_type": "code",
   "execution_count": null,
   "id": "da1fae8d-827d-4fef-8e9d-1dd2df4dd12b",
   "metadata": {},
   "outputs": [],
   "source": []
  }
 ],
 "metadata": {
  "kernelspec": {
   "display_name": "Python 3 (ipykernel)",
   "language": "python",
   "name": "python3"
  },
  "language_info": {
   "codemirror_mode": {
    "name": "ipython",
    "version": 3
   },
   "file_extension": ".py",
   "mimetype": "text/x-python",
   "name": "python",
   "nbconvert_exporter": "python",
   "pygments_lexer": "ipython3",
   "version": "3.9.18"
  }
 },
 "nbformat": 4,
 "nbformat_minor": 5
}
