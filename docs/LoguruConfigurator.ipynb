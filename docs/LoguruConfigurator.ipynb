{
 "cells": [
  {
   "cell_type": "code",
   "execution_count": 1,
   "id": "513b0076-d605-4dad-afff-26b6c504611e",
   "metadata": {},
   "outputs": [],
   "source": [
    "from imutils import LoguruConfigurator"
   ]
  },
  {
   "cell_type": "code",
   "execution_count": 2,
   "id": "b92e50ce-7cc8-4289-92e6-fba2263283b6",
   "metadata": {},
   "outputs": [
    {
     "name": "stdout",
     "output_type": "stream",
     "text": [
      "\u001b[32m2024-11-29 13:22:41.6220\u001b[0m | \u001b[1mINFO    \u001b[0m | \u001b[36mLoguruConfigurator\u001b[0m | \u001b[1mAdded sink id 1, sink: <ipykernel.iostream.OutStream object at 0x000001D44DBD9B40>, level: INFO\u001b[0m\n",
      "\u001b[32m2024-11-29 13:22:41.6220\u001b[0m | \u001b[1mINFO    \u001b[0m | \u001b[36mLoguruConfigurator\u001b[0m | \u001b[1mLoguru configurator initialized.\u001b[0m\n",
      "\u001b[32m2024-11-29 13:22:41.6220\u001b[0m | \u001b[1mINFO    \u001b[0m | \u001b[36mUnknown\u001b[0m | \u001b[1mThat's it!\u001b[0m\n",
      "\u001b[32m2024-11-29 13:22:41.6306\u001b[0m | \u001b[1mINFO    \u001b[0m | \u001b[36mmy_module\u001b[0m | \u001b[1mhere i am\u001b[0m\n",
      "\u001b[32m2024-11-29 13:22:42.7537\u001b[0m | \u001b[1mINFO    \u001b[0m | \u001b[36mfilter_logger\u001b[0m | \u001b[1minfo from filter logger\u001b[0m\n"
     ]
    }
   ],
   "source": [
    "from loguru import logger\n",
    "logger_configuration = LoguruConfigurator()\n",
    "logger.info(\"That's it!\")"
   ]
  },
  {
   "cell_type": "code",
   "execution_count": 3,
   "id": "5f68aad5-7d47-417c-b185-5fb8239dc993",
   "metadata": {},
   "outputs": [],
   "source": [
    "# For (multiple) modules:\n",
    "# Each module needs to import loguru:\n",
    "from loguru import logger\n",
    "# To have a easy identification a \"classname\" can be asigned to the used logger:\n",
    "my_logger = logger.bind(classname=\"my_module\")\n",
    "# Thats it, use the logger:\n",
    "my_logger.info('here i am')"
   ]
  },
  {
   "cell_type": "code",
   "execution_count": 4,
   "id": "fb633033-6cb8-4c79-af5d-ec3d0f69dfac",
   "metadata": {},
   "outputs": [],
   "source": [
    "# Loguru works centralized, so all messages are send to a single instance.\n",
    "# From there they are filtered and send to \"sinks\" all the places which are wanted (std.out, file, . . .)\n",
    "# To be able to filter bevorehand use the FilterLogger:\n",
    "from imutils import FilterLogger\n",
    "my_logger = FilterLogger(classname='filter_logger', verbose='INFO', debug=False)\n",
    "my_logger.debug('this is filtered')\n",
    "my_logger.info('info from filter logger')"
   ]
  },
  {
   "cell_type": "code",
   "execution_count": 5,
   "id": "47d2f1f3-fcf9-4ce3-b6ee-5b173518b702",
   "metadata": {},
   "outputs": [
    {
     "name": "stdout",
     "output_type": "stream",
     "text": [
      "\u001b[32m2024-11-29 13:22:51.4722\u001b[0m | \u001b[1mINFO    \u001b[0m | \u001b[36mLoguruConfigurator\u001b[0m | \u001b[1mAdded sink id 2, sink: <ipykernel.iostream.OutStream object at 0x000001D44DBD9B40>, level: INFO\u001b[0m\n",
      "\u001b[32m2024-11-29 13:22:51.4732\u001b[0m | \u001b[1mINFO    \u001b[0m | \u001b[36mLoguruConfigurator\u001b[0m | \u001b[1mLoguru configurator initialized.\u001b[0m\n",
      "\u001b[32m2024-11-29 13:22:51.4753\u001b[0m | \u001b[1mINFO    \u001b[0m | \u001b[36mfilter_logger\u001b[0m | \u001b[1mhave fun\u001b[0m\n"
     ]
    }
   ],
   "source": [
    "# In the main program use the LoguruConfigurator\n",
    "# This configures all outputs, filters, . . .\n",
    "# The Class keeps the information to be able to manipulate the sinks and filters while operating\n",
    "from imutils import LoguruConfigurator\n",
    "my_log_configuration = LoguruConfigurator()\n",
    "# This deletes all sinks and adds std.out in 'INFO' mode as default\n",
    "my_logger.info('have fun')"
   ]
  },
  {
   "cell_type": "code",
   "execution_count": 6,
   "id": "40835a55-a6e9-47c6-a64d-41fc2be81057",
   "metadata": {},
   "outputs": [
    {
     "data": {
      "text/html": [
       "<pre style=\"white-space:pre;overflow-x:auto;line-height:normal;font-family:Menlo,'DejaVu Sans Mono',consolas,'Courier New',monospace\"><span style=\"color: #000080; text-decoration-color: #000080\">╭───────────────────────────── </span><span style=\"color: #000080; text-decoration-color: #000080; font-weight: bold\">&lt;</span><span style=\"color: #ff00ff; text-decoration-color: #ff00ff; font-weight: bold\">class</span><span style=\"color: #000000; text-decoration-color: #000000\"> </span><span style=\"color: #008000; text-decoration-color: #008000\">'imutils.loghelper.quick_loguru.FilterLogger'</span><span style=\"color: #000080; text-decoration-color: #000080; font-weight: bold\">&gt;</span><span style=\"color: #000080; text-decoration-color: #000080\"> ─────────────────────────────╮</span>\n",
       "<span style=\"color: #000080; text-decoration-color: #000080\">│</span> <span style=\"color: #00ffff; text-decoration-color: #00ffff; font-style: italic\">class </span><span style=\"color: #800000; text-decoration-color: #800000; font-weight: bold\">FilterLogger</span><span style=\"font-weight: bold\">(</span>classname: str = <span style=\"color: #800080; text-decoration-color: #800080; font-style: italic\">None</span>, verbose: Union<span style=\"font-weight: bold\">[</span>int, str<span style=\"font-weight: bold\">]</span> = <span style=\"color: #008000; text-decoration-color: #008000\">'INFO'</span>, debug: bool = <span style=\"color: #ff0000; text-decoration-color: #ff0000; font-style: italic\">False</span><span style=\"font-weight: bold\">)</span>:              <span style=\"color: #000080; text-decoration-color: #000080\">│</span>\n",
       "<span style=\"color: #000080; text-decoration-color: #000080\">│</span>                                                                                                                 <span style=\"color: #000080; text-decoration-color: #000080\">│</span>\n",
       "<span style=\"color: #000080; text-decoration-color: #000080\">│</span> <span style=\"color: #008080; text-decoration-color: #008080\">Filter logger class for loguru logger.</span>                                                                          <span style=\"color: #000080; text-decoration-color: #000080\">│</span>\n",
       "<span style=\"color: #000080; text-decoration-color: #000080\">│</span> <span style=\"color: #008080; text-decoration-color: #008080\">This class is a wrapper for loguru logger. It can filter the log messages bevor sending them to the logger.</span>     <span style=\"color: #000080; text-decoration-color: #000080\">│</span>\n",
       "<span style=\"color: #000080; text-decoration-color: #000080\">│</span> <span style=\"color: #008080; text-decoration-color: #008080\">The filter is based on the log level and the debug mode and adds a identifier called classname.</span>                 <span style=\"color: #000080; text-decoration-color: #000080\">│</span>\n",
       "<span style=\"color: #000080; text-decoration-color: #000080\">│</span> <span style=\"color: #008080; text-decoration-color: #008080\">verbose is equal to the log level names and int values, debug is a boolean that blocks debug and trace methods.</span> <span style=\"color: #000080; text-decoration-color: #000080\">│</span>\n",
       "<span style=\"color: #000080; text-decoration-color: #000080\">│</span> <span style=\"color: #008080; text-decoration-color: #008080\">Args:</span>                                                                                                           <span style=\"color: #000080; text-decoration-color: #000080\">│</span>\n",
       "<span style=\"color: #000080; text-decoration-color: #000080\">│</span> <span style=\"color: #008080; text-decoration-color: #008080\">    classname </span><span style=\"color: #008080; text-decoration-color: #008080; font-weight: bold\">(</span><span style=\"color: #008080; text-decoration-color: #008080\">str, optional</span><span style=\"color: #008080; text-decoration-color: #008080; font-weight: bold\">)</span><span style=\"color: #008080; text-decoration-color: #008080\">: Identifier. Defaults to </span><span style=\"color: #800080; text-decoration-color: #800080; font-style: italic\">None</span><span style=\"color: #008080; text-decoration-color: #008080\"> </span><span style=\"color: #008080; text-decoration-color: #008080; font-weight: bold\">(</span><span style=\"color: #008080; text-decoration-color: #008080\">FilterLogger</span><span style=\"color: #008080; text-decoration-color: #008080; font-weight: bold\">)</span><span style=\"color: #008080; text-decoration-color: #008080\">.</span>                                     <span style=\"color: #000080; text-decoration-color: #000080\">│</span>\n",
       "<span style=\"color: #000080; text-decoration-color: #000080\">│</span> <span style=\"color: #008080; text-decoration-color: #008080\">    verbose </span><span style=\"color: #008080; text-decoration-color: #008080; font-weight: bold\">(</span><span style=\"color: #008080; text-decoration-color: #008080\">Union</span><span style=\"color: #008080; text-decoration-color: #008080; font-weight: bold\">[</span><span style=\"color: #008080; text-decoration-color: #008080\">int,str</span><span style=\"color: #008080; text-decoration-color: #008080; font-weight: bold\">]</span><span style=\"color: #008080; text-decoration-color: #008080\">, optional</span><span style=\"color: #008080; text-decoration-color: #008080; font-weight: bold\">)</span><span style=\"color: #008080; text-decoration-color: #008080\">: log level. Defaults to </span><span style=\"color: #008000; text-decoration-color: #008000\">'INFO'</span><span style=\"color: #008080; text-decoration-color: #008080\">.</span>                                          <span style=\"color: #000080; text-decoration-color: #000080\">│</span>\n",
       "<span style=\"color: #000080; text-decoration-color: #000080\">│</span> <span style=\"color: #008080; text-decoration-color: #008080\">    debug </span><span style=\"color: #008080; text-decoration-color: #008080; font-weight: bold\">(</span><span style=\"color: #008080; text-decoration-color: #008080\">bool, optional</span><span style=\"color: #008080; text-decoration-color: #008080; font-weight: bold\">)</span><span style=\"color: #008080; text-decoration-color: #008080\">: filter debug and trace. Defaults to </span><span style=\"color: #ff0000; text-decoration-color: #ff0000; font-style: italic\">False</span><span style=\"color: #008080; text-decoration-color: #008080\">.</span>                                          <span style=\"color: #000080; text-decoration-color: #000080\">│</span>\n",
       "<span style=\"color: #000080; text-decoration-color: #000080\">│</span>                                                                                                                 <span style=\"color: #000080; text-decoration-color: #000080\">│</span>\n",
       "<span style=\"color: #000080; text-decoration-color: #000080\">│</span>         <span style=\"color: #808000; text-decoration-color: #808000; font-style: italic\">critical</span> = <span style=\"color: #00ffff; text-decoration-color: #00ffff; font-style: italic\">def </span><span style=\"color: #800000; text-decoration-color: #800000; font-weight: bold\">critical</span><span style=\"font-weight: bold\">(</span>self, message: str<span style=\"font-weight: bold\">)</span>:                                                            <span style=\"color: #000080; text-decoration-color: #000080\">│</span>\n",
       "<span style=\"color: #000080; text-decoration-color: #000080\">│</span>            <span style=\"color: #808000; text-decoration-color: #808000; font-style: italic\">debug</span> = <span style=\"color: #00ffff; text-decoration-color: #00ffff; font-style: italic\">def </span><span style=\"color: #800000; text-decoration-color: #800000; font-weight: bold\">debug</span><span style=\"font-weight: bold\">(</span>self, message: str<span style=\"font-weight: bold\">)</span>:                                                               <span style=\"color: #000080; text-decoration-color: #000080\">│</span>\n",
       "<span style=\"color: #000080; text-decoration-color: #000080\">│</span>            <span style=\"color: #808000; text-decoration-color: #808000; font-style: italic\">error</span> = <span style=\"color: #00ffff; text-decoration-color: #00ffff; font-style: italic\">def </span><span style=\"color: #800000; text-decoration-color: #800000; font-weight: bold\">error</span><span style=\"font-weight: bold\">(</span>self, message: str<span style=\"font-weight: bold\">)</span>:                                                               <span style=\"color: #000080; text-decoration-color: #000080\">│</span>\n",
       "<span style=\"color: #000080; text-decoration-color: #000080\">│</span>             <span style=\"color: #808000; text-decoration-color: #808000; font-style: italic\">info</span> = <span style=\"color: #00ffff; text-decoration-color: #00ffff; font-style: italic\">def </span><span style=\"color: #800000; text-decoration-color: #800000; font-weight: bold\">info</span><span style=\"font-weight: bold\">(</span>self, message: str<span style=\"font-weight: bold\">)</span>:                                                                <span style=\"color: #000080; text-decoration-color: #000080\">│</span>\n",
       "<span style=\"color: #000080; text-decoration-color: #000080\">│</span>              <span style=\"color: #808000; text-decoration-color: #808000; font-style: italic\">log</span> = <span style=\"color: #00ffff; text-decoration-color: #00ffff; font-style: italic\">def </span><span style=\"color: #800000; text-decoration-color: #800000; font-weight: bold\">log</span><span style=\"font-weight: bold\">(</span>self, level: str, message: str<span style=\"font-weight: bold\">)</span>:                                                     <span style=\"color: #000080; text-decoration-color: #000080\">│</span>\n",
       "<span style=\"color: #000080; text-decoration-color: #000080\">│</span>    <span style=\"color: #808000; text-decoration-color: #808000; font-style: italic\">set_classname</span> = <span style=\"color: #00ffff; text-decoration-color: #00ffff; font-style: italic\">def </span><span style=\"color: #800000; text-decoration-color: #800000; font-weight: bold\">set_classname</span><span style=\"font-weight: bold\">(</span>self, classname: str<span style=\"font-weight: bold\">)</span>:                                                     <span style=\"color: #000080; text-decoration-color: #000080\">│</span>\n",
       "<span style=\"color: #000080; text-decoration-color: #000080\">│</span> <span style=\"color: #808000; text-decoration-color: #808000; font-style: italic\">set_filter_level</span> = <span style=\"color: #00ffff; text-decoration-color: #00ffff; font-style: italic\">def </span><span style=\"color: #800000; text-decoration-color: #800000; font-weight: bold\">set_filter_level</span><span style=\"font-weight: bold\">(</span>self, verbose: Union<span style=\"font-weight: bold\">[</span>int, str<span style=\"font-weight: bold\">]</span> = <span style=\"color: #008000; text-decoration-color: #008000\">'INFO'</span>, debug: bool = <span style=\"color: #ff0000; text-decoration-color: #ff0000; font-style: italic\">False</span><span style=\"font-weight: bold\">)</span>:          <span style=\"color: #000080; text-decoration-color: #000080\">│</span>\n",
       "<span style=\"color: #000080; text-decoration-color: #000080\">│</span>          <span style=\"color: #808000; text-decoration-color: #808000; font-style: italic\">success</span> = <span style=\"color: #00ffff; text-decoration-color: #00ffff; font-style: italic\">def </span><span style=\"color: #800000; text-decoration-color: #800000; font-weight: bold\">success</span><span style=\"font-weight: bold\">(</span>self, message: str<span style=\"font-weight: bold\">)</span>:                                                             <span style=\"color: #000080; text-decoration-color: #000080\">│</span>\n",
       "<span style=\"color: #000080; text-decoration-color: #000080\">│</span>            <span style=\"color: #808000; text-decoration-color: #808000; font-style: italic\">trace</span> = <span style=\"color: #00ffff; text-decoration-color: #00ffff; font-style: italic\">def </span><span style=\"color: #800000; text-decoration-color: #800000; font-weight: bold\">trace</span><span style=\"font-weight: bold\">(</span>self, message: str<span style=\"font-weight: bold\">)</span>:                                                               <span style=\"color: #000080; text-decoration-color: #000080\">│</span>\n",
       "<span style=\"color: #000080; text-decoration-color: #000080\">│</span>          <span style=\"color: #808000; text-decoration-color: #808000; font-style: italic\">warning</span> = <span style=\"color: #00ffff; text-decoration-color: #00ffff; font-style: italic\">def </span><span style=\"color: #800000; text-decoration-color: #800000; font-weight: bold\">warning</span><span style=\"font-weight: bold\">(</span>self, message: str<span style=\"font-weight: bold\">)</span>:                                                             <span style=\"color: #000080; text-decoration-color: #000080\">│</span>\n",
       "<span style=\"color: #000080; text-decoration-color: #000080\">╰─────────────────────────────────────────────────────────────────────────────────────────────────────────────────╯</span>\n",
       "</pre>\n"
      ],
      "text/plain": [
       "\u001b[34m╭─\u001b[0m\u001b[34m────────────────────────────\u001b[0m\u001b[34m \u001b[0m\u001b[1;34m<\u001b[0m\u001b[1;95mclass\u001b[0m\u001b[39m \u001b[0m\u001b[32m'imutils.loghelper.quick_loguru.FilterLogger'\u001b[0m\u001b[1;34m>\u001b[0m\u001b[34m \u001b[0m\u001b[34m────────────────────────────\u001b[0m\u001b[34m─╮\u001b[0m\n",
       "\u001b[34m│\u001b[0m \u001b[3;96mclass \u001b[0m\u001b[1;31mFilterLogger\u001b[0m\u001b[1m(\u001b[0mclassname: str = \u001b[3;35mNone\u001b[0m, verbose: Union\u001b[1m[\u001b[0mint, str\u001b[1m]\u001b[0m = \u001b[32m'INFO'\u001b[0m, debug: bool = \u001b[3;91mFalse\u001b[0m\u001b[1m)\u001b[0m:              \u001b[34m│\u001b[0m\n",
       "\u001b[34m│\u001b[0m                                                                                                                 \u001b[34m│\u001b[0m\n",
       "\u001b[34m│\u001b[0m \u001b[36mFilter logger class for loguru logger.\u001b[0m                                                                          \u001b[34m│\u001b[0m\n",
       "\u001b[34m│\u001b[0m \u001b[36mThis class is a wrapper for loguru logger. It can filter the log messages bevor sending them to the logger.\u001b[0m     \u001b[34m│\u001b[0m\n",
       "\u001b[34m│\u001b[0m \u001b[36mThe filter is based on the log level and the debug mode and adds a identifier called classname.\u001b[0m                 \u001b[34m│\u001b[0m\n",
       "\u001b[34m│\u001b[0m \u001b[36mverbose is equal to the log level names and int values, debug is a boolean that blocks debug and trace methods.\u001b[0m \u001b[34m│\u001b[0m\n",
       "\u001b[34m│\u001b[0m \u001b[36mArgs:\u001b[0m                                                                                                           \u001b[34m│\u001b[0m\n",
       "\u001b[34m│\u001b[0m \u001b[36m    classname \u001b[0m\u001b[1;36m(\u001b[0m\u001b[36mstr, optional\u001b[0m\u001b[1;36m)\u001b[0m\u001b[36m: Identifier. Defaults to \u001b[0m\u001b[3;35mNone\u001b[0m\u001b[36m \u001b[0m\u001b[1;36m(\u001b[0m\u001b[36mFilterLogger\u001b[0m\u001b[1;36m)\u001b[0m\u001b[36m.\u001b[0m                                     \u001b[34m│\u001b[0m\n",
       "\u001b[34m│\u001b[0m \u001b[36m    verbose \u001b[0m\u001b[1;36m(\u001b[0m\u001b[36mUnion\u001b[0m\u001b[1;36m[\u001b[0m\u001b[36mint,str\u001b[0m\u001b[1;36m]\u001b[0m\u001b[36m, optional\u001b[0m\u001b[1;36m)\u001b[0m\u001b[36m: log level. Defaults to \u001b[0m\u001b[32m'INFO'\u001b[0m\u001b[36m.\u001b[0m                                          \u001b[34m│\u001b[0m\n",
       "\u001b[34m│\u001b[0m \u001b[36m    debug \u001b[0m\u001b[1;36m(\u001b[0m\u001b[36mbool, optional\u001b[0m\u001b[1;36m)\u001b[0m\u001b[36m: filter debug and trace. Defaults to \u001b[0m\u001b[3;91mFalse\u001b[0m\u001b[36m.\u001b[0m                                          \u001b[34m│\u001b[0m\n",
       "\u001b[34m│\u001b[0m                                                                                                                 \u001b[34m│\u001b[0m\n",
       "\u001b[34m│\u001b[0m         \u001b[3;33mcritical\u001b[0m = \u001b[3;96mdef \u001b[0m\u001b[1;31mcritical\u001b[0m\u001b[1m(\u001b[0mself, message: str\u001b[1m)\u001b[0m:                                                            \u001b[34m│\u001b[0m\n",
       "\u001b[34m│\u001b[0m            \u001b[3;33mdebug\u001b[0m = \u001b[3;96mdef \u001b[0m\u001b[1;31mdebug\u001b[0m\u001b[1m(\u001b[0mself, message: str\u001b[1m)\u001b[0m:                                                               \u001b[34m│\u001b[0m\n",
       "\u001b[34m│\u001b[0m            \u001b[3;33merror\u001b[0m = \u001b[3;96mdef \u001b[0m\u001b[1;31merror\u001b[0m\u001b[1m(\u001b[0mself, message: str\u001b[1m)\u001b[0m:                                                               \u001b[34m│\u001b[0m\n",
       "\u001b[34m│\u001b[0m             \u001b[3;33minfo\u001b[0m = \u001b[3;96mdef \u001b[0m\u001b[1;31minfo\u001b[0m\u001b[1m(\u001b[0mself, message: str\u001b[1m)\u001b[0m:                                                                \u001b[34m│\u001b[0m\n",
       "\u001b[34m│\u001b[0m              \u001b[3;33mlog\u001b[0m = \u001b[3;96mdef \u001b[0m\u001b[1;31mlog\u001b[0m\u001b[1m(\u001b[0mself, level: str, message: str\u001b[1m)\u001b[0m:                                                     \u001b[34m│\u001b[0m\n",
       "\u001b[34m│\u001b[0m    \u001b[3;33mset_classname\u001b[0m = \u001b[3;96mdef \u001b[0m\u001b[1;31mset_classname\u001b[0m\u001b[1m(\u001b[0mself, classname: str\u001b[1m)\u001b[0m:                                                     \u001b[34m│\u001b[0m\n",
       "\u001b[34m│\u001b[0m \u001b[3;33mset_filter_level\u001b[0m = \u001b[3;96mdef \u001b[0m\u001b[1;31mset_filter_level\u001b[0m\u001b[1m(\u001b[0mself, verbose: Union\u001b[1m[\u001b[0mint, str\u001b[1m]\u001b[0m = \u001b[32m'INFO'\u001b[0m, debug: bool = \u001b[3;91mFalse\u001b[0m\u001b[1m)\u001b[0m:          \u001b[34m│\u001b[0m\n",
       "\u001b[34m│\u001b[0m          \u001b[3;33msuccess\u001b[0m = \u001b[3;96mdef \u001b[0m\u001b[1;31msuccess\u001b[0m\u001b[1m(\u001b[0mself, message: str\u001b[1m)\u001b[0m:                                                             \u001b[34m│\u001b[0m\n",
       "\u001b[34m│\u001b[0m            \u001b[3;33mtrace\u001b[0m = \u001b[3;96mdef \u001b[0m\u001b[1;31mtrace\u001b[0m\u001b[1m(\u001b[0mself, message: str\u001b[1m)\u001b[0m:                                                               \u001b[34m│\u001b[0m\n",
       "\u001b[34m│\u001b[0m          \u001b[3;33mwarning\u001b[0m = \u001b[3;96mdef \u001b[0m\u001b[1;31mwarning\u001b[0m\u001b[1m(\u001b[0mself, message: str\u001b[1m)\u001b[0m:                                                             \u001b[34m│\u001b[0m\n",
       "\u001b[34m╰─────────────────────────────────────────────────────────────────────────────────────────────────────────────────╯\u001b[0m\n"
      ]
     },
     "metadata": {},
     "output_type": "display_data"
    }
   ],
   "source": [
    "# Explore FilterLogger:\n",
    "from imutils import FilterLogger\n",
    "from rich import inspect\n",
    "inspect(FilterLogger, methods=True)"
   ]
  },
  {
   "cell_type": "code",
   "execution_count": 7,
   "id": "ad2fdb63-7995-4439-b31f-c30ff9bb8695",
   "metadata": {},
   "outputs": [
    {
     "data": {
      "text/html": [
       "<pre style=\"white-space:pre;overflow-x:auto;line-height:normal;font-family:Menlo,'DejaVu Sans Mono',consolas,'Courier New',monospace\"><span style=\"color: #000080; text-decoration-color: #000080\">╭────────────────────────── </span><span style=\"color: #000080; text-decoration-color: #000080; font-weight: bold\">&lt;</span><span style=\"color: #ff00ff; text-decoration-color: #ff00ff; font-weight: bold\">class</span><span style=\"color: #000000; text-decoration-color: #000000\"> </span><span style=\"color: #008000; text-decoration-color: #008000\">'imutils.loghelper.quick_loguru.LoguruConfigurator'</span><span style=\"color: #000080; text-decoration-color: #000080; font-weight: bold\">&gt;</span><span style=\"color: #000080; text-decoration-color: #000080\"> ──────────────────────────╮</span>\n",
       "<span style=\"color: #000080; text-decoration-color: #000080\">│</span> <span style=\"color: #00ffff; text-decoration-color: #00ffff; font-style: italic\">class </span><span style=\"color: #800000; text-decoration-color: #800000; font-weight: bold\">LoguruConfigurator</span><span style=\"font-weight: bold\">(</span>log_level: str = <span style=\"color: #008000; text-decoration-color: #008000\">'INFO'</span>, console_output: bool = <span style=\"color: #00ff00; text-decoration-color: #00ff00; font-style: italic\">True</span>, console_error_output: bool =     <span style=\"color: #000080; text-decoration-color: #000080\">│</span>\n",
       "<span style=\"color: #000080; text-decoration-color: #000080\">│</span> <span style=\"color: #ff0000; text-decoration-color: #ff0000; font-style: italic\">False</span>, file_ouput: bool = <span style=\"color: #ff0000; text-decoration-color: #ff0000; font-style: italic\">False</span>, log_file: Union<span style=\"font-weight: bold\">[</span>pathlib.Path, str<span style=\"font-weight: bold\">]</span> = <span style=\"color: #800080; text-decoration-color: #800080; font-style: italic\">None</span>, run_multiprocessing_handler: bool = <span style=\"color: #000080; text-decoration-color: #000080\">│</span>\n",
       "<span style=\"color: #000080; text-decoration-color: #000080\">│</span> <span style=\"color: #ff0000; text-decoration-color: #ff0000; font-style: italic\">False</span>, configure_multiprocessing_client_queue: <span style=\"font-weight: bold\">&lt;</span><span style=\"color: #ff00ff; text-decoration-color: #ff00ff; font-weight: bold\">bound</span><span style=\"color: #000000; text-decoration-color: #000000\"> method BaseContext.SimpleQueue of </span>                        <span style=\"color: #000080; text-decoration-color: #000080\">│</span>\n",
       "<span style=\"color: #000080; text-decoration-color: #000080\">│</span> <span style=\"color: #000000; text-decoration-color: #000000\">&lt;multiprocessing.context.DefaultContext object at </span><span style=\"color: #008080; text-decoration-color: #008080; font-weight: bold\">0x000001D44E0EC610</span><span style=\"color: #000000; text-decoration-color: #000000\">&gt;</span><span style=\"font-weight: bold\">&gt;</span> = <span style=\"color: #800080; text-decoration-color: #800080; font-style: italic\">None</span>, verbose: Union<span style=\"font-weight: bold\">[</span>int, str<span style=\"font-weight: bold\">]</span> =       <span style=\"color: #000080; text-decoration-color: #000080\">│</span>\n",
       "<span style=\"color: #000080; text-decoration-color: #000080\">│</span> <span style=\"color: #008000; text-decoration-color: #008000\">'TRACE'</span>, debug: bool = <span style=\"color: #ff0000; text-decoration-color: #ff0000; font-style: italic\">False</span><span style=\"font-weight: bold\">)</span>:                                                                                  <span style=\"color: #000080; text-decoration-color: #000080\">│</span>\n",
       "<span style=\"color: #000080; text-decoration-color: #000080\">│</span>                                                                                                                 <span style=\"color: #000080; text-decoration-color: #000080\">│</span>\n",
       "<span style=\"color: #000080; text-decoration-color: #000080\">│</span> <span style=\"color: #008080; text-decoration-color: #008080\">Just to help to configure loguru logger with some default settings.</span>                                             <span style=\"color: #000080; text-decoration-color: #000080\">│</span>\n",
       "<span style=\"color: #000080; text-decoration-color: #000080\">│</span> <span style=\"color: #008080; text-decoration-color: #008080\">Multiprocessing handler: If you want to use loguru in multiprocessing environment,</span>                              <span style=\"color: #000080; text-decoration-color: #000080\">│</span>\n",
       "<span style=\"color: #000080; text-decoration-color: #000080\">│</span> <span style=\"color: #008080; text-decoration-color: #008080\">you can use the multiprocessing handler as main sink collecting the logs.</span>                                       <span style=\"color: #000080; text-decoration-color: #000080\">│</span>\n",
       "<span style=\"color: #000080; text-decoration-color: #000080\">│</span> <span style=\"color: #008080; text-decoration-color: #008080\">The client can be configured with the multiprocessing queue to send the logs to the handler.</span>                    <span style=\"color: #000080; text-decoration-color: #000080\">│</span>\n",
       "<span style=\"color: #000080; text-decoration-color: #000080\">│</span> <span style=\"color: #008080; text-decoration-color: #008080\">Pass the .get_client_queue of __main__ to the LoguruConfigurator of the client. </span>                                <span style=\"color: #000080; text-decoration-color: #000080\">│</span>\n",
       "<span style=\"color: #000080; text-decoration-color: #000080\">│</span> <span style=\"color: #008080; text-decoration-color: #008080\">Args:</span>                                                                                                           <span style=\"color: #000080; text-decoration-color: #000080\">│</span>\n",
       "<span style=\"color: #000080; text-decoration-color: #000080\">│</span> <span style=\"color: #008080; text-decoration-color: #008080\">    log_level </span><span style=\"color: #008080; text-decoration-color: #008080; font-weight: bold\">(</span><span style=\"color: #008080; text-decoration-color: #008080\">str, optional</span><span style=\"color: #008080; text-decoration-color: #008080; font-weight: bold\">)</span><span style=\"color: #008080; text-decoration-color: #008080\">: Log level. Defaults to </span><span style=\"color: #008000; text-decoration-color: #008000\">\"INFO\"</span><span style=\"color: #008080; text-decoration-color: #008080\">.</span>                                                   <span style=\"color: #000080; text-decoration-color: #000080\">│</span>\n",
       "<span style=\"color: #000080; text-decoration-color: #000080\">│</span> <span style=\"color: #008080; text-decoration-color: #008080\">    console_output </span><span style=\"color: #008080; text-decoration-color: #008080; font-weight: bold\">(</span><span style=\"color: #008080; text-decoration-color: #008080\">bool, optional</span><span style=\"color: #008080; text-decoration-color: #008080; font-weight: bold\">)</span><span style=\"color: #008080; text-decoration-color: #008080\">: Activate or deactivate the console output. Defaults to </span><span style=\"color: #00ff00; text-decoration-color: #00ff00; font-style: italic\">True</span><span style=\"color: #008080; text-decoration-color: #008080\">.</span>               <span style=\"color: #000080; text-decoration-color: #000080\">│</span>\n",
       "<span style=\"color: #000080; text-decoration-color: #000080\">│</span> <span style=\"color: #008080; text-decoration-color: #008080\">    console_error_output </span><span style=\"color: #008080; text-decoration-color: #008080; font-weight: bold\">(</span><span style=\"color: #008080; text-decoration-color: #008080\">bool, optional</span><span style=\"color: #008080; text-decoration-color: #008080; font-weight: bold\">)</span><span style=\"color: #008080; text-decoration-color: #008080\">: Activate or deactivate the console error output. Defaults to </span><span style=\"color: #ff0000; text-decoration-color: #ff0000; font-style: italic\">False</span><span style=\"color: #008080; text-decoration-color: #008080\">.</span>  <span style=\"color: #000080; text-decoration-color: #000080\">│</span>\n",
       "<span style=\"color: #000080; text-decoration-color: #000080\">│</span> <span style=\"color: #008080; text-decoration-color: #008080\">    file_ouput </span><span style=\"color: #008080; text-decoration-color: #008080; font-weight: bold\">(</span><span style=\"color: #008080; text-decoration-color: #008080\">bool, optional</span><span style=\"color: #008080; text-decoration-color: #008080; font-weight: bold\">)</span><span style=\"color: #008080; text-decoration-color: #008080\">: Activate or deactivate the file output. Defaults to </span><span style=\"color: #ff0000; text-decoration-color: #ff0000; font-style: italic\">False</span><span style=\"color: #008080; text-decoration-color: #008080\">.</span>                     <span style=\"color: #000080; text-decoration-color: #000080\">│</span>\n",
       "<span style=\"color: #000080; text-decoration-color: #000080\">│</span> <span style=\"color: #008080; text-decoration-color: #008080\">    log_file </span><span style=\"color: #008080; text-decoration-color: #008080; font-weight: bold\">(</span><span style=\"color: #008080; text-decoration-color: #008080\">Union</span><span style=\"color: #008080; text-decoration-color: #008080; font-weight: bold\">[</span><span style=\"color: #008080; text-decoration-color: #008080\">Path,str</span><span style=\"color: #008080; text-decoration-color: #008080; font-weight: bold\">]</span><span style=\"color: #008080; text-decoration-color: #008080\">, optional</span><span style=\"color: #008080; text-decoration-color: #008080; font-weight: bold\">)</span><span style=\"color: #008080; text-decoration-color: #008080\">: Path to the log file. Defaults to </span><span style=\"color: #800080; text-decoration-color: #800080; font-style: italic\">None</span><span style=\"color: #008080; text-decoration-color: #008080\">.</span>                               <span style=\"color: #000080; text-decoration-color: #000080\">│</span>\n",
       "<span style=\"color: #000080; text-decoration-color: #000080\">│</span> <span style=\"color: #008080; text-decoration-color: #008080\">    run_multiprocessing_handler </span><span style=\"color: #008080; text-decoration-color: #008080; font-weight: bold\">(</span><span style=\"color: #008080; text-decoration-color: #008080\">bool, optional</span><span style=\"color: #008080; text-decoration-color: #008080; font-weight: bold\">)</span><span style=\"color: #008080; text-decoration-color: #008080\">: Run the multiprocessing handler. Defaults to </span><span style=\"color: #ff0000; text-decoration-color: #ff0000; font-style: italic\">False</span><span style=\"color: #008080; text-decoration-color: #008080\">.</span>           <span style=\"color: #000080; text-decoration-color: #000080\">│</span>\n",
       "<span style=\"color: #000080; text-decoration-color: #000080\">│</span> <span style=\"color: #008080; text-decoration-color: #008080\">    configure_multiprocessing_client_queue </span><span style=\"color: #008080; text-decoration-color: #008080; font-weight: bold\">(</span><span style=\"color: #008080; text-decoration-color: #008080\">SimpleQueue, optional</span><span style=\"color: #008080; text-decoration-color: #008080; font-weight: bold\">)</span><span style=\"color: #008080; text-decoration-color: #008080\">: Configure the multiprocessing client queue.</span> <span style=\"color: #000080; text-decoration-color: #000080\">│</span>\n",
       "<span style=\"color: #000080; text-decoration-color: #000080\">│</span> <span style=\"color: #008080; text-decoration-color: #008080\">Defaults to </span><span style=\"color: #800080; text-decoration-color: #800080; font-style: italic\">None</span><span style=\"color: #008080; text-decoration-color: #008080\">.</span>                                                                                               <span style=\"color: #000080; text-decoration-color: #000080\">│</span>\n",
       "<span style=\"color: #000080; text-decoration-color: #000080\">│</span> <span style=\"color: #008080; text-decoration-color: #008080\">    verbose </span><span style=\"color: #008080; text-decoration-color: #008080; font-weight: bold\">(</span><span style=\"color: #008080; text-decoration-color: #008080\">Union</span><span style=\"color: #008080; text-decoration-color: #008080; font-weight: bold\">[</span><span style=\"color: #008080; text-decoration-color: #008080\">int, str</span><span style=\"color: #008080; text-decoration-color: #008080; font-weight: bold\">]</span><span style=\"color: #008080; text-decoration-color: #008080\">, optional</span><span style=\"color: #008080; text-decoration-color: #008080; font-weight: bold\">)</span><span style=\"color: #008080; text-decoration-color: #008080\">: Verbose level of this class. Defaults to </span><span style=\"color: #008000; text-decoration-color: #008000\">'TRACE'</span><span style=\"color: #008080; text-decoration-color: #008080\">.</span>                      <span style=\"color: #000080; text-decoration-color: #000080\">│</span>\n",
       "<span style=\"color: #000080; text-decoration-color: #000080\">│</span> <span style=\"color: #008080; text-decoration-color: #008080\">    debug </span><span style=\"color: #008080; text-decoration-color: #008080; font-weight: bold\">(</span><span style=\"color: #008080; text-decoration-color: #008080\">bool, optional</span><span style=\"color: #008080; text-decoration-color: #008080; font-weight: bold\">)</span><span style=\"color: #008080; text-decoration-color: #008080\">: Activate or deactivate the debug mode of this class. Defaults to </span><span style=\"color: #ff0000; text-decoration-color: #ff0000; font-style: italic\">False</span><span style=\"color: #008080; text-decoration-color: #008080\">.</span>             <span style=\"color: #000080; text-decoration-color: #000080\">│</span>\n",
       "<span style=\"color: #000080; text-decoration-color: #000080\">│</span>                                                                                                                 <span style=\"color: #000080; text-decoration-color: #000080\">│</span>\n",
       "<span style=\"color: #000080; text-decoration-color: #000080\">│</span>          <span style=\"color: #808000; text-decoration-color: #808000; font-style: italic\">add_logger_sink</span> = <span style=\"color: #00ffff; text-decoration-color: #00ffff; font-style: italic\">def </span><span style=\"color: #800000; text-decoration-color: #800000; font-weight: bold\">add_logger_sink</span><span style=\"font-weight: bold\">(</span>self, sink, log_level: str, format: str, <span style=\"color: #808000; text-decoration-color: #808000\">filter</span>=<span style=\"color: #800080; text-decoration-color: #800080; font-style: italic\">None</span>,            <span style=\"color: #000080; text-decoration-color: #000080\">│</span>\n",
       "<span style=\"color: #000080; text-decoration-color: #000080\">│</span>                            <span style=\"color: #808000; text-decoration-color: #808000\">colorize</span>=<span style=\"color: #800080; text-decoration-color: #800080; font-style: italic\">None</span>, <span style=\"color: #808000; text-decoration-color: #808000\">serialize</span>=<span style=\"color: #ff0000; text-decoration-color: #ff0000; font-style: italic\">False</span>, <span style=\"color: #808000; text-decoration-color: #808000\">backtrace</span>=<span style=\"color: #00ff00; text-decoration-color: #00ff00; font-style: italic\">True</span>, <span style=\"color: #808000; text-decoration-color: #808000\">diagnose</span>=<span style=\"color: #00ff00; text-decoration-color: #00ff00; font-style: italic\">True</span>, <span style=\"color: #808000; text-decoration-color: #808000\">context</span>=<span style=\"color: #800080; text-decoration-color: #800080; font-style: italic\">None</span>,         <span style=\"color: #000080; text-decoration-color: #000080\">│</span>\n",
       "<span style=\"color: #000080; text-decoration-color: #000080\">│</span>                            <span style=\"color: #808000; text-decoration-color: #808000\">catch</span>=<span style=\"color: #00ff00; text-decoration-color: #00ff00; font-style: italic\">True</span>, **kwargs<span style=\"font-weight: bold\">)</span>:                                                               <span style=\"color: #000080; text-decoration-color: #000080\">│</span>\n",
       "<span style=\"color: #000080; text-decoration-color: #000080\">│</span>                            <span style=\"color: #7f7f7f; text-decoration-color: #7f7f7f\">Add a new logger.</span>                                                                    <span style=\"color: #000080; text-decoration-color: #000080\">│</span>\n",
       "<span style=\"color: #000080; text-decoration-color: #000080\">│</span>                            <span style=\"color: #7f7f7f; text-decoration-color: #7f7f7f\">Args:</span>                                                                                <span style=\"color: #000080; text-decoration-color: #000080\">│</span>\n",
       "<span style=\"color: #000080; text-decoration-color: #000080\">│</span>                            <span style=\"color: #7f7f7f; text-decoration-color: #7f7f7f\">    sink: Sink for the logger.</span>                                                       <span style=\"color: #000080; text-decoration-color: #000080\">│</span>\n",
       "<span style=\"color: #000080; text-decoration-color: #000080\">│</span>                            <span style=\"color: #7f7f7f; text-decoration-color: #7f7f7f\">    log_level </span><span style=\"color: #7f7f7f; text-decoration-color: #7f7f7f; font-weight: bold\">(</span><span style=\"color: #7f7f7f; text-decoration-color: #7f7f7f\">str</span><span style=\"color: #7f7f7f; text-decoration-color: #7f7f7f; font-weight: bold\">)</span><span style=\"color: #7f7f7f; text-decoration-color: #7f7f7f\">: Log level for the logger.</span>                                       <span style=\"color: #000080; text-decoration-color: #000080\">│</span>\n",
       "<span style=\"color: #000080; text-decoration-color: #000080\">│</span>                            <span style=\"color: #7f7f7f; text-decoration-color: #7f7f7f\">    format </span><span style=\"color: #7f7f7f; text-decoration-color: #7f7f7f; font-weight: bold\">(</span><span style=\"color: #7f7f7f; text-decoration-color: #7f7f7f\">str</span><span style=\"color: #7f7f7f; text-decoration-color: #7f7f7f; font-weight: bold\">)</span><span style=\"color: #7f7f7f; text-decoration-color: #7f7f7f\">: Format for the logger.</span>                                             <span style=\"color: #000080; text-decoration-color: #000080\">│</span>\n",
       "<span style=\"color: #000080; text-decoration-color: #000080\">│</span>      <span style=\"color: #808000; text-decoration-color: #808000; font-style: italic\">filter_by_classname</span> = <span style=\"color: #00ffff; text-decoration-color: #00ffff; font-style: italic\">def </span><span style=\"color: #800000; text-decoration-color: #800000; font-weight: bold\">filter_by_classname</span><span style=\"font-weight: bold\">(</span>self, classname: str<span style=\"font-weight: bold\">)</span>: <span style=\"color: #7f7f7f; text-decoration-color: #7f7f7f\">Filter the log messages by class </span>     <span style=\"color: #000080; text-decoration-color: #000080\">│</span>\n",
       "<span style=\"color: #000080; text-decoration-color: #000080\">│</span>                            <span style=\"color: #7f7f7f; text-decoration-color: #7f7f7f\">name.</span>                                                                                <span style=\"color: #000080; text-decoration-color: #000080\">│</span>\n",
       "<span style=\"color: #000080; text-decoration-color: #000080\">│</span>         <span style=\"color: #808000; text-decoration-color: #808000; font-style: italic\">get_client_queue</span> = <span style=\"color: #00ffff; text-decoration-color: #00ffff; font-style: italic\">def </span><span style=\"color: #800000; text-decoration-color: #800000; font-weight: bold\">get_client_queue</span><span style=\"font-weight: bold\">(</span>self<span style=\"font-weight: bold\">)</span> -&gt; <span style=\"font-weight: bold\">&lt;</span><span style=\"color: #ff00ff; text-decoration-color: #ff00ff; font-weight: bold\">bound</span><span style=\"color: #000000; text-decoration-color: #000000\"> method BaseContext.SimpleQueue of </span>              <span style=\"color: #000080; text-decoration-color: #000080\">│</span>\n",
       "<span style=\"color: #000080; text-decoration-color: #000080\">│</span>                            <span style=\"color: #000000; text-decoration-color: #000000\">&lt;multiprocessing.context.DefaultContext object at </span><span style=\"color: #008080; text-decoration-color: #008080; font-weight: bold\">0x000001D44E0EC610</span><span style=\"color: #000000; text-decoration-color: #000000\">&gt;</span><span style=\"font-weight: bold\">&gt;</span>: <span style=\"color: #7f7f7f; text-decoration-color: #7f7f7f\">Get the </span>     <span style=\"color: #000080; text-decoration-color: #000080\">│</span>\n",
       "<span style=\"color: #000080; text-decoration-color: #000080\">│</span>                            <span style=\"color: #7f7f7f; text-decoration-color: #7f7f7f\">client queue.</span>                                                                        <span style=\"color: #000080; text-decoration-color: #000080\">│</span>\n",
       "<span style=\"color: #000080; text-decoration-color: #000080\">│</span>        <span style=\"color: #808000; text-decoration-color: #808000; font-style: italic\">get_filter_logger</span> = <span style=\"color: #00ffff; text-decoration-color: #00ffff; font-style: italic\">def </span><span style=\"color: #800000; text-decoration-color: #800000; font-weight: bold\">get_filter_logger</span><span style=\"font-weight: bold\">(</span>self, classname: str, verbose: Union<span style=\"font-weight: bold\">[</span>int, str<span style=\"font-weight: bold\">]</span> = <span style=\"color: #800080; text-decoration-color: #800080; font-style: italic\">None</span>, debug:  <span style=\"color: #000080; text-decoration-color: #000080\">│</span>\n",
       "<span style=\"color: #000080; text-decoration-color: #000080\">│</span>                            bool = <span style=\"color: #800080; text-decoration-color: #800080; font-style: italic\">None</span><span style=\"font-weight: bold\">)</span>:                                                                        <span style=\"color: #000080; text-decoration-color: #000080\">│</span>\n",
       "<span style=\"color: #000080; text-decoration-color: #000080\">│</span>                            <span style=\"color: #7f7f7f; text-decoration-color: #7f7f7f\">Get a filter logger.</span>                                                                 <span style=\"color: #000080; text-decoration-color: #000080\">│</span>\n",
       "<span style=\"color: #000080; text-decoration-color: #000080\">│</span>                            <span style=\"color: #7f7f7f; text-decoration-color: #7f7f7f\">Args:</span>                                                                                <span style=\"color: #000080; text-decoration-color: #000080\">│</span>\n",
       "<span style=\"color: #000080; text-decoration-color: #000080\">│</span>                            <span style=\"color: #7f7f7f; text-decoration-color: #7f7f7f\">    classname </span><span style=\"color: #7f7f7f; text-decoration-color: #7f7f7f; font-weight: bold\">(</span><span style=\"color: #7f7f7f; text-decoration-color: #7f7f7f\">str</span><span style=\"color: #7f7f7f; text-decoration-color: #7f7f7f; font-weight: bold\">)</span><span style=\"color: #7f7f7f; text-decoration-color: #7f7f7f\">: Log message identifier.</span>                                         <span style=\"color: #000080; text-decoration-color: #000080\">│</span>\n",
       "<span style=\"color: #000080; text-decoration-color: #000080\">│</span>                            <span style=\"color: #7f7f7f; text-decoration-color: #7f7f7f\">    verbose </span><span style=\"color: #7f7f7f; text-decoration-color: #7f7f7f; font-weight: bold\">(</span><span style=\"color: #7f7f7f; text-decoration-color: #7f7f7f\">Union</span><span style=\"color: #7f7f7f; text-decoration-color: #7f7f7f; font-weight: bold\">[</span><span style=\"color: #7f7f7f; text-decoration-color: #7f7f7f\">int,str</span><span style=\"color: #7f7f7f; text-decoration-color: #7f7f7f; font-weight: bold\">]</span><span style=\"color: #7f7f7f; text-decoration-color: #7f7f7f\">, optional</span><span style=\"color: #7f7f7f; text-decoration-color: #7f7f7f; font-weight: bold\">)</span><span style=\"color: #7f7f7f; text-decoration-color: #7f7f7f\">: log level. Defaults to </span><span style=\"color: #bf7fbf; text-decoration-color: #bf7fbf; font-style: italic\">None</span><span style=\"color: #7f7f7f; text-decoration-color: #7f7f7f\"> </span><span style=\"color: #7f7f7f; text-decoration-color: #7f7f7f; font-weight: bold\">(</span><span style=\"color: #7f7f7f; text-decoration-color: #7f7f7f\">takes global </span>   <span style=\"color: #000080; text-decoration-color: #000080\">│</span>\n",
       "<span style=\"color: #000080; text-decoration-color: #000080\">│</span>                            <span style=\"color: #7f7f7f; text-decoration-color: #7f7f7f\">log_level</span><span style=\"color: #7f7f7f; text-decoration-color: #7f7f7f; font-weight: bold\">)</span><span style=\"color: #7f7f7f; text-decoration-color: #7f7f7f\">.</span>                                                                          <span style=\"color: #000080; text-decoration-color: #000080\">│</span>\n",
       "<span style=\"color: #000080; text-decoration-color: #000080\">│</span>                            <span style=\"color: #7f7f7f; text-decoration-color: #7f7f7f\">    debug </span><span style=\"color: #7f7f7f; text-decoration-color: #7f7f7f; font-weight: bold\">(</span><span style=\"color: #7f7f7f; text-decoration-color: #7f7f7f\">bool, optional</span><span style=\"color: #7f7f7f; text-decoration-color: #7f7f7f; font-weight: bold\">)</span><span style=\"color: #7f7f7f; text-decoration-color: #7f7f7f\">: filter debug and trace. Defaults to </span><span style=\"color: #bf7fbf; text-decoration-color: #bf7fbf; font-style: italic\">None</span><span style=\"color: #7f7f7f; text-decoration-color: #7f7f7f\"> </span><span style=\"color: #7f7f7f; text-decoration-color: #7f7f7f; font-weight: bold\">(</span><span style=\"color: #7f7f7f; text-decoration-color: #7f7f7f\">takes </span>         <span style=\"color: #000080; text-decoration-color: #000080\">│</span>\n",
       "<span style=\"color: #000080; text-decoration-color: #000080\">│</span>                            <span style=\"color: #7f7f7f; text-decoration-color: #7f7f7f\">configurator state</span><span style=\"color: #7f7f7f; text-decoration-color: #7f7f7f; font-weight: bold\">)</span><span style=\"color: #7f7f7f; text-decoration-color: #7f7f7f\">.</span>                                                                 <span style=\"color: #000080; text-decoration-color: #000080\">│</span>\n",
       "<span style=\"color: #000080; text-decoration-color: #000080\">│</span>         <span style=\"color: #808000; text-decoration-color: #808000; font-style: italic\">get_logger_sinks</span> = <span style=\"color: #00ffff; text-decoration-color: #00ffff; font-style: italic\">def </span><span style=\"color: #800000; text-decoration-color: #800000; font-weight: bold\">get_logger_sinks</span><span style=\"font-weight: bold\">(</span>self<span style=\"font-weight: bold\">)</span>: <span style=\"color: #7f7f7f; text-decoration-color: #7f7f7f\">Get the loggers.</span>                                         <span style=\"color: #000080; text-decoration-color: #000080\">│</span>\n",
       "<span style=\"color: #000080; text-decoration-color: #000080\">│</span>      <span style=\"color: #808000; text-decoration-color: #808000; font-style: italic\">reinitialize_logger</span> = <span style=\"color: #00ffff; text-decoration-color: #00ffff; font-style: italic\">def </span><span style=\"color: #800000; text-decoration-color: #800000; font-weight: bold\">reinitialize_logger</span><span style=\"font-weight: bold\">(</span>self<span style=\"font-weight: bold\">)</span>: <span style=\"color: #7f7f7f; text-decoration-color: #7f7f7f\">Reinitialize the logger.</span>                              <span style=\"color: #000080; text-decoration-color: #000080\">│</span>\n",
       "<span style=\"color: #000080; text-decoration-color: #000080\">│</span>       <span style=\"color: #808000; text-decoration-color: #808000; font-style: italic\">remove_logger_sink</span> = <span style=\"color: #00ffff; text-decoration-color: #00ffff; font-style: italic\">def </span><span style=\"color: #800000; text-decoration-color: #800000; font-weight: bold\">remove_logger_sink</span><span style=\"font-weight: bold\">(</span>self, sink_id<span style=\"font-weight: bold\">)</span>:                                               <span style=\"color: #000080; text-decoration-color: #000080\">│</span>\n",
       "<span style=\"color: #000080; text-decoration-color: #000080\">│</span>                            <span style=\"color: #7f7f7f; text-decoration-color: #7f7f7f\">Remove a logger.</span>                                                                     <span style=\"color: #000080; text-decoration-color: #000080\">│</span>\n",
       "<span style=\"color: #000080; text-decoration-color: #000080\">│</span>                            <span style=\"color: #7f7f7f; text-decoration-color: #7f7f7f\">Args:</span>                                                                                <span style=\"color: #000080; text-decoration-color: #000080\">│</span>\n",
       "<span style=\"color: #000080; text-decoration-color: #000080\">│</span>                            <span style=\"color: #7f7f7f; text-decoration-color: #7f7f7f\">    sink_id: Id of the logger.</span>                                                       <span style=\"color: #000080; text-decoration-color: #000080\">│</span>\n",
       "<span style=\"color: #000080; text-decoration-color: #000080\">│</span> <span style=\"color: #808000; text-decoration-color: #808000; font-style: italic\">set_console_error_logger</span> = <span style=\"color: #00ffff; text-decoration-color: #00ffff; font-style: italic\">def </span><span style=\"color: #800000; text-decoration-color: #800000; font-weight: bold\">set_console_error_logger</span><span style=\"font-weight: bold\">(</span>self, active: bool = <span style=\"color: #00ff00; text-decoration-color: #00ff00; font-style: italic\">True</span><span style=\"font-weight: bold\">)</span>: <span style=\"color: #7f7f7f; text-decoration-color: #7f7f7f\">Set the stderr logger for </span>  <span style=\"color: #000080; text-decoration-color: #000080\">│</span>\n",
       "<span style=\"color: #000080; text-decoration-color: #000080\">│</span>                            <span style=\"color: #7f7f7f; text-decoration-color: #7f7f7f\">error messages.</span>                                                                      <span style=\"color: #000080; text-decoration-color: #000080\">│</span>\n",
       "<span style=\"color: #000080; text-decoration-color: #000080\">│</span>       <span style=\"color: #808000; text-decoration-color: #808000; font-style: italic\">set_console_logger</span> = <span style=\"color: #00ffff; text-decoration-color: #00ffff; font-style: italic\">def </span><span style=\"color: #800000; text-decoration-color: #800000; font-weight: bold\">set_console_logger</span><span style=\"font-weight: bold\">(</span>self, log_level: str, active: bool = <span style=\"color: #00ff00; text-decoration-color: #00ff00; font-style: italic\">True</span>, detailed_error:    <span style=\"color: #000080; text-decoration-color: #000080\">│</span>\n",
       "<span style=\"color: #000080; text-decoration-color: #000080\">│</span>                            bool = <span style=\"color: #ff0000; text-decoration-color: #ff0000; font-style: italic\">False</span>, details: bool = <span style=\"color: #ff0000; text-decoration-color: #ff0000; font-style: italic\">False</span><span style=\"font-weight: bold\">)</span>:                                                <span style=\"color: #000080; text-decoration-color: #000080\">│</span>\n",
       "<span style=\"color: #000080; text-decoration-color: #000080\">│</span>                            <span style=\"color: #7f7f7f; text-decoration-color: #7f7f7f\">Set the console logger.</span>                                                              <span style=\"color: #000080; text-decoration-color: #000080\">│</span>\n",
       "<span style=\"color: #000080; text-decoration-color: #000080\">│</span>                            <span style=\"color: #7f7f7f; text-decoration-color: #7f7f7f\">Args:</span>                                                                                <span style=\"color: #000080; text-decoration-color: #000080\">│</span>\n",
       "<span style=\"color: #000080; text-decoration-color: #000080\">│</span>                            <span style=\"color: #7f7f7f; text-decoration-color: #7f7f7f\">    log_level </span><span style=\"color: #7f7f7f; text-decoration-color: #7f7f7f; font-weight: bold\">(</span><span style=\"color: #7f7f7f; text-decoration-color: #7f7f7f\">str</span><span style=\"color: #7f7f7f; text-decoration-color: #7f7f7f; font-weight: bold\">)</span><span style=\"color: #7f7f7f; text-decoration-color: #7f7f7f\">: Log level for the console logger.</span>                               <span style=\"color: #000080; text-decoration-color: #000080\">│</span>\n",
       "<span style=\"color: #000080; text-decoration-color: #000080\">│</span>                            <span style=\"color: #7f7f7f; text-decoration-color: #7f7f7f\">    active </span><span style=\"color: #7f7f7f; text-decoration-color: #7f7f7f; font-weight: bold\">(</span><span style=\"color: #7f7f7f; text-decoration-color: #7f7f7f\">bool, optional</span><span style=\"color: #7f7f7f; text-decoration-color: #7f7f7f; font-weight: bold\">)</span><span style=\"color: #7f7f7f; text-decoration-color: #7f7f7f\">: Activate or deactivate the console logger. Defaults to </span> <span style=\"color: #000080; text-decoration-color: #000080\">│</span>\n",
       "<span style=\"color: #000080; text-decoration-color: #000080\">│</span>                            <span style=\"color: #7fff7f; text-decoration-color: #7fff7f; font-style: italic\">True</span><span style=\"color: #7f7f7f; text-decoration-color: #7f7f7f\">.</span>                                                                                <span style=\"color: #000080; text-decoration-color: #000080\">│</span>\n",
       "<span style=\"color: #000080; text-decoration-color: #000080\">│</span>          <span style=\"color: #808000; text-decoration-color: #808000; font-style: italic\">set_file_logger</span> = <span style=\"color: #00ffff; text-decoration-color: #00ffff; font-style: italic\">def </span><span style=\"color: #800000; text-decoration-color: #800000; font-weight: bold\">set_file_logger</span><span style=\"font-weight: bold\">(</span>self, log_level: str, file: Union<span style=\"font-weight: bold\">[</span>pathlib.Path, str<span style=\"font-weight: bold\">]</span>, active:    <span style=\"color: #000080; text-decoration-color: #000080\">│</span>\n",
       "<span style=\"color: #000080; text-decoration-color: #000080\">│</span>                            bool = <span style=\"color: #00ff00; text-decoration-color: #00ff00; font-style: italic\">True</span><span style=\"font-weight: bold\">)</span>:                                                                        <span style=\"color: #000080; text-decoration-color: #000080\">│</span>\n",
       "<span style=\"color: #000080; text-decoration-color: #000080\">│</span>                            <span style=\"color: #7f7f7f; text-decoration-color: #7f7f7f\">Set the file logger.</span>                                                                 <span style=\"color: #000080; text-decoration-color: #000080\">│</span>\n",
       "<span style=\"color: #000080; text-decoration-color: #000080\">│</span>                            <span style=\"color: #7f7f7f; text-decoration-color: #7f7f7f\">Args:</span>                                                                                <span style=\"color: #000080; text-decoration-color: #000080\">│</span>\n",
       "<span style=\"color: #000080; text-decoration-color: #000080\">│</span>                            <span style=\"color: #7f7f7f; text-decoration-color: #7f7f7f\">    log_level </span><span style=\"color: #7f7f7f; text-decoration-color: #7f7f7f; font-weight: bold\">(</span><span style=\"color: #7f7f7f; text-decoration-color: #7f7f7f\">str</span><span style=\"color: #7f7f7f; text-decoration-color: #7f7f7f; font-weight: bold\">)</span><span style=\"color: #7f7f7f; text-decoration-color: #7f7f7f\">: Log level for the file logger.</span>                                  <span style=\"color: #000080; text-decoration-color: #000080\">│</span>\n",
       "<span style=\"color: #000080; text-decoration-color: #000080\">│</span>                            <span style=\"color: #7f7f7f; text-decoration-color: #7f7f7f\">    file </span><span style=\"color: #7f7f7f; text-decoration-color: #7f7f7f; font-weight: bold\">(</span><span style=\"color: #7f7f7f; text-decoration-color: #7f7f7f\">Union</span><span style=\"color: #7f7f7f; text-decoration-color: #7f7f7f; font-weight: bold\">[</span><span style=\"color: #7f7f7f; text-decoration-color: #7f7f7f\">Path,str</span><span style=\"color: #7f7f7f; text-decoration-color: #7f7f7f; font-weight: bold\">])</span><span style=\"color: #7f7f7f; text-decoration-color: #7f7f7f\">: Path to the file.</span>                                        <span style=\"color: #000080; text-decoration-color: #000080\">│</span>\n",
       "<span style=\"color: #000080; text-decoration-color: #000080\">│</span>                            <span style=\"color: #7f7f7f; text-decoration-color: #7f7f7f\">    active </span><span style=\"color: #7f7f7f; text-decoration-color: #7f7f7f; font-weight: bold\">(</span><span style=\"color: #7f7f7f; text-decoration-color: #7f7f7f\">bool, optional</span><span style=\"color: #7f7f7f; text-decoration-color: #7f7f7f; font-weight: bold\">)</span><span style=\"color: #7f7f7f; text-decoration-color: #7f7f7f\">: Activate or deactivate the file logger. Defaults to </span>    <span style=\"color: #000080; text-decoration-color: #000080\">│</span>\n",
       "<span style=\"color: #000080; text-decoration-color: #000080\">│</span>                            <span style=\"color: #7fff7f; text-decoration-color: #7fff7f; font-style: italic\">True</span><span style=\"color: #7f7f7f; text-decoration-color: #7f7f7f\">.</span>                                                                                <span style=\"color: #000080; text-decoration-color: #000080\">│</span>\n",
       "<span style=\"color: #000080; text-decoration-color: #000080\">│</span>     <span style=\"color: #808000; text-decoration-color: #808000; font-style: italic\">set_json_file_logger</span> = <span style=\"color: #00ffff; text-decoration-color: #00ffff; font-style: italic\">def </span><span style=\"color: #800000; text-decoration-color: #800000; font-weight: bold\">set_json_file_logger</span><span style=\"font-weight: bold\">(</span>self, log_level: str, file: Union<span style=\"font-weight: bold\">[</span>pathlib.Path, str<span style=\"font-weight: bold\">]</span>,       <span style=\"color: #000080; text-decoration-color: #000080\">│</span>\n",
       "<span style=\"color: #000080; text-decoration-color: #000080\">│</span>                            active: bool = <span style=\"color: #00ff00; text-decoration-color: #00ff00; font-style: italic\">True</span><span style=\"font-weight: bold\">)</span>:                                                                <span style=\"color: #000080; text-decoration-color: #000080\">│</span>\n",
       "<span style=\"color: #000080; text-decoration-color: #000080\">│</span>                            <span style=\"color: #7f7f7f; text-decoration-color: #7f7f7f\">Set the json file logger.</span>                                                            <span style=\"color: #000080; text-decoration-color: #000080\">│</span>\n",
       "<span style=\"color: #000080; text-decoration-color: #000080\">│</span>                            <span style=\"color: #7f7f7f; text-decoration-color: #7f7f7f\">Args:</span>                                                                                <span style=\"color: #000080; text-decoration-color: #000080\">│</span>\n",
       "<span style=\"color: #000080; text-decoration-color: #000080\">│</span>                            <span style=\"color: #7f7f7f; text-decoration-color: #7f7f7f\">    log_level </span><span style=\"color: #7f7f7f; text-decoration-color: #7f7f7f; font-weight: bold\">(</span><span style=\"color: #7f7f7f; text-decoration-color: #7f7f7f\">str</span><span style=\"color: #7f7f7f; text-decoration-color: #7f7f7f; font-weight: bold\">)</span><span style=\"color: #7f7f7f; text-decoration-color: #7f7f7f\">: Log level for the json file logger.</span>                             <span style=\"color: #000080; text-decoration-color: #000080\">│</span>\n",
       "<span style=\"color: #000080; text-decoration-color: #000080\">│</span>                            <span style=\"color: #7f7f7f; text-decoration-color: #7f7f7f\">    file </span><span style=\"color: #7f7f7f; text-decoration-color: #7f7f7f; font-weight: bold\">(</span><span style=\"color: #7f7f7f; text-decoration-color: #7f7f7f\">Union</span><span style=\"color: #7f7f7f; text-decoration-color: #7f7f7f; font-weight: bold\">[</span><span style=\"color: #7f7f7f; text-decoration-color: #7f7f7f\">Path,str</span><span style=\"color: #7f7f7f; text-decoration-color: #7f7f7f; font-weight: bold\">])</span><span style=\"color: #7f7f7f; text-decoration-color: #7f7f7f\">: Path to the json file.</span>                                   <span style=\"color: #000080; text-decoration-color: #000080\">│</span>\n",
       "<span style=\"color: #000080; text-decoration-color: #000080\">│</span>                            <span style=\"color: #7f7f7f; text-decoration-color: #7f7f7f\">    active </span><span style=\"color: #7f7f7f; text-decoration-color: #7f7f7f; font-weight: bold\">(</span><span style=\"color: #7f7f7f; text-decoration-color: #7f7f7f\">bool, optional</span><span style=\"color: #7f7f7f; text-decoration-color: #7f7f7f; font-weight: bold\">)</span><span style=\"color: #7f7f7f; text-decoration-color: #7f7f7f\">: Activate or deactivate the json file logger. Defaults </span>  <span style=\"color: #000080; text-decoration-color: #000080\">│</span>\n",
       "<span style=\"color: #000080; text-decoration-color: #000080\">│</span>                            <span style=\"color: #7f7f7f; text-decoration-color: #7f7f7f\">to </span><span style=\"color: #7fff7f; text-decoration-color: #7fff7f; font-style: italic\">True</span><span style=\"color: #7f7f7f; text-decoration-color: #7f7f7f\">.</span>                                                                             <span style=\"color: #000080; text-decoration-color: #000080\">│</span>\n",
       "<span style=\"color: #000080; text-decoration-color: #000080\">│</span>                    <span style=\"color: #808000; text-decoration-color: #808000; font-style: italic\">write</span> = <span style=\"color: #00ffff; text-decoration-color: #00ffff; font-style: italic\">def </span><span style=\"color: #800000; text-decoration-color: #800000; font-weight: bold\">write</span><span style=\"font-weight: bold\">(</span>self, message<span style=\"font-weight: bold\">)</span>: <span style=\"color: #7f7f7f; text-decoration-color: #7f7f7f\">Write a message as sink.</span>                                   <span style=\"color: #000080; text-decoration-color: #000080\">│</span>\n",
       "<span style=\"color: #000080; text-decoration-color: #000080\">│</span>                <span style=\"color: #808000; text-decoration-color: #808000; font-style: italic\">write_log</span> = <span style=\"color: #00ffff; text-decoration-color: #00ffff; font-style: italic\">def </span><span style=\"color: #800000; text-decoration-color: #800000; font-weight: bold\">write_log</span><span style=\"font-weight: bold\">(</span>self, log_level: str = <span style=\"color: #008000; text-decoration-color: #008000\">'INFO'</span>, message: str = <span style=\"color: #008000; text-decoration-color: #008000\">'NOTHING TO LOG'</span><span style=\"font-weight: bold\">)</span>:       <span style=\"color: #000080; text-decoration-color: #000080\">│</span>\n",
       "<span style=\"color: #000080; text-decoration-color: #000080\">│</span>                            <span style=\"color: #7f7f7f; text-decoration-color: #7f7f7f\">Write a log message.</span>                                                                 <span style=\"color: #000080; text-decoration-color: #000080\">│</span>\n",
       "<span style=\"color: #000080; text-decoration-color: #000080\">│</span>                            <span style=\"color: #7f7f7f; text-decoration-color: #7f7f7f\">Args:</span>                                                                                <span style=\"color: #000080; text-decoration-color: #000080\">│</span>\n",
       "<span style=\"color: #000080; text-decoration-color: #000080\">│</span>                            <span style=\"color: #7f7f7f; text-decoration-color: #7f7f7f\">    message </span><span style=\"color: #7f7f7f; text-decoration-color: #7f7f7f; font-weight: bold\">(</span><span style=\"color: #7f7f7f; text-decoration-color: #7f7f7f\">str</span><span style=\"color: #7f7f7f; text-decoration-color: #7f7f7f; font-weight: bold\">)</span><span style=\"color: #7f7f7f; text-decoration-color: #7f7f7f\">: Log message.</span>                                                      <span style=\"color: #000080; text-decoration-color: #000080\">│</span>\n",
       "<span style=\"color: #000080; text-decoration-color: #000080\">│</span>                            <span style=\"color: #7f7f7f; text-decoration-color: #7f7f7f\">    log_level </span><span style=\"color: #7f7f7f; text-decoration-color: #7f7f7f; font-weight: bold\">(</span><span style=\"color: #7f7f7f; text-decoration-color: #7f7f7f\">str, optional</span><span style=\"color: #7f7f7f; text-decoration-color: #7f7f7f; font-weight: bold\">)</span><span style=\"color: #7f7f7f; text-decoration-color: #7f7f7f\">: Log level. Defaults to </span><span style=\"color: #7fbf7f; text-decoration-color: #7fbf7f\">\"INFO\"</span><span style=\"color: #7f7f7f; text-decoration-color: #7f7f7f\">.</span>                        <span style=\"color: #000080; text-decoration-color: #000080\">│</span>\n",
       "<span style=\"color: #000080; text-decoration-color: #000080\">╰─────────────────────────────────────────────────────────────────────────────────────────────────────────────────╯</span>\n",
       "</pre>\n"
      ],
      "text/plain": [
       "\u001b[34m╭─\u001b[0m\u001b[34m─────────────────────────\u001b[0m\u001b[34m \u001b[0m\u001b[1;34m<\u001b[0m\u001b[1;95mclass\u001b[0m\u001b[39m \u001b[0m\u001b[32m'imutils.loghelper.quick_loguru.LoguruConfigurator'\u001b[0m\u001b[1;34m>\u001b[0m\u001b[34m \u001b[0m\u001b[34m─────────────────────────\u001b[0m\u001b[34m─╮\u001b[0m\n",
       "\u001b[34m│\u001b[0m \u001b[3;96mclass \u001b[0m\u001b[1;31mLoguruConfigurator\u001b[0m\u001b[1m(\u001b[0mlog_level: str = \u001b[32m'INFO'\u001b[0m, console_output: bool = \u001b[3;92mTrue\u001b[0m, console_error_output: bool =     \u001b[34m│\u001b[0m\n",
       "\u001b[34m│\u001b[0m \u001b[3;91mFalse\u001b[0m, file_ouput: bool = \u001b[3;91mFalse\u001b[0m, log_file: Union\u001b[1m[\u001b[0mpathlib.Path, str\u001b[1m]\u001b[0m = \u001b[3;35mNone\u001b[0m, run_multiprocessing_handler: bool = \u001b[34m│\u001b[0m\n",
       "\u001b[34m│\u001b[0m \u001b[3;91mFalse\u001b[0m, configure_multiprocessing_client_queue: \u001b[1m<\u001b[0m\u001b[1;95mbound\u001b[0m\u001b[39m method BaseContext.SimpleQueue of \u001b[0m                        \u001b[34m│\u001b[0m\n",
       "\u001b[34m│\u001b[0m \u001b[39m<multiprocessing.context.DefaultContext object at \u001b[0m\u001b[1;36m0x000001D44E0EC610\u001b[0m\u001b[39m>\u001b[0m\u001b[1m>\u001b[0m = \u001b[3;35mNone\u001b[0m, verbose: Union\u001b[1m[\u001b[0mint, str\u001b[1m]\u001b[0m =       \u001b[34m│\u001b[0m\n",
       "\u001b[34m│\u001b[0m \u001b[32m'TRACE'\u001b[0m, debug: bool = \u001b[3;91mFalse\u001b[0m\u001b[1m)\u001b[0m:                                                                                  \u001b[34m│\u001b[0m\n",
       "\u001b[34m│\u001b[0m                                                                                                                 \u001b[34m│\u001b[0m\n",
       "\u001b[34m│\u001b[0m \u001b[36mJust to help to configure loguru logger with some default settings.\u001b[0m                                             \u001b[34m│\u001b[0m\n",
       "\u001b[34m│\u001b[0m \u001b[36mMultiprocessing handler: If you want to use loguru in multiprocessing environment,\u001b[0m                              \u001b[34m│\u001b[0m\n",
       "\u001b[34m│\u001b[0m \u001b[36myou can use the multiprocessing handler as main sink collecting the logs.\u001b[0m                                       \u001b[34m│\u001b[0m\n",
       "\u001b[34m│\u001b[0m \u001b[36mThe client can be configured with the multiprocessing queue to send the logs to the handler.\u001b[0m                    \u001b[34m│\u001b[0m\n",
       "\u001b[34m│\u001b[0m \u001b[36mPass the .get_client_queue of __main__ to the LoguruConfigurator of the client. \u001b[0m                                \u001b[34m│\u001b[0m\n",
       "\u001b[34m│\u001b[0m \u001b[36mArgs:\u001b[0m                                                                                                           \u001b[34m│\u001b[0m\n",
       "\u001b[34m│\u001b[0m \u001b[36m    log_level \u001b[0m\u001b[1;36m(\u001b[0m\u001b[36mstr, optional\u001b[0m\u001b[1;36m)\u001b[0m\u001b[36m: Log level. Defaults to \u001b[0m\u001b[32m\"INFO\"\u001b[0m\u001b[36m.\u001b[0m                                                   \u001b[34m│\u001b[0m\n",
       "\u001b[34m│\u001b[0m \u001b[36m    console_output \u001b[0m\u001b[1;36m(\u001b[0m\u001b[36mbool, optional\u001b[0m\u001b[1;36m)\u001b[0m\u001b[36m: Activate or deactivate the console output. Defaults to \u001b[0m\u001b[3;92mTrue\u001b[0m\u001b[36m.\u001b[0m               \u001b[34m│\u001b[0m\n",
       "\u001b[34m│\u001b[0m \u001b[36m    console_error_output \u001b[0m\u001b[1;36m(\u001b[0m\u001b[36mbool, optional\u001b[0m\u001b[1;36m)\u001b[0m\u001b[36m: Activate or deactivate the console error output. Defaults to \u001b[0m\u001b[3;91mFalse\u001b[0m\u001b[36m.\u001b[0m  \u001b[34m│\u001b[0m\n",
       "\u001b[34m│\u001b[0m \u001b[36m    file_ouput \u001b[0m\u001b[1;36m(\u001b[0m\u001b[36mbool, optional\u001b[0m\u001b[1;36m)\u001b[0m\u001b[36m: Activate or deactivate the file output. Defaults to \u001b[0m\u001b[3;91mFalse\u001b[0m\u001b[36m.\u001b[0m                     \u001b[34m│\u001b[0m\n",
       "\u001b[34m│\u001b[0m \u001b[36m    log_file \u001b[0m\u001b[1;36m(\u001b[0m\u001b[36mUnion\u001b[0m\u001b[1;36m[\u001b[0m\u001b[36mPath,str\u001b[0m\u001b[1;36m]\u001b[0m\u001b[36m, optional\u001b[0m\u001b[1;36m)\u001b[0m\u001b[36m: Path to the log file. Defaults to \u001b[0m\u001b[3;35mNone\u001b[0m\u001b[36m.\u001b[0m                               \u001b[34m│\u001b[0m\n",
       "\u001b[34m│\u001b[0m \u001b[36m    run_multiprocessing_handler \u001b[0m\u001b[1;36m(\u001b[0m\u001b[36mbool, optional\u001b[0m\u001b[1;36m)\u001b[0m\u001b[36m: Run the multiprocessing handler. Defaults to \u001b[0m\u001b[3;91mFalse\u001b[0m\u001b[36m.\u001b[0m           \u001b[34m│\u001b[0m\n",
       "\u001b[34m│\u001b[0m \u001b[36m    configure_multiprocessing_client_queue \u001b[0m\u001b[1;36m(\u001b[0m\u001b[36mSimpleQueue, optional\u001b[0m\u001b[1;36m)\u001b[0m\u001b[36m: Configure the multiprocessing client queue.\u001b[0m \u001b[34m│\u001b[0m\n",
       "\u001b[34m│\u001b[0m \u001b[36mDefaults to \u001b[0m\u001b[3;35mNone\u001b[0m\u001b[36m.\u001b[0m                                                                                               \u001b[34m│\u001b[0m\n",
       "\u001b[34m│\u001b[0m \u001b[36m    verbose \u001b[0m\u001b[1;36m(\u001b[0m\u001b[36mUnion\u001b[0m\u001b[1;36m[\u001b[0m\u001b[36mint, str\u001b[0m\u001b[1;36m]\u001b[0m\u001b[36m, optional\u001b[0m\u001b[1;36m)\u001b[0m\u001b[36m: Verbose level of this class. Defaults to \u001b[0m\u001b[32m'TRACE'\u001b[0m\u001b[36m.\u001b[0m                      \u001b[34m│\u001b[0m\n",
       "\u001b[34m│\u001b[0m \u001b[36m    debug \u001b[0m\u001b[1;36m(\u001b[0m\u001b[36mbool, optional\u001b[0m\u001b[1;36m)\u001b[0m\u001b[36m: Activate or deactivate the debug mode of this class. Defaults to \u001b[0m\u001b[3;91mFalse\u001b[0m\u001b[36m.\u001b[0m             \u001b[34m│\u001b[0m\n",
       "\u001b[34m│\u001b[0m                                                                                                                 \u001b[34m│\u001b[0m\n",
       "\u001b[34m│\u001b[0m          \u001b[3;33madd_logger_sink\u001b[0m = \u001b[3;96mdef \u001b[0m\u001b[1;31madd_logger_sink\u001b[0m\u001b[1m(\u001b[0mself, sink, log_level: str, format: str, \u001b[33mfilter\u001b[0m=\u001b[3;35mNone\u001b[0m,            \u001b[34m│\u001b[0m\n",
       "\u001b[34m│\u001b[0m                            \u001b[33mcolorize\u001b[0m=\u001b[3;35mNone\u001b[0m, \u001b[33mserialize\u001b[0m=\u001b[3;91mFalse\u001b[0m, \u001b[33mbacktrace\u001b[0m=\u001b[3;92mTrue\u001b[0m, \u001b[33mdiagnose\u001b[0m=\u001b[3;92mTrue\u001b[0m, \u001b[33mcontext\u001b[0m=\u001b[3;35mNone\u001b[0m,         \u001b[34m│\u001b[0m\n",
       "\u001b[34m│\u001b[0m                            \u001b[33mcatch\u001b[0m=\u001b[3;92mTrue\u001b[0m, **kwargs\u001b[1m)\u001b[0m:                                                               \u001b[34m│\u001b[0m\n",
       "\u001b[34m│\u001b[0m                            \u001b[2mAdd a new logger.\u001b[0m                                                                    \u001b[34m│\u001b[0m\n",
       "\u001b[34m│\u001b[0m                            \u001b[2mArgs:\u001b[0m                                                                                \u001b[34m│\u001b[0m\n",
       "\u001b[34m│\u001b[0m                            \u001b[2m    sink: Sink for the logger.\u001b[0m                                                       \u001b[34m│\u001b[0m\n",
       "\u001b[34m│\u001b[0m                            \u001b[2m    log_level \u001b[0m\u001b[1;2m(\u001b[0m\u001b[2mstr\u001b[0m\u001b[1;2m)\u001b[0m\u001b[2m: Log level for the logger.\u001b[0m                                       \u001b[34m│\u001b[0m\n",
       "\u001b[34m│\u001b[0m                            \u001b[2m    format \u001b[0m\u001b[1;2m(\u001b[0m\u001b[2mstr\u001b[0m\u001b[1;2m)\u001b[0m\u001b[2m: Format for the logger.\u001b[0m                                             \u001b[34m│\u001b[0m\n",
       "\u001b[34m│\u001b[0m      \u001b[3;33mfilter_by_classname\u001b[0m = \u001b[3;96mdef \u001b[0m\u001b[1;31mfilter_by_classname\u001b[0m\u001b[1m(\u001b[0mself, classname: str\u001b[1m)\u001b[0m: \u001b[2mFilter the log messages by class \u001b[0m     \u001b[34m│\u001b[0m\n",
       "\u001b[34m│\u001b[0m                            \u001b[2mname.\u001b[0m                                                                                \u001b[34m│\u001b[0m\n",
       "\u001b[34m│\u001b[0m         \u001b[3;33mget_client_queue\u001b[0m = \u001b[3;96mdef \u001b[0m\u001b[1;31mget_client_queue\u001b[0m\u001b[1m(\u001b[0mself\u001b[1m)\u001b[0m -> \u001b[1m<\u001b[0m\u001b[1;95mbound\u001b[0m\u001b[39m method BaseContext.SimpleQueue of \u001b[0m              \u001b[34m│\u001b[0m\n",
       "\u001b[34m│\u001b[0m                            \u001b[39m<multiprocessing.context.DefaultContext object at \u001b[0m\u001b[1;36m0x000001D44E0EC610\u001b[0m\u001b[39m>\u001b[0m\u001b[1m>\u001b[0m: \u001b[2mGet the \u001b[0m     \u001b[34m│\u001b[0m\n",
       "\u001b[34m│\u001b[0m                            \u001b[2mclient queue.\u001b[0m                                                                        \u001b[34m│\u001b[0m\n",
       "\u001b[34m│\u001b[0m        \u001b[3;33mget_filter_logger\u001b[0m = \u001b[3;96mdef \u001b[0m\u001b[1;31mget_filter_logger\u001b[0m\u001b[1m(\u001b[0mself, classname: str, verbose: Union\u001b[1m[\u001b[0mint, str\u001b[1m]\u001b[0m = \u001b[3;35mNone\u001b[0m, debug:  \u001b[34m│\u001b[0m\n",
       "\u001b[34m│\u001b[0m                            bool = \u001b[3;35mNone\u001b[0m\u001b[1m)\u001b[0m:                                                                        \u001b[34m│\u001b[0m\n",
       "\u001b[34m│\u001b[0m                            \u001b[2mGet a filter logger.\u001b[0m                                                                 \u001b[34m│\u001b[0m\n",
       "\u001b[34m│\u001b[0m                            \u001b[2mArgs:\u001b[0m                                                                                \u001b[34m│\u001b[0m\n",
       "\u001b[34m│\u001b[0m                            \u001b[2m    classname \u001b[0m\u001b[1;2m(\u001b[0m\u001b[2mstr\u001b[0m\u001b[1;2m)\u001b[0m\u001b[2m: Log message identifier.\u001b[0m                                         \u001b[34m│\u001b[0m\n",
       "\u001b[34m│\u001b[0m                            \u001b[2m    verbose \u001b[0m\u001b[1;2m(\u001b[0m\u001b[2mUnion\u001b[0m\u001b[1;2m[\u001b[0m\u001b[2mint,str\u001b[0m\u001b[1;2m]\u001b[0m\u001b[2m, optional\u001b[0m\u001b[1;2m)\u001b[0m\u001b[2m: log level. Defaults to \u001b[0m\u001b[2;3;35mNone\u001b[0m\u001b[2m \u001b[0m\u001b[1;2m(\u001b[0m\u001b[2mtakes global \u001b[0m   \u001b[34m│\u001b[0m\n",
       "\u001b[34m│\u001b[0m                            \u001b[2mlog_level\u001b[0m\u001b[1;2m)\u001b[0m\u001b[2m.\u001b[0m                                                                          \u001b[34m│\u001b[0m\n",
       "\u001b[34m│\u001b[0m                            \u001b[2m    debug \u001b[0m\u001b[1;2m(\u001b[0m\u001b[2mbool, optional\u001b[0m\u001b[1;2m)\u001b[0m\u001b[2m: filter debug and trace. Defaults to \u001b[0m\u001b[2;3;35mNone\u001b[0m\u001b[2m \u001b[0m\u001b[1;2m(\u001b[0m\u001b[2mtakes \u001b[0m         \u001b[34m│\u001b[0m\n",
       "\u001b[34m│\u001b[0m                            \u001b[2mconfigurator state\u001b[0m\u001b[1;2m)\u001b[0m\u001b[2m.\u001b[0m                                                                 \u001b[34m│\u001b[0m\n",
       "\u001b[34m│\u001b[0m         \u001b[3;33mget_logger_sinks\u001b[0m = \u001b[3;96mdef \u001b[0m\u001b[1;31mget_logger_sinks\u001b[0m\u001b[1m(\u001b[0mself\u001b[1m)\u001b[0m: \u001b[2mGet the loggers.\u001b[0m                                         \u001b[34m│\u001b[0m\n",
       "\u001b[34m│\u001b[0m      \u001b[3;33mreinitialize_logger\u001b[0m = \u001b[3;96mdef \u001b[0m\u001b[1;31mreinitialize_logger\u001b[0m\u001b[1m(\u001b[0mself\u001b[1m)\u001b[0m: \u001b[2mReinitialize the logger.\u001b[0m                              \u001b[34m│\u001b[0m\n",
       "\u001b[34m│\u001b[0m       \u001b[3;33mremove_logger_sink\u001b[0m = \u001b[3;96mdef \u001b[0m\u001b[1;31mremove_logger_sink\u001b[0m\u001b[1m(\u001b[0mself, sink_id\u001b[1m)\u001b[0m:                                               \u001b[34m│\u001b[0m\n",
       "\u001b[34m│\u001b[0m                            \u001b[2mRemove a logger.\u001b[0m                                                                     \u001b[34m│\u001b[0m\n",
       "\u001b[34m│\u001b[0m                            \u001b[2mArgs:\u001b[0m                                                                                \u001b[34m│\u001b[0m\n",
       "\u001b[34m│\u001b[0m                            \u001b[2m    sink_id: Id of the logger.\u001b[0m                                                       \u001b[34m│\u001b[0m\n",
       "\u001b[34m│\u001b[0m \u001b[3;33mset_console_error_logger\u001b[0m = \u001b[3;96mdef \u001b[0m\u001b[1;31mset_console_error_logger\u001b[0m\u001b[1m(\u001b[0mself, active: bool = \u001b[3;92mTrue\u001b[0m\u001b[1m)\u001b[0m: \u001b[2mSet the stderr logger for \u001b[0m  \u001b[34m│\u001b[0m\n",
       "\u001b[34m│\u001b[0m                            \u001b[2merror messages.\u001b[0m                                                                      \u001b[34m│\u001b[0m\n",
       "\u001b[34m│\u001b[0m       \u001b[3;33mset_console_logger\u001b[0m = \u001b[3;96mdef \u001b[0m\u001b[1;31mset_console_logger\u001b[0m\u001b[1m(\u001b[0mself, log_level: str, active: bool = \u001b[3;92mTrue\u001b[0m, detailed_error:    \u001b[34m│\u001b[0m\n",
       "\u001b[34m│\u001b[0m                            bool = \u001b[3;91mFalse\u001b[0m, details: bool = \u001b[3;91mFalse\u001b[0m\u001b[1m)\u001b[0m:                                                \u001b[34m│\u001b[0m\n",
       "\u001b[34m│\u001b[0m                            \u001b[2mSet the console logger.\u001b[0m                                                              \u001b[34m│\u001b[0m\n",
       "\u001b[34m│\u001b[0m                            \u001b[2mArgs:\u001b[0m                                                                                \u001b[34m│\u001b[0m\n",
       "\u001b[34m│\u001b[0m                            \u001b[2m    log_level \u001b[0m\u001b[1;2m(\u001b[0m\u001b[2mstr\u001b[0m\u001b[1;2m)\u001b[0m\u001b[2m: Log level for the console logger.\u001b[0m                               \u001b[34m│\u001b[0m\n",
       "\u001b[34m│\u001b[0m                            \u001b[2m    active \u001b[0m\u001b[1;2m(\u001b[0m\u001b[2mbool, optional\u001b[0m\u001b[1;2m)\u001b[0m\u001b[2m: Activate or deactivate the console logger. Defaults to \u001b[0m \u001b[34m│\u001b[0m\n",
       "\u001b[34m│\u001b[0m                            \u001b[2;3;92mTrue\u001b[0m\u001b[2m.\u001b[0m                                                                                \u001b[34m│\u001b[0m\n",
       "\u001b[34m│\u001b[0m          \u001b[3;33mset_file_logger\u001b[0m = \u001b[3;96mdef \u001b[0m\u001b[1;31mset_file_logger\u001b[0m\u001b[1m(\u001b[0mself, log_level: str, file: Union\u001b[1m[\u001b[0mpathlib.Path, str\u001b[1m]\u001b[0m, active:    \u001b[34m│\u001b[0m\n",
       "\u001b[34m│\u001b[0m                            bool = \u001b[3;92mTrue\u001b[0m\u001b[1m)\u001b[0m:                                                                        \u001b[34m│\u001b[0m\n",
       "\u001b[34m│\u001b[0m                            \u001b[2mSet the file logger.\u001b[0m                                                                 \u001b[34m│\u001b[0m\n",
       "\u001b[34m│\u001b[0m                            \u001b[2mArgs:\u001b[0m                                                                                \u001b[34m│\u001b[0m\n",
       "\u001b[34m│\u001b[0m                            \u001b[2m    log_level \u001b[0m\u001b[1;2m(\u001b[0m\u001b[2mstr\u001b[0m\u001b[1;2m)\u001b[0m\u001b[2m: Log level for the file logger.\u001b[0m                                  \u001b[34m│\u001b[0m\n",
       "\u001b[34m│\u001b[0m                            \u001b[2m    file \u001b[0m\u001b[1;2m(\u001b[0m\u001b[2mUnion\u001b[0m\u001b[1;2m[\u001b[0m\u001b[2mPath,str\u001b[0m\u001b[1;2m]\u001b[0m\u001b[1;2m)\u001b[0m\u001b[2m: Path to the file.\u001b[0m                                        \u001b[34m│\u001b[0m\n",
       "\u001b[34m│\u001b[0m                            \u001b[2m    active \u001b[0m\u001b[1;2m(\u001b[0m\u001b[2mbool, optional\u001b[0m\u001b[1;2m)\u001b[0m\u001b[2m: Activate or deactivate the file logger. Defaults to \u001b[0m    \u001b[34m│\u001b[0m\n",
       "\u001b[34m│\u001b[0m                            \u001b[2;3;92mTrue\u001b[0m\u001b[2m.\u001b[0m                                                                                \u001b[34m│\u001b[0m\n",
       "\u001b[34m│\u001b[0m     \u001b[3;33mset_json_file_logger\u001b[0m = \u001b[3;96mdef \u001b[0m\u001b[1;31mset_json_file_logger\u001b[0m\u001b[1m(\u001b[0mself, log_level: str, file: Union\u001b[1m[\u001b[0mpathlib.Path, str\u001b[1m]\u001b[0m,       \u001b[34m│\u001b[0m\n",
       "\u001b[34m│\u001b[0m                            active: bool = \u001b[3;92mTrue\u001b[0m\u001b[1m)\u001b[0m:                                                                \u001b[34m│\u001b[0m\n",
       "\u001b[34m│\u001b[0m                            \u001b[2mSet the json file logger.\u001b[0m                                                            \u001b[34m│\u001b[0m\n",
       "\u001b[34m│\u001b[0m                            \u001b[2mArgs:\u001b[0m                                                                                \u001b[34m│\u001b[0m\n",
       "\u001b[34m│\u001b[0m                            \u001b[2m    log_level \u001b[0m\u001b[1;2m(\u001b[0m\u001b[2mstr\u001b[0m\u001b[1;2m)\u001b[0m\u001b[2m: Log level for the json file logger.\u001b[0m                             \u001b[34m│\u001b[0m\n",
       "\u001b[34m│\u001b[0m                            \u001b[2m    file \u001b[0m\u001b[1;2m(\u001b[0m\u001b[2mUnion\u001b[0m\u001b[1;2m[\u001b[0m\u001b[2mPath,str\u001b[0m\u001b[1;2m]\u001b[0m\u001b[1;2m)\u001b[0m\u001b[2m: Path to the json file.\u001b[0m                                   \u001b[34m│\u001b[0m\n",
       "\u001b[34m│\u001b[0m                            \u001b[2m    active \u001b[0m\u001b[1;2m(\u001b[0m\u001b[2mbool, optional\u001b[0m\u001b[1;2m)\u001b[0m\u001b[2m: Activate or deactivate the json file logger. Defaults \u001b[0m  \u001b[34m│\u001b[0m\n",
       "\u001b[34m│\u001b[0m                            \u001b[2mto \u001b[0m\u001b[2;3;92mTrue\u001b[0m\u001b[2m.\u001b[0m                                                                             \u001b[34m│\u001b[0m\n",
       "\u001b[34m│\u001b[0m                    \u001b[3;33mwrite\u001b[0m = \u001b[3;96mdef \u001b[0m\u001b[1;31mwrite\u001b[0m\u001b[1m(\u001b[0mself, message\u001b[1m)\u001b[0m: \u001b[2mWrite a message as sink.\u001b[0m                                   \u001b[34m│\u001b[0m\n",
       "\u001b[34m│\u001b[0m                \u001b[3;33mwrite_log\u001b[0m = \u001b[3;96mdef \u001b[0m\u001b[1;31mwrite_log\u001b[0m\u001b[1m(\u001b[0mself, log_level: str = \u001b[32m'INFO'\u001b[0m, message: str = \u001b[32m'NOTHING TO LOG'\u001b[0m\u001b[1m)\u001b[0m:       \u001b[34m│\u001b[0m\n",
       "\u001b[34m│\u001b[0m                            \u001b[2mWrite a log message.\u001b[0m                                                                 \u001b[34m│\u001b[0m\n",
       "\u001b[34m│\u001b[0m                            \u001b[2mArgs:\u001b[0m                                                                                \u001b[34m│\u001b[0m\n",
       "\u001b[34m│\u001b[0m                            \u001b[2m    message \u001b[0m\u001b[1;2m(\u001b[0m\u001b[2mstr\u001b[0m\u001b[1;2m)\u001b[0m\u001b[2m: Log message.\u001b[0m                                                      \u001b[34m│\u001b[0m\n",
       "\u001b[34m│\u001b[0m                            \u001b[2m    log_level \u001b[0m\u001b[1;2m(\u001b[0m\u001b[2mstr, optional\u001b[0m\u001b[1;2m)\u001b[0m\u001b[2m: Log level. Defaults to \u001b[0m\u001b[2;32m\"INFO\"\u001b[0m\u001b[2m.\u001b[0m                        \u001b[34m│\u001b[0m\n",
       "\u001b[34m╰─────────────────────────────────────────────────────────────────────────────────────────────────────────────────╯\u001b[0m\n"
      ]
     },
     "metadata": {},
     "output_type": "display_data"
    }
   ],
   "source": [
    "# Explore LoguruConfigurator:\n",
    "from imutils import LoguruConfigurator\n",
    "from rich import inspect\n",
    "inspect(LoguruConfigurator, methods=True)"
   ]
  },
  {
   "cell_type": "code",
   "execution_count": 1,
   "id": "de077206-0cc9-4f11-b4bc-d2ca29176db3",
   "metadata": {},
   "outputs": [
    {
     "name": "stdout",
     "output_type": "stream",
     "text": [
      "\u001b[32m2024-11-29 13:48:47.5292\u001b[0m | \u001b[1mINFO    \u001b[0m | \u001b[36mLoguruConfigurator\u001b[0m | \u001b[1mAdded sink id 1, sink: <ipykernel.iostream.OutStream object at 0x0000022E165D9B40>, level: INFO\u001b[0m\n",
      "\u001b[32m2024-11-29 13:48:47.5292\u001b[0m | \u001b[1mINFO    \u001b[0m | \u001b[36mLoguruConfigurator\u001b[0m | \u001b[1mLoguru configurator initialized.\u001b[0m\n"
     ]
    },
    {
     "data": {
      "text/html": [
       "<pre style=\"white-space:pre;overflow-x:auto;line-height:normal;font-family:Menlo,'DejaVu Sans Mono',consolas,'Courier New',monospace\"><span style=\"font-weight: bold\">{</span>\n",
       "    <span style=\"color: #008080; text-decoration-color: #008080; font-weight: bold\">1</span>: <span style=\"font-weight: bold\">{</span>\n",
       "        <span style=\"color: #008000; text-decoration-color: #008000\">'sink'</span>: <span style=\"font-weight: bold\">&lt;</span><span style=\"color: #ff00ff; text-decoration-color: #ff00ff; font-weight: bold\">ipykernel.iostream.OutStream</span><span style=\"color: #000000; text-decoration-color: #000000\"> object at </span><span style=\"color: #008080; text-decoration-color: #008080; font-weight: bold\">0x0000022E165D9B40</span><span style=\"color: #000000; text-decoration-color: #000000\">&gt;,</span>\n",
       "<span style=\"color: #000000; text-decoration-color: #000000\">        </span><span style=\"color: #008000; text-decoration-color: #008000\">'level'</span><span style=\"color: #000000; text-decoration-color: #000000\">: </span><span style=\"color: #008000; text-decoration-color: #008000\">'INFO'</span><span style=\"color: #000000; text-decoration-color: #000000\">,</span>\n",
       "<span style=\"color: #000000; text-decoration-color: #000000\">        </span><span style=\"color: #008000; text-decoration-color: #008000\">'format'</span><span style=\"color: #000000; text-decoration-color: #000000\">: </span><span style=\"color: #008000; text-decoration-color: #008000\">'&lt;green&gt;{time:YYYY-MM-DD HH:mm:ss.SSSS!UTC}&lt;/green&gt; | &lt;level&gt;{level: &lt;8}&lt;/level&gt; | </span>\n",
       "<span style=\"color: #008000; text-decoration-color: #008000\">&lt;cyan&gt;{extra[classname]}&lt;/cyan&gt; | &lt;level&gt;{message}&lt;/level&gt;'</span>,\n",
       "        <span style=\"color: #008000; text-decoration-color: #008000\">'filter'</span>: <span style=\"color: #800080; text-decoration-color: #800080; font-style: italic\">None</span>,\n",
       "        <span style=\"color: #008000; text-decoration-color: #008000\">'colorize'</span>: <span style=\"color: #00ff00; text-decoration-color: #00ff00; font-style: italic\">True</span>,\n",
       "        <span style=\"color: #008000; text-decoration-color: #008000\">'serialize'</span>: <span style=\"color: #ff0000; text-decoration-color: #ff0000; font-style: italic\">False</span>,\n",
       "        <span style=\"color: #008000; text-decoration-color: #008000\">'backtrace'</span>: <span style=\"color: #00ff00; text-decoration-color: #00ff00; font-style: italic\">True</span>,\n",
       "        <span style=\"color: #008000; text-decoration-color: #008000\">'diagnose'</span>: <span style=\"color: #00ff00; text-decoration-color: #00ff00; font-style: italic\">True</span>,\n",
       "        <span style=\"color: #008000; text-decoration-color: #008000\">'enqueue'</span>: <span style=\"color: #00ff00; text-decoration-color: #00ff00; font-style: italic\">True</span>,\n",
       "        <span style=\"color: #008000; text-decoration-color: #008000\">'context'</span>: <span style=\"color: #800080; text-decoration-color: #800080; font-style: italic\">None</span>,\n",
       "        <span style=\"color: #008000; text-decoration-color: #008000\">'catch'</span>: <span style=\"color: #00ff00; text-decoration-color: #00ff00; font-style: italic\">True</span>\n",
       "    <span style=\"font-weight: bold\">}</span>\n",
       "<span style=\"font-weight: bold\">}</span>\n",
       "</pre>\n"
      ],
      "text/plain": [
       "\u001b[1m{\u001b[0m\n",
       "    \u001b[1;36m1\u001b[0m: \u001b[1m{\u001b[0m\n",
       "        \u001b[32m'sink'\u001b[0m: \u001b[1m<\u001b[0m\u001b[1;95mipykernel.iostream.OutStream\u001b[0m\u001b[39m object at \u001b[0m\u001b[1;36m0x0000022E165D9B40\u001b[0m\u001b[39m>,\u001b[0m\n",
       "\u001b[39m        \u001b[0m\u001b[32m'level'\u001b[0m\u001b[39m: \u001b[0m\u001b[32m'INFO'\u001b[0m\u001b[39m,\u001b[0m\n",
       "\u001b[39m        \u001b[0m\u001b[32m'format'\u001b[0m\u001b[39m: \u001b[0m\u001b[32m'<green>\u001b[0m\u001b[32m{\u001b[0m\u001b[32mtime:YYYY-MM-DD HH:mm:ss.SSSS!UTC\u001b[0m\u001b[32m}\u001b[0m\u001b[32m</green> | <level>\u001b[0m\u001b[32m{\u001b[0m\u001b[32mlevel: <8\u001b[0m\u001b[32m}\u001b[0m\u001b[32m</level> | \u001b[0m\n",
       "\u001b[32m<cyan>\u001b[0m\u001b[32m{\u001b[0m\u001b[32mextra\u001b[0m\u001b[32m[\u001b[0m\u001b[32mclassname\u001b[0m\u001b[32m]\u001b[0m\u001b[32m}\u001b[0m\u001b[32m</cyan> | <level>\u001b[0m\u001b[32m{\u001b[0m\u001b[32mmessage\u001b[0m\u001b[32m}\u001b[0m\u001b[32m</level\u001b[0m\u001b[32m>\u001b[0m\u001b[32m'\u001b[0m,\n",
       "        \u001b[32m'filter'\u001b[0m: \u001b[3;35mNone\u001b[0m,\n",
       "        \u001b[32m'colorize'\u001b[0m: \u001b[3;92mTrue\u001b[0m,\n",
       "        \u001b[32m'serialize'\u001b[0m: \u001b[3;91mFalse\u001b[0m,\n",
       "        \u001b[32m'backtrace'\u001b[0m: \u001b[3;92mTrue\u001b[0m,\n",
       "        \u001b[32m'diagnose'\u001b[0m: \u001b[3;92mTrue\u001b[0m,\n",
       "        \u001b[32m'enqueue'\u001b[0m: \u001b[3;92mTrue\u001b[0m,\n",
       "        \u001b[32m'context'\u001b[0m: \u001b[3;35mNone\u001b[0m,\n",
       "        \u001b[32m'catch'\u001b[0m: \u001b[3;92mTrue\u001b[0m\n",
       "    \u001b[1m}\u001b[0m\n",
       "\u001b[1m}\u001b[0m\n"
      ]
     },
     "metadata": {},
     "output_type": "display_data"
    },
    {
     "name": "stdout",
     "output_type": "stream",
     "text": [
      "\u001b[32m2024-11-29 13:48:47.5837\u001b[0m | \u001b[33m\u001b[1mWARNING \u001b[0m | \u001b[36mLoguruConfigurator\u001b[0m | \u001b[33m\u001b[1mSink <ipykernel.iostream.OutStream object at 0x0000022E165D9B40> already in use and dublicated.\u001b[0m\n"
     ]
    },
    {
     "data": {
      "text/html": [
       "<pre style=\"white-space:pre;overflow-x:auto;line-height:normal;font-family:Menlo,'DejaVu Sans Mono',consolas,'Courier New',monospace\"><span style=\"font-weight: bold\">{</span>\n",
       "    <span style=\"color: #008080; text-decoration-color: #008080; font-weight: bold\">1</span>: <span style=\"font-weight: bold\">{</span>\n",
       "        <span style=\"color: #008000; text-decoration-color: #008000\">'sink'</span>: <span style=\"font-weight: bold\">&lt;</span><span style=\"color: #ff00ff; text-decoration-color: #ff00ff; font-weight: bold\">ipykernel.iostream.OutStream</span><span style=\"color: #000000; text-decoration-color: #000000\"> object at </span><span style=\"color: #008080; text-decoration-color: #008080; font-weight: bold\">0x0000022E165D9B40</span><span style=\"color: #000000; text-decoration-color: #000000\">&gt;,</span>\n",
       "<span style=\"color: #000000; text-decoration-color: #000000\">        </span><span style=\"color: #008000; text-decoration-color: #008000\">'level'</span><span style=\"color: #000000; text-decoration-color: #000000\">: </span><span style=\"color: #008000; text-decoration-color: #008000\">'INFO'</span><span style=\"color: #000000; text-decoration-color: #000000\">,</span>\n",
       "<span style=\"color: #000000; text-decoration-color: #000000\">        </span><span style=\"color: #008000; text-decoration-color: #008000\">'format'</span><span style=\"color: #000000; text-decoration-color: #000000\">: </span><span style=\"color: #008000; text-decoration-color: #008000\">'&lt;green&gt;{time:YYYY-MM-DD HH:mm:ss.SSSS!UTC}&lt;/green&gt; | &lt;level&gt;{level: &lt;8}&lt;/level&gt; | </span>\n",
       "<span style=\"color: #008000; text-decoration-color: #008000\">&lt;cyan&gt;{extra[classname]}&lt;/cyan&gt; | &lt;level&gt;{message}&lt;/level&gt;'</span><span style=\"color: #000000; text-decoration-color: #000000\">,</span>\n",
       "<span style=\"color: #000000; text-decoration-color: #000000\">        </span><span style=\"color: #008000; text-decoration-color: #008000\">'filter'</span><span style=\"color: #000000; text-decoration-color: #000000\">: </span><span style=\"color: #800080; text-decoration-color: #800080; font-style: italic\">None</span><span style=\"color: #000000; text-decoration-color: #000000\">,</span>\n",
       "<span style=\"color: #000000; text-decoration-color: #000000\">        </span><span style=\"color: #008000; text-decoration-color: #008000\">'colorize'</span><span style=\"color: #000000; text-decoration-color: #000000\">: </span><span style=\"color: #00ff00; text-decoration-color: #00ff00; font-style: italic\">True</span><span style=\"color: #000000; text-decoration-color: #000000\">,</span>\n",
       "<span style=\"color: #000000; text-decoration-color: #000000\">        </span><span style=\"color: #008000; text-decoration-color: #008000\">'serialize'</span><span style=\"color: #000000; text-decoration-color: #000000\">: </span><span style=\"color: #ff0000; text-decoration-color: #ff0000; font-style: italic\">False</span><span style=\"color: #000000; text-decoration-color: #000000\">,</span>\n",
       "<span style=\"color: #000000; text-decoration-color: #000000\">        </span><span style=\"color: #008000; text-decoration-color: #008000\">'backtrace'</span><span style=\"color: #000000; text-decoration-color: #000000\">: </span><span style=\"color: #00ff00; text-decoration-color: #00ff00; font-style: italic\">True</span><span style=\"color: #000000; text-decoration-color: #000000\">,</span>\n",
       "<span style=\"color: #000000; text-decoration-color: #000000\">        </span><span style=\"color: #008000; text-decoration-color: #008000\">'diagnose'</span><span style=\"color: #000000; text-decoration-color: #000000\">: </span><span style=\"color: #00ff00; text-decoration-color: #00ff00; font-style: italic\">True</span><span style=\"color: #000000; text-decoration-color: #000000\">,</span>\n",
       "<span style=\"color: #000000; text-decoration-color: #000000\">        </span><span style=\"color: #008000; text-decoration-color: #008000\">'enqueue'</span><span style=\"color: #000000; text-decoration-color: #000000\">: </span><span style=\"color: #00ff00; text-decoration-color: #00ff00; font-style: italic\">True</span><span style=\"color: #000000; text-decoration-color: #000000\">,</span>\n",
       "<span style=\"color: #000000; text-decoration-color: #000000\">        </span><span style=\"color: #008000; text-decoration-color: #008000\">'context'</span><span style=\"color: #000000; text-decoration-color: #000000\">: </span><span style=\"color: #800080; text-decoration-color: #800080; font-style: italic\">None</span><span style=\"color: #000000; text-decoration-color: #000000\">,</span>\n",
       "<span style=\"color: #000000; text-decoration-color: #000000\">        </span><span style=\"color: #008000; text-decoration-color: #008000\">'catch'</span><span style=\"color: #000000; text-decoration-color: #000000\">: </span><span style=\"color: #00ff00; text-decoration-color: #00ff00; font-style: italic\">True</span>\n",
       "<span style=\"color: #000000; text-decoration-color: #000000\">    </span><span style=\"color: #000000; text-decoration-color: #000000; font-weight: bold\">}</span><span style=\"color: #000000; text-decoration-color: #000000\">,</span>\n",
       "<span style=\"color: #000000; text-decoration-color: #000000\">    </span><span style=\"color: #008080; text-decoration-color: #008080; font-weight: bold\">2</span><span style=\"color: #000000; text-decoration-color: #000000\">: </span><span style=\"color: #000000; text-decoration-color: #000000; font-weight: bold\">{</span>\n",
       "<span style=\"color: #000000; text-decoration-color: #000000\">        </span><span style=\"color: #008000; text-decoration-color: #008000\">'sink'</span><span style=\"color: #000000; text-decoration-color: #000000\">: &lt;ipykernel.iostream.OutStream object at </span><span style=\"color: #008080; text-decoration-color: #008080; font-weight: bold\">0x0000022E165D9B40</span><span style=\"color: #000000; text-decoration-color: #000000\">&gt;,</span>\n",
       "<span style=\"color: #000000; text-decoration-color: #000000\">        </span><span style=\"color: #008000; text-decoration-color: #008000\">'level'</span><span style=\"color: #000000; text-decoration-color: #000000\">: </span><span style=\"color: #008000; text-decoration-color: #008000\">'ERROR'</span><span style=\"color: #000000; text-decoration-color: #000000\">,</span>\n",
       "<span style=\"color: #000000; text-decoration-color: #000000\">        </span><span style=\"color: #008000; text-decoration-color: #008000\">'format'</span><span style=\"color: #000000; text-decoration-color: #000000\">: </span><span style=\"color: #008000; text-decoration-color: #008000\">'&lt;green&gt;{time:YYYY-MM-DD HH:mm:ss.SSSS!UTC}&lt;/green&gt; | &lt;level&gt;{level: &lt;8}&lt;/level&gt; | </span>\n",
       "<span style=\"color: #008000; text-decoration-color: #008000\">&lt;cyan&gt;{extra[classname]}&lt;/cyan&gt; | &lt;level&gt;{message}&lt;/level&gt;'</span>,\n",
       "        <span style=\"color: #008000; text-decoration-color: #008000\">'filter'</span>: <span style=\"color: #800080; text-decoration-color: #800080; font-style: italic\">None</span>,\n",
       "        <span style=\"color: #008000; text-decoration-color: #008000\">'colorize'</span>: <span style=\"color: #800080; text-decoration-color: #800080; font-style: italic\">None</span>,\n",
       "        <span style=\"color: #008000; text-decoration-color: #008000\">'serialize'</span>: <span style=\"color: #ff0000; text-decoration-color: #ff0000; font-style: italic\">False</span>,\n",
       "        <span style=\"color: #008000; text-decoration-color: #008000\">'backtrace'</span>: <span style=\"color: #00ff00; text-decoration-color: #00ff00; font-style: italic\">True</span>,\n",
       "        <span style=\"color: #008000; text-decoration-color: #008000\">'diagnose'</span>: <span style=\"color: #00ff00; text-decoration-color: #00ff00; font-style: italic\">True</span>,\n",
       "        <span style=\"color: #008000; text-decoration-color: #008000\">'enqueue'</span>: <span style=\"color: #00ff00; text-decoration-color: #00ff00; font-style: italic\">True</span>,\n",
       "        <span style=\"color: #008000; text-decoration-color: #008000\">'context'</span>: <span style=\"color: #800080; text-decoration-color: #800080; font-style: italic\">None</span>,\n",
       "        <span style=\"color: #008000; text-decoration-color: #008000\">'catch'</span>: <span style=\"color: #00ff00; text-decoration-color: #00ff00; font-style: italic\">True</span>\n",
       "    <span style=\"font-weight: bold\">}</span>\n",
       "<span style=\"font-weight: bold\">}</span>\n",
       "</pre>\n"
      ],
      "text/plain": [
       "\u001b[1m{\u001b[0m\n",
       "    \u001b[1;36m1\u001b[0m: \u001b[1m{\u001b[0m\n",
       "        \u001b[32m'sink'\u001b[0m: \u001b[1m<\u001b[0m\u001b[1;95mipykernel.iostream.OutStream\u001b[0m\u001b[39m object at \u001b[0m\u001b[1;36m0x0000022E165D9B40\u001b[0m\u001b[39m>,\u001b[0m\n",
       "\u001b[39m        \u001b[0m\u001b[32m'level'\u001b[0m\u001b[39m: \u001b[0m\u001b[32m'INFO'\u001b[0m\u001b[39m,\u001b[0m\n",
       "\u001b[39m        \u001b[0m\u001b[32m'format'\u001b[0m\u001b[39m: \u001b[0m\u001b[32m'<green>\u001b[0m\u001b[32m{\u001b[0m\u001b[32mtime:YYYY-MM-DD HH:mm:ss.SSSS!UTC\u001b[0m\u001b[32m}\u001b[0m\u001b[32m</green> | <level>\u001b[0m\u001b[32m{\u001b[0m\u001b[32mlevel: <8\u001b[0m\u001b[32m}\u001b[0m\u001b[32m</level> | \u001b[0m\n",
       "\u001b[32m<cyan>\u001b[0m\u001b[32m{\u001b[0m\u001b[32mextra\u001b[0m\u001b[32m[\u001b[0m\u001b[32mclassname\u001b[0m\u001b[32m]\u001b[0m\u001b[32m}\u001b[0m\u001b[32m</cyan> | <level>\u001b[0m\u001b[32m{\u001b[0m\u001b[32mmessage\u001b[0m\u001b[32m}\u001b[0m\u001b[32m</level>'\u001b[0m\u001b[39m,\u001b[0m\n",
       "\u001b[39m        \u001b[0m\u001b[32m'filter'\u001b[0m\u001b[39m: \u001b[0m\u001b[3;35mNone\u001b[0m\u001b[39m,\u001b[0m\n",
       "\u001b[39m        \u001b[0m\u001b[32m'colorize'\u001b[0m\u001b[39m: \u001b[0m\u001b[3;92mTrue\u001b[0m\u001b[39m,\u001b[0m\n",
       "\u001b[39m        \u001b[0m\u001b[32m'serialize'\u001b[0m\u001b[39m: \u001b[0m\u001b[3;91mFalse\u001b[0m\u001b[39m,\u001b[0m\n",
       "\u001b[39m        \u001b[0m\u001b[32m'backtrace'\u001b[0m\u001b[39m: \u001b[0m\u001b[3;92mTrue\u001b[0m\u001b[39m,\u001b[0m\n",
       "\u001b[39m        \u001b[0m\u001b[32m'diagnose'\u001b[0m\u001b[39m: \u001b[0m\u001b[3;92mTrue\u001b[0m\u001b[39m,\u001b[0m\n",
       "\u001b[39m        \u001b[0m\u001b[32m'enqueue'\u001b[0m\u001b[39m: \u001b[0m\u001b[3;92mTrue\u001b[0m\u001b[39m,\u001b[0m\n",
       "\u001b[39m        \u001b[0m\u001b[32m'context'\u001b[0m\u001b[39m: \u001b[0m\u001b[3;35mNone\u001b[0m\u001b[39m,\u001b[0m\n",
       "\u001b[39m        \u001b[0m\u001b[32m'catch'\u001b[0m\u001b[39m: \u001b[0m\u001b[3;92mTrue\u001b[0m\n",
       "\u001b[39m    \u001b[0m\u001b[1;39m}\u001b[0m\u001b[39m,\u001b[0m\n",
       "\u001b[39m    \u001b[0m\u001b[1;36m2\u001b[0m\u001b[39m: \u001b[0m\u001b[1;39m{\u001b[0m\n",
       "\u001b[39m        \u001b[0m\u001b[32m'sink'\u001b[0m\u001b[39m: <ipykernel.iostream.OutStream object at \u001b[0m\u001b[1;36m0x0000022E165D9B40\u001b[0m\u001b[39m>,\u001b[0m\n",
       "\u001b[39m        \u001b[0m\u001b[32m'level'\u001b[0m\u001b[39m: \u001b[0m\u001b[32m'ERROR'\u001b[0m\u001b[39m,\u001b[0m\n",
       "\u001b[39m        \u001b[0m\u001b[32m'format'\u001b[0m\u001b[39m: \u001b[0m\u001b[32m'<green>\u001b[0m\u001b[32m{\u001b[0m\u001b[32mtime:YYYY-MM-DD HH:mm:ss.SSSS!UTC\u001b[0m\u001b[32m}\u001b[0m\u001b[32m</green> | <level>\u001b[0m\u001b[32m{\u001b[0m\u001b[32mlevel: <8\u001b[0m\u001b[32m}\u001b[0m\u001b[32m</level> | \u001b[0m\n",
       "\u001b[32m<cyan>\u001b[0m\u001b[32m{\u001b[0m\u001b[32mextra\u001b[0m\u001b[32m[\u001b[0m\u001b[32mclassname\u001b[0m\u001b[32m]\u001b[0m\u001b[32m}\u001b[0m\u001b[32m</cyan> | <level>\u001b[0m\u001b[32m{\u001b[0m\u001b[32mmessage\u001b[0m\u001b[32m}\u001b[0m\u001b[32m</level\u001b[0m\u001b[32m>\u001b[0m\u001b[32m'\u001b[0m,\n",
       "        \u001b[32m'filter'\u001b[0m: \u001b[3;35mNone\u001b[0m,\n",
       "        \u001b[32m'colorize'\u001b[0m: \u001b[3;35mNone\u001b[0m,\n",
       "        \u001b[32m'serialize'\u001b[0m: \u001b[3;91mFalse\u001b[0m,\n",
       "        \u001b[32m'backtrace'\u001b[0m: \u001b[3;92mTrue\u001b[0m,\n",
       "        \u001b[32m'diagnose'\u001b[0m: \u001b[3;92mTrue\u001b[0m,\n",
       "        \u001b[32m'enqueue'\u001b[0m: \u001b[3;92mTrue\u001b[0m,\n",
       "        \u001b[32m'context'\u001b[0m: \u001b[3;35mNone\u001b[0m,\n",
       "        \u001b[32m'catch'\u001b[0m: \u001b[3;92mTrue\u001b[0m\n",
       "    \u001b[1m}\u001b[0m\n",
       "\u001b[1m}\u001b[0m\n"
      ]
     },
     "metadata": {},
     "output_type": "display_data"
    },
    {
     "name": "stdout",
     "output_type": "stream",
     "text": [
      "\u001b[32m2024-11-29 13:48:47.5837\u001b[0m | \u001b[1mINFO    \u001b[0m | \u001b[36mLoguruConfigurator\u001b[0m | \u001b[1mAdded sink id 2, sink: <ipykernel.iostream.OutStream object at 0x0000022E165D9B40>, level: ERROR\u001b[0m\n",
      "\u001b[32m2024-11-29 13:48:47.5977\u001b[0m | \u001b[1mINFO    \u001b[0m | \u001b[36mLoguruConfigurator\u001b[0m | \u001b[1mRemoving sink id 1, sink: <ipykernel.iostream.OutStream object at 0x0000022E165D9B40>, level: INFO\u001b[0m\n"
     ]
    },
    {
     "data": {
      "text/html": [
       "<pre style=\"white-space:pre;overflow-x:auto;line-height:normal;font-family:Menlo,'DejaVu Sans Mono',consolas,'Courier New',monospace\"><span style=\"font-weight: bold\">{</span>\n",
       "    <span style=\"color: #008080; text-decoration-color: #008080; font-weight: bold\">2</span>: <span style=\"font-weight: bold\">{</span>\n",
       "        <span style=\"color: #008000; text-decoration-color: #008000\">'sink'</span>: <span style=\"font-weight: bold\">&lt;</span><span style=\"color: #ff00ff; text-decoration-color: #ff00ff; font-weight: bold\">ipykernel.iostream.OutStream</span><span style=\"color: #000000; text-decoration-color: #000000\"> object at </span><span style=\"color: #008080; text-decoration-color: #008080; font-weight: bold\">0x0000022E165D9B40</span><span style=\"color: #000000; text-decoration-color: #000000\">&gt;,</span>\n",
       "<span style=\"color: #000000; text-decoration-color: #000000\">        </span><span style=\"color: #008000; text-decoration-color: #008000\">'level'</span><span style=\"color: #000000; text-decoration-color: #000000\">: </span><span style=\"color: #008000; text-decoration-color: #008000\">'ERROR'</span><span style=\"color: #000000; text-decoration-color: #000000\">,</span>\n",
       "<span style=\"color: #000000; text-decoration-color: #000000\">        </span><span style=\"color: #008000; text-decoration-color: #008000\">'format'</span><span style=\"color: #000000; text-decoration-color: #000000\">: </span><span style=\"color: #008000; text-decoration-color: #008000\">'&lt;green&gt;{time:YYYY-MM-DD HH:mm:ss.SSSS!UTC}&lt;/green&gt; | &lt;level&gt;{level: &lt;8}&lt;/level&gt; | </span>\n",
       "<span style=\"color: #008000; text-decoration-color: #008000\">&lt;cyan&gt;{extra[classname]}&lt;/cyan&gt; | &lt;level&gt;{message}&lt;/level&gt;'</span>,\n",
       "        <span style=\"color: #008000; text-decoration-color: #008000\">'filter'</span>: <span style=\"color: #800080; text-decoration-color: #800080; font-style: italic\">None</span>,\n",
       "        <span style=\"color: #008000; text-decoration-color: #008000\">'colorize'</span>: <span style=\"color: #800080; text-decoration-color: #800080; font-style: italic\">None</span>,\n",
       "        <span style=\"color: #008000; text-decoration-color: #008000\">'serialize'</span>: <span style=\"color: #ff0000; text-decoration-color: #ff0000; font-style: italic\">False</span>,\n",
       "        <span style=\"color: #008000; text-decoration-color: #008000\">'backtrace'</span>: <span style=\"color: #00ff00; text-decoration-color: #00ff00; font-style: italic\">True</span>,\n",
       "        <span style=\"color: #008000; text-decoration-color: #008000\">'diagnose'</span>: <span style=\"color: #00ff00; text-decoration-color: #00ff00; font-style: italic\">True</span>,\n",
       "        <span style=\"color: #008000; text-decoration-color: #008000\">'enqueue'</span>: <span style=\"color: #00ff00; text-decoration-color: #00ff00; font-style: italic\">True</span>,\n",
       "        <span style=\"color: #008000; text-decoration-color: #008000\">'context'</span>: <span style=\"color: #800080; text-decoration-color: #800080; font-style: italic\">None</span>,\n",
       "        <span style=\"color: #008000; text-decoration-color: #008000\">'catch'</span>: <span style=\"color: #00ff00; text-decoration-color: #00ff00; font-style: italic\">True</span>\n",
       "    <span style=\"font-weight: bold\">}</span>\n",
       "<span style=\"font-weight: bold\">}</span>\n",
       "</pre>\n"
      ],
      "text/plain": [
       "\u001b[1m{\u001b[0m\n",
       "    \u001b[1;36m2\u001b[0m: \u001b[1m{\u001b[0m\n",
       "        \u001b[32m'sink'\u001b[0m: \u001b[1m<\u001b[0m\u001b[1;95mipykernel.iostream.OutStream\u001b[0m\u001b[39m object at \u001b[0m\u001b[1;36m0x0000022E165D9B40\u001b[0m\u001b[39m>,\u001b[0m\n",
       "\u001b[39m        \u001b[0m\u001b[32m'level'\u001b[0m\u001b[39m: \u001b[0m\u001b[32m'ERROR'\u001b[0m\u001b[39m,\u001b[0m\n",
       "\u001b[39m        \u001b[0m\u001b[32m'format'\u001b[0m\u001b[39m: \u001b[0m\u001b[32m'<green>\u001b[0m\u001b[32m{\u001b[0m\u001b[32mtime:YYYY-MM-DD HH:mm:ss.SSSS!UTC\u001b[0m\u001b[32m}\u001b[0m\u001b[32m</green> | <level>\u001b[0m\u001b[32m{\u001b[0m\u001b[32mlevel: <8\u001b[0m\u001b[32m}\u001b[0m\u001b[32m</level> | \u001b[0m\n",
       "\u001b[32m<cyan>\u001b[0m\u001b[32m{\u001b[0m\u001b[32mextra\u001b[0m\u001b[32m[\u001b[0m\u001b[32mclassname\u001b[0m\u001b[32m]\u001b[0m\u001b[32m}\u001b[0m\u001b[32m</cyan> | <level>\u001b[0m\u001b[32m{\u001b[0m\u001b[32mmessage\u001b[0m\u001b[32m}\u001b[0m\u001b[32m</level\u001b[0m\u001b[32m>\u001b[0m\u001b[32m'\u001b[0m,\n",
       "        \u001b[32m'filter'\u001b[0m: \u001b[3;35mNone\u001b[0m,\n",
       "        \u001b[32m'colorize'\u001b[0m: \u001b[3;35mNone\u001b[0m,\n",
       "        \u001b[32m'serialize'\u001b[0m: \u001b[3;91mFalse\u001b[0m,\n",
       "        \u001b[32m'backtrace'\u001b[0m: \u001b[3;92mTrue\u001b[0m,\n",
       "        \u001b[32m'diagnose'\u001b[0m: \u001b[3;92mTrue\u001b[0m,\n",
       "        \u001b[32m'enqueue'\u001b[0m: \u001b[3;92mTrue\u001b[0m,\n",
       "        \u001b[32m'context'\u001b[0m: \u001b[3;35mNone\u001b[0m,\n",
       "        \u001b[32m'catch'\u001b[0m: \u001b[3;92mTrue\u001b[0m\n",
       "    \u001b[1m}\u001b[0m\n",
       "\u001b[1m}\u001b[0m\n"
      ]
     },
     "metadata": {},
     "output_type": "display_data"
    }
   ],
   "source": [
    "# Explore Loguruconfigurator:\n",
    "# There are two functionalities: manage the logger outputs (sinks) and provide a multiprocessing handler\n",
    "# Lets start with the sinks here\n",
    "from rich import inspect, print\n",
    "import sys\n",
    "from imutils import LoguruConfigurator\n",
    "my_log_configuration = LoguruConfigurator()\n",
    "print(my_log_configuration.get_logger_sinks())\n",
    "# every handler (sink) has an id\n",
    "my_log_configuration.add_logger_sink(sys.stdout, log_level='ERROR', format=my_log_configuration.console_logger_format_std)\n",
    "print(my_log_configuration.get_logger_sinks())\n",
    "my_log_configuration.remove_logger_sink(1)\n",
    "print(my_log_configuration.get_logger_sinks())\n",
    "# the build in logger sinks (consol, consol_error, file, jason) keep track of the id and delte if deactivated or reinitialized"
   ]
  },
  {
   "cell_type": "code",
   "execution_count": 2,
   "id": "5c52dfee-c64b-4410-91e2-11ba11327651",
   "metadata": {},
   "outputs": [
    {
     "data": {
      "text/plain": [
       "3"
      ]
     },
     "execution_count": 2,
     "metadata": {},
     "output_type": "execute_result"
    },
    {
     "name": "stdout",
     "output_type": "stream",
     "text": [
      "\u001b[32m2024-11-29 13:48:50.6362\u001b[0m | \u001b[33m\u001b[1mWARNING \u001b[0m | \u001b[36mLoguruConfigurator\u001b[0m | \u001b[33m\u001b[1mSink <ipykernel.iostream.OutStream object at 0x0000022E165D9B40> already in use and dublicated.\u001b[0m\n",
      "\u001b[32m2024-11-29 13:48:50.6362\u001b[0m | \u001b[1mINFO    \u001b[0m | \u001b[36mLoguruConfigurator\u001b[0m | \u001b[1mAdded sink id 3, sink: <ipykernel.iostream.OutStream object at 0x0000022E165D9B40>, level: DEBUG\u001b[0m\n"
     ]
    }
   ],
   "source": [
    "#filter=lambda record: record[\"extra\"].get(\"classname\") == \"LoguruConfigurator\"\n",
    "filter = my_log_configuration.filter_by_classname(\"LoguruConfigurator\")\n",
    "my_log_configuration.add_logger_sink(sys.stdout, log_level=\"DEBUG\", format=my_log_configuration.console_logger_format_std, filter=filter)"
   ]
  },
  {
   "cell_type": "code",
   "execution_count": 1,
   "id": "35c9f242-0354-4244-be8f-4932dc402509",
   "metadata": {},
   "outputs": [
    {
     "name": "stdout",
     "output_type": "stream",
     "text": [
      "\u001b[32m2024-11-29 13:54:03.9704\u001b[0m | \u001b[1mINFO    \u001b[0m | \u001b[36mLoguruConfigurator\u001b[0m | \u001b[1mAdded sink id 1, sink: <ipykernel.iostream.OutStream object at 0x00000154443C9B40>, level: INFO\u001b[0m\n",
      "\u001b[32m2024-11-29 13:54:03.9704\u001b[0m | \u001b[1mINFO    \u001b[0m | \u001b[36mLoguruConfigurator\u001b[0m | \u001b[1mLoguru configurator initialized.\u001b[0m\n",
      "\u001b[32m2024-11-29 13:54:03.9860\u001b[0m | \u001b[1mINFO    \u001b[0m | \u001b[36mLoguruConfigurator\u001b[0m | \u001b[1mStarting handler process.\u001b[0m\n",
      "\u001b[32m2024-11-29 13:54:03.9860\u001b[0m | \u001b[1mINFO    \u001b[0m | \u001b[36mLoguruConfigurator\u001b[0m | \u001b[1mMultiprocessing handler started.\u001b[0m\n"
     ]
    },
    {
     "data": {
      "text/plain": [
       "<loguru._logger.Logger.complete.<locals>.AwaitableCompleter at 0x1544487ae90>"
      ]
     },
     "execution_count": 1,
     "metadata": {},
     "output_type": "execute_result"
    }
   ],
   "source": [
    "# Explore LoguruConfigurator:\n",
    "# LoguruConfigurator in multiprocessing:\n",
    "# To use the LoguruConfigurator in multiprocessing, use the run_multiprocessing_handler = True\n",
    "# This doesen't work because of jupyter notebook issues!\n",
    "import multiprocessing as mp\n",
    "from loguru import logger\n",
    "from imutils import LoguruConfigurator\n",
    "my_loguru_configuration = LoguruConfigurator(run_multiprocessing_handler = True)\n",
    "# this class \"my_loguru_configuration\" has to be part of the program loop\n",
    "child_process_queue = my_loguru_configuration.get_client_queue()\n",
    "def my_process(client_queue):\n",
    "    import time\n",
    "    from imutils import LoguruConfigurator\n",
    "    process_loguru_configuration = LoguruConfigurator(configure_multiprocessing_client_queue = client_queue)\n",
    "    process_logger = process_loguru_configuration.get_filter_logger(classname='process', verbose='INFO')\n",
    "    for i in range(10):\n",
    "        process_logger.info(f'run for the {i} time.')\n",
    "        time.sleep(1)\n",
    "process = mp.Process(target=my_process, args=(child_process_queue,))\n",
    "process.start()\n",
    "process.join()\n",
    "logger.complete()"
   ]
  },
  {
   "cell_type": "code",
   "execution_count": null,
   "id": "5ddcfa20-bd46-4aae-a25e-34f87c6d316f",
   "metadata": {},
   "outputs": [],
   "source": []
  },
  {
   "cell_type": "code",
   "execution_count": 3,
   "id": "fea81c7a-9089-4a88-b068-2dd47759c9e7",
   "metadata": {},
   "outputs": [],
   "source": [
    "#---------------------- explore loguru--------------------------"
   ]
  },
  {
   "cell_type": "code",
   "execution_count": 4,
   "id": "0baf8b6d-8854-4ce6-b455-61f1159e138a",
   "metadata": {},
   "outputs": [],
   "source": [
    "from loguru import logger\n",
    "import sys\n",
    "from rich import inspect, print"
   ]
  },
  {
   "cell_type": "code",
   "execution_count": 5,
   "id": "1d864ea9-b4ec-4ac6-a8a6-a7a1d6185506",
   "metadata": {},
   "outputs": [],
   "source": [
    "# since the output was set to section two, this is printed in section two.\n",
    "logger.debug(\"my first message\")\n",
    "logger.info(\"this is how it looks\")\n",
    "logger.error(\"wohoo\") # gets logged in error and std consol\n",
    "logger.critical(\"ohhhhh\") # gets logged in error and std consol"
   ]
  },
  {
   "cell_type": "code",
   "execution_count": 6,
   "id": "3cbe1231-bea4-48d8-adf7-4cfb52784058",
   "metadata": {},
   "outputs": [
    {
     "data": {
      "text/html": [
       "<pre style=\"white-space:pre;overflow-x:auto;line-height:normal;font-family:Menlo,'DejaVu Sans Mono',consolas,'Courier New',monospace\"><span style=\"color: #000080; text-decoration-color: #000080\">╭──────────────────────────────────────── </span><span style=\"color: #000080; text-decoration-color: #000080; font-weight: bold\">&lt;</span><span style=\"color: #ff00ff; text-decoration-color: #ff00ff; font-weight: bold\">class</span><span style=\"color: #000000; text-decoration-color: #000000\"> </span><span style=\"color: #008000; text-decoration-color: #008000\">'loguru._logger.Logger'</span><span style=\"color: #000080; text-decoration-color: #000080; font-weight: bold\">&gt;</span><span style=\"color: #000080; text-decoration-color: #000080\"> ────────────────────────────────────────╮</span>\n",
       "<span style=\"color: #000080; text-decoration-color: #000080\">│</span> <span style=\"color: #008080; text-decoration-color: #008080\">An object to dispatch logging messages to configured handlers.</span>                                                  <span style=\"color: #000080; text-decoration-color: #000080\">│</span>\n",
       "<span style=\"color: #000080; text-decoration-color: #000080\">│</span>                                                                                                                 <span style=\"color: #000080; text-decoration-color: #000080\">│</span>\n",
       "<span style=\"color: #000080; text-decoration-color: #000080\">│</span> <span style=\"color: #008000; text-decoration-color: #008000\">╭─────────────────────────────────────────────────────────────────────────────────────────────────────────────╮</span> <span style=\"color: #000080; text-decoration-color: #000080\">│</span>\n",
       "<span style=\"color: #000080; text-decoration-color: #000080\">│</span> <span style=\"color: #008000; text-decoration-color: #008000\">│</span> <span style=\"font-weight: bold\">&lt;</span><span style=\"color: #ff00ff; text-decoration-color: #ff00ff; font-weight: bold\">loguru.logger</span><span style=\"color: #000000; text-decoration-color: #000000\"> </span><span style=\"color: #808000; text-decoration-color: #808000\">handlers</span><span style=\"color: #000000; text-decoration-color: #000000\">=</span><span style=\"color: #000000; text-decoration-color: #000000; font-weight: bold\">[(</span><span style=\"color: #808000; text-decoration-color: #808000\">id</span><span style=\"color: #000000; text-decoration-color: #000000\">=</span><span style=\"color: #008080; text-decoration-color: #008080; font-weight: bold\">1</span><span style=\"color: #000000; text-decoration-color: #000000\">, </span><span style=\"color: #808000; text-decoration-color: #808000\">level</span><span style=\"color: #000000; text-decoration-color: #000000\">=</span><span style=\"color: #008080; text-decoration-color: #008080; font-weight: bold\">20</span><span style=\"color: #000000; text-decoration-color: #000000\">, </span><span style=\"color: #808000; text-decoration-color: #808000\">sink</span><span style=\"color: #000000; text-decoration-color: #000000\">=</span><span style=\"color: #800080; text-decoration-color: #800080\">stdout</span><span style=\"color: #000000; text-decoration-color: #000000; font-weight: bold\">)</span><span style=\"color: #000000; text-decoration-color: #000000\">, </span><span style=\"color: #000000; text-decoration-color: #000000; font-weight: bold\">(</span><span style=\"color: #808000; text-decoration-color: #808000\">id</span><span style=\"color: #000000; text-decoration-color: #000000\">=</span><span style=\"color: #008080; text-decoration-color: #008080; font-weight: bold\">2</span><span style=\"color: #000000; text-decoration-color: #000000\">, </span><span style=\"color: #808000; text-decoration-color: #808000\">level</span><span style=\"color: #000000; text-decoration-color: #000000\">=</span><span style=\"color: #008080; text-decoration-color: #008080; font-weight: bold\">40</span><span style=\"color: #000000; text-decoration-color: #000000\">, </span><span style=\"color: #808000; text-decoration-color: #808000\">sink</span><span style=\"color: #000000; text-decoration-color: #000000\">=</span><span style=\"color: #800080; text-decoration-color: #800080\">stderr</span><span style=\"color: #000000; text-decoration-color: #000000; font-weight: bold\">)]</span><span style=\"font-weight: bold\">&gt;</span>                     <span style=\"color: #008000; text-decoration-color: #008000\">│</span> <span style=\"color: #000080; text-decoration-color: #000080\">│</span>\n",
       "<span style=\"color: #000080; text-decoration-color: #000080\">│</span> <span style=\"color: #008000; text-decoration-color: #008000\">╰─────────────────────────────────────────────────────────────────────────────────────────────────────────────╯</span> <span style=\"color: #000080; text-decoration-color: #000080\">│</span>\n",
       "<span style=\"color: #000080; text-decoration-color: #000080\">│</span>                                                                                                                 <span style=\"color: #000080; text-decoration-color: #000080\">│</span>\n",
       "<span style=\"color: #000080; text-decoration-color: #000080\">│</span>           <span style=\"color: #808000; text-decoration-color: #808000; font-style: italic\">add</span> = <span style=\"color: #00ffff; text-decoration-color: #00ffff; font-style: italic\">def </span><span style=\"color: #800000; text-decoration-color: #800000; font-weight: bold\">add</span><span style=\"font-weight: bold\">(</span>sink, *, <span style=\"color: #808000; text-decoration-color: #808000\">level</span>=<span style=\"color: #008000; text-decoration-color: #008000\">'DEBUG'</span>, <span style=\"color: #808000; text-decoration-color: #808000\">format</span>=<span style=\"color: #008000; text-decoration-color: #008000\">'&lt;green&gt;{time:YYYY-MM-DD HH:mm:ss.SSS}&lt;/green&gt; | </span>        <span style=\"color: #000080; text-decoration-color: #000080\">│</span>\n",
       "<span style=\"color: #000080; text-decoration-color: #000080\">│</span>                 <span style=\"color: #008000; text-decoration-color: #008000\">&lt;level&gt;{level: &lt;8}&lt;/level&gt; | &lt;cyan&gt;{name}&lt;/cyan&gt;:&lt;cyan&gt;{function}&lt;/cyan&gt;:&lt;cyan&gt;{line}&lt;/cyan&gt; - </span> <span style=\"color: #000080; text-decoration-color: #000080\">│</span>\n",
       "<span style=\"color: #000080; text-decoration-color: #000080\">│</span>                 <span style=\"color: #008000; text-decoration-color: #008000\">&lt;level&gt;{message}&lt;/level&gt;'</span>, <span style=\"color: #808000; text-decoration-color: #808000\">filter</span>=<span style=\"color: #800080; text-decoration-color: #800080; font-style: italic\">None</span>, <span style=\"color: #808000; text-decoration-color: #808000\">colorize</span>=<span style=\"color: #800080; text-decoration-color: #800080; font-style: italic\">None</span>, <span style=\"color: #808000; text-decoration-color: #808000\">serialize</span>=<span style=\"color: #ff0000; text-decoration-color: #ff0000; font-style: italic\">False</span>, <span style=\"color: #808000; text-decoration-color: #808000\">backtrace</span>=<span style=\"color: #00ff00; text-decoration-color: #00ff00; font-style: italic\">True</span>,         <span style=\"color: #000080; text-decoration-color: #000080\">│</span>\n",
       "<span style=\"color: #000080; text-decoration-color: #000080\">│</span>                 <span style=\"color: #808000; text-decoration-color: #808000\">diagnose</span>=<span style=\"color: #00ff00; text-decoration-color: #00ff00; font-style: italic\">True</span>, <span style=\"color: #808000; text-decoration-color: #808000\">enqueue</span>=<span style=\"color: #ff0000; text-decoration-color: #ff0000; font-style: italic\">False</span>, <span style=\"color: #808000; text-decoration-color: #808000\">context</span>=<span style=\"color: #800080; text-decoration-color: #800080; font-style: italic\">None</span>, <span style=\"color: #808000; text-decoration-color: #808000\">catch</span>=<span style=\"color: #00ff00; text-decoration-color: #00ff00; font-style: italic\">True</span>, **kwargs<span style=\"font-weight: bold\">)</span>: <span style=\"color: #7f7f7f; text-decoration-color: #7f7f7f\">Add a handler sending log </span>   <span style=\"color: #000080; text-decoration-color: #000080\">│</span>\n",
       "<span style=\"color: #000080; text-decoration-color: #000080\">│</span>                 <span style=\"color: #7f7f7f; text-decoration-color: #7f7f7f\">messages to a sink adequately configured.</span>                                                       <span style=\"color: #000080; text-decoration-color: #000080\">│</span>\n",
       "<span style=\"color: #000080; text-decoration-color: #000080\">│</span>          <span style=\"color: #808000; text-decoration-color: #808000; font-style: italic\">bind</span> = <span style=\"color: #00ffff; text-decoration-color: #00ffff; font-style: italic\">def </span><span style=\"color: #800000; text-decoration-color: #800000; font-weight: bold\">bind</span><span style=\"font-weight: bold\">(</span>**kwargs<span style=\"font-weight: bold\">)</span>: <span style=\"color: #7f7f7f; text-decoration-color: #7f7f7f\">Bind attributes to the ``extra`` dict of each logged message record.</span>        <span style=\"color: #000080; text-decoration-color: #000080\">│</span>\n",
       "<span style=\"color: #000080; text-decoration-color: #000080\">│</span>         <span style=\"color: #808000; text-decoration-color: #808000; font-style: italic\">catch</span> = <span style=\"color: #00ffff; text-decoration-color: #00ffff; font-style: italic\">def </span><span style=\"color: #800000; text-decoration-color: #800000; font-weight: bold\">catch</span><span style=\"font-weight: bold\">(</span><span style=\"color: #808000; text-decoration-color: #808000\">exception</span>=<span style=\"font-weight: bold\">&lt;</span><span style=\"color: #ff00ff; text-decoration-color: #ff00ff; font-weight: bold\">class</span><span style=\"color: #000000; text-decoration-color: #000000\"> </span><span style=\"color: #008000; text-decoration-color: #008000\">'Exception'</span><span style=\"font-weight: bold\">&gt;</span>, *, <span style=\"color: #808000; text-decoration-color: #808000\">level</span>=<span style=\"color: #008000; text-decoration-color: #008000\">'ERROR'</span>, <span style=\"color: #808000; text-decoration-color: #808000\">reraise</span>=<span style=\"color: #ff0000; text-decoration-color: #ff0000; font-style: italic\">False</span>, <span style=\"color: #808000; text-decoration-color: #808000\">onerror</span>=<span style=\"color: #800080; text-decoration-color: #800080; font-style: italic\">None</span>,         <span style=\"color: #000080; text-decoration-color: #000080\">│</span>\n",
       "<span style=\"color: #000080; text-decoration-color: #000080\">│</span>                 <span style=\"color: #808000; text-decoration-color: #808000\">exclude</span>=<span style=\"color: #800080; text-decoration-color: #800080; font-style: italic\">None</span>, <span style=\"color: #808000; text-decoration-color: #808000\">default</span>=<span style=\"color: #800080; text-decoration-color: #800080; font-style: italic\">None</span>, <span style=\"color: #808000; text-decoration-color: #808000\">message</span>=<span style=\"color: #008000; text-decoration-color: #008000\">\"An error has been caught in function '{record[function]}',</span> <span style=\"color: #000080; text-decoration-color: #000080\">│</span>\n",
       "<span style=\"color: #000080; text-decoration-color: #000080\">│</span>                 <span style=\"color: #008000; text-decoration-color: #008000\">process '{record[process].name}' ({record[process].id}), thread '{record[thread].name}' </span>        <span style=\"color: #000080; text-decoration-color: #000080\">│</span>\n",
       "<span style=\"color: #000080; text-decoration-color: #000080\">│</span>                 <span style=\"color: #008000; text-decoration-color: #008000\">({record[thread].id}):\"</span><span style=\"font-weight: bold\">)</span>: <span style=\"color: #7f7f7f; text-decoration-color: #7f7f7f\">Return a decorator to automatically log possibly caught error in </span>     <span style=\"color: #000080; text-decoration-color: #000080\">│</span>\n",
       "<span style=\"color: #000080; text-decoration-color: #000080\">│</span>                 <span style=\"color: #7f7f7f; text-decoration-color: #7f7f7f\">wrapped function.</span>                                                                               <span style=\"color: #000080; text-decoration-color: #000080\">│</span>\n",
       "<span style=\"color: #000080; text-decoration-color: #000080\">│</span>      <span style=\"color: #808000; text-decoration-color: #808000; font-style: italic\">complete</span> = <span style=\"color: #00ffff; text-decoration-color: #00ffff; font-style: italic\">def </span><span style=\"color: #800000; text-decoration-color: #800000; font-weight: bold\">complete</span><span style=\"font-weight: bold\">()</span>: <span style=\"color: #7f7f7f; text-decoration-color: #7f7f7f\">Wait for the end of enqueued messages and asynchronous tasks scheduled by </span>      <span style=\"color: #000080; text-decoration-color: #000080\">│</span>\n",
       "<span style=\"color: #000080; text-decoration-color: #000080\">│</span>                 <span style=\"color: #7f7f7f; text-decoration-color: #7f7f7f\">handlers.</span>                                                                                       <span style=\"color: #000080; text-decoration-color: #000080\">│</span>\n",
       "<span style=\"color: #000080; text-decoration-color: #000080\">│</span>     <span style=\"color: #808000; text-decoration-color: #808000; font-style: italic\">configure</span> = <span style=\"color: #00ffff; text-decoration-color: #00ffff; font-style: italic\">def </span><span style=\"color: #800000; text-decoration-color: #800000; font-weight: bold\">configure</span><span style=\"font-weight: bold\">(</span>*, <span style=\"color: #808000; text-decoration-color: #808000\">handlers</span>=<span style=\"color: #800080; text-decoration-color: #800080; font-style: italic\">None</span>, <span style=\"color: #808000; text-decoration-color: #808000\">levels</span>=<span style=\"color: #800080; text-decoration-color: #800080; font-style: italic\">None</span>, <span style=\"color: #808000; text-decoration-color: #808000\">extra</span>=<span style=\"color: #800080; text-decoration-color: #800080; font-style: italic\">None</span>, <span style=\"color: #808000; text-decoration-color: #808000\">patcher</span>=<span style=\"color: #800080; text-decoration-color: #800080; font-style: italic\">None</span>, <span style=\"color: #808000; text-decoration-color: #808000\">activation</span>=<span style=\"color: #800080; text-decoration-color: #800080; font-style: italic\">None</span><span style=\"font-weight: bold\">)</span>:        <span style=\"color: #000080; text-decoration-color: #000080\">│</span>\n",
       "<span style=\"color: #000080; text-decoration-color: #000080\">│</span>                 <span style=\"color: #7f7f7f; text-decoration-color: #7f7f7f\">Configure the core logger.</span>                                                                      <span style=\"color: #000080; text-decoration-color: #000080\">│</span>\n",
       "<span style=\"color: #000080; text-decoration-color: #000080\">│</span> <span style=\"color: #808000; text-decoration-color: #808000; font-style: italic\">contextualize</span> = <span style=\"color: #00ffff; text-decoration-color: #00ffff; font-style: italic\">def </span><span style=\"color: #800000; text-decoration-color: #800000; font-weight: bold\">contextualize</span><span style=\"font-weight: bold\">(</span>**kwargs<span style=\"font-weight: bold\">)</span>: <span style=\"color: #7f7f7f; text-decoration-color: #7f7f7f\">Bind attributes to the context-local ``extra`` dict while inside </span>  <span style=\"color: #000080; text-decoration-color: #000080\">│</span>\n",
       "<span style=\"color: #000080; text-decoration-color: #000080\">│</span>                 <span style=\"color: #7f7f7f; text-decoration-color: #7f7f7f\">the ``with`` block.</span>                                                                             <span style=\"color: #000080; text-decoration-color: #000080\">│</span>\n",
       "<span style=\"color: #000080; text-decoration-color: #000080\">│</span>      <span style=\"color: #808000; text-decoration-color: #808000; font-style: italic\">critical</span> = <span style=\"color: #00ffff; text-decoration-color: #00ffff; font-style: italic\">def </span><span style=\"color: #800000; text-decoration-color: #800000; font-weight: bold\">critical</span><span style=\"font-weight: bold\">(</span>_Logger__message, *args, **kwargs<span style=\"font-weight: bold\">)</span>: <span style=\"color: #7f7f7f; text-decoration-color: #7f7f7f\">Log ``</span><span style=\"color: #bf7fbf; text-decoration-color: #bf7fbf; font-weight: bold\">message.format</span><span style=\"color: #7f7f7f; text-decoration-color: #7f7f7f; font-weight: bold\">(</span><span style=\"color: #7f7f7f; text-decoration-color: #7f7f7f\">*args, **kwargs</span><span style=\"color: #7f7f7f; text-decoration-color: #7f7f7f; font-weight: bold\">)</span><span style=\"color: #7f7f7f; text-decoration-color: #7f7f7f\">`` with </span>  <span style=\"color: #000080; text-decoration-color: #000080\">│</span>\n",
       "<span style=\"color: #000080; text-decoration-color: #000080\">│</span>                 <span style=\"color: #7f7f7f; text-decoration-color: #7f7f7f\">severity ``</span><span style=\"color: #7fbf7f; text-decoration-color: #7fbf7f\">'CRITICAL'</span><span style=\"color: #7f7f7f; text-decoration-color: #7f7f7f\">``.</span>                                                                        <span style=\"color: #000080; text-decoration-color: #000080\">│</span>\n",
       "<span style=\"color: #000080; text-decoration-color: #000080\">│</span>         <span style=\"color: #808000; text-decoration-color: #808000; font-style: italic\">debug</span> = <span style=\"color: #00ffff; text-decoration-color: #00ffff; font-style: italic\">def </span><span style=\"color: #800000; text-decoration-color: #800000; font-weight: bold\">debug</span><span style=\"font-weight: bold\">(</span>_Logger__message, *args, **kwargs<span style=\"font-weight: bold\">)</span>: <span style=\"color: #7f7f7f; text-decoration-color: #7f7f7f\">Log ``</span><span style=\"color: #bf7fbf; text-decoration-color: #bf7fbf; font-weight: bold\">message.format</span><span style=\"color: #7f7f7f; text-decoration-color: #7f7f7f; font-weight: bold\">(</span><span style=\"color: #7f7f7f; text-decoration-color: #7f7f7f\">*args, **kwargs</span><span style=\"color: #7f7f7f; text-decoration-color: #7f7f7f; font-weight: bold\">)</span><span style=\"color: #7f7f7f; text-decoration-color: #7f7f7f\">`` with </span>     <span style=\"color: #000080; text-decoration-color: #000080\">│</span>\n",
       "<span style=\"color: #000080; text-decoration-color: #000080\">│</span>                 <span style=\"color: #7f7f7f; text-decoration-color: #7f7f7f\">severity ``</span><span style=\"color: #7fbf7f; text-decoration-color: #7fbf7f\">'DEBUG'</span><span style=\"color: #7f7f7f; text-decoration-color: #7f7f7f\">``.</span>                                                                           <span style=\"color: #000080; text-decoration-color: #000080\">│</span>\n",
       "<span style=\"color: #000080; text-decoration-color: #000080\">│</span>       <span style=\"color: #808000; text-decoration-color: #808000; font-style: italic\">disable</span> = <span style=\"color: #00ffff; text-decoration-color: #00ffff; font-style: italic\">def </span><span style=\"color: #800000; text-decoration-color: #800000; font-weight: bold\">disable</span><span style=\"font-weight: bold\">(</span>name<span style=\"font-weight: bold\">)</span>: <span style=\"color: #7f7f7f; text-decoration-color: #7f7f7f\">Disable logging of messages coming from ``name`` module and its children.</span>    <span style=\"color: #000080; text-decoration-color: #000080\">│</span>\n",
       "<span style=\"color: #000080; text-decoration-color: #000080\">│</span>        <span style=\"color: #808000; text-decoration-color: #808000; font-style: italic\">enable</span> = <span style=\"color: #00ffff; text-decoration-color: #00ffff; font-style: italic\">def </span><span style=\"color: #800000; text-decoration-color: #800000; font-weight: bold\">enable</span><span style=\"font-weight: bold\">(</span>name<span style=\"font-weight: bold\">)</span>: <span style=\"color: #7f7f7f; text-decoration-color: #7f7f7f\">Enable logging of messages coming from ``name`` module and its children.</span>      <span style=\"color: #000080; text-decoration-color: #000080\">│</span>\n",
       "<span style=\"color: #000080; text-decoration-color: #000080\">│</span>         <span style=\"color: #808000; text-decoration-color: #808000; font-style: italic\">error</span> = <span style=\"color: #00ffff; text-decoration-color: #00ffff; font-style: italic\">def </span><span style=\"color: #800000; text-decoration-color: #800000; font-weight: bold\">error</span><span style=\"font-weight: bold\">(</span>_Logger__message, *args, **kwargs<span style=\"font-weight: bold\">)</span>: <span style=\"color: #7f7f7f; text-decoration-color: #7f7f7f\">Log ``</span><span style=\"color: #bf7fbf; text-decoration-color: #bf7fbf; font-weight: bold\">message.format</span><span style=\"color: #7f7f7f; text-decoration-color: #7f7f7f; font-weight: bold\">(</span><span style=\"color: #7f7f7f; text-decoration-color: #7f7f7f\">*args, **kwargs</span><span style=\"color: #7f7f7f; text-decoration-color: #7f7f7f; font-weight: bold\">)</span><span style=\"color: #7f7f7f; text-decoration-color: #7f7f7f\">`` with </span>     <span style=\"color: #000080; text-decoration-color: #000080\">│</span>\n",
       "<span style=\"color: #000080; text-decoration-color: #000080\">│</span>                 <span style=\"color: #7f7f7f; text-decoration-color: #7f7f7f\">severity ``</span><span style=\"color: #7fbf7f; text-decoration-color: #7fbf7f\">'ERROR'</span><span style=\"color: #7f7f7f; text-decoration-color: #7f7f7f\">``.</span>                                                                           <span style=\"color: #000080; text-decoration-color: #000080\">│</span>\n",
       "<span style=\"color: #000080; text-decoration-color: #000080\">│</span>     <span style=\"color: #808000; text-decoration-color: #808000; font-style: italic\">exception</span> = <span style=\"color: #00ffff; text-decoration-color: #00ffff; font-style: italic\">def </span><span style=\"color: #800000; text-decoration-color: #800000; font-weight: bold\">exception</span><span style=\"font-weight: bold\">(</span>_Logger__message, *args, **kwargs<span style=\"font-weight: bold\">)</span>: <span style=\"color: #7f7f7f; text-decoration-color: #7f7f7f\">Convenience method for logging an ``</span><span style=\"color: #7fbf7f; text-decoration-color: #7fbf7f\">'ERROR'</span><span style=\"color: #7f7f7f; text-decoration-color: #7f7f7f\">``</span> <span style=\"color: #000080; text-decoration-color: #000080\">│</span>\n",
       "<span style=\"color: #000080; text-decoration-color: #000080\">│</span>                 <span style=\"color: #7f7f7f; text-decoration-color: #7f7f7f\">with exception information.</span>                                                                     <span style=\"color: #000080; text-decoration-color: #000080\">│</span>\n",
       "<span style=\"color: #000080; text-decoration-color: #000080\">│</span>          <span style=\"color: #808000; text-decoration-color: #808000; font-style: italic\">info</span> = <span style=\"color: #00ffff; text-decoration-color: #00ffff; font-style: italic\">def </span><span style=\"color: #800000; text-decoration-color: #800000; font-weight: bold\">info</span><span style=\"font-weight: bold\">(</span>_Logger__message, *args, **kwargs<span style=\"font-weight: bold\">)</span>: <span style=\"color: #7f7f7f; text-decoration-color: #7f7f7f\">Log ``</span><span style=\"color: #bf7fbf; text-decoration-color: #bf7fbf; font-weight: bold\">message.format</span><span style=\"color: #7f7f7f; text-decoration-color: #7f7f7f; font-weight: bold\">(</span><span style=\"color: #7f7f7f; text-decoration-color: #7f7f7f\">*args, **kwargs</span><span style=\"color: #7f7f7f; text-decoration-color: #7f7f7f; font-weight: bold\">)</span><span style=\"color: #7f7f7f; text-decoration-color: #7f7f7f\">`` with </span>      <span style=\"color: #000080; text-decoration-color: #000080\">│</span>\n",
       "<span style=\"color: #000080; text-decoration-color: #000080\">│</span>                 <span style=\"color: #7f7f7f; text-decoration-color: #7f7f7f\">severity ``</span><span style=\"color: #7fbf7f; text-decoration-color: #7fbf7f\">'INFO'</span><span style=\"color: #7f7f7f; text-decoration-color: #7f7f7f\">``.</span>                                                                            <span style=\"color: #000080; text-decoration-color: #000080\">│</span>\n",
       "<span style=\"color: #000080; text-decoration-color: #000080\">│</span>         <span style=\"color: #808000; text-decoration-color: #808000; font-style: italic\">level</span> = <span style=\"color: #00ffff; text-decoration-color: #00ffff; font-style: italic\">def </span><span style=\"color: #800000; text-decoration-color: #800000; font-weight: bold\">level</span><span style=\"font-weight: bold\">(</span>name, <span style=\"color: #808000; text-decoration-color: #808000\">no</span>=<span style=\"color: #800080; text-decoration-color: #800080; font-style: italic\">None</span>, <span style=\"color: #808000; text-decoration-color: #808000\">color</span>=<span style=\"color: #800080; text-decoration-color: #800080; font-style: italic\">None</span>, <span style=\"color: #808000; text-decoration-color: #808000\">icon</span>=<span style=\"color: #800080; text-decoration-color: #800080; font-style: italic\">None</span><span style=\"font-weight: bold\">)</span>: <span style=\"color: #7f7f7f; text-decoration-color: #7f7f7f\">Add, update or retrieve a logging level.</span>       <span style=\"color: #000080; text-decoration-color: #000080\">│</span>\n",
       "<span style=\"color: #000080; text-decoration-color: #000080\">│</span>           <span style=\"color: #808000; text-decoration-color: #808000; font-style: italic\">log</span> = <span style=\"color: #00ffff; text-decoration-color: #00ffff; font-style: italic\">def </span><span style=\"color: #800000; text-decoration-color: #800000; font-weight: bold\">log</span><span style=\"font-weight: bold\">(</span>_Logger__level, _Logger__message, *args, **kwargs<span style=\"font-weight: bold\">)</span>: <span style=\"color: #7f7f7f; text-decoration-color: #7f7f7f\">Log ``</span><span style=\"color: #bf7fbf; text-decoration-color: #bf7fbf; font-weight: bold\">message.format</span><span style=\"color: #7f7f7f; text-decoration-color: #7f7f7f; font-weight: bold\">(</span><span style=\"color: #7f7f7f; text-decoration-color: #7f7f7f\">*args, </span>        <span style=\"color: #000080; text-decoration-color: #000080\">│</span>\n",
       "<span style=\"color: #000080; text-decoration-color: #000080\">│</span>                 <span style=\"color: #7f7f7f; text-decoration-color: #7f7f7f\">**kwargs</span><span style=\"color: #7f7f7f; text-decoration-color: #7f7f7f; font-weight: bold\">)</span><span style=\"color: #7f7f7f; text-decoration-color: #7f7f7f\">`` with severity ``level``.</span>                                                            <span style=\"color: #000080; text-decoration-color: #000080\">│</span>\n",
       "<span style=\"color: #000080; text-decoration-color: #000080\">│</span>           <span style=\"color: #808000; text-decoration-color: #808000; font-style: italic\">opt</span> = <span style=\"color: #00ffff; text-decoration-color: #00ffff; font-style: italic\">def </span><span style=\"color: #800000; text-decoration-color: #800000; font-weight: bold\">opt</span><span style=\"font-weight: bold\">(</span>*, <span style=\"color: #808000; text-decoration-color: #808000\">exception</span>=<span style=\"color: #800080; text-decoration-color: #800080; font-style: italic\">None</span>, <span style=\"color: #808000; text-decoration-color: #808000\">record</span>=<span style=\"color: #ff0000; text-decoration-color: #ff0000; font-style: italic\">False</span>, <span style=\"color: #808000; text-decoration-color: #808000\">lazy</span>=<span style=\"color: #ff0000; text-decoration-color: #ff0000; font-style: italic\">False</span>, <span style=\"color: #808000; text-decoration-color: #808000\">colors</span>=<span style=\"color: #ff0000; text-decoration-color: #ff0000; font-style: italic\">False</span>, <span style=\"color: #808000; text-decoration-color: #808000\">raw</span>=<span style=\"color: #ff0000; text-decoration-color: #ff0000; font-style: italic\">False</span>, <span style=\"color: #808000; text-decoration-color: #808000\">capture</span>=<span style=\"color: #00ff00; text-decoration-color: #00ff00; font-style: italic\">True</span>,     <span style=\"color: #000080; text-decoration-color: #000080\">│</span>\n",
       "<span style=\"color: #000080; text-decoration-color: #000080\">│</span>                 <span style=\"color: #808000; text-decoration-color: #808000\">depth</span>=<span style=\"color: #008080; text-decoration-color: #008080; font-weight: bold\">0</span>, <span style=\"color: #808000; text-decoration-color: #808000\">ansi</span>=<span style=\"color: #ff0000; text-decoration-color: #ff0000; font-style: italic\">False</span><span style=\"font-weight: bold\">)</span>: <span style=\"color: #7f7f7f; text-decoration-color: #7f7f7f\">Parametrize a logging call to slightly change generated log message.</span>      <span style=\"color: #000080; text-decoration-color: #000080\">│</span>\n",
       "<span style=\"color: #000080; text-decoration-color: #000080\">│</span>         <span style=\"color: #808000; text-decoration-color: #808000; font-style: italic\">parse</span> = <span style=\"color: #00ffff; text-decoration-color: #00ffff; font-style: italic\">def </span><span style=\"color: #800000; text-decoration-color: #800000; font-weight: bold\">parse</span><span style=\"font-weight: bold\">(</span>file, pattern, *, <span style=\"color: #808000; text-decoration-color: #808000\">cast</span>=<span style=\"font-weight: bold\">{}</span>, <span style=\"color: #808000; text-decoration-color: #808000\">chunk</span>=<span style=\"color: #008080; text-decoration-color: #008080; font-weight: bold\">65536</span><span style=\"font-weight: bold\">)</span>: <span style=\"color: #7f7f7f; text-decoration-color: #7f7f7f\">Parse raw logs and extract each entry as a </span>  <span style=\"color: #000080; text-decoration-color: #000080\">│</span>\n",
       "<span style=\"color: #000080; text-decoration-color: #000080\">│</span>                 <span style=\"color: #7f7f7f; text-decoration-color: #7f7f7f\">|dict|.</span>                                                                                         <span style=\"color: #000080; text-decoration-color: #000080\">│</span>\n",
       "<span style=\"color: #000080; text-decoration-color: #000080\">│</span>         <span style=\"color: #808000; text-decoration-color: #808000; font-style: italic\">patch</span> = <span style=\"color: #00ffff; text-decoration-color: #00ffff; font-style: italic\">def </span><span style=\"color: #800000; text-decoration-color: #800000; font-weight: bold\">patch</span><span style=\"font-weight: bold\">(</span>patcher<span style=\"font-weight: bold\">)</span>: <span style=\"color: #7f7f7f; text-decoration-color: #7f7f7f\">Attach a function to modify the record dict created by each logging call.</span>   <span style=\"color: #000080; text-decoration-color: #000080\">│</span>\n",
       "<span style=\"color: #000080; text-decoration-color: #000080\">│</span>        <span style=\"color: #808000; text-decoration-color: #808000; font-style: italic\">remove</span> = <span style=\"color: #00ffff; text-decoration-color: #00ffff; font-style: italic\">def </span><span style=\"color: #800000; text-decoration-color: #800000; font-weight: bold\">remove</span><span style=\"font-weight: bold\">(</span><span style=\"color: #808000; text-decoration-color: #808000\">handler_id</span>=<span style=\"color: #800080; text-decoration-color: #800080; font-style: italic\">None</span><span style=\"font-weight: bold\">)</span>: <span style=\"color: #7f7f7f; text-decoration-color: #7f7f7f\">Remove a previously added handler and stop sending logs to its </span>    <span style=\"color: #000080; text-decoration-color: #000080\">│</span>\n",
       "<span style=\"color: #000080; text-decoration-color: #000080\">│</span>                 <span style=\"color: #7f7f7f; text-decoration-color: #7f7f7f\">sink.</span>                                                                                           <span style=\"color: #000080; text-decoration-color: #000080\">│</span>\n",
       "<span style=\"color: #000080; text-decoration-color: #000080\">│</span>         <span style=\"color: #808000; text-decoration-color: #808000; font-style: italic\">start</span> = <span style=\"color: #00ffff; text-decoration-color: #00ffff; font-style: italic\">def </span><span style=\"color: #800000; text-decoration-color: #800000; font-weight: bold\">start</span><span style=\"font-weight: bold\">(</span>*args, **kwargs<span style=\"font-weight: bold\">)</span>: <span style=\"color: #7f7f7f; text-decoration-color: #7f7f7f\">Deprecated function to |add| a new handler.</span>                         <span style=\"color: #000080; text-decoration-color: #000080\">│</span>\n",
       "<span style=\"color: #000080; text-decoration-color: #000080\">│</span>          <span style=\"color: #808000; text-decoration-color: #808000; font-style: italic\">stop</span> = <span style=\"color: #00ffff; text-decoration-color: #00ffff; font-style: italic\">def </span><span style=\"color: #800000; text-decoration-color: #800000; font-weight: bold\">stop</span><span style=\"font-weight: bold\">(</span>*args, **kwargs<span style=\"font-weight: bold\">)</span>: <span style=\"color: #7f7f7f; text-decoration-color: #7f7f7f\">Deprecated function to |remove| an existing handler.</span>                 <span style=\"color: #000080; text-decoration-color: #000080\">│</span>\n",
       "<span style=\"color: #000080; text-decoration-color: #000080\">│</span>       <span style=\"color: #808000; text-decoration-color: #808000; font-style: italic\">success</span> = <span style=\"color: #00ffff; text-decoration-color: #00ffff; font-style: italic\">def </span><span style=\"color: #800000; text-decoration-color: #800000; font-weight: bold\">success</span><span style=\"font-weight: bold\">(</span>_Logger__message, *args, **kwargs<span style=\"font-weight: bold\">)</span>: <span style=\"color: #7f7f7f; text-decoration-color: #7f7f7f\">Log ``</span><span style=\"color: #bf7fbf; text-decoration-color: #bf7fbf; font-weight: bold\">message.format</span><span style=\"color: #7f7f7f; text-decoration-color: #7f7f7f; font-weight: bold\">(</span><span style=\"color: #7f7f7f; text-decoration-color: #7f7f7f\">*args, **kwargs</span><span style=\"color: #7f7f7f; text-decoration-color: #7f7f7f; font-weight: bold\">)</span><span style=\"color: #7f7f7f; text-decoration-color: #7f7f7f\">`` with </span>   <span style=\"color: #000080; text-decoration-color: #000080\">│</span>\n",
       "<span style=\"color: #000080; text-decoration-color: #000080\">│</span>                 <span style=\"color: #7f7f7f; text-decoration-color: #7f7f7f\">severity ``</span><span style=\"color: #7fbf7f; text-decoration-color: #7fbf7f\">'SUCCESS'</span><span style=\"color: #7f7f7f; text-decoration-color: #7f7f7f\">``.</span>                                                                         <span style=\"color: #000080; text-decoration-color: #000080\">│</span>\n",
       "<span style=\"color: #000080; text-decoration-color: #000080\">│</span>         <span style=\"color: #808000; text-decoration-color: #808000; font-style: italic\">trace</span> = <span style=\"color: #00ffff; text-decoration-color: #00ffff; font-style: italic\">def </span><span style=\"color: #800000; text-decoration-color: #800000; font-weight: bold\">trace</span><span style=\"font-weight: bold\">(</span>_Logger__message, *args, **kwargs<span style=\"font-weight: bold\">)</span>: <span style=\"color: #7f7f7f; text-decoration-color: #7f7f7f\">Log ``</span><span style=\"color: #bf7fbf; text-decoration-color: #bf7fbf; font-weight: bold\">message.format</span><span style=\"color: #7f7f7f; text-decoration-color: #7f7f7f; font-weight: bold\">(</span><span style=\"color: #7f7f7f; text-decoration-color: #7f7f7f\">*args, **kwargs</span><span style=\"color: #7f7f7f; text-decoration-color: #7f7f7f; font-weight: bold\">)</span><span style=\"color: #7f7f7f; text-decoration-color: #7f7f7f\">`` with </span>     <span style=\"color: #000080; text-decoration-color: #000080\">│</span>\n",
       "<span style=\"color: #000080; text-decoration-color: #000080\">│</span>                 <span style=\"color: #7f7f7f; text-decoration-color: #7f7f7f\">severity ``</span><span style=\"color: #7fbf7f; text-decoration-color: #7fbf7f\">'TRACE'</span><span style=\"color: #7f7f7f; text-decoration-color: #7f7f7f\">``.</span>                                                                           <span style=\"color: #000080; text-decoration-color: #000080\">│</span>\n",
       "<span style=\"color: #000080; text-decoration-color: #000080\">│</span>       <span style=\"color: #808000; text-decoration-color: #808000; font-style: italic\">warning</span> = <span style=\"color: #00ffff; text-decoration-color: #00ffff; font-style: italic\">def </span><span style=\"color: #800000; text-decoration-color: #800000; font-weight: bold\">warning</span><span style=\"font-weight: bold\">(</span>_Logger__message, *args, **kwargs<span style=\"font-weight: bold\">)</span>: <span style=\"color: #7f7f7f; text-decoration-color: #7f7f7f\">Log ``</span><span style=\"color: #bf7fbf; text-decoration-color: #bf7fbf; font-weight: bold\">message.format</span><span style=\"color: #7f7f7f; text-decoration-color: #7f7f7f; font-weight: bold\">(</span><span style=\"color: #7f7f7f; text-decoration-color: #7f7f7f\">*args, **kwargs</span><span style=\"color: #7f7f7f; text-decoration-color: #7f7f7f; font-weight: bold\">)</span><span style=\"color: #7f7f7f; text-decoration-color: #7f7f7f\">`` with </span>   <span style=\"color: #000080; text-decoration-color: #000080\">│</span>\n",
       "<span style=\"color: #000080; text-decoration-color: #000080\">│</span>                 <span style=\"color: #7f7f7f; text-decoration-color: #7f7f7f\">severity ``</span><span style=\"color: #7fbf7f; text-decoration-color: #7fbf7f\">'WARNING'</span><span style=\"color: #7f7f7f; text-decoration-color: #7f7f7f\">``.</span>                                                                         <span style=\"color: #000080; text-decoration-color: #000080\">│</span>\n",
       "<span style=\"color: #000080; text-decoration-color: #000080\">╰─────────────────────────────────────────────────────────────────────────────────────────────────────────────────╯</span>\n",
       "</pre>\n"
      ],
      "text/plain": [
       "\u001b[34m╭─\u001b[0m\u001b[34m───────────────────────────────────────\u001b[0m\u001b[34m \u001b[0m\u001b[1;34m<\u001b[0m\u001b[1;95mclass\u001b[0m\u001b[39m \u001b[0m\u001b[32m'loguru._logger.Logger'\u001b[0m\u001b[1;34m>\u001b[0m\u001b[34m \u001b[0m\u001b[34m───────────────────────────────────────\u001b[0m\u001b[34m─╮\u001b[0m\n",
       "\u001b[34m│\u001b[0m \u001b[36mAn object to dispatch logging messages to configured handlers.\u001b[0m                                                  \u001b[34m│\u001b[0m\n",
       "\u001b[34m│\u001b[0m                                                                                                                 \u001b[34m│\u001b[0m\n",
       "\u001b[34m│\u001b[0m \u001b[32m╭─────────────────────────────────────────────────────────────────────────────────────────────────────────────╮\u001b[0m \u001b[34m│\u001b[0m\n",
       "\u001b[34m│\u001b[0m \u001b[32m│\u001b[0m \u001b[1m<\u001b[0m\u001b[1;95mloguru.logger\u001b[0m\u001b[39m \u001b[0m\u001b[33mhandlers\u001b[0m\u001b[39m=\u001b[0m\u001b[1;39m[\u001b[0m\u001b[1;39m(\u001b[0m\u001b[33mid\u001b[0m\u001b[39m=\u001b[0m\u001b[1;36m1\u001b[0m\u001b[39m, \u001b[0m\u001b[33mlevel\u001b[0m\u001b[39m=\u001b[0m\u001b[1;36m20\u001b[0m\u001b[39m, \u001b[0m\u001b[33msink\u001b[0m\u001b[39m=\u001b[0m\u001b[35mstdout\u001b[0m\u001b[1;39m)\u001b[0m\u001b[39m, \u001b[0m\u001b[1;39m(\u001b[0m\u001b[33mid\u001b[0m\u001b[39m=\u001b[0m\u001b[1;36m2\u001b[0m\u001b[39m, \u001b[0m\u001b[33mlevel\u001b[0m\u001b[39m=\u001b[0m\u001b[1;36m40\u001b[0m\u001b[39m, \u001b[0m\u001b[33msink\u001b[0m\u001b[39m=\u001b[0m\u001b[35mstderr\u001b[0m\u001b[1;39m)\u001b[0m\u001b[1;39m]\u001b[0m\u001b[1m>\u001b[0m                     \u001b[32m│\u001b[0m \u001b[34m│\u001b[0m\n",
       "\u001b[34m│\u001b[0m \u001b[32m╰─────────────────────────────────────────────────────────────────────────────────────────────────────────────╯\u001b[0m \u001b[34m│\u001b[0m\n",
       "\u001b[34m│\u001b[0m                                                                                                                 \u001b[34m│\u001b[0m\n",
       "\u001b[34m│\u001b[0m           \u001b[3;33madd\u001b[0m = \u001b[3;96mdef \u001b[0m\u001b[1;31madd\u001b[0m\u001b[1m(\u001b[0msink, *, \u001b[33mlevel\u001b[0m=\u001b[32m'DEBUG'\u001b[0m, \u001b[33mformat\u001b[0m=\u001b[32m'\u001b[0m\u001b[32m<\u001b[0m\u001b[32mgreen\u001b[0m\u001b[32m>\u001b[0m\u001b[32m{\u001b[0m\u001b[32mtime:YYYY-MM-DD HH:mm:ss.SSS\u001b[0m\u001b[32m}\u001b[0m\u001b[32m</green> | \u001b[0m        \u001b[34m│\u001b[0m\n",
       "\u001b[34m│\u001b[0m                 \u001b[32m<level>\u001b[0m\u001b[32m{\u001b[0m\u001b[32mlevel: <8\u001b[0m\u001b[32m}\u001b[0m\u001b[32m</level> | <cyan>\u001b[0m\u001b[32m{\u001b[0m\u001b[32mname\u001b[0m\u001b[32m}\u001b[0m\u001b[32m</cyan>:<cyan>\u001b[0m\u001b[32m{\u001b[0m\u001b[32mfunction\u001b[0m\u001b[32m}\u001b[0m\u001b[32m</cyan>:<cyan>\u001b[0m\u001b[32m{\u001b[0m\u001b[32mline\u001b[0m\u001b[32m}\u001b[0m\u001b[32m</cyan> - \u001b[0m \u001b[34m│\u001b[0m\n",
       "\u001b[34m│\u001b[0m                 \u001b[32m<level>\u001b[0m\u001b[32m{\u001b[0m\u001b[32mmessage\u001b[0m\u001b[32m}\u001b[0m\u001b[32m</level\u001b[0m\u001b[32m>\u001b[0m\u001b[32m'\u001b[0m, \u001b[33mfilter\u001b[0m=\u001b[3;35mNone\u001b[0m, \u001b[33mcolorize\u001b[0m=\u001b[3;35mNone\u001b[0m, \u001b[33mserialize\u001b[0m=\u001b[3;91mFalse\u001b[0m, \u001b[33mbacktrace\u001b[0m=\u001b[3;92mTrue\u001b[0m,         \u001b[34m│\u001b[0m\n",
       "\u001b[34m│\u001b[0m                 \u001b[33mdiagnose\u001b[0m=\u001b[3;92mTrue\u001b[0m, \u001b[33menqueue\u001b[0m=\u001b[3;91mFalse\u001b[0m, \u001b[33mcontext\u001b[0m=\u001b[3;35mNone\u001b[0m, \u001b[33mcatch\u001b[0m=\u001b[3;92mTrue\u001b[0m, **kwargs\u001b[1m)\u001b[0m: \u001b[2mAdd a handler sending log \u001b[0m   \u001b[34m│\u001b[0m\n",
       "\u001b[34m│\u001b[0m                 \u001b[2mmessages to a sink adequately configured.\u001b[0m                                                       \u001b[34m│\u001b[0m\n",
       "\u001b[34m│\u001b[0m          \u001b[3;33mbind\u001b[0m = \u001b[3;96mdef \u001b[0m\u001b[1;31mbind\u001b[0m\u001b[1m(\u001b[0m**kwargs\u001b[1m)\u001b[0m: \u001b[2mBind attributes to the ``extra`` dict of each logged message record.\u001b[0m        \u001b[34m│\u001b[0m\n",
       "\u001b[34m│\u001b[0m         \u001b[3;33mcatch\u001b[0m = \u001b[3;96mdef \u001b[0m\u001b[1;31mcatch\u001b[0m\u001b[1m(\u001b[0m\u001b[33mexception\u001b[0m=\u001b[1m<\u001b[0m\u001b[1;95mclass\u001b[0m\u001b[39m \u001b[0m\u001b[32m'Exception'\u001b[0m\u001b[1m>\u001b[0m, *, \u001b[33mlevel\u001b[0m=\u001b[32m'ERROR'\u001b[0m, \u001b[33mreraise\u001b[0m=\u001b[3;91mFalse\u001b[0m, \u001b[33monerror\u001b[0m=\u001b[3;35mNone\u001b[0m,         \u001b[34m│\u001b[0m\n",
       "\u001b[34m│\u001b[0m                 \u001b[33mexclude\u001b[0m=\u001b[3;35mNone\u001b[0m, \u001b[33mdefault\u001b[0m=\u001b[3;35mNone\u001b[0m, \u001b[33mmessage\u001b[0m=\u001b[32m\"An\u001b[0m\u001b[32m error has been caught in function '\u001b[0m\u001b[32m{\u001b[0m\u001b[32mrecord\u001b[0m\u001b[32m[\u001b[0m\u001b[32mfunction\u001b[0m\u001b[32m]\u001b[0m\u001b[32m}\u001b[0m\u001b[32m',\u001b[0m \u001b[34m│\u001b[0m\n",
       "\u001b[34m│\u001b[0m                 \u001b[32mprocess '\u001b[0m\u001b[32m{\u001b[0m\u001b[32mrecord\u001b[0m\u001b[32m[\u001b[0m\u001b[32mprocess\u001b[0m\u001b[32m]\u001b[0m\u001b[32m.name\u001b[0m\u001b[32m}\u001b[0m\u001b[32m' \u001b[0m\u001b[32m(\u001b[0m\u001b[32m{\u001b[0m\u001b[32mrecord\u001b[0m\u001b[32m[\u001b[0m\u001b[32mprocess\u001b[0m\u001b[32m]\u001b[0m\u001b[32m.id\u001b[0m\u001b[32m}\u001b[0m\u001b[32m)\u001b[0m\u001b[32m, thread '\u001b[0m\u001b[32m{\u001b[0m\u001b[32mrecord\u001b[0m\u001b[32m[\u001b[0m\u001b[32mthread\u001b[0m\u001b[32m]\u001b[0m\u001b[32m.name\u001b[0m\u001b[32m}\u001b[0m\u001b[32m' \u001b[0m        \u001b[34m│\u001b[0m\n",
       "\u001b[34m│\u001b[0m                 \u001b[32m(\u001b[0m\u001b[32m{\u001b[0m\u001b[32mrecord\u001b[0m\u001b[32m[\u001b[0m\u001b[32mthread\u001b[0m\u001b[32m]\u001b[0m\u001b[32m.id\u001b[0m\u001b[32m}\u001b[0m\u001b[32m)\u001b[0m\u001b[32m:\"\u001b[0m\u001b[1m)\u001b[0m: \u001b[2mReturn a decorator to automatically log possibly caught error in \u001b[0m     \u001b[34m│\u001b[0m\n",
       "\u001b[34m│\u001b[0m                 \u001b[2mwrapped function.\u001b[0m                                                                               \u001b[34m│\u001b[0m\n",
       "\u001b[34m│\u001b[0m      \u001b[3;33mcomplete\u001b[0m = \u001b[3;96mdef \u001b[0m\u001b[1;31mcomplete\u001b[0m\u001b[1m(\u001b[0m\u001b[1m)\u001b[0m: \u001b[2mWait for the end of enqueued messages and asynchronous tasks scheduled by \u001b[0m      \u001b[34m│\u001b[0m\n",
       "\u001b[34m│\u001b[0m                 \u001b[2mhandlers.\u001b[0m                                                                                       \u001b[34m│\u001b[0m\n",
       "\u001b[34m│\u001b[0m     \u001b[3;33mconfigure\u001b[0m = \u001b[3;96mdef \u001b[0m\u001b[1;31mconfigure\u001b[0m\u001b[1m(\u001b[0m*, \u001b[33mhandlers\u001b[0m=\u001b[3;35mNone\u001b[0m, \u001b[33mlevels\u001b[0m=\u001b[3;35mNone\u001b[0m, \u001b[33mextra\u001b[0m=\u001b[3;35mNone\u001b[0m, \u001b[33mpatcher\u001b[0m=\u001b[3;35mNone\u001b[0m, \u001b[33mactivation\u001b[0m=\u001b[3;35mNone\u001b[0m\u001b[1m)\u001b[0m:        \u001b[34m│\u001b[0m\n",
       "\u001b[34m│\u001b[0m                 \u001b[2mConfigure the core logger.\u001b[0m                                                                      \u001b[34m│\u001b[0m\n",
       "\u001b[34m│\u001b[0m \u001b[3;33mcontextualize\u001b[0m = \u001b[3;96mdef \u001b[0m\u001b[1;31mcontextualize\u001b[0m\u001b[1m(\u001b[0m**kwargs\u001b[1m)\u001b[0m: \u001b[2mBind attributes to the context-local ``extra`` dict while inside \u001b[0m  \u001b[34m│\u001b[0m\n",
       "\u001b[34m│\u001b[0m                 \u001b[2mthe ``with`` block.\u001b[0m                                                                             \u001b[34m│\u001b[0m\n",
       "\u001b[34m│\u001b[0m      \u001b[3;33mcritical\u001b[0m = \u001b[3;96mdef \u001b[0m\u001b[1;31mcritical\u001b[0m\u001b[1m(\u001b[0m_Logger__message, *args, **kwargs\u001b[1m)\u001b[0m: \u001b[2mLog ``\u001b[0m\u001b[1;2;35mmessage.format\u001b[0m\u001b[1;2m(\u001b[0m\u001b[2m*args, **kwargs\u001b[0m\u001b[1;2m)\u001b[0m\u001b[2m`` with \u001b[0m  \u001b[34m│\u001b[0m\n",
       "\u001b[34m│\u001b[0m                 \u001b[2mseverity ``\u001b[0m\u001b[2;32m'CRITICAL'\u001b[0m\u001b[2m``.\u001b[0m                                                                        \u001b[34m│\u001b[0m\n",
       "\u001b[34m│\u001b[0m         \u001b[3;33mdebug\u001b[0m = \u001b[3;96mdef \u001b[0m\u001b[1;31mdebug\u001b[0m\u001b[1m(\u001b[0m_Logger__message, *args, **kwargs\u001b[1m)\u001b[0m: \u001b[2mLog ``\u001b[0m\u001b[1;2;35mmessage.format\u001b[0m\u001b[1;2m(\u001b[0m\u001b[2m*args, **kwargs\u001b[0m\u001b[1;2m)\u001b[0m\u001b[2m`` with \u001b[0m     \u001b[34m│\u001b[0m\n",
       "\u001b[34m│\u001b[0m                 \u001b[2mseverity ``\u001b[0m\u001b[2;32m'DEBUG'\u001b[0m\u001b[2m``.\u001b[0m                                                                           \u001b[34m│\u001b[0m\n",
       "\u001b[34m│\u001b[0m       \u001b[3;33mdisable\u001b[0m = \u001b[3;96mdef \u001b[0m\u001b[1;31mdisable\u001b[0m\u001b[1m(\u001b[0mname\u001b[1m)\u001b[0m: \u001b[2mDisable logging of messages coming from ``name`` module and its children.\u001b[0m    \u001b[34m│\u001b[0m\n",
       "\u001b[34m│\u001b[0m        \u001b[3;33menable\u001b[0m = \u001b[3;96mdef \u001b[0m\u001b[1;31menable\u001b[0m\u001b[1m(\u001b[0mname\u001b[1m)\u001b[0m: \u001b[2mEnable logging of messages coming from ``name`` module and its children.\u001b[0m      \u001b[34m│\u001b[0m\n",
       "\u001b[34m│\u001b[0m         \u001b[3;33merror\u001b[0m = \u001b[3;96mdef \u001b[0m\u001b[1;31merror\u001b[0m\u001b[1m(\u001b[0m_Logger__message, *args, **kwargs\u001b[1m)\u001b[0m: \u001b[2mLog ``\u001b[0m\u001b[1;2;35mmessage.format\u001b[0m\u001b[1;2m(\u001b[0m\u001b[2m*args, **kwargs\u001b[0m\u001b[1;2m)\u001b[0m\u001b[2m`` with \u001b[0m     \u001b[34m│\u001b[0m\n",
       "\u001b[34m│\u001b[0m                 \u001b[2mseverity ``\u001b[0m\u001b[2;32m'ERROR'\u001b[0m\u001b[2m``.\u001b[0m                                                                           \u001b[34m│\u001b[0m\n",
       "\u001b[34m│\u001b[0m     \u001b[3;33mexception\u001b[0m = \u001b[3;96mdef \u001b[0m\u001b[1;31mexception\u001b[0m\u001b[1m(\u001b[0m_Logger__message, *args, **kwargs\u001b[1m)\u001b[0m: \u001b[2mConvenience method for logging an ``\u001b[0m\u001b[2;32m'ERROR'\u001b[0m\u001b[2m``\u001b[0m \u001b[34m│\u001b[0m\n",
       "\u001b[34m│\u001b[0m                 \u001b[2mwith exception information.\u001b[0m                                                                     \u001b[34m│\u001b[0m\n",
       "\u001b[34m│\u001b[0m          \u001b[3;33minfo\u001b[0m = \u001b[3;96mdef \u001b[0m\u001b[1;31minfo\u001b[0m\u001b[1m(\u001b[0m_Logger__message, *args, **kwargs\u001b[1m)\u001b[0m: \u001b[2mLog ``\u001b[0m\u001b[1;2;35mmessage.format\u001b[0m\u001b[1;2m(\u001b[0m\u001b[2m*args, **kwargs\u001b[0m\u001b[1;2m)\u001b[0m\u001b[2m`` with \u001b[0m      \u001b[34m│\u001b[0m\n",
       "\u001b[34m│\u001b[0m                 \u001b[2mseverity ``\u001b[0m\u001b[2;32m'INFO'\u001b[0m\u001b[2m``.\u001b[0m                                                                            \u001b[34m│\u001b[0m\n",
       "\u001b[34m│\u001b[0m         \u001b[3;33mlevel\u001b[0m = \u001b[3;96mdef \u001b[0m\u001b[1;31mlevel\u001b[0m\u001b[1m(\u001b[0mname, \u001b[33mno\u001b[0m=\u001b[3;35mNone\u001b[0m, \u001b[33mcolor\u001b[0m=\u001b[3;35mNone\u001b[0m, \u001b[33micon\u001b[0m=\u001b[3;35mNone\u001b[0m\u001b[1m)\u001b[0m: \u001b[2mAdd, update or retrieve a logging level.\u001b[0m       \u001b[34m│\u001b[0m\n",
       "\u001b[34m│\u001b[0m           \u001b[3;33mlog\u001b[0m = \u001b[3;96mdef \u001b[0m\u001b[1;31mlog\u001b[0m\u001b[1m(\u001b[0m_Logger__level, _Logger__message, *args, **kwargs\u001b[1m)\u001b[0m: \u001b[2mLog ``\u001b[0m\u001b[1;2;35mmessage.format\u001b[0m\u001b[1;2m(\u001b[0m\u001b[2m*args, \u001b[0m        \u001b[34m│\u001b[0m\n",
       "\u001b[34m│\u001b[0m                 \u001b[2m**kwargs\u001b[0m\u001b[1;2m)\u001b[0m\u001b[2m`` with severity ``level``.\u001b[0m                                                            \u001b[34m│\u001b[0m\n",
       "\u001b[34m│\u001b[0m           \u001b[3;33mopt\u001b[0m = \u001b[3;96mdef \u001b[0m\u001b[1;31mopt\u001b[0m\u001b[1m(\u001b[0m*, \u001b[33mexception\u001b[0m=\u001b[3;35mNone\u001b[0m, \u001b[33mrecord\u001b[0m=\u001b[3;91mFalse\u001b[0m, \u001b[33mlazy\u001b[0m=\u001b[3;91mFalse\u001b[0m, \u001b[33mcolors\u001b[0m=\u001b[3;91mFalse\u001b[0m, \u001b[33mraw\u001b[0m=\u001b[3;91mFalse\u001b[0m, \u001b[33mcapture\u001b[0m=\u001b[3;92mTrue\u001b[0m,     \u001b[34m│\u001b[0m\n",
       "\u001b[34m│\u001b[0m                 \u001b[33mdepth\u001b[0m=\u001b[1;36m0\u001b[0m, \u001b[33mansi\u001b[0m=\u001b[3;91mFalse\u001b[0m\u001b[1m)\u001b[0m: \u001b[2mParametrize a logging call to slightly change generated log message.\u001b[0m      \u001b[34m│\u001b[0m\n",
       "\u001b[34m│\u001b[0m         \u001b[3;33mparse\u001b[0m = \u001b[3;96mdef \u001b[0m\u001b[1;31mparse\u001b[0m\u001b[1m(\u001b[0mfile, pattern, *, \u001b[33mcast\u001b[0m=\u001b[1m{\u001b[0m\u001b[1m}\u001b[0m, \u001b[33mchunk\u001b[0m=\u001b[1;36m65536\u001b[0m\u001b[1m)\u001b[0m: \u001b[2mParse raw logs and extract each entry as a \u001b[0m  \u001b[34m│\u001b[0m\n",
       "\u001b[34m│\u001b[0m                 \u001b[2m|dict|.\u001b[0m                                                                                         \u001b[34m│\u001b[0m\n",
       "\u001b[34m│\u001b[0m         \u001b[3;33mpatch\u001b[0m = \u001b[3;96mdef \u001b[0m\u001b[1;31mpatch\u001b[0m\u001b[1m(\u001b[0mpatcher\u001b[1m)\u001b[0m: \u001b[2mAttach a function to modify the record dict created by each logging call.\u001b[0m   \u001b[34m│\u001b[0m\n",
       "\u001b[34m│\u001b[0m        \u001b[3;33mremove\u001b[0m = \u001b[3;96mdef \u001b[0m\u001b[1;31mremove\u001b[0m\u001b[1m(\u001b[0m\u001b[33mhandler_id\u001b[0m=\u001b[3;35mNone\u001b[0m\u001b[1m)\u001b[0m: \u001b[2mRemove a previously added handler and stop sending logs to its \u001b[0m    \u001b[34m│\u001b[0m\n",
       "\u001b[34m│\u001b[0m                 \u001b[2msink.\u001b[0m                                                                                           \u001b[34m│\u001b[0m\n",
       "\u001b[34m│\u001b[0m         \u001b[3;33mstart\u001b[0m = \u001b[3;96mdef \u001b[0m\u001b[1;31mstart\u001b[0m\u001b[1m(\u001b[0m*args, **kwargs\u001b[1m)\u001b[0m: \u001b[2mDeprecated function to |add| a new handler.\u001b[0m                         \u001b[34m│\u001b[0m\n",
       "\u001b[34m│\u001b[0m          \u001b[3;33mstop\u001b[0m = \u001b[3;96mdef \u001b[0m\u001b[1;31mstop\u001b[0m\u001b[1m(\u001b[0m*args, **kwargs\u001b[1m)\u001b[0m: \u001b[2mDeprecated function to |remove| an existing handler.\u001b[0m                 \u001b[34m│\u001b[0m\n",
       "\u001b[34m│\u001b[0m       \u001b[3;33msuccess\u001b[0m = \u001b[3;96mdef \u001b[0m\u001b[1;31msuccess\u001b[0m\u001b[1m(\u001b[0m_Logger__message, *args, **kwargs\u001b[1m)\u001b[0m: \u001b[2mLog ``\u001b[0m\u001b[1;2;35mmessage.format\u001b[0m\u001b[1;2m(\u001b[0m\u001b[2m*args, **kwargs\u001b[0m\u001b[1;2m)\u001b[0m\u001b[2m`` with \u001b[0m   \u001b[34m│\u001b[0m\n",
       "\u001b[34m│\u001b[0m                 \u001b[2mseverity ``\u001b[0m\u001b[2;32m'SUCCESS'\u001b[0m\u001b[2m``.\u001b[0m                                                                         \u001b[34m│\u001b[0m\n",
       "\u001b[34m│\u001b[0m         \u001b[3;33mtrace\u001b[0m = \u001b[3;96mdef \u001b[0m\u001b[1;31mtrace\u001b[0m\u001b[1m(\u001b[0m_Logger__message, *args, **kwargs\u001b[1m)\u001b[0m: \u001b[2mLog ``\u001b[0m\u001b[1;2;35mmessage.format\u001b[0m\u001b[1;2m(\u001b[0m\u001b[2m*args, **kwargs\u001b[0m\u001b[1;2m)\u001b[0m\u001b[2m`` with \u001b[0m     \u001b[34m│\u001b[0m\n",
       "\u001b[34m│\u001b[0m                 \u001b[2mseverity ``\u001b[0m\u001b[2;32m'TRACE'\u001b[0m\u001b[2m``.\u001b[0m                                                                           \u001b[34m│\u001b[0m\n",
       "\u001b[34m│\u001b[0m       \u001b[3;33mwarning\u001b[0m = \u001b[3;96mdef \u001b[0m\u001b[1;31mwarning\u001b[0m\u001b[1m(\u001b[0m_Logger__message, *args, **kwargs\u001b[1m)\u001b[0m: \u001b[2mLog ``\u001b[0m\u001b[1;2;35mmessage.format\u001b[0m\u001b[1;2m(\u001b[0m\u001b[2m*args, **kwargs\u001b[0m\u001b[1;2m)\u001b[0m\u001b[2m`` with \u001b[0m   \u001b[34m│\u001b[0m\n",
       "\u001b[34m│\u001b[0m                 \u001b[2mseverity ``\u001b[0m\u001b[2;32m'WARNING'\u001b[0m\u001b[2m``.\u001b[0m                                                                         \u001b[34m│\u001b[0m\n",
       "\u001b[34m╰─────────────────────────────────────────────────────────────────────────────────────────────────────────────────╯\u001b[0m\n"
      ]
     },
     "metadata": {},
     "output_type": "display_data"
    }
   ],
   "source": [
    "inspect(logger, methods=True)"
   ]
  },
  {
   "cell_type": "code",
   "execution_count": 11,
   "id": "1a74f908-ea61-43a4-be93-5ba32fb6bb5e",
   "metadata": {},
   "outputs": [
    {
     "name": "stdout",
     "output_type": "stream",
     "text": [
      "\u001b[32m2024-04-12 16:32:19.9766\u001b[0m | \u001b[1mINFO    \u001b[0m | \u001b[1mNow its that! 7\u001b[0m | \u001b[1m{'id': '7'}\u001b[0m | \u001b[36mM_3352173976\u001b[0m:\u001b[36mN___main__\u001b[0m:\u001b[36mf_<module>\u001b[0m:\u001b[36mline_11\u001b[0m | \u001b[35mt_1:05:48.388686\u001b[0m:\u001b[35mp_10640\u001b[0m:\u001b[35mth_19980\u001b[0m:\u001b[35mex_\u001b[0m | \n"
     ]
    }
   ],
   "source": [
    "logger.remove()\n",
    "my_format = \"{time:YYYY-MM-DD HH:mm:ss.SSSS!UTC} <level>| {level} | {message} |</level> {extra} | {elapsed} - {module} - {name} - {function} - {line} - {process} - {thread} - {exception}\"\n",
    "logger_format =(\n",
    "            \"<green>{time:YYYY-MM-DD HH:mm:ss.SSSS!UTC}</green> | \"\n",
    "            \"<level>{level: <8}</level> | \"\n",
    "            \"<level>{message}</level> | \"\n",
    "            \"<level>{extra}</level> | \"\n",
    "            \"<cyan>M_{module}</cyan>:<cyan>N_{name}</cyan>:<cyan>f_{function}</cyan>:<cyan>line_{line}</cyan> | \"\n",
    "            \"<m>t_{elapsed}</m>:<m>p_{process}</m>:<m>th_{thread}</m>:<m>ex_{exception}</m> | \")\n",
    "id = logger.add(sys.stdout, colorize=True, format=logger_format)\n",
    "logger.bind(id = str(id)).info(f\"Now its that! {id}\")"
   ]
  },
  {
   "cell_type": "code",
   "execution_count": 12,
   "id": "ed6ec603-79ab-4675-8dde-cb3fe5af4db2",
   "metadata": {},
   "outputs": [
    {
     "name": "stdout",
     "output_type": "stream",
     "text": [
      "\u001b[32m2024-04-12 16:32:23.0138\u001b[0m | \u001b[34m\u001b[1mDEBUG   \u001b[0m | \u001b[34m\u001b[1mmy first message\u001b[0m | \u001b[34m\u001b[1m{}\u001b[0m | \u001b[36mM_107586197\u001b[0m:\u001b[36mN___main__\u001b[0m:\u001b[36mf_<module>\u001b[0m:\u001b[36mline_1\u001b[0m | \u001b[35mt_1:05:51.425917\u001b[0m:\u001b[35mp_10640\u001b[0m:\u001b[35mth_19980\u001b[0m:\u001b[35mex_\u001b[0m | \n",
      "\u001b[32m2024-04-12 16:32:23.0158\u001b[0m | \u001b[1mINFO    \u001b[0m | \u001b[1mthis is how it looks\u001b[0m | \u001b[1m{}\u001b[0m | \u001b[36mM_107586197\u001b[0m:\u001b[36mN___main__\u001b[0m:\u001b[36mf_<module>\u001b[0m:\u001b[36mline_2\u001b[0m | \u001b[35mt_1:05:51.427920\u001b[0m:\u001b[35mp_10640\u001b[0m:\u001b[35mth_19980\u001b[0m:\u001b[35mex_\u001b[0m | \n",
      "\u001b[32m2024-04-12 16:32:23.0158\u001b[0m | \u001b[31m\u001b[1mERROR   \u001b[0m | \u001b[31m\u001b[1mwohoo\u001b[0m | \u001b[31m\u001b[1m{}\u001b[0m | \u001b[36mM_107586197\u001b[0m:\u001b[36mN___main__\u001b[0m:\u001b[36mf_<module>\u001b[0m:\u001b[36mline_3\u001b[0m | \u001b[35mt_1:05:51.427920\u001b[0m:\u001b[35mp_10640\u001b[0m:\u001b[35mth_19980\u001b[0m:\u001b[35mex_\u001b[0m | \n",
      "\u001b[32m2024-04-12 16:32:23.0170\u001b[0m | \u001b[41m\u001b[1mCRITICAL\u001b[0m | \u001b[41m\u001b[1mohhhhh\u001b[0m | \u001b[41m\u001b[1m{}\u001b[0m | \u001b[36mM_107586197\u001b[0m:\u001b[36mN___main__\u001b[0m:\u001b[36mf_<module>\u001b[0m:\u001b[36mline_4\u001b[0m | \u001b[35mt_1:05:51.429110\u001b[0m:\u001b[35mp_10640\u001b[0m:\u001b[35mth_19980\u001b[0m:\u001b[35mex_\u001b[0m | \n"
     ]
    }
   ],
   "source": [
    "logger.debug(\"my first message\")\n",
    "logger.info(\"this is how it looks\")\n",
    "logger.error(\"wohoo\")\n",
    "logger.critical(\"ohhhhh\")"
   ]
  },
  {
   "cell_type": "code",
   "execution_count": 13,
   "id": "408d5c3c-3282-44f6-a1bc-a84dcf7e3a8a",
   "metadata": {},
   "outputs": [
    {
     "name": "stdout",
     "output_type": "stream",
     "text": [
      "\u001b[32m2024-04-12 16:34:11.5795\u001b[0m | \u001b[1mINFO    \u001b[0m | \u001b[1mall in there!\u001b[0m | \u001b[1m{}\u001b[0m | \u001b[36mM_1186843873\u001b[0m:\u001b[36mN___main__\u001b[0m:\u001b[36mf_<module>\u001b[0m:\u001b[36mline_2\u001b[0m | \u001b[35mt_1:07:39.991613\u001b[0m:\u001b[35mp_10640\u001b[0m:\u001b[35mth_19980\u001b[0m:\u001b[35mex_\u001b[0m | \n",
      "{\"text\": \"json ouput\\n\", \"record\": {\"elapsed\": {\"repr\": \"1:07:39.991613\", \"seconds\": 4059.991613}, \"exception\": null, \"extra\": {}, \"file\": {\"name\": \"1186843873.py\", \"path\": \"C:\\\\Users\\\\Lukas\\\\AppData\\\\Local\\\\Temp\\\\ipykernel_10640\\\\1186843873.py\"}, \"function\": \"<module>\", \"level\": {\"icon\": \"ℹ️\", \"name\": \"INFO\", \"no\": 20}, \"line\": 2, \"message\": \"all in there!\", \"module\": \"1186843873\", \"name\": \"__main__\", \"process\": {\"id\": 10640, \"name\": \"MainProcess\"}, \"thread\": {\"id\": 19980, \"name\": \"MainThread\"}, \"time\": {\"repr\": \"2024-04-12 18:34:11.579588+02:00\", \"timestamp\": 1712939651.579588}}}\n"
     ]
    }
   ],
   "source": [
    "logger.add(sys.stdout, format=\"json ouput\", serialize=True)\n",
    "logger.info(\"all in there!\")"
   ]
  },
  {
   "cell_type": "code",
   "execution_count": 14,
   "id": "2fea3404-0ed3-459d-80a4-616915813d7a",
   "metadata": {},
   "outputs": [
    {
     "name": "stdout",
     "output_type": "stream",
     "text": [
      "\u001b[32m2024-04-12 16:36:04.4360\u001b[0m | \u001b[1mINFO    \u001b[0m | \u001b[1mNow its that! 9\u001b[0m | \u001b[1m{'id': '9'}\u001b[0m | \u001b[36mM_4064308663\u001b[0m:\u001b[36mN___main__\u001b[0m:\u001b[36mf_<module>\u001b[0m:\u001b[36mline_11\u001b[0m | \u001b[35mt_1:09:32.848122\u001b[0m:\u001b[35mp_10640\u001b[0m:\u001b[35mth_19980\u001b[0m:\u001b[35mex_\u001b[0m | \n"
     ]
    }
   ],
   "source": [
    "# for multiprocessing the logger has to be passed and the sink should have the enqueue=True option\n",
    "logger.remove()\n",
    "logger_format =(\n",
    "            \"<green>{time:YYYY-MM-DD HH:mm:ss.SSSS!UTC}</green> | \"\n",
    "            \"<level>{level: <8}</level> | \"\n",
    "            \"<level>{message}</level> | \"\n",
    "            \"<level>{extra}</level> | \"\n",
    "            \"<cyan>M_{module}</cyan>:<cyan>N_{name}</cyan>:<cyan>f_{function}</cyan>:<cyan>line_{line}</cyan> | \"\n",
    "            \"<m>t_{elapsed}</m>:<m>p_{process}</m>:<m>th_{thread}</m>:<m>ex_{exception}</m> | \")\n",
    "id = logger.add(sys.stdout, colorize=True, format=logger_format, enqueue=True)\n",
    "logger.bind(id = str(id)).info(f\"Now its that! {id}\")"
   ]
  },
  {
   "cell_type": "code",
   "execution_count": 46,
   "id": "389c468f-f11a-4da8-bcbc-258bd4e45064",
   "metadata": {},
   "outputs": [],
   "source": [
    "import multiprocessing\n",
    "import time\n",
    "import random\n",
    "\n",
    "def my_process(my_logger):\n",
    "    for i in range(10):\n",
    "        my_time = random.randint(1, 10)\n",
    "        time.sleep(my_time/10)\n",
    "        my_logger.info(f\"Executing function in child process, waited for {my_time/10}s\")\n",
    "    my_logger.complete() # this makes sure that the process can end without interfering with the logger queue see: https://github.com/Delgan/loguru/issues/231"
   ]
  },
  {
   "cell_type": "code",
   "execution_count": 47,
   "id": "66f566ac-7493-4fca-bfd7-0695fe97f24c",
   "metadata": {},
   "outputs": [
    {
     "name": "stdout",
     "output_type": "stream",
     "text": [
      "\u001b[32m2024-04-12 17:10:04.5297\u001b[0m | \u001b[1mINFO    \u001b[0m | \u001b[1mExecuting function in child process, waited for 0.1s\u001b[0m | \u001b[1m{}\u001b[0m | \u001b[36mM_445948885\u001b[0m:\u001b[36mN___main__\u001b[0m:\u001b[36mf_my_process\u001b[0m:\u001b[36mline_9\u001b[0m | \u001b[35mt_1:43:32.941727\u001b[0m:\u001b[35mp_10640\u001b[0m:\u001b[35mth_19980\u001b[0m:\u001b[35mex_\u001b[0m | \n",
      "\u001b[32m2024-04-12 17:10:05.5392\u001b[0m | \u001b[1mINFO    \u001b[0m | \u001b[1mExecuting function in child process, waited for 1.0s\u001b[0m | \u001b[1m{}\u001b[0m | \u001b[36mM_445948885\u001b[0m:\u001b[36mN___main__\u001b[0m:\u001b[36mf_my_process\u001b[0m:\u001b[36mline_9\u001b[0m | \u001b[35mt_1:43:33.951261\u001b[0m:\u001b[35mp_10640\u001b[0m:\u001b[35mth_19980\u001b[0m:\u001b[35mex_\u001b[0m | \n",
      "\u001b[32m2024-04-12 17:10:06.5512\u001b[0m | \u001b[1mINFO    \u001b[0m | \u001b[1mExecuting function in child process, waited for 1.0s\u001b[0m | \u001b[1m{}\u001b[0m | \u001b[36mM_445948885\u001b[0m:\u001b[36mN___main__\u001b[0m:\u001b[36mf_my_process\u001b[0m:\u001b[36mline_9\u001b[0m | \u001b[35mt_1:43:34.963286\u001b[0m:\u001b[35mp_10640\u001b[0m:\u001b[35mth_19980\u001b[0m:\u001b[35mex_\u001b[0m | \n",
      "\u001b[32m2024-04-12 17:10:07.0643\u001b[0m | \u001b[1mINFO    \u001b[0m | \u001b[1mExecuting function in child process, waited for 0.5s\u001b[0m | \u001b[1m{}\u001b[0m | \u001b[36mM_445948885\u001b[0m:\u001b[36mN___main__\u001b[0m:\u001b[36mf_my_process\u001b[0m:\u001b[36mline_9\u001b[0m | \u001b[35mt_1:43:35.476374\u001b[0m:\u001b[35mp_10640\u001b[0m:\u001b[35mth_19980\u001b[0m:\u001b[35mex_\u001b[0m | \n",
      "\u001b[32m2024-04-12 17:10:07.2659\u001b[0m | \u001b[1mINFO    \u001b[0m | \u001b[1mExecuting function in child process, waited for 0.2s\u001b[0m | \u001b[1m{}\u001b[0m | \u001b[36mM_445948885\u001b[0m:\u001b[36mN___main__\u001b[0m:\u001b[36mf_my_process\u001b[0m:\u001b[36mline_9\u001b[0m | \u001b[35mt_1:43:35.677937\u001b[0m:\u001b[35mp_10640\u001b[0m:\u001b[35mth_19980\u001b[0m:\u001b[35mex_\u001b[0m | \n",
      "\u001b[32m2024-04-12 17:10:07.7662\u001b[0m | \u001b[1mINFO    \u001b[0m | \u001b[1mExecuting function in child process, waited for 0.5s\u001b[0m | \u001b[1m{}\u001b[0m | \u001b[36mM_445948885\u001b[0m:\u001b[36mN___main__\u001b[0m:\u001b[36mf_my_process\u001b[0m:\u001b[36mline_9\u001b[0m | \u001b[35mt_1:43:36.178314\u001b[0m:\u001b[35mp_10640\u001b[0m:\u001b[35mth_19980\u001b[0m:\u001b[35mex_\u001b[0m | \n",
      "\u001b[32m2024-04-12 17:10:08.6780\u001b[0m | \u001b[1mINFO    \u001b[0m | \u001b[1mExecuting function in child process, waited for 0.9s\u001b[0m | \u001b[1m{}\u001b[0m | \u001b[36mM_445948885\u001b[0m:\u001b[36mN___main__\u001b[0m:\u001b[36mf_my_process\u001b[0m:\u001b[36mline_9\u001b[0m | \u001b[35mt_1:43:37.090118\u001b[0m:\u001b[35mp_10640\u001b[0m:\u001b[35mth_19980\u001b[0m:\u001b[35mex_\u001b[0m | \n",
      "\u001b[32m2024-04-12 17:10:09.5903\u001b[0m | \u001b[1mINFO    \u001b[0m | \u001b[1mExecuting function in child process, waited for 0.9s\u001b[0m | \u001b[1m{}\u001b[0m | \u001b[36mM_445948885\u001b[0m:\u001b[36mN___main__\u001b[0m:\u001b[36mf_my_process\u001b[0m:\u001b[36mline_9\u001b[0m | \u001b[35mt_1:43:38.002411\u001b[0m:\u001b[35mp_10640\u001b[0m:\u001b[35mth_19980\u001b[0m:\u001b[35mex_\u001b[0m | \n",
      "\u001b[32m2024-04-12 17:10:09.7934\u001b[0m | \u001b[1mINFO    \u001b[0m | \u001b[1mExecuting function in child process, waited for 0.2s\u001b[0m | \u001b[1m{}\u001b[0m | \u001b[36mM_445948885\u001b[0m:\u001b[36mN___main__\u001b[0m:\u001b[36mf_my_process\u001b[0m:\u001b[36mline_9\u001b[0m | \u001b[35mt_1:43:38.205455\u001b[0m:\u001b[35mp_10640\u001b[0m:\u001b[35mth_19980\u001b[0m:\u001b[35mex_\u001b[0m | \n",
      "\u001b[32m2024-04-12 17:10:10.3992\u001b[0m | \u001b[1mINFO    \u001b[0m | \u001b[1mExecuting function in child process, waited for 0.6s\u001b[0m | \u001b[1m{}\u001b[0m | \u001b[36mM_445948885\u001b[0m:\u001b[36mN___main__\u001b[0m:\u001b[36mf_my_process\u001b[0m:\u001b[36mline_9\u001b[0m | \u001b[35mt_1:43:38.811301\u001b[0m:\u001b[35mp_10640\u001b[0m:\u001b[35mth_19980\u001b[0m:\u001b[35mex_\u001b[0m | \n"
     ]
    }
   ],
   "source": [
    "my_process(logger)"
   ]
  },
  {
   "cell_type": "code",
   "execution_count": 45,
   "id": "c7733d64-639b-42db-b8ed-0bd8ab1b69e2",
   "metadata": {},
   "outputs": [
    {
     "name": "stdout",
     "output_type": "stream",
     "text": [
      "\u001b[32m2024-04-12 17:07:37.9430\u001b[0m | \u001b[1mINFO    \u001b[0m | \u001b[1mDone\u001b[0m | \u001b[1m{}\u001b[0m | \u001b[36mM_543154228\u001b[0m:\u001b[36mN___main__\u001b[0m:\u001b[36mf_<module>\u001b[0m:\u001b[36mline_10\u001b[0m | \u001b[35mt_1:41:06.355044\u001b[0m:\u001b[35mp_10640\u001b[0m:\u001b[35mth_19980\u001b[0m:\u001b[35mex_\u001b[0m | \n"
     ]
    }
   ],
   "source": [
    "# This doesen't work in a jupyter notebook!\n",
    "process1 = multiprocessing.Process(target=my_process, args=())\n",
    "process2 = multiprocessing.Process(target=my_process, args=())\n",
    "process3 = multiprocessing.Process(target=my_process, args=())\n",
    "process1.start()\n",
    "process2.start()\n",
    "process3.start()\n",
    "process1.join()\n",
    "process2.join()\n",
    "process3.join()\n",
    "logger.info(\"Done\")"
   ]
  },
  {
   "cell_type": "code",
   "execution_count": 48,
   "id": "2b292557-f2ec-444a-9546-07216634f1a8",
   "metadata": {},
   "outputs": [],
   "source": [
    "from concurrent.futures import ThreadPoolExecutor"
   ]
  },
  {
   "cell_type": "code",
   "execution_count": 51,
   "id": "b1ebfb31-e75f-465c-95b8-564f119445f6",
   "metadata": {},
   "outputs": [
    {
     "name": "stdout",
     "output_type": "stream",
     "text": [
      "\u001b[32m2024-04-12 17:13:29.5823\u001b[0m | \u001b[1mINFO    \u001b[0m | \u001b[1mExecuting function in child process, waited for 0.1s\u001b[0m | \u001b[1m{}\u001b[0m | \u001b[36mM_445948885\u001b[0m:\u001b[36mN___main__\u001b[0m:\u001b[36mf_my_process\u001b[0m:\u001b[36mline_9\u001b[0m | \u001b[35mt_1:46:57.994346\u001b[0m:\u001b[35mp_10640\u001b[0m:\u001b[35mth_3744\u001b[0m:\u001b[35mex_\u001b[0m | \n",
      "\u001b[32m2024-04-12 17:13:29.6759\u001b[0m | \u001b[1mINFO    \u001b[0m | \u001b[1mExecuting function in child process, waited for 0.2s\u001b[0m | \u001b[1m{}\u001b[0m | \u001b[36mM_445948885\u001b[0m:\u001b[36mN___main__\u001b[0m:\u001b[36mf_my_process\u001b[0m:\u001b[36mline_9\u001b[0m | \u001b[35mt_1:46:58.087947\u001b[0m:\u001b[35mp_10640\u001b[0m:\u001b[35mth_31312\u001b[0m:\u001b[35mex_\u001b[0m | \n",
      "\u001b[32m2024-04-12 17:13:30.1864\u001b[0m | \u001b[1mINFO    \u001b[0m | \u001b[1mExecuting function in child process, waited for 0.5s\u001b[0m | \u001b[1m{}\u001b[0m | \u001b[36mM_445948885\u001b[0m:\u001b[36mN___main__\u001b[0m:\u001b[36mf_my_process\u001b[0m:\u001b[36mline_9\u001b[0m | \u001b[35mt_1:46:58.598489\u001b[0m:\u001b[35mp_10640\u001b[0m:\u001b[35mth_31312\u001b[0m:\u001b[35mex_\u001b[0m | \n",
      "\u001b[32m2024-04-12 17:13:30.1864\u001b[0m | \u001b[1mINFO    \u001b[0m | \u001b[1mExecuting function in child process, waited for 0.6s\u001b[0m | \u001b[1m{}\u001b[0m | \u001b[36mM_445948885\u001b[0m:\u001b[36mN___main__\u001b[0m:\u001b[36mf_my_process\u001b[0m:\u001b[36mline_9\u001b[0m | \u001b[35mt_1:46:58.598489\u001b[0m:\u001b[35mp_10640\u001b[0m:\u001b[35mth_3744\u001b[0m:\u001b[35mex_\u001b[0m | \n",
      "\u001b[32m2024-04-12 17:13:30.2805\u001b[0m | \u001b[1mINFO    \u001b[0m | \u001b[1mExecuting function in child process, waited for 0.8s\u001b[0m | \u001b[1m{}\u001b[0m | \u001b[36mM_445948885\u001b[0m:\u001b[36mN___main__\u001b[0m:\u001b[36mf_my_process\u001b[0m:\u001b[36mline_9\u001b[0m | \u001b[35mt_1:46:58.692548\u001b[0m:\u001b[35mp_10640\u001b[0m:\u001b[35mth_21480\u001b[0m:\u001b[35mex_\u001b[0m | \n",
      "\u001b[32m2024-04-12 17:13:30.5905\u001b[0m | \u001b[1mINFO    \u001b[0m | \u001b[1mExecuting function in child process, waited for 0.4s\u001b[0m | \u001b[1m{}\u001b[0m | \u001b[36mM_445948885\u001b[0m:\u001b[36mN___main__\u001b[0m:\u001b[36mf_my_process\u001b[0m:\u001b[36mline_9\u001b[0m | \u001b[35mt_1:46:59.002543\u001b[0m:\u001b[35mp_10640\u001b[0m:\u001b[35mth_3744\u001b[0m:\u001b[35mex_\u001b[0m | \n",
      "\u001b[32m2024-04-12 17:13:30.6987\u001b[0m | \u001b[1mINFO    \u001b[0m | \u001b[1mExecuting function in child process, waited for 0.1s\u001b[0m | \u001b[1m{}\u001b[0m | \u001b[36mM_445948885\u001b[0m:\u001b[36mN___main__\u001b[0m:\u001b[36mf_my_process\u001b[0m:\u001b[36mline_9\u001b[0m | \u001b[35mt_1:46:59.110777\u001b[0m:\u001b[35mp_10640\u001b[0m:\u001b[35mth_3744\u001b[0m:\u001b[35mex_\u001b[0m | \n",
      "\u001b[32m2024-04-12 17:13:30.9927\u001b[0m | \u001b[1mINFO    \u001b[0m | \u001b[1mExecuting function in child process, waited for 0.8s\u001b[0m | \u001b[1m{}\u001b[0m | \u001b[36mM_445948885\u001b[0m:\u001b[36mN___main__\u001b[0m:\u001b[36mf_my_process\u001b[0m:\u001b[36mline_9\u001b[0m | \u001b[35mt_1:46:59.404738\u001b[0m:\u001b[35mp_10640\u001b[0m:\u001b[35mth_31312\u001b[0m:\u001b[35mex_\u001b[0m | \n",
      "\u001b[32m2024-04-12 17:13:31.0872\u001b[0m | \u001b[1mINFO    \u001b[0m | \u001b[1mExecuting function in child process, waited for 0.8s\u001b[0m | \u001b[1m{}\u001b[0m | \u001b[36mM_445948885\u001b[0m:\u001b[36mN___main__\u001b[0m:\u001b[36mf_my_process\u001b[0m:\u001b[36mline_9\u001b[0m | \u001b[35mt_1:46:59.499262\u001b[0m:\u001b[35mp_10640\u001b[0m:\u001b[35mth_21480\u001b[0m:\u001b[35mex_\u001b[0m | \n",
      "\u001b[32m2024-04-12 17:13:31.2125\u001b[0m | \u001b[1mINFO    \u001b[0m | \u001b[1mExecuting function in child process, waited for 0.5s\u001b[0m | \u001b[1m{}\u001b[0m | \u001b[36mM_445948885\u001b[0m:\u001b[36mN___main__\u001b[0m:\u001b[36mf_my_process\u001b[0m:\u001b[36mline_9\u001b[0m | \u001b[35mt_1:46:59.624621\u001b[0m:\u001b[35mp_10640\u001b[0m:\u001b[35mth_3744\u001b[0m:\u001b[35mex_\u001b[0m | \n",
      "\u001b[32m2024-04-12 17:13:31.7285\u001b[0m | \u001b[1mINFO    \u001b[0m | \u001b[1mExecuting function in child process, waited for 0.5s\u001b[0m | \u001b[1m{}\u001b[0m | \u001b[36mM_445948885\u001b[0m:\u001b[36mN___main__\u001b[0m:\u001b[36mf_my_process\u001b[0m:\u001b[36mline_9\u001b[0m | \u001b[35mt_1:47:00.140566\u001b[0m:\u001b[35mp_10640\u001b[0m:\u001b[35mth_3744\u001b[0m:\u001b[35mex_\u001b[0m | \n",
      "\u001b[32m2024-04-12 17:13:31.7904\u001b[0m | \u001b[1mINFO    \u001b[0m | \u001b[1mExecuting function in child process, waited for 0.7s\u001b[0m | \u001b[1m{}\u001b[0m | \u001b[36mM_445948885\u001b[0m:\u001b[36mN___main__\u001b[0m:\u001b[36mf_my_process\u001b[0m:\u001b[36mline_9\u001b[0m | \u001b[35mt_1:47:00.202495\u001b[0m:\u001b[35mp_10640\u001b[0m:\u001b[35mth_21480\u001b[0m:\u001b[35mex_\u001b[0m | \n",
      "\u001b[32m2024-04-12 17:13:31.8056\u001b[0m | \u001b[1mINFO    \u001b[0m | \u001b[1mExecuting function in child process, waited for 0.8s\u001b[0m | \u001b[1m{}\u001b[0m | \u001b[36mM_445948885\u001b[0m:\u001b[36mN___main__\u001b[0m:\u001b[36mf_my_process\u001b[0m:\u001b[36mline_9\u001b[0m | \u001b[35mt_1:47:00.217669\u001b[0m:\u001b[35mp_10640\u001b[0m:\u001b[35mth_31312\u001b[0m:\u001b[35mex_\u001b[0m | \n",
      "\u001b[32m2024-04-12 17:13:32.1181\u001b[0m | \u001b[1mINFO    \u001b[0m | \u001b[1mExecuting function in child process, waited for 0.3s\u001b[0m | \u001b[1m{}\u001b[0m | \u001b[36mM_445948885\u001b[0m:\u001b[36mN___main__\u001b[0m:\u001b[36mf_my_process\u001b[0m:\u001b[36mline_9\u001b[0m | \u001b[35mt_1:47:00.530180\u001b[0m:\u001b[35mp_10640\u001b[0m:\u001b[35mth_31312\u001b[0m:\u001b[35mex_\u001b[0m | \n",
      "\u001b[32m2024-04-12 17:13:32.2413\u001b[0m | \u001b[1mINFO    \u001b[0m | \u001b[1mExecuting function in child process, waited for 0.5s\u001b[0m | \u001b[1m{}\u001b[0m | \u001b[36mM_445948885\u001b[0m:\u001b[36mN___main__\u001b[0m:\u001b[36mf_my_process\u001b[0m:\u001b[36mline_9\u001b[0m | \u001b[35mt_1:47:00.653351\u001b[0m:\u001b[35mp_10640\u001b[0m:\u001b[35mth_3744\u001b[0m:\u001b[35mex_\u001b[0m | \n",
      "\u001b[32m2024-04-12 17:13:32.3188\u001b[0m | \u001b[1mINFO    \u001b[0m | \u001b[1mExecuting function in child process, waited for 0.2s\u001b[0m | \u001b[1m{}\u001b[0m | \u001b[36mM_445948885\u001b[0m:\u001b[36mN___main__\u001b[0m:\u001b[36mf_my_process\u001b[0m:\u001b[36mline_9\u001b[0m | \u001b[35mt_1:47:00.730923\u001b[0m:\u001b[35mp_10640\u001b[0m:\u001b[35mth_31312\u001b[0m:\u001b[35mex_\u001b[0m | \n",
      "\u001b[32m2024-04-12 17:13:32.5977\u001b[0m | \u001b[1mINFO    \u001b[0m | \u001b[1mExecuting function in child process, waited for 0.8s\u001b[0m | \u001b[1m{}\u001b[0m | \u001b[36mM_445948885\u001b[0m:\u001b[36mN___main__\u001b[0m:\u001b[36mf_my_process\u001b[0m:\u001b[36mline_9\u001b[0m | \u001b[35mt_1:47:01.009823\u001b[0m:\u001b[35mp_10640\u001b[0m:\u001b[35mth_21480\u001b[0m:\u001b[35mex_\u001b[0m | \n",
      "\u001b[32m2024-04-12 17:13:32.8317\u001b[0m | \u001b[1mINFO    \u001b[0m | \u001b[1mExecuting function in child process, waited for 0.5s\u001b[0m | \u001b[1m{}\u001b[0m | \u001b[36mM_445948885\u001b[0m:\u001b[36mN___main__\u001b[0m:\u001b[36mf_my_process\u001b[0m:\u001b[36mline_9\u001b[0m | \u001b[35mt_1:47:01.243792\u001b[0m:\u001b[35mp_10640\u001b[0m:\u001b[35mth_31312\u001b[0m:\u001b[35mex_\u001b[0m | \n",
      "\u001b[32m2024-04-12 17:13:32.9404\u001b[0m | \u001b[1mINFO    \u001b[0m | \u001b[1mExecuting function in child process, waited for 0.1s\u001b[0m | \u001b[1m{}\u001b[0m | \u001b[36mM_445948885\u001b[0m:\u001b[36mN___main__\u001b[0m:\u001b[36mf_my_process\u001b[0m:\u001b[36mline_9\u001b[0m | \u001b[35mt_1:47:01.352471\u001b[0m:\u001b[35mp_10640\u001b[0m:\u001b[35mth_31312\u001b[0m:\u001b[35mex_\u001b[0m | \n",
      "\u001b[32m2024-04-12 17:13:33.1427\u001b[0m | \u001b[1mINFO    \u001b[0m | \u001b[1mExecuting function in child process, waited for 0.9s\u001b[0m | \u001b[1m{}\u001b[0m | \u001b[36mM_445948885\u001b[0m:\u001b[36mN___main__\u001b[0m:\u001b[36mf_my_process\u001b[0m:\u001b[36mline_9\u001b[0m | \u001b[35mt_1:47:01.554772\u001b[0m:\u001b[35mp_10640\u001b[0m:\u001b[35mth_3744\u001b[0m:\u001b[35mex_\u001b[0m | \n",
      "\u001b[32m2024-04-12 17:13:33.2043\u001b[0m | \u001b[1mINFO    \u001b[0m | \u001b[1mExecuting function in child process, waited for 0.6s\u001b[0m | \u001b[1m{}\u001b[0m | \u001b[36mM_445948885\u001b[0m:\u001b[36mN___main__\u001b[0m:\u001b[36mf_my_process\u001b[0m:\u001b[36mline_9\u001b[0m | \u001b[35mt_1:47:01.616361\u001b[0m:\u001b[35mp_10640\u001b[0m:\u001b[35mth_21480\u001b[0m:\u001b[35mex_\u001b[0m | \n",
      "\u001b[32m2024-04-12 17:13:33.2502\u001b[0m | \u001b[1mINFO    \u001b[0m | \u001b[1mExecuting function in child process, waited for 0.1s\u001b[0m | \u001b[1m{}\u001b[0m | \u001b[36mM_445948885\u001b[0m:\u001b[36mN___main__\u001b[0m:\u001b[36mf_my_process\u001b[0m:\u001b[36mline_9\u001b[0m | \u001b[35mt_1:47:01.662246\u001b[0m:\u001b[35mp_10640\u001b[0m:\u001b[35mth_3744\u001b[0m:\u001b[35mex_\u001b[0m | \n",
      "\u001b[32m2024-04-12 17:13:33.4554\u001b[0m | \u001b[1mINFO    \u001b[0m | \u001b[1mExecuting function in child process, waited for 0.5s\u001b[0m | \u001b[1m{}\u001b[0m | \u001b[36mM_445948885\u001b[0m:\u001b[36mN___main__\u001b[0m:\u001b[36mf_my_process\u001b[0m:\u001b[36mline_9\u001b[0m | \u001b[35mt_1:47:01.867446\u001b[0m:\u001b[35mp_10640\u001b[0m:\u001b[35mth_31312\u001b[0m:\u001b[35mex_\u001b[0m | \n",
      "\u001b[32m2024-04-12 17:13:33.8637\u001b[0m | \u001b[1mINFO    \u001b[0m | \u001b[1mExecuting function in child process, waited for 0.4s\u001b[0m | \u001b[1m{}\u001b[0m | \u001b[36mM_445948885\u001b[0m:\u001b[36mN___main__\u001b[0m:\u001b[36mf_my_process\u001b[0m:\u001b[36mline_9\u001b[0m | \u001b[35mt_1:47:02.275739\u001b[0m:\u001b[35mp_10640\u001b[0m:\u001b[35mth_31312\u001b[0m:\u001b[35mex_\u001b[0m | \n",
      "\u001b[32m2024-04-12 17:13:34.1602\u001b[0m | \u001b[1mINFO    \u001b[0m | \u001b[1mExecuting function in child process, waited for 0.9s\u001b[0m | \u001b[1m{}\u001b[0m | \u001b[36mM_445948885\u001b[0m:\u001b[36mN___main__\u001b[0m:\u001b[36mf_my_process\u001b[0m:\u001b[36mline_9\u001b[0m | \u001b[35mt_1:47:02.572270\u001b[0m:\u001b[35mp_10640\u001b[0m:\u001b[35mth_3744\u001b[0m:\u001b[35mex_\u001b[0m | \n",
      "\u001b[32m2024-04-12 17:13:34.2063\u001b[0m | \u001b[1mINFO    \u001b[0m | \u001b[1mExecuting function in child process, waited for 1.0s\u001b[0m | \u001b[1m{}\u001b[0m | \u001b[36mM_445948885\u001b[0m:\u001b[36mN___main__\u001b[0m:\u001b[36mf_my_process\u001b[0m:\u001b[36mline_9\u001b[0m | \u001b[35mt_1:47:02.618389\u001b[0m:\u001b[35mp_10640\u001b[0m:\u001b[35mth_21480\u001b[0m:\u001b[35mex_\u001b[0m | \n",
      "\u001b[32m2024-04-12 17:13:34.6128\u001b[0m | \u001b[1mINFO    \u001b[0m | \u001b[1mExecuting function in child process, waited for 0.4s\u001b[0m | \u001b[1m{}\u001b[0m | \u001b[36mM_445948885\u001b[0m:\u001b[36mN___main__\u001b[0m:\u001b[36mf_my_process\u001b[0m:\u001b[36mline_9\u001b[0m | \u001b[35mt_1:47:03.024887\u001b[0m:\u001b[35mp_10640\u001b[0m:\u001b[35mth_21480\u001b[0m:\u001b[35mex_\u001b[0m | \n",
      "\u001b[32m2024-04-12 17:13:35.6212\u001b[0m | \u001b[1mINFO    \u001b[0m | \u001b[1mExecuting function in child process, waited for 1.0s\u001b[0m | \u001b[1m{}\u001b[0m | \u001b[36mM_445948885\u001b[0m:\u001b[36mN___main__\u001b[0m:\u001b[36mf_my_process\u001b[0m:\u001b[36mline_9\u001b[0m | \u001b[35mt_1:47:04.033311\u001b[0m:\u001b[35mp_10640\u001b[0m:\u001b[35mth_21480\u001b[0m:\u001b[35mex_\u001b[0m | \n",
      "\u001b[32m2024-04-12 17:13:36.5258\u001b[0m | \u001b[1mINFO    \u001b[0m | \u001b[1mExecuting function in child process, waited for 0.9s\u001b[0m | \u001b[1m{}\u001b[0m | \u001b[36mM_445948885\u001b[0m:\u001b[36mN___main__\u001b[0m:\u001b[36mf_my_process\u001b[0m:\u001b[36mline_9\u001b[0m | \u001b[35mt_1:47:04.937913\u001b[0m:\u001b[35mp_10640\u001b[0m:\u001b[35mth_21480\u001b[0m:\u001b[35mex_\u001b[0m | \n",
      "\u001b[32m2024-04-12 17:13:36.9305\u001b[0m | \u001b[1mINFO    \u001b[0m | \u001b[1mExecuting function in child process, waited for 0.4s\u001b[0m | \u001b[1m{}\u001b[0m | \u001b[36mM_445948885\u001b[0m:\u001b[36mN___main__\u001b[0m:\u001b[36mf_my_process\u001b[0m:\u001b[36mline_9\u001b[0m | \u001b[35mt_1:47:05.342537\u001b[0m:\u001b[35mp_10640\u001b[0m:\u001b[35mth_21480\u001b[0m:\u001b[35mex_\u001b[0m | \n",
      "\u001b[32m2024-04-12 17:13:36.9325\u001b[0m | \u001b[1mINFO    \u001b[0m | \u001b[1mlen result: 3\u001b[0m | \u001b[1m{}\u001b[0m | \u001b[36mM_284222268\u001b[0m:\u001b[36mN___main__\u001b[0m:\u001b[36mf_<module>\u001b[0m:\u001b[36mline_9\u001b[0m | \u001b[35mt_1:47:05.344540\u001b[0m:\u001b[35mp_10640\u001b[0m:\u001b[35mth_19980\u001b[0m:\u001b[35mex_\u001b[0m | \n",
      "\u001b[32m2024-04-12 17:13:36.9325\u001b[0m | \u001b[1mINFO    \u001b[0m | \u001b[1mDone!\u001b[0m | \u001b[1m{}\u001b[0m | \u001b[36mM_284222268\u001b[0m:\u001b[36mN___main__\u001b[0m:\u001b[36mf_<module>\u001b[0m:\u001b[36mline_10\u001b[0m | \u001b[35mt_1:47:05.344540\u001b[0m:\u001b[35mp_10640\u001b[0m:\u001b[35mth_19980\u001b[0m:\u001b[35mex_\u001b[0m | \n"
     ]
    }
   ],
   "source": [
    "with ThreadPoolExecutor() as executor:\n",
    "    futures = []\n",
    "    for x in range(3):\n",
    "        futures.append(executor.submit(my_process, logger))\n",
    "\n",
    "result = [] # To store the processed images\n",
    "for future in futures:\n",
    "    result.append(future.result())\n",
    "logger.info(f\"len result: {len(result)}\")\n",
    "logger.info(\"Done!\")"
   ]
  },
  {
   "cell_type": "code",
   "execution_count": null,
   "id": "f282a63e-30e5-458b-98f8-578c72b47edf",
   "metadata": {},
   "outputs": [],
   "source": []
  }
 ],
 "metadata": {
  "kernelspec": {
   "display_name": "Python [conda env:scopecontrol] *",
   "language": "python",
   "name": "conda-env-scopecontrol-py"
  },
  "language_info": {
   "codemirror_mode": {
    "name": "ipython",
    "version": 3
   },
   "file_extension": ".py",
   "mimetype": "text/x-python",
   "name": "python",
   "nbconvert_exporter": "python",
   "pygments_lexer": "ipython3",
   "version": "3.10.14"
  }
 },
 "nbformat": 4,
 "nbformat_minor": 5
}
